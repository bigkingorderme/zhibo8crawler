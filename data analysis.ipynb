{
 "cells": [
  {
   "cell_type": "code",
   "execution_count": 2,
   "metadata": {},
   "outputs": [],
   "source": [
    "#数据分析和可视化部分\n",
    "import requests\n",
    "import numpy as np\n",
    "from pandas import DataFrame,Series\n",
    "import json\n",
    "import pandas as pd"
   ]
  },
  {
   "cell_type": "code",
   "execution_count": 14,
   "metadata": {},
   "outputs": [
    {
     "data": {
      "text/html": [
       "<div>\n",
       "<style scoped>\n",
       "    .dataframe tbody tr th:only-of-type {\n",
       "        vertical-align: middle;\n",
       "    }\n",
       "\n",
       "    .dataframe tbody tr th {\n",
       "        vertical-align: top;\n",
       "    }\n",
       "\n",
       "    .dataframe thead th {\n",
       "        text-align: right;\n",
       "    }\n",
       "</style>\n",
       "<table border=\"1\" class=\"dataframe\">\n",
       "  <thead>\n",
       "    <tr style=\"text-align: right;\">\n",
       "      <th></th>\n",
       "      <th>id</th>\n",
       "      <th>league_id</th>\n",
       "      <th>league</th>\n",
       "      <th>team_id</th>\n",
       "      <th>team_name</th>\n",
       "      <th>national_team_id</th>\n",
       "      <th>national_team</th>\n",
       "      <th>name</th>\n",
       "      <th>name_en</th>\n",
       "      <th>short_name</th>\n",
       "      <th>...</th>\n",
       "      <th>替补上场</th>\n",
       "      <th>替补下场</th>\n",
       "      <th>出场总时间</th>\n",
       "      <th>黄变红</th>\n",
       "      <th>场均积分</th>\n",
       "      <th>乌龙球</th>\n",
       "      <th>进点球</th>\n",
       "      <th>进球间隔时间</th>\n",
       "      <th>总丢球数</th>\n",
       "      <th>未丢球场次</th>\n",
       "    </tr>\n",
       "  </thead>\n",
       "  <tbody>\n",
       "    <tr>\n",
       "      <th>0</th>\n",
       "      <td>1</td>\n",
       "      <td>24</td>\n",
       "      <td>英超</td>\n",
       "      <td>139</td>\n",
       "      <td>曼城</td>\n",
       "      <td>7</td>\n",
       "      <td>德国</td>\n",
       "      <td>萨内</td>\n",
       "      <td>Leroy Sané</td>\n",
       "      <td>萨内</td>\n",
       "      <td>...</td>\n",
       "      <td>68</td>\n",
       "      <td>83</td>\n",
       "      <td>15554</td>\n",
       "      <td>0</td>\n",
       "      <td>1.91</td>\n",
       "      <td>0</td>\n",
       "      <td>0</td>\n",
       "      <td>263.62</td>\n",
       "      <td>61</td>\n",
       "      <td>18</td>\n",
       "    </tr>\n",
       "    <tr>\n",
       "      <th>1</th>\n",
       "      <td>2</td>\n",
       "      <td>59</td>\n",
       "      <td>德甲</td>\n",
       "      <td>222</td>\n",
       "      <td>拜仁慕尼黑</td>\n",
       "      <td>7</td>\n",
       "      <td>德国</td>\n",
       "      <td>托马斯-穆勒</td>\n",
       "      <td>Thomas Müller</td>\n",
       "      <td>穆勒</td>\n",
       "      <td>...</td>\n",
       "      <td>75</td>\n",
       "      <td>175</td>\n",
       "      <td>41374</td>\n",
       "      <td>1</td>\n",
       "      <td>2.25</td>\n",
       "      <td>0</td>\n",
       "      <td>25</td>\n",
       "      <td>187.21</td>\n",
       "      <td>61</td>\n",
       "      <td>18</td>\n",
       "    </tr>\n",
       "    <tr>\n",
       "      <th>2</th>\n",
       "      <td>3</td>\n",
       "      <td>24</td>\n",
       "      <td>英超</td>\n",
       "      <td>199</td>\n",
       "      <td>富勒姆</td>\n",
       "      <td>0</td>\n",
       "      <td>NaN</td>\n",
       "      <td>许尔勒</td>\n",
       "      <td>Andre Schurrle</td>\n",
       "      <td>许尔勒</td>\n",
       "      <td>...</td>\n",
       "      <td>99</td>\n",
       "      <td>134</td>\n",
       "      <td>26297</td>\n",
       "      <td>0</td>\n",
       "      <td>1.52</td>\n",
       "      <td>0</td>\n",
       "      <td>6</td>\n",
       "      <td>248.08</td>\n",
       "      <td>61</td>\n",
       "      <td>18</td>\n",
       "    </tr>\n",
       "    <tr>\n",
       "      <th>3</th>\n",
       "      <td>4</td>\n",
       "      <td>59</td>\n",
       "      <td>德甲</td>\n",
       "      <td>335</td>\n",
       "      <td>斯图加特</td>\n",
       "      <td>7</td>\n",
       "      <td>德国</td>\n",
       "      <td>戈麦斯</td>\n",
       "      <td>Mario Gomez</td>\n",
       "      <td>戈麦斯</td>\n",
       "      <td>...</td>\n",
       "      <td>126</td>\n",
       "      <td>163</td>\n",
       "      <td>41652</td>\n",
       "      <td>1</td>\n",
       "      <td>1.80</td>\n",
       "      <td>0</td>\n",
       "      <td>18</td>\n",
       "      <td>124.70</td>\n",
       "      <td>61</td>\n",
       "      <td>18</td>\n",
       "    </tr>\n",
       "    <tr>\n",
       "      <th>4</th>\n",
       "      <td>5</td>\n",
       "      <td>0</td>\n",
       "      <td>NaN</td>\n",
       "      <td>2570</td>\n",
       "      <td>神户胜利船</td>\n",
       "      <td>0</td>\n",
       "      <td>NaN</td>\n",
       "      <td>波多尔斯基</td>\n",
       "      <td>Lukas Podolski</td>\n",
       "      <td>波多尔斯基</td>\n",
       "      <td>...</td>\n",
       "      <td>81</td>\n",
       "      <td>143</td>\n",
       "      <td>43710</td>\n",
       "      <td>3</td>\n",
       "      <td>1.60</td>\n",
       "      <td>0</td>\n",
       "      <td>1</td>\n",
       "      <td>672.46</td>\n",
       "      <td>61</td>\n",
       "      <td>18</td>\n",
       "    </tr>\n",
       "    <tr>\n",
       "      <th>5</th>\n",
       "      <td>7</td>\n",
       "      <td>59</td>\n",
       "      <td>德甲</td>\n",
       "      <td>222</td>\n",
       "      <td>拜仁慕尼黑</td>\n",
       "      <td>7</td>\n",
       "      <td>德国</td>\n",
       "      <td>基米希</td>\n",
       "      <td>Joshua Kimmich</td>\n",
       "      <td>基米希</td>\n",
       "      <td>...</td>\n",
       "      <td>53</td>\n",
       "      <td>51</td>\n",
       "      <td>18428</td>\n",
       "      <td>0</td>\n",
       "      <td>2.21</td>\n",
       "      <td>0</td>\n",
       "      <td>3</td>\n",
       "      <td>682.51</td>\n",
       "      <td>61</td>\n",
       "      <td>18</td>\n",
       "    </tr>\n",
       "    <tr>\n",
       "      <th>6</th>\n",
       "      <td>8</td>\n",
       "      <td>59</td>\n",
       "      <td>德甲</td>\n",
       "      <td>223</td>\n",
       "      <td>多特蒙德</td>\n",
       "      <td>0</td>\n",
       "      <td>NaN</td>\n",
       "      <td>魏格尔</td>\n",
       "      <td>Julian Weigl</td>\n",
       "      <td>魏格尔</td>\n",
       "      <td>...</td>\n",
       "      <td>34</td>\n",
       "      <td>34</td>\n",
       "      <td>20087</td>\n",
       "      <td>0</td>\n",
       "      <td>1.74</td>\n",
       "      <td>0</td>\n",
       "      <td>0</td>\n",
       "      <td>2510.87</td>\n",
       "      <td>61</td>\n",
       "      <td>18</td>\n",
       "    </tr>\n",
       "  </tbody>\n",
       "</table>\n",
       "<p>7 rows × 58 columns</p>\n",
       "</div>"
      ],
      "text/plain": [
       "   id  league_id league  team_id team_name  national_team_id national_team  \\\n",
       "0   1         24     英超      139        曼城                 7            德国   \n",
       "1   2         59     德甲      222     拜仁慕尼黑                 7            德国   \n",
       "2   3         24     英超      199       富勒姆                 0           NaN   \n",
       "3   4         59     德甲      335      斯图加特                 7            德国   \n",
       "4   5          0    NaN     2570     神户胜利船                 0           NaN   \n",
       "5   7         59     德甲      222     拜仁慕尼黑                 7            德国   \n",
       "6   8         59     德甲      223      多特蒙德                 0           NaN   \n",
       "\n",
       "     name         name_en short_name  ...   替补上场  替补下场  出场总时间 黄变红  场均积分 乌龙球  \\\n",
       "0      萨内      Leroy Sané         萨内  ...     68    83  15554   0  1.91   0   \n",
       "1  托马斯-穆勒   Thomas Müller         穆勒  ...     75   175  41374   1  2.25   0   \n",
       "2     许尔勒  Andre Schurrle        许尔勒  ...     99   134  26297   0  1.52   0   \n",
       "3     戈麦斯     Mario Gomez        戈麦斯  ...    126   163  41652   1  1.80   0   \n",
       "4   波多尔斯基  Lukas Podolski      波多尔斯基  ...     81   143  43710   3  1.60   0   \n",
       "5     基米希  Joshua Kimmich        基米希  ...     53    51  18428   0  2.21   0   \n",
       "6     魏格尔    Julian Weigl        魏格尔  ...     34    34  20087   0  1.74   0   \n",
       "\n",
       "  进点球   进球间隔时间  总丢球数  未丢球场次  \n",
       "0   0   263.62    61     18  \n",
       "1  25   187.21    61     18  \n",
       "2   6   248.08    61     18  \n",
       "3  18   124.70    61     18  \n",
       "4   1   672.46    61     18  \n",
       "5   3   682.51    61     18  \n",
       "6   0  2510.87    61     18  \n",
       "\n",
       "[7 rows x 58 columns]"
      ]
     },
     "execution_count": 14,
     "metadata": {},
     "output_type": "execute_result"
    }
   ],
   "source": [
    "dataDir='/Users/shenxibo/study/python/data tables/zhibo8 players/zhiboplayer_all_2.csv'\n",
    "data=pd.read_csv(dataDir)\n",
    "data.head(7)"
   ]
  },
  {
   "cell_type": "code",
   "execution_count": 12,
   "metadata": {},
   "outputs": [
    {
     "name": "stdout",
     "output_type": "stream",
     "text": [
      "<class 'pandas.core.frame.DataFrame'>\n",
      "RangeIndex: 17941 entries, 0 to 17940\n",
      "Data columns (total 58 columns):\n",
      "id                      17941 non-null int64\n",
      "league_id               17941 non-null int64\n",
      "league                  2719 non-null object\n",
      "team_id                 17941 non-null int64\n",
      "team_name               17927 non-null object\n",
      "national_team_id        17941 non-null int64\n",
      "national_team           1489 non-null object\n",
      "name                    17941 non-null object\n",
      "name_en                 17936 non-null object\n",
      "short_name              17937 non-null object\n",
      "short_en                89 non-null object\n",
      "number                  17941 non-null int64\n",
      "position                14760 non-null object\n",
      "nationality             17936 non-null object\n",
      "age                     17941 non-null int64\n",
      "height                  17941 non-null object\n",
      "weight                  17941 non-null object\n",
      "games_played            17941 non-null int64\n",
      "playing_time            17941 non-null int64\n",
      "goal                    17941 non-null int64\n",
      "assist                  17941 non-null int64\n",
      "yellow_card             17941 non-null int64\n",
      "red_card                17941 non-null int64\n",
      "value                   17941 non-null float64\n",
      "birthday                17941 non-null object\n",
      "habit_foot              17941 non-null object\n",
      "join_time               17941 non-null object\n",
      "contract_time           17941 non-null object\n",
      "avatar                  17941 non-null object\n",
      "flag                    17941 non-null int64\n",
      "create_type             17941 non-null int64\n",
      "create_time             17941 non-null int64\n",
      "update_time             17941 non-null int64\n",
      "injury_history          17941 non-null object\n",
      "transfers               17941 non-null object\n",
      "season_performace       17941 non-null object\n",
      "honors                  17941 non-null object\n",
      "charaters               17941 non-null object\n",
      "read_card               3208 non-null object\n",
      "position_performace     17941 non-null object\n",
      "single_match_records    17941 non-null object\n",
      "vs_teams                17941 non-null object\n",
      "jersey_numbers          14733 non-null object\n",
      "出场次数                    17941 non-null int64\n",
      "进球                      17941 non-null int64\n",
      "助攻                      17941 non-null int64\n",
      "红牌                      17941 non-null int64\n",
      "黄牌                      17941 non-null int64\n",
      "替补上场                    17941 non-null int64\n",
      "替补下场                    17941 non-null int64\n",
      "出场总时间                   17941 non-null int64\n",
      "黄变红                     17941 non-null int64\n",
      "场均积分                    17941 non-null float64\n",
      "乌龙球                     17941 non-null int64\n",
      "进点球                     17941 non-null int64\n",
      "进球间隔时间                  17941 non-null float64\n",
      "总丢球数                    17941 non-null int64\n",
      "未丢球场次                   17941 non-null int64\n",
      "dtypes: float64(3), int64(29), object(26)\n",
      "memory usage: 7.9+ MB\n"
     ]
    }
   ],
   "source": [
    "data.info()"
   ]
  },
  {
   "cell_type": "code",
   "execution_count": 29,
   "metadata": {},
   "outputs": [
    {
     "data": {
      "text/html": [
       "<div>\n",
       "<style scoped>\n",
       "    .dataframe tbody tr th:only-of-type {\n",
       "        vertical-align: middle;\n",
       "    }\n",
       "\n",
       "    .dataframe tbody tr th {\n",
       "        vertical-align: top;\n",
       "    }\n",
       "\n",
       "    .dataframe thead th {\n",
       "        text-align: right;\n",
       "    }\n",
       "</style>\n",
       "<table border=\"1\" class=\"dataframe\">\n",
       "  <thead>\n",
       "    <tr style=\"text-align: right;\">\n",
       "      <th></th>\n",
       "      <th>id</th>\n",
       "      <th>league_id</th>\n",
       "      <th>team_id</th>\n",
       "      <th>national_team_id</th>\n",
       "      <th>number</th>\n",
       "      <th>age</th>\n",
       "      <th>games_played</th>\n",
       "      <th>playing_time</th>\n",
       "      <th>goal</th>\n",
       "      <th>assist</th>\n",
       "      <th>...</th>\n",
       "      <th>替补上场</th>\n",
       "      <th>替补下场</th>\n",
       "      <th>出场总时间</th>\n",
       "      <th>黄变红</th>\n",
       "      <th>场均积分</th>\n",
       "      <th>乌龙球</th>\n",
       "      <th>进点球</th>\n",
       "      <th>进球间隔时间</th>\n",
       "      <th>总丢球数</th>\n",
       "      <th>未丢球场次</th>\n",
       "    </tr>\n",
       "  </thead>\n",
       "  <tbody>\n",
       "    <tr>\n",
       "      <th>count</th>\n",
       "      <td>4199.000000</td>\n",
       "      <td>4199.000000</td>\n",
       "      <td>4199.000000</td>\n",
       "      <td>4199.000000</td>\n",
       "      <td>4199.000000</td>\n",
       "      <td>4199.000000</td>\n",
       "      <td>4199.000000</td>\n",
       "      <td>4199.000000</td>\n",
       "      <td>4199.000000</td>\n",
       "      <td>4199.000000</td>\n",
       "      <td>...</td>\n",
       "      <td>4199.000000</td>\n",
       "      <td>4199.000000</td>\n",
       "      <td>4199.000000</td>\n",
       "      <td>4199.000000</td>\n",
       "      <td>4199.000000</td>\n",
       "      <td>4199.000000</td>\n",
       "      <td>4199.000000</td>\n",
       "      <td>4199.000000</td>\n",
       "      <td>4199.000000</td>\n",
       "      <td>4199.000000</td>\n",
       "    </tr>\n",
       "    <tr>\n",
       "      <th>mean</th>\n",
       "      <td>7445.994046</td>\n",
       "      <td>31.889974</td>\n",
       "      <td>806.555847</td>\n",
       "      <td>455.744939</td>\n",
       "      <td>17.318409</td>\n",
       "      <td>26.792093</td>\n",
       "      <td>12.987854</td>\n",
       "      <td>959.126935</td>\n",
       "      <td>1.367468</td>\n",
       "      <td>0.924506</td>\n",
       "      <td>...</td>\n",
       "      <td>41.516075</td>\n",
       "      <td>48.409621</td>\n",
       "      <td>19293.375089</td>\n",
       "      <td>0.830674</td>\n",
       "      <td>1.337678</td>\n",
       "      <td>0.422005</td>\n",
       "      <td>2.370326</td>\n",
       "      <td>1398.657714</td>\n",
       "      <td>85.212432</td>\n",
       "      <td>22.397714</td>\n",
       "    </tr>\n",
       "    <tr>\n",
       "      <th>std</th>\n",
       "      <td>5260.359872</td>\n",
       "      <td>47.849870</td>\n",
       "      <td>814.375631</td>\n",
       "      <td>1064.122595</td>\n",
       "      <td>15.437909</td>\n",
       "      <td>4.289641</td>\n",
       "      <td>13.238300</td>\n",
       "      <td>1060.026070</td>\n",
       "      <td>3.091429</td>\n",
       "      <td>1.884155</td>\n",
       "      <td>...</td>\n",
       "      <td>37.979429</td>\n",
       "      <td>47.554771</td>\n",
       "      <td>12300.233232</td>\n",
       "      <td>1.470741</td>\n",
       "      <td>0.360003</td>\n",
       "      <td>0.966347</td>\n",
       "      <td>5.959590</td>\n",
       "      <td>2204.040838</td>\n",
       "      <td>95.458534</td>\n",
       "      <td>24.181020</td>\n",
       "    </tr>\n",
       "    <tr>\n",
       "      <th>min</th>\n",
       "      <td>1.000000</td>\n",
       "      <td>0.000000</td>\n",
       "      <td>5.000000</td>\n",
       "      <td>0.000000</td>\n",
       "      <td>0.000000</td>\n",
       "      <td>17.000000</td>\n",
       "      <td>0.000000</td>\n",
       "      <td>0.000000</td>\n",
       "      <td>0.000000</td>\n",
       "      <td>0.000000</td>\n",
       "      <td>...</td>\n",
       "      <td>0.000000</td>\n",
       "      <td>0.000000</td>\n",
       "      <td>0.000000</td>\n",
       "      <td>0.000000</td>\n",
       "      <td>0.000000</td>\n",
       "      <td>0.000000</td>\n",
       "      <td>0.000000</td>\n",
       "      <td>0.000000</td>\n",
       "      <td>0.000000</td>\n",
       "      <td>0.000000</td>\n",
       "    </tr>\n",
       "    <tr>\n",
       "      <th>25%</th>\n",
       "      <td>3189.500000</td>\n",
       "      <td>0.000000</td>\n",
       "      <td>225.000000</td>\n",
       "      <td>0.000000</td>\n",
       "      <td>7.000000</td>\n",
       "      <td>24.000000</td>\n",
       "      <td>0.000000</td>\n",
       "      <td>0.000000</td>\n",
       "      <td>0.000000</td>\n",
       "      <td>0.000000</td>\n",
       "      <td>...</td>\n",
       "      <td>13.000000</td>\n",
       "      <td>13.000000</td>\n",
       "      <td>10244.500000</td>\n",
       "      <td>0.000000</td>\n",
       "      <td>1.130000</td>\n",
       "      <td>0.000000</td>\n",
       "      <td>0.000000</td>\n",
       "      <td>360.790000</td>\n",
       "      <td>61.000000</td>\n",
       "      <td>18.000000</td>\n",
       "    </tr>\n",
       "    <tr>\n",
       "      <th>50%</th>\n",
       "      <td>7251.000000</td>\n",
       "      <td>24.000000</td>\n",
       "      <td>579.000000</td>\n",
       "      <td>0.000000</td>\n",
       "      <td>15.000000</td>\n",
       "      <td>26.000000</td>\n",
       "      <td>9.000000</td>\n",
       "      <td>579.000000</td>\n",
       "      <td>0.000000</td>\n",
       "      <td>0.000000</td>\n",
       "      <td>...</td>\n",
       "      <td>31.000000</td>\n",
       "      <td>34.000000</td>\n",
       "      <td>17055.000000</td>\n",
       "      <td>0.000000</td>\n",
       "      <td>1.340000</td>\n",
       "      <td>0.000000</td>\n",
       "      <td>0.000000</td>\n",
       "      <td>672.460000</td>\n",
       "      <td>61.000000</td>\n",
       "      <td>18.000000</td>\n",
       "    </tr>\n",
       "    <tr>\n",
       "      <th>75%</th>\n",
       "      <td>9947.500000</td>\n",
       "      <td>48.000000</td>\n",
       "      <td>1152.000000</td>\n",
       "      <td>229.000000</td>\n",
       "      <td>23.000000</td>\n",
       "      <td>30.000000</td>\n",
       "      <td>25.000000</td>\n",
       "      <td>1812.500000</td>\n",
       "      <td>1.000000</td>\n",
       "      <td>1.000000</td>\n",
       "      <td>...</td>\n",
       "      <td>60.000000</td>\n",
       "      <td>71.000000</td>\n",
       "      <td>26031.500000</td>\n",
       "      <td>1.000000</td>\n",
       "      <td>1.540000</td>\n",
       "      <td>0.000000</td>\n",
       "      <td>2.000000</td>\n",
       "      <td>1561.010000</td>\n",
       "      <td>61.000000</td>\n",
       "      <td>18.000000</td>\n",
       "    </tr>\n",
       "    <tr>\n",
       "      <th>max</th>\n",
       "      <td>22470.000000</td>\n",
       "      <td>725.000000</td>\n",
       "      <td>5583.000000</td>\n",
       "      <td>4216.000000</td>\n",
       "      <td>99.000000</td>\n",
       "      <td>41.000000</td>\n",
       "      <td>46.000000</td>\n",
       "      <td>4140.000000</td>\n",
       "      <td>34.000000</td>\n",
       "      <td>15.000000</td>\n",
       "      <td>...</td>\n",
       "      <td>284.000000</td>\n",
       "      <td>336.000000</td>\n",
       "      <td>86944.000000</td>\n",
       "      <td>17.000000</td>\n",
       "      <td>4.640000</td>\n",
       "      <td>11.000000</td>\n",
       "      <td>99.000000</td>\n",
       "      <td>38590.000000</td>\n",
       "      <td>1051.000000</td>\n",
       "      <td>428.000000</td>\n",
       "    </tr>\n",
       "  </tbody>\n",
       "</table>\n",
       "<p>8 rows × 32 columns</p>\n",
       "</div>"
      ],
      "text/plain": [
       "                 id    league_id      team_id  national_team_id       number  \\\n",
       "count   4199.000000  4199.000000  4199.000000       4199.000000  4199.000000   \n",
       "mean    7445.994046    31.889974   806.555847        455.744939    17.318409   \n",
       "std     5260.359872    47.849870   814.375631       1064.122595    15.437909   \n",
       "min        1.000000     0.000000     5.000000          0.000000     0.000000   \n",
       "25%     3189.500000     0.000000   225.000000          0.000000     7.000000   \n",
       "50%     7251.000000    24.000000   579.000000          0.000000    15.000000   \n",
       "75%     9947.500000    48.000000  1152.000000        229.000000    23.000000   \n",
       "max    22470.000000   725.000000  5583.000000       4216.000000    99.000000   \n",
       "\n",
       "               age  games_played  playing_time         goal       assist  \\\n",
       "count  4199.000000   4199.000000   4199.000000  4199.000000  4199.000000   \n",
       "mean     26.792093     12.987854    959.126935     1.367468     0.924506   \n",
       "std       4.289641     13.238300   1060.026070     3.091429     1.884155   \n",
       "min      17.000000      0.000000      0.000000     0.000000     0.000000   \n",
       "25%      24.000000      0.000000      0.000000     0.000000     0.000000   \n",
       "50%      26.000000      9.000000    579.000000     0.000000     0.000000   \n",
       "75%      30.000000     25.000000   1812.500000     1.000000     1.000000   \n",
       "max      41.000000     46.000000   4140.000000    34.000000    15.000000   \n",
       "\n",
       "          ...              替补上场         替补下场         出场总时间          黄变红  \\\n",
       "count     ...       4199.000000  4199.000000   4199.000000  4199.000000   \n",
       "mean      ...         41.516075    48.409621  19293.375089     0.830674   \n",
       "std       ...         37.979429    47.554771  12300.233232     1.470741   \n",
       "min       ...          0.000000     0.000000      0.000000     0.000000   \n",
       "25%       ...         13.000000    13.000000  10244.500000     0.000000   \n",
       "50%       ...         31.000000    34.000000  17055.000000     0.000000   \n",
       "75%       ...         60.000000    71.000000  26031.500000     1.000000   \n",
       "max       ...        284.000000   336.000000  86944.000000    17.000000   \n",
       "\n",
       "              场均积分          乌龙球          进点球        进球间隔时间         总丢球数  \\\n",
       "count  4199.000000  4199.000000  4199.000000   4199.000000  4199.000000   \n",
       "mean      1.337678     0.422005     2.370326   1398.657714    85.212432   \n",
       "std       0.360003     0.966347     5.959590   2204.040838    95.458534   \n",
       "min       0.000000     0.000000     0.000000      0.000000     0.000000   \n",
       "25%       1.130000     0.000000     0.000000    360.790000    61.000000   \n",
       "50%       1.340000     0.000000     0.000000    672.460000    61.000000   \n",
       "75%       1.540000     0.000000     2.000000   1561.010000    61.000000   \n",
       "max       4.640000    11.000000    99.000000  38590.000000  1051.000000   \n",
       "\n",
       "             未丢球场次  \n",
       "count  4199.000000  \n",
       "mean     22.397714  \n",
       "std      24.181020  \n",
       "min       0.000000  \n",
       "25%      18.000000  \n",
       "50%      18.000000  \n",
       "75%      18.000000  \n",
       "max     428.000000  \n",
       "\n",
       "[8 rows x 32 columns]"
      ]
     },
     "execution_count": 29,
     "metadata": {},
     "output_type": "execute_result"
    }
   ],
   "source": [
    "data_history=data[data['season_performace']!='[]']\n",
    "data_history.describe()"
   ]
  },
  {
   "cell_type": "code",
   "execution_count": 40,
   "metadata": {},
   "outputs": [
    {
     "data": {
      "text/html": [
       "<div>\n",
       "<style scoped>\n",
       "    .dataframe tbody tr th:only-of-type {\n",
       "        vertical-align: middle;\n",
       "    }\n",
       "\n",
       "    .dataframe tbody tr th {\n",
       "        vertical-align: top;\n",
       "    }\n",
       "\n",
       "    .dataframe thead th {\n",
       "        text-align: right;\n",
       "    }\n",
       "</style>\n",
       "<table border=\"1\" class=\"dataframe\">\n",
       "  <thead>\n",
       "    <tr style=\"text-align: right;\">\n",
       "      <th></th>\n",
       "      <th>id</th>\n",
       "      <th>league_id</th>\n",
       "      <th>league</th>\n",
       "      <th>team_id</th>\n",
       "      <th>team_name</th>\n",
       "      <th>national_team_id</th>\n",
       "      <th>national_team</th>\n",
       "      <th>name</th>\n",
       "      <th>name_en</th>\n",
       "      <th>short_name</th>\n",
       "      <th>...</th>\n",
       "      <th>替补上场</th>\n",
       "      <th>替补下场</th>\n",
       "      <th>出场总时间</th>\n",
       "      <th>黄变红</th>\n",
       "      <th>场均积分</th>\n",
       "      <th>乌龙球</th>\n",
       "      <th>进点球</th>\n",
       "      <th>进球间隔时间</th>\n",
       "      <th>总丢球数</th>\n",
       "      <th>未丢球场次</th>\n",
       "    </tr>\n",
       "  </thead>\n",
       "  <tbody>\n",
       "    <tr>\n",
       "      <th>3393</th>\n",
       "      <td>3735</td>\n",
       "      <td>0</td>\n",
       "      <td>NaN</td>\n",
       "      <td>329</td>\n",
       "      <td>莫斯科中央陆军</td>\n",
       "      <td>247</td>\n",
       "      <td>俄罗斯</td>\n",
       "      <td>阿金费耶夫</td>\n",
       "      <td>Igor Akinfeev</td>\n",
       "      <td>阿金费耶夫</td>\n",
       "      <td>...</td>\n",
       "      <td>6.0</td>\n",
       "      <td>5.0</td>\n",
       "      <td>86944.0</td>\n",
       "      <td>0.0</td>\n",
       "      <td>1.74</td>\n",
       "      <td>2.0</td>\n",
       "      <td>1.0</td>\n",
       "      <td>672.46</td>\n",
       "      <td>803</td>\n",
       "      <td>428</td>\n",
       "    </tr>\n",
       "    <tr>\n",
       "      <th>1679</th>\n",
       "      <td>1706</td>\n",
       "      <td>0</td>\n",
       "      <td>NaN</td>\n",
       "      <td>2358</td>\n",
       "      <td>洛杉矶银河</td>\n",
       "      <td>2063</td>\n",
       "      <td>蒙特利尔冲击</td>\n",
       "      <td>伊布</td>\n",
       "      <td>Zlatan Ibrahimovic</td>\n",
       "      <td>伊布</td>\n",
       "      <td>...</td>\n",
       "      <td>108.0</td>\n",
       "      <td>189.0</td>\n",
       "      <td>73182.0</td>\n",
       "      <td>4.0</td>\n",
       "      <td>2.39</td>\n",
       "      <td>1.0</td>\n",
       "      <td>99.0</td>\n",
       "      <td>123.40</td>\n",
       "      <td>61</td>\n",
       "      <td>18</td>\n",
       "    </tr>\n",
       "    <tr>\n",
       "      <th>6791</th>\n",
       "      <td>7787</td>\n",
       "      <td>80</td>\n",
       "      <td>法甲</td>\n",
       "      <td>931</td>\n",
       "      <td>巴黎圣日耳曼</td>\n",
       "      <td>0</td>\n",
       "      <td>NaN</td>\n",
       "      <td>布冯</td>\n",
       "      <td>Gianluigi Buffon</td>\n",
       "      <td>布冯</td>\n",
       "      <td>...</td>\n",
       "      <td>2.0</td>\n",
       "      <td>12.0</td>\n",
       "      <td>81378.0</td>\n",
       "      <td>0.0</td>\n",
       "      <td>1.87</td>\n",
       "      <td>0.0</td>\n",
       "      <td>1.0</td>\n",
       "      <td>672.46</td>\n",
       "      <td>754</td>\n",
       "      <td>403</td>\n",
       "    </tr>\n",
       "    <tr>\n",
       "      <th>3009</th>\n",
       "      <td>3244</td>\n",
       "      <td>80</td>\n",
       "      <td>法甲</td>\n",
       "      <td>931</td>\n",
       "      <td>巴黎圣日耳曼</td>\n",
       "      <td>229</td>\n",
       "      <td>乌拉圭</td>\n",
       "      <td>卡瓦尼</td>\n",
       "      <td>Edinson Cavani</td>\n",
       "      <td>卡瓦尼</td>\n",
       "      <td>...</td>\n",
       "      <td>121.0</td>\n",
       "      <td>224.0</td>\n",
       "      <td>69077.0</td>\n",
       "      <td>2.0</td>\n",
       "      <td>2.92</td>\n",
       "      <td>2.0</td>\n",
       "      <td>69.0</td>\n",
       "      <td>129.11</td>\n",
       "      <td>61</td>\n",
       "      <td>18</td>\n",
       "    </tr>\n",
       "    <tr>\n",
       "      <th>3348</th>\n",
       "      <td>3671</td>\n",
       "      <td>48</td>\n",
       "      <td>意甲</td>\n",
       "      <td>567</td>\n",
       "      <td>尤文图斯</td>\n",
       "      <td>249</td>\n",
       "      <td>法国</td>\n",
       "      <td>马图伊迪</td>\n",
       "      <td>Blaise Matuidi</td>\n",
       "      <td>马图伊迪</td>\n",
       "      <td>...</td>\n",
       "      <td>135.0</td>\n",
       "      <td>165.0</td>\n",
       "      <td>66083.0</td>\n",
       "      <td>2.0</td>\n",
       "      <td>3.11</td>\n",
       "      <td>0.0</td>\n",
       "      <td>0.0</td>\n",
       "      <td>836.49</td>\n",
       "      <td>61</td>\n",
       "      <td>18</td>\n",
       "    </tr>\n",
       "    <tr>\n",
       "      <th>11859</th>\n",
       "      <td>13558</td>\n",
       "      <td>0</td>\n",
       "      <td>NaN</td>\n",
       "      <td>1273</td>\n",
       "      <td>莫斯科火车头</td>\n",
       "      <td>0</td>\n",
       "      <td>NaN</td>\n",
       "      <td>I.杰尼索夫</td>\n",
       "      <td>Igor Denisov</td>\n",
       "      <td>杰尼索夫</td>\n",
       "      <td>...</td>\n",
       "      <td>83.0</td>\n",
       "      <td>110.0</td>\n",
       "      <td>70621.0</td>\n",
       "      <td>4.0</td>\n",
       "      <td>1.56</td>\n",
       "      <td>0.0</td>\n",
       "      <td>2.0</td>\n",
       "      <td>1238.96</td>\n",
       "      <td>61</td>\n",
       "      <td>18</td>\n",
       "    </tr>\n",
       "    <tr>\n",
       "      <th>3377</th>\n",
       "      <td>3712</td>\n",
       "      <td>0</td>\n",
       "      <td>NaN</td>\n",
       "      <td>1460</td>\n",
       "      <td>巴塞尔</td>\n",
       "      <td>257</td>\n",
       "      <td>捷克</td>\n",
       "      <td>M.苏希</td>\n",
       "      <td>Marek Suchy</td>\n",
       "      <td>苏希</td>\n",
       "      <td>...</td>\n",
       "      <td>38.0</td>\n",
       "      <td>28.0</td>\n",
       "      <td>74224.0</td>\n",
       "      <td>5.0</td>\n",
       "      <td>1.49</td>\n",
       "      <td>5.0</td>\n",
       "      <td>0.0</td>\n",
       "      <td>2249.21</td>\n",
       "      <td>61</td>\n",
       "      <td>18</td>\n",
       "    </tr>\n",
       "    <tr>\n",
       "      <th>3321</th>\n",
       "      <td>3633</td>\n",
       "      <td>0</td>\n",
       "      <td>NaN</td>\n",
       "      <td>1557</td>\n",
       "      <td>波尔图</td>\n",
       "      <td>0</td>\n",
       "      <td>NaN</td>\n",
       "      <td>卡西利亚斯</td>\n",
       "      <td>Iker Casillas</td>\n",
       "      <td>卡西利亚斯</td>\n",
       "      <td>...</td>\n",
       "      <td>5.0</td>\n",
       "      <td>4.0</td>\n",
       "      <td>77287.0</td>\n",
       "      <td>1.0</td>\n",
       "      <td>1.05</td>\n",
       "      <td>1.0</td>\n",
       "      <td>1.0</td>\n",
       "      <td>672.46</td>\n",
       "      <td>845</td>\n",
       "      <td>325</td>\n",
       "    </tr>\n",
       "    <tr>\n",
       "      <th>3358</th>\n",
       "      <td>3686</td>\n",
       "      <td>24</td>\n",
       "      <td>英超</td>\n",
       "      <td>200</td>\n",
       "      <td>狼队</td>\n",
       "      <td>256</td>\n",
       "      <td>葡萄牙</td>\n",
       "      <td>穆蒂尼奥</td>\n",
       "      <td>João Moutinho</td>\n",
       "      <td>穆蒂尼奥</td>\n",
       "      <td>...</td>\n",
       "      <td>80.0</td>\n",
       "      <td>115.0</td>\n",
       "      <td>69681.0</td>\n",
       "      <td>0.0</td>\n",
       "      <td>1.83</td>\n",
       "      <td>0.0</td>\n",
       "      <td>13.0</td>\n",
       "      <td>1106.04</td>\n",
       "      <td>61</td>\n",
       "      <td>18</td>\n",
       "    </tr>\n",
       "    <tr>\n",
       "      <th>7216</th>\n",
       "      <td>8322</td>\n",
       "      <td>59</td>\n",
       "      <td>德甲</td>\n",
       "      <td>585</td>\n",
       "      <td>门兴格拉德巴赫</td>\n",
       "      <td>3258</td>\n",
       "      <td>瑞士</td>\n",
       "      <td>索默</td>\n",
       "      <td>Yann Sommer</td>\n",
       "      <td>索默</td>\n",
       "      <td>...</td>\n",
       "      <td>2.0</td>\n",
       "      <td>7.0</td>\n",
       "      <td>75049.0</td>\n",
       "      <td>0.0</td>\n",
       "      <td>1.68</td>\n",
       "      <td>2.0</td>\n",
       "      <td>1.0</td>\n",
       "      <td>672.46</td>\n",
       "      <td>1051</td>\n",
       "      <td>238</td>\n",
       "    </tr>\n",
       "  </tbody>\n",
       "</table>\n",
       "<p>10 rows × 58 columns</p>\n",
       "</div>"
      ],
      "text/plain": [
       "          id  league_id league  team_id team_name  national_team_id  \\\n",
       "3393    3735          0    NaN      329   莫斯科中央陆军               247   \n",
       "1679    1706          0    NaN     2358     洛杉矶银河              2063   \n",
       "6791    7787         80     法甲      931    巴黎圣日耳曼                 0   \n",
       "3009    3244         80     法甲      931    巴黎圣日耳曼               229   \n",
       "3348    3671         48     意甲      567      尤文图斯               249   \n",
       "11859  13558          0    NaN     1273    莫斯科火车头                 0   \n",
       "3377    3712          0    NaN     1460       巴塞尔               257   \n",
       "3321    3633          0    NaN     1557       波尔图                 0   \n",
       "3358    3686         24     英超      200        狼队               256   \n",
       "7216    8322         59     德甲      585   门兴格拉德巴赫              3258   \n",
       "\n",
       "      national_team    name             name_en short_name  ...     替补上场  \\\n",
       "3393            俄罗斯   阿金费耶夫       Igor Akinfeev      阿金费耶夫  ...      6.0   \n",
       "1679         蒙特利尔冲击      伊布  Zlatan Ibrahimovic         伊布  ...    108.0   \n",
       "6791            NaN      布冯    Gianluigi Buffon         布冯  ...      2.0   \n",
       "3009            乌拉圭     卡瓦尼      Edinson Cavani        卡瓦尼  ...    121.0   \n",
       "3348             法国    马图伊迪      Blaise Matuidi       马图伊迪  ...    135.0   \n",
       "11859           NaN  I.杰尼索夫        Igor Denisov       杰尼索夫  ...     83.0   \n",
       "3377             捷克    M.苏希         Marek Suchy         苏希  ...     38.0   \n",
       "3321            NaN   卡西利亚斯       Iker Casillas      卡西利亚斯  ...      5.0   \n",
       "3358            葡萄牙    穆蒂尼奥       João Moutinho       穆蒂尼奥  ...     80.0   \n",
       "7216             瑞士      索默         Yann Sommer         索默  ...      2.0   \n",
       "\n",
       "        替补下场    出场总时间  黄变红  场均积分  乌龙球   进点球   进球间隔时间  总丢球数  未丢球场次  \n",
       "3393     5.0  86944.0  0.0  1.74  2.0   1.0   672.46   803    428  \n",
       "1679   189.0  73182.0  4.0  2.39  1.0  99.0   123.40    61     18  \n",
       "6791    12.0  81378.0  0.0  1.87  0.0   1.0   672.46   754    403  \n",
       "3009   224.0  69077.0  2.0  2.92  2.0  69.0   129.11    61     18  \n",
       "3348   165.0  66083.0  2.0  3.11  0.0   0.0   836.49    61     18  \n",
       "11859  110.0  70621.0  4.0  1.56  0.0   2.0  1238.96    61     18  \n",
       "3377    28.0  74224.0  5.0  1.49  5.0   0.0  2249.21    61     18  \n",
       "3321     4.0  77287.0  1.0  1.05  1.0   1.0   672.46   845    325  \n",
       "3358   115.0  69681.0  0.0  1.83  0.0  13.0  1106.04    61     18  \n",
       "7216     7.0  75049.0  0.0  1.68  2.0   1.0   672.46  1051    238  \n",
       "\n",
       "[10 rows x 58 columns]"
      ]
     },
     "execution_count": 40,
     "metadata": {},
     "output_type": "execute_result"
    }
   ],
   "source": [
    "data_history.sort_values(by='出场次数',ascending=False)[:10]"
   ]
  },
  {
   "cell_type": "code",
   "execution_count": 81,
   "metadata": {},
   "outputs": [
    {
     "data": {
      "text/html": [
       "<div>\n",
       "<style scoped>\n",
       "    .dataframe tbody tr th:only-of-type {\n",
       "        vertical-align: middle;\n",
       "    }\n",
       "\n",
       "    .dataframe tbody tr th {\n",
       "        vertical-align: top;\n",
       "    }\n",
       "\n",
       "    .dataframe thead th {\n",
       "        text-align: right;\n",
       "    }\n",
       "</style>\n",
       "<table border=\"1\" class=\"dataframe\">\n",
       "  <thead>\n",
       "    <tr style=\"text-align: right;\">\n",
       "      <th></th>\n",
       "      <th>id</th>\n",
       "      <th>name_en</th>\n",
       "      <th>出场次数</th>\n",
       "    </tr>\n",
       "  </thead>\n",
       "  <tbody>\n",
       "    <tr>\n",
       "      <th>3393</th>\n",
       "      <td>3735</td>\n",
       "      <td>Igor Akinfeev</td>\n",
       "      <td>970.0</td>\n",
       "    </tr>\n",
       "    <tr>\n",
       "      <th>1679</th>\n",
       "      <td>1706</td>\n",
       "      <td>Zlatan Ibrahimovic</td>\n",
       "      <td>931.0</td>\n",
       "    </tr>\n",
       "    <tr>\n",
       "      <th>6791</th>\n",
       "      <td>7787</td>\n",
       "      <td>Gianluigi Buffon</td>\n",
       "      <td>907.0</td>\n",
       "    </tr>\n",
       "    <tr>\n",
       "      <th>3009</th>\n",
       "      <td>3244</td>\n",
       "      <td>Edinson Cavani</td>\n",
       "      <td>887.0</td>\n",
       "    </tr>\n",
       "    <tr>\n",
       "      <th>3348</th>\n",
       "      <td>3671</td>\n",
       "      <td>Blaise Matuidi</td>\n",
       "      <td>874.0</td>\n",
       "    </tr>\n",
       "    <tr>\n",
       "      <th>11859</th>\n",
       "      <td>13558</td>\n",
       "      <td>Igor Denisov</td>\n",
       "      <td>868.0</td>\n",
       "    </tr>\n",
       "    <tr>\n",
       "      <th>3377</th>\n",
       "      <td>3712</td>\n",
       "      <td>Marek Suchy</td>\n",
       "      <td>862.0</td>\n",
       "    </tr>\n",
       "    <tr>\n",
       "      <th>3321</th>\n",
       "      <td>3633</td>\n",
       "      <td>Iker Casillas</td>\n",
       "      <td>861.0</td>\n",
       "    </tr>\n",
       "    <tr>\n",
       "      <th>3358</th>\n",
       "      <td>3686</td>\n",
       "      <td>João Moutinho</td>\n",
       "      <td>856.0</td>\n",
       "    </tr>\n",
       "    <tr>\n",
       "      <th>7216</th>\n",
       "      <td>8322</td>\n",
       "      <td>Yann Sommer</td>\n",
       "      <td>836.0</td>\n",
       "    </tr>\n",
       "  </tbody>\n",
       "</table>\n",
       "</div>"
      ],
      "text/plain": [
       "          id             name_en   出场次数\n",
       "3393    3735       Igor Akinfeev  970.0\n",
       "1679    1706  Zlatan Ibrahimovic  931.0\n",
       "6791    7787    Gianluigi Buffon  907.0\n",
       "3009    3244      Edinson Cavani  887.0\n",
       "3348    3671      Blaise Matuidi  874.0\n",
       "11859  13558        Igor Denisov  868.0\n",
       "3377    3712         Marek Suchy  862.0\n",
       "3321    3633       Iker Casillas  861.0\n",
       "3358    3686       João Moutinho  856.0\n",
       "7216    8322         Yann Sommer  836.0"
      ]
     },
     "execution_count": 81,
     "metadata": {},
     "output_type": "execute_result"
    }
   ],
   "source": [
    "d_apper=data_history.sort_values(by='出场次数',ascending=False)[['id','name_en','出场次数']][:10]\n",
    "d_apper"
   ]
  },
  {
   "cell_type": "code",
   "execution_count": 82,
   "metadata": {},
   "outputs": [
    {
     "data": {
      "text/html": [
       "<div>\n",
       "<style scoped>\n",
       "    .dataframe tbody tr th:only-of-type {\n",
       "        vertical-align: middle;\n",
       "    }\n",
       "\n",
       "    .dataframe tbody tr th {\n",
       "        vertical-align: top;\n",
       "    }\n",
       "\n",
       "    .dataframe thead th {\n",
       "        text-align: right;\n",
       "    }\n",
       "</style>\n",
       "<table border=\"1\" class=\"dataframe\">\n",
       "  <thead>\n",
       "    <tr style=\"text-align: right;\">\n",
       "      <th></th>\n",
       "      <th>id</th>\n",
       "      <th>name_en</th>\n",
       "      <th>出场次数</th>\n",
       "    </tr>\n",
       "    <tr>\n",
       "      <th>name_en</th>\n",
       "      <th></th>\n",
       "      <th></th>\n",
       "      <th></th>\n",
       "    </tr>\n",
       "  </thead>\n",
       "  <tbody>\n",
       "    <tr>\n",
       "      <th>Igor Akinfeev</th>\n",
       "      <td>3735</td>\n",
       "      <td>Igor Akinfeev</td>\n",
       "      <td>970.0</td>\n",
       "    </tr>\n",
       "    <tr>\n",
       "      <th>Zlatan Ibrahimovic</th>\n",
       "      <td>1706</td>\n",
       "      <td>Zlatan Ibrahimovic</td>\n",
       "      <td>931.0</td>\n",
       "    </tr>\n",
       "    <tr>\n",
       "      <th>Gianluigi Buffon</th>\n",
       "      <td>7787</td>\n",
       "      <td>Gianluigi Buffon</td>\n",
       "      <td>907.0</td>\n",
       "    </tr>\n",
       "    <tr>\n",
       "      <th>Edinson Cavani</th>\n",
       "      <td>3244</td>\n",
       "      <td>Edinson Cavani</td>\n",
       "      <td>887.0</td>\n",
       "    </tr>\n",
       "    <tr>\n",
       "      <th>Blaise Matuidi</th>\n",
       "      <td>3671</td>\n",
       "      <td>Blaise Matuidi</td>\n",
       "      <td>874.0</td>\n",
       "    </tr>\n",
       "    <tr>\n",
       "      <th>Igor Denisov</th>\n",
       "      <td>13558</td>\n",
       "      <td>Igor Denisov</td>\n",
       "      <td>868.0</td>\n",
       "    </tr>\n",
       "    <tr>\n",
       "      <th>Marek Suchy</th>\n",
       "      <td>3712</td>\n",
       "      <td>Marek Suchy</td>\n",
       "      <td>862.0</td>\n",
       "    </tr>\n",
       "    <tr>\n",
       "      <th>Iker Casillas</th>\n",
       "      <td>3633</td>\n",
       "      <td>Iker Casillas</td>\n",
       "      <td>861.0</td>\n",
       "    </tr>\n",
       "    <tr>\n",
       "      <th>João Moutinho</th>\n",
       "      <td>3686</td>\n",
       "      <td>João Moutinho</td>\n",
       "      <td>856.0</td>\n",
       "    </tr>\n",
       "    <tr>\n",
       "      <th>Yann Sommer</th>\n",
       "      <td>8322</td>\n",
       "      <td>Yann Sommer</td>\n",
       "      <td>836.0</td>\n",
       "    </tr>\n",
       "  </tbody>\n",
       "</table>\n",
       "</div>"
      ],
      "text/plain": [
       "                       id             name_en   出场次数\n",
       "name_en                                             \n",
       "Igor Akinfeev        3735       Igor Akinfeev  970.0\n",
       "Zlatan Ibrahimovic   1706  Zlatan Ibrahimovic  931.0\n",
       "Gianluigi Buffon     7787    Gianluigi Buffon  907.0\n",
       "Edinson Cavani       3244      Edinson Cavani  887.0\n",
       "Blaise Matuidi       3671      Blaise Matuidi  874.0\n",
       "Igor Denisov        13558        Igor Denisov  868.0\n",
       "Marek Suchy          3712         Marek Suchy  862.0\n",
       "Iker Casillas        3633       Iker Casillas  861.0\n",
       "João Moutinho        3686       João Moutinho  856.0\n",
       "Yann Sommer          8322         Yann Sommer  836.0"
      ]
     },
     "execution_count": 82,
     "metadata": {},
     "output_type": "execute_result"
    }
   ],
   "source": [
    "ds_apper=d_apper\n",
    "ds_apper.index=ds_apper.name_en\n",
    "ds_apper"
   ]
  },
  {
   "cell_type": "code",
   "execution_count": 83,
   "metadata": {},
   "outputs": [
    {
     "data": {
      "text/plain": [
       "<matplotlib.axes._subplots.AxesSubplot at 0x11f84fc88>"
      ]
     },
     "execution_count": 83,
     "metadata": {},
     "output_type": "execute_result"
    },
    {
     "data": {
      "image/png": "[encoded data removed]",
      "text/plain": [
       "<Figure size 432x288 with 1 Axes>"
      ]
     },
     "metadata": {},
     "output_type": "display_data"
    }
   ],
   "source": [
    "ds_apper.出场次数.plot.barh()"
   ]
  },
  {
   "cell_type": "code",
   "execution_count": 85,
   "metadata": {},
   "outputs": [],
   "source": [
    "\n",
    "def clean(season):\n",
    "    if season=='[]':\n",
    "        return 'fuckyou'\n",
    "\n",
    "data['test']=data['season_performace'].apply(clean)\n",
    "\n"
   ]
  },
  {
   "cell_type": "code",
   "execution_count": 101,
   "metadata": {},
   "outputs": [],
   "source": [
    "d_eff=data_history.sort_values(by='进球',ascending=False)[['id','name_en','进球','出场次数']][:20]\n",
    "d_eff['efficiency']=d_eff['进球']/d_eff['出场次数']"
   ]
  },
  {
   "cell_type": "code",
   "execution_count": 96,
   "metadata": {},
   "outputs": [
    {
     "data": {
      "text/plain": [
       "<matplotlib.axes._subplots.AxesSubplot at 0x1a21b16ba8>"
      ]
     },
     "execution_count": 96,
     "metadata": {},
     "output_type": "execute_result"
    },
    {
     "data": {
      "image/png": "[encoded data removed]",
      "text/plain": [
       "<Figure size 432x288 with 1 Axes>"
      ]
     },
     "metadata": {},
     "output_type": "display_data"
    }
   ],
   "source": [
    "import matplotlib.pyplot as plt\n",
    "import seaborn as sns\n",
    "%matplotlib inline\n",
    "data_history['进球'].plot.hist(bins=120)"
   ]
  },
  {
   "cell_type": "code",
   "execution_count": 102,
   "metadata": {},
   "outputs": [
    {
     "data": {
      "text/html": [
       "<div>\n",
       "<style scoped>\n",
       "    .dataframe tbody tr th:only-of-type {\n",
       "        vertical-align: middle;\n",
       "    }\n",
       "\n",
       "    .dataframe tbody tr th {\n",
       "        vertical-align: top;\n",
       "    }\n",
       "\n",
       "    .dataframe thead th {\n",
       "        text-align: right;\n",
       "    }\n",
       "</style>\n",
       "<table border=\"1\" class=\"dataframe\">\n",
       "  <thead>\n",
       "    <tr style=\"text-align: right;\">\n",
       "      <th></th>\n",
       "      <th>id</th>\n",
       "      <th>name_en</th>\n",
       "      <th>进球</th>\n",
       "      <th>出场次数</th>\n",
       "      <th>efficiency</th>\n",
       "    </tr>\n",
       "  </thead>\n",
       "  <tbody>\n",
       "    <tr>\n",
       "      <th>1679</th>\n",
       "      <td>1706</td>\n",
       "      <td>Zlatan Ibrahimovic</td>\n",
       "      <td>593.0</td>\n",
       "      <td>931.0</td>\n",
       "      <td>0.636950</td>\n",
       "    </tr>\n",
       "    <tr>\n",
       "      <th>2208</th>\n",
       "      <td>2289</td>\n",
       "      <td>Cristiano Ronaldo</td>\n",
       "      <td>583.0</td>\n",
       "      <td>779.0</td>\n",
       "      <td>0.748395</td>\n",
       "    </tr>\n",
       "    <tr>\n",
       "      <th>53</th>\n",
       "      <td>57</td>\n",
       "      <td>Lionel Messi</td>\n",
       "      <td>569.0</td>\n",
       "      <td>654.0</td>\n",
       "      <td>0.870031</td>\n",
       "    </tr>\n",
       "    <tr>\n",
       "      <th>3009</th>\n",
       "      <td>3244</td>\n",
       "      <td>Edinson Cavani</td>\n",
       "      <td>535.0</td>\n",
       "      <td>887.0</td>\n",
       "      <td>0.603157</td>\n",
       "    </tr>\n",
       "    <tr>\n",
       "      <th>3012</th>\n",
       "      <td>3247</td>\n",
       "      <td>Luis Suárez</td>\n",
       "      <td>391.0</td>\n",
       "      <td>568.0</td>\n",
       "      <td>0.688380</td>\n",
       "    </tr>\n",
       "    <tr>\n",
       "      <th>8878</th>\n",
       "      <td>10175</td>\n",
       "      <td>Radamel Falcao Garcí</td>\n",
       "      <td>377.0</td>\n",
       "      <td>660.0</td>\n",
       "      <td>0.571212</td>\n",
       "    </tr>\n",
       "    <tr>\n",
       "      <th>54</th>\n",
       "      <td>58</td>\n",
       "      <td>Sergio Agüero</td>\n",
       "      <td>371.0</td>\n",
       "      <td>650.0</td>\n",
       "      <td>0.570769</td>\n",
       "    </tr>\n",
       "    <tr>\n",
       "      <th>15275</th>\n",
       "      <td>18150</td>\n",
       "      <td>Leigh Griffiths</td>\n",
       "      <td>370.0</td>\n",
       "      <td>739.0</td>\n",
       "      <td>0.500677</td>\n",
       "    </tr>\n",
       "    <tr>\n",
       "      <th>842</th>\n",
       "      <td>854</td>\n",
       "      <td>Neymar da Silva Sant</td>\n",
       "      <td>349.0</td>\n",
       "      <td>633.0</td>\n",
       "      <td>0.551343</td>\n",
       "    </tr>\n",
       "    <tr>\n",
       "      <th>2207</th>\n",
       "      <td>2288</td>\n",
       "      <td>Karim Benzema</td>\n",
       "      <td>335.0</td>\n",
       "      <td>730.0</td>\n",
       "      <td>0.458904</td>\n",
       "    </tr>\n",
       "    <tr>\n",
       "      <th>11651</th>\n",
       "      <td>13227</td>\n",
       "      <td>Klaas Huntelaar</td>\n",
       "      <td>335.0</td>\n",
       "      <td>583.0</td>\n",
       "      <td>0.574614</td>\n",
       "    </tr>\n",
       "    <tr>\n",
       "      <th>13171</th>\n",
       "      <td>15201</td>\n",
       "      <td>Guillaume Hoarau</td>\n",
       "      <td>334.0</td>\n",
       "      <td>727.0</td>\n",
       "      <td>0.459422</td>\n",
       "    </tr>\n",
       "    <tr>\n",
       "      <th>3</th>\n",
       "      <td>4</td>\n",
       "      <td>Mario Gomez</td>\n",
       "      <td>334.0</td>\n",
       "      <td>587.0</td>\n",
       "      <td>0.568995</td>\n",
       "    </tr>\n",
       "    <tr>\n",
       "      <th>2895</th>\n",
       "      <td>3085</td>\n",
       "      <td>Robert Lewandowski</td>\n",
       "      <td>333.0</td>\n",
       "      <td>518.0</td>\n",
       "      <td>0.642857</td>\n",
       "    </tr>\n",
       "    <tr>\n",
       "      <th>15212</th>\n",
       "      <td>18063</td>\n",
       "      <td>Batefimbi Gomis</td>\n",
       "      <td>322.0</td>\n",
       "      <td>821.0</td>\n",
       "      <td>0.392205</td>\n",
       "    </tr>\n",
       "    <tr>\n",
       "      <th>3325</th>\n",
       "      <td>3637</td>\n",
       "      <td>Givanildo Vieira de</td>\n",
       "      <td>313.0</td>\n",
       "      <td>584.0</td>\n",
       "      <td>0.535959</td>\n",
       "    </tr>\n",
       "    <tr>\n",
       "      <th>3169</th>\n",
       "      <td>3418</td>\n",
       "      <td>Claudiu Keseru</td>\n",
       "      <td>308.0</td>\n",
       "      <td>632.0</td>\n",
       "      <td>0.487342</td>\n",
       "    </tr>\n",
       "    <tr>\n",
       "      <th>55</th>\n",
       "      <td>59</td>\n",
       "      <td>Gonzalo Higuaín</td>\n",
       "      <td>304.0</td>\n",
       "      <td>595.0</td>\n",
       "      <td>0.510924</td>\n",
       "    </tr>\n",
       "    <tr>\n",
       "      <th>7195</th>\n",
       "      <td>8300</td>\n",
       "      <td>Raffael Caetano de A</td>\n",
       "      <td>298.0</td>\n",
       "      <td>794.0</td>\n",
       "      <td>0.375315</td>\n",
       "    </tr>\n",
       "    <tr>\n",
       "      <th>1703</th>\n",
       "      <td>1733</td>\n",
       "      <td>Alexandre Lacazette</td>\n",
       "      <td>282.0</td>\n",
       "      <td>610.0</td>\n",
       "      <td>0.462295</td>\n",
       "    </tr>\n",
       "  </tbody>\n",
       "</table>\n",
       "</div>"
      ],
      "text/plain": [
       "          id               name_en     进球   出场次数  efficiency\n",
       "1679    1706    Zlatan Ibrahimovic  593.0  931.0    0.636950\n",
       "2208    2289     Cristiano Ronaldo  583.0  779.0    0.748395\n",
       "53        57          Lionel Messi  569.0  654.0    0.870031\n",
       "3009    3244        Edinson Cavani  535.0  887.0    0.603157\n",
       "3012    3247           Luis Suárez  391.0  568.0    0.688380\n",
       "8878   10175  Radamel Falcao Garcí  377.0  660.0    0.571212\n",
       "54        58         Sergio Agüero  371.0  650.0    0.570769\n",
       "15275  18150       Leigh Griffiths  370.0  739.0    0.500677\n",
       "842      854  Neymar da Silva Sant  349.0  633.0    0.551343\n",
       "2207    2288         Karim Benzema  335.0  730.0    0.458904\n",
       "11651  13227       Klaas Huntelaar  335.0  583.0    0.574614\n",
       "13171  15201      Guillaume Hoarau  334.0  727.0    0.459422\n",
       "3          4           Mario Gomez  334.0  587.0    0.568995\n",
       "2895    3085    Robert Lewandowski  333.0  518.0    0.642857\n",
       "15212  18063       Batefimbi Gomis  322.0  821.0    0.392205\n",
       "3325    3637  Givanildo Vieira de   313.0  584.0    0.535959\n",
       "3169    3418        Claudiu Keseru  308.0  632.0    0.487342\n",
       "55        59       Gonzalo Higuaín  304.0  595.0    0.510924\n",
       "7195    8300  Raffael Caetano de A  298.0  794.0    0.375315\n",
       "1703    1733   Alexandre Lacazette  282.0  610.0    0.462295"
      ]
     },
     "execution_count": 102,
     "metadata": {},
     "output_type": "execute_result"
    }
   ],
   "source": [
    "d_eff"
   ]
  },
  {
   "cell_type": "code",
   "execution_count": 59,
   "metadata": {},
   "outputs": [
    {
     "data": {
      "text/plain": [
       "[{'id': '59714',\n",
       "  'vs_team_id': '665',\n",
       "  'vs_team': '奥格斯堡',\n",
       "  'player_id': '25',\n",
       "  'player': '菲尔米诺',\n",
       "  'times': '11',\n",
       "  'win': '5',\n",
       "  'draw': '3',\n",
       "  'lose': '3',\n",
       "  'goal': '1',\n",
       "  'assist': '2',\n",
       "  'yellow': '2',\n",
       "  'red': '0',\n",
       "  'yellow_to_red': '0',\n",
       "  'is_keeper': '0'},\n",
       " {'id': '59726',\n",
       "  'vs_team_id': '139',\n",
       "  'vs_team': '曼城',\n",
       "  'player_id': '25',\n",
       "  'player': '菲尔米诺',\n",
       "  'times': '10',\n",
       "  'win': '6',\n",
       "  'draw': '2',\n",
       "  'lose': '2',\n",
       "  'goal': '4',\n",
       "  'assist': '5',\n",
       "  'yellow': '3',\n",
       "  'red': '0',\n",
       "  'yellow_to_red': '0',\n",
       "  'is_keeper': '0'},\n",
       " {'id': '59715',\n",
       "  'vs_team_id': '587',\n",
       "  'vs_team': '沃尔夫斯堡',\n",
       "  'player_id': '25',\n",
       "  'player': '菲尔米诺',\n",
       "  'times': '10',\n",
       "  'win': '3',\n",
       "  'draw': '2',\n",
       "  'lose': '5',\n",
       "  'goal': '7',\n",
       "  'assist': '1',\n",
       "  'yellow': '4',\n",
       "  'red': '0',\n",
       "  'yellow_to_red': '0',\n",
       "  'is_keeper': '0'}]"
      ]
     },
     "execution_count": 59,
     "metadata": {},
     "output_type": "execute_result"
    }
   ],
   "source": [
    "player['vs_teams']"
   ]
  },
  {
   "cell_type": "raw",
   "metadata": {},
   "source": [
    "Start to get the player messages from zhibo8.cc\n",
    "Total 22473 players\n",
    "https://tu.qiumibao.com/logo/logo_o3x_02.png![image.png](attachment:image.png)"
   ]
  },
  {
   "cell_type": "code",
   "execution_count": 82,
   "metadata": {},
   "outputs": [
    {
     "name": "stderr",
     "output_type": "stream",
     "text": [
      "/Users/shenxibo/anaconda3/lib/python3.6/site-packages/urllib3/connectionpool.py:858: InsecureRequestWarning: Unverified HTTPS request is being made. Adding certificate verification is strongly advised. See: https://urllib3.readthedocs.io/en/latest/advanced-usage.html#ssl-warnings\n",
      "  InsecureRequestWarning)\n"
     ]
    },
    {
     "name": "stdout",
     "output_type": "stream",
     "text": [
      "0 ---  2 ---  {'Date': 'Fri, 23 Nov 2018 06:53:05 GMT', 'Content-Type': 'text/html;charset=utf-8', 'Transfer-Encoding': 'chunked', 'Connection': 'keep-alive', 'Vary': 'Accept-Encoding', 'X-Powered-By': 'PHP/5.6.14', 'Access-Control-Allow-Origin': '*', 'Access-Control-Allow-Headers': 'X-Requested-With', 'Access-Control-Allow-Methods': 'GET,POST,OPTIONS', 'Content-Encoding': 'gzip'}\n"
     ]
    },
    {
     "name": "stderr",
     "output_type": "stream",
     "text": [
      "/Users/shenxibo/anaconda3/lib/python3.6/site-packages/urllib3/connectionpool.py:858: InsecureRequestWarning: Unverified HTTPS request is being made. Adding certificate verification is strongly advised. See: https://urllib3.readthedocs.io/en/latest/advanced-usage.html#ssl-warnings\n",
      "  InsecureRequestWarning)\n"
     ]
    },
    {
     "name": "stdout",
     "output_type": "stream",
     "text": [
      "1 ---  3 ---  {'Date': 'Fri, 23 Nov 2018 06:53:05 GMT', 'Content-Type': 'text/html;charset=utf-8', 'Transfer-Encoding': 'chunked', 'Connection': 'keep-alive', 'Vary': 'Accept-Encoding', 'X-Powered-By': 'PHP/5.6.14', 'Access-Control-Allow-Origin': '*', 'Access-Control-Allow-Headers': 'X-Requested-With', 'Access-Control-Allow-Methods': 'GET,POST,OPTIONS', 'Content-Encoding': 'gzip'}\n"
     ]
    },
    {
     "name": "stderr",
     "output_type": "stream",
     "text": [
      "/Users/shenxibo/anaconda3/lib/python3.6/site-packages/urllib3/connectionpool.py:858: InsecureRequestWarning: Unverified HTTPS request is being made. Adding certificate verification is strongly advised. See: https://urllib3.readthedocs.io/en/latest/advanced-usage.html#ssl-warnings\n",
      "  InsecureRequestWarning)\n"
     ]
    },
    {
     "name": "stdout",
     "output_type": "stream",
     "text": [
      "2 ---  4 ---  {'Date': 'Fri, 23 Nov 2018 06:53:05 GMT', 'Content-Type': 'text/html;charset=utf-8', 'Transfer-Encoding': 'chunked', 'Connection': 'keep-alive', 'Vary': 'Accept-Encoding', 'X-Powered-By': 'PHP/5.6.14', 'Access-Control-Allow-Origin': '*', 'Access-Control-Allow-Headers': 'X-Requested-With', 'Access-Control-Allow-Methods': 'GET,POST,OPTIONS', 'Content-Encoding': 'gzip'}\n"
     ]
    },
    {
     "name": "stderr",
     "output_type": "stream",
     "text": [
      "/Users/shenxibo/anaconda3/lib/python3.6/site-packages/urllib3/connectionpool.py:858: InsecureRequestWarning: Unverified HTTPS request is being made. Adding certificate verification is strongly advised. See: https://urllib3.readthedocs.io/en/latest/advanced-usage.html#ssl-warnings\n",
      "  InsecureRequestWarning)\n"
     ]
    },
    {
     "name": "stdout",
     "output_type": "stream",
     "text": [
      "3 ---  5 ---  {'Date': 'Fri, 23 Nov 2018 06:53:06 GMT', 'Content-Type': 'text/html;charset=utf-8', 'Transfer-Encoding': 'chunked', 'Connection': 'keep-alive', 'Vary': 'Accept-Encoding', 'X-Powered-By': 'PHP/5.6.14', 'Access-Control-Allow-Origin': '*', 'Access-Control-Allow-Headers': 'X-Requested-With', 'Access-Control-Allow-Methods': 'GET,POST,OPTIONS', 'Content-Encoding': 'gzip'}\n"
     ]
    },
    {
     "name": "stderr",
     "output_type": "stream",
     "text": [
      "/Users/shenxibo/anaconda3/lib/python3.6/site-packages/urllib3/connectionpool.py:858: InsecureRequestWarning: Unverified HTTPS request is being made. Adding certificate verification is strongly advised. See: https://urllib3.readthedocs.io/en/latest/advanced-usage.html#ssl-warnings\n",
      "  InsecureRequestWarning)\n",
      "/Users/shenxibo/anaconda3/lib/python3.6/site-packages/urllib3/connectionpool.py:858: InsecureRequestWarning: Unverified HTTPS request is being made. Adding certificate verification is strongly advised. See: https://urllib3.readthedocs.io/en/latest/advanced-usage.html#ssl-warnings\n",
      "  InsecureRequestWarning)\n"
     ]
    },
    {
     "name": "stdout",
     "output_type": "stream",
     "text": [
      "4 ---  6 ---  {'Date': 'Fri, 23 Nov 2018 06:53:06 GMT', 'Content-Type': 'text/html;charset=utf-8', 'Transfer-Encoding': 'chunked', 'Connection': 'keep-alive', 'Vary': 'Accept-Encoding', 'X-Powered-By': 'PHP/5.6.14', 'Access-Control-Allow-Origin': '*', 'Access-Control-Allow-Headers': 'X-Requested-With', 'Access-Control-Allow-Methods': 'GET,POST,OPTIONS', 'Content-Encoding': 'gzip'}\n",
      "5 ---  7 ---  {'Date': 'Fri, 23 Nov 2018 06:53:06 GMT', 'Content-Type': 'text/html;charset=utf-8', 'Transfer-Encoding': 'chunked', 'Connection': 'keep-alive', 'Vary': 'Accept-Encoding', 'X-Powered-By': 'PHP/5.6.14', 'Access-Control-Allow-Origin': '*', 'Access-Control-Allow-Headers': 'X-Requested-With', 'Access-Control-Allow-Methods': 'GET,POST,OPTIONS', 'Content-Encoding': 'gzip'}\n"
     ]
    },
    {
     "name": "stderr",
     "output_type": "stream",
     "text": [
      "/Users/shenxibo/anaconda3/lib/python3.6/site-packages/urllib3/connectionpool.py:858: InsecureRequestWarning: Unverified HTTPS request is being made. Adding certificate verification is strongly advised. See: https://urllib3.readthedocs.io/en/latest/advanced-usage.html#ssl-warnings\n",
      "  InsecureRequestWarning)\n"
     ]
    },
    {
     "name": "stdout",
     "output_type": "stream",
     "text": [
      "6 ---  8 ---  {'Date': 'Fri, 23 Nov 2018 06:53:07 GMT', 'Content-Type': 'text/html;charset=utf-8', 'Transfer-Encoding': 'chunked', 'Connection': 'keep-alive', 'Vary': 'Accept-Encoding', 'X-Powered-By': 'PHP/5.6.14', 'Access-Control-Allow-Origin': '*', 'Access-Control-Allow-Headers': 'X-Requested-With', 'Access-Control-Allow-Methods': 'GET,POST,OPTIONS', 'Content-Encoding': 'gzip'}\n"
     ]
    },
    {
     "name": "stderr",
     "output_type": "stream",
     "text": [
      "/Users/shenxibo/anaconda3/lib/python3.6/site-packages/urllib3/connectionpool.py:858: InsecureRequestWarning: Unverified HTTPS request is being made. Adding certificate verification is strongly advised. See: https://urllib3.readthedocs.io/en/latest/advanced-usage.html#ssl-warnings\n",
      "  InsecureRequestWarning)\n"
     ]
    },
    {
     "name": "stdout",
     "output_type": "stream",
     "text": [
      "7 ---  9 ---  {'Date': 'Fri, 23 Nov 2018 06:53:07 GMT', 'Content-Type': 'text/html;charset=utf-8', 'Transfer-Encoding': 'chunked', 'Connection': 'keep-alive', 'Vary': 'Accept-Encoding', 'X-Powered-By': 'PHP/5.6.14', 'Access-Control-Allow-Origin': '*', 'Access-Control-Allow-Headers': 'X-Requested-With', 'Access-Control-Allow-Methods': 'GET,POST,OPTIONS', 'Content-Encoding': 'gzip'}\n"
     ]
    },
    {
     "name": "stderr",
     "output_type": "stream",
     "text": [
      "/Users/shenxibo/anaconda3/lib/python3.6/site-packages/urllib3/connectionpool.py:858: InsecureRequestWarning: Unverified HTTPS request is being made. Adding certificate verification is strongly advised. See: https://urllib3.readthedocs.io/en/latest/advanced-usage.html#ssl-warnings\n",
      "  InsecureRequestWarning)\n"
     ]
    },
    {
     "name": "stdout",
     "output_type": "stream",
     "text": [
      "8 ---  10 ---  {'Date': 'Fri, 23 Nov 2018 06:53:07 GMT', 'Content-Type': 'text/html;charset=utf-8', 'Transfer-Encoding': 'chunked', 'Connection': 'keep-alive', 'Vary': 'Accept-Encoding', 'X-Powered-By': 'PHP/5.6.14', 'Access-Control-Allow-Origin': '*', 'Access-Control-Allow-Headers': 'X-Requested-With', 'Access-Control-Allow-Methods': 'GET,POST,OPTIONS', 'Content-Encoding': 'gzip'}\n"
     ]
    },
    {
     "name": "stderr",
     "output_type": "stream",
     "text": [
      "/Users/shenxibo/anaconda3/lib/python3.6/site-packages/urllib3/connectionpool.py:858: InsecureRequestWarning: Unverified HTTPS request is being made. Adding certificate verification is strongly advised. See: https://urllib3.readthedocs.io/en/latest/advanced-usage.html#ssl-warnings\n",
      "  InsecureRequestWarning)\n"
     ]
    },
    {
     "name": "stdout",
     "output_type": "stream",
     "text": [
      "9 ---  11 ---  {'Date': 'Fri, 23 Nov 2018 06:53:08 GMT', 'Content-Type': 'text/html;charset=utf-8', 'Transfer-Encoding': 'chunked', 'Connection': 'keep-alive', 'Vary': 'Accept-Encoding', 'X-Powered-By': 'PHP/5.6.14', 'Access-Control-Allow-Origin': '*', 'Access-Control-Allow-Headers': 'X-Requested-With', 'Access-Control-Allow-Methods': 'GET,POST,OPTIONS', 'Content-Encoding': 'gzip'}\n"
     ]
    },
    {
     "name": "stderr",
     "output_type": "stream",
     "text": [
      "/Users/shenxibo/anaconda3/lib/python3.6/site-packages/urllib3/connectionpool.py:858: InsecureRequestWarning: Unverified HTTPS request is being made. Adding certificate verification is strongly advised. See: https://urllib3.readthedocs.io/en/latest/advanced-usage.html#ssl-warnings\n",
      "  InsecureRequestWarning)\n"
     ]
    },
    {
     "name": "stdout",
     "output_type": "stream",
     "text": [
      "10 ---  12 ---  {'Date': 'Fri, 23 Nov 2018 06:53:08 GMT', 'Content-Type': 'text/html;charset=utf-8', 'Transfer-Encoding': 'chunked', 'Connection': 'keep-alive', 'Vary': 'Accept-Encoding', 'X-Powered-By': 'PHP/5.6.14', 'Access-Control-Allow-Origin': '*', 'Access-Control-Allow-Headers': 'X-Requested-With', 'Access-Control-Allow-Methods': 'GET,POST,OPTIONS', 'Content-Encoding': 'gzip'}\n"
     ]
    },
    {
     "name": "stderr",
     "output_type": "stream",
     "text": [
      "/Users/shenxibo/anaconda3/lib/python3.6/site-packages/urllib3/connectionpool.py:858: InsecureRequestWarning: Unverified HTTPS request is being made. Adding certificate verification is strongly advised. See: https://urllib3.readthedocs.io/en/latest/advanced-usage.html#ssl-warnings\n",
      "  InsecureRequestWarning)\n"
     ]
    },
    {
     "name": "stdout",
     "output_type": "stream",
     "text": [
      "11 ---  13 ---  {'Date': 'Fri, 23 Nov 2018 06:53:08 GMT', 'Content-Type': 'text/html;charset=utf-8', 'Transfer-Encoding': 'chunked', 'Connection': 'keep-alive', 'Vary': 'Accept-Encoding', 'X-Powered-By': 'PHP/5.6.14', 'Access-Control-Allow-Origin': '*', 'Access-Control-Allow-Headers': 'X-Requested-With', 'Access-Control-Allow-Methods': 'GET,POST,OPTIONS', 'Content-Encoding': 'gzip'}\n"
     ]
    },
    {
     "name": "stderr",
     "output_type": "stream",
     "text": [
      "/Users/shenxibo/anaconda3/lib/python3.6/site-packages/urllib3/connectionpool.py:858: InsecureRequestWarning: Unverified HTTPS request is being made. Adding certificate verification is strongly advised. See: https://urllib3.readthedocs.io/en/latest/advanced-usage.html#ssl-warnings\n",
      "  InsecureRequestWarning)\n"
     ]
    },
    {
     "name": "stdout",
     "output_type": "stream",
     "text": [
      "12 ---  14 ---  {'Date': 'Fri, 23 Nov 2018 06:53:09 GMT', 'Content-Type': 'text/html;charset=utf-8', 'Transfer-Encoding': 'chunked', 'Connection': 'keep-alive', 'Vary': 'Accept-Encoding', 'X-Powered-By': 'PHP/5.6.14', 'Access-Control-Allow-Origin': '*', 'Access-Control-Allow-Headers': 'X-Requested-With', 'Access-Control-Allow-Methods': 'GET,POST,OPTIONS', 'Content-Encoding': 'gzip'}\n"
     ]
    },
    {
     "name": "stderr",
     "output_type": "stream",
     "text": [
      "/Users/shenxibo/anaconda3/lib/python3.6/site-packages/urllib3/connectionpool.py:858: InsecureRequestWarning: Unverified HTTPS request is being made. Adding certificate verification is strongly advised. See: https://urllib3.readthedocs.io/en/latest/advanced-usage.html#ssl-warnings\n",
      "  InsecureRequestWarning)\n"
     ]
    },
    {
     "name": "stdout",
     "output_type": "stream",
     "text": [
      "13 ---  15 ---  {'Date': 'Fri, 23 Nov 2018 06:53:10 GMT', 'Content-Type': 'text/html;charset=utf-8', 'Transfer-Encoding': 'chunked', 'Connection': 'keep-alive', 'Vary': 'Accept-Encoding', 'X-Powered-By': 'PHP/5.6.14', 'Access-Control-Allow-Origin': '*', 'Access-Control-Allow-Headers': 'X-Requested-With', 'Access-Control-Allow-Methods': 'GET,POST,OPTIONS', 'Content-Encoding': 'gzip'}\n"
     ]
    },
    {
     "name": "stderr",
     "output_type": "stream",
     "text": [
      "/Users/shenxibo/anaconda3/lib/python3.6/site-packages/urllib3/connectionpool.py:858: InsecureRequestWarning: Unverified HTTPS request is being made. Adding certificate verification is strongly advised. See: https://urllib3.readthedocs.io/en/latest/advanced-usage.html#ssl-warnings\n",
      "  InsecureRequestWarning)\n"
     ]
    },
    {
     "name": "stdout",
     "output_type": "stream",
     "text": [
      "14 ---  16 ---  {'Date': 'Fri, 23 Nov 2018 06:53:10 GMT', 'Content-Type': 'text/html;charset=utf-8', 'Transfer-Encoding': 'chunked', 'Connection': 'keep-alive', 'Vary': 'Accept-Encoding', 'X-Powered-By': 'PHP/5.6.14', 'Access-Control-Allow-Origin': '*', 'Access-Control-Allow-Headers': 'X-Requested-With', 'Access-Control-Allow-Methods': 'GET,POST,OPTIONS', 'Content-Encoding': 'gzip'}\n"
     ]
    },
    {
     "name": "stderr",
     "output_type": "stream",
     "text": [
      "/Users/shenxibo/anaconda3/lib/python3.6/site-packages/urllib3/connectionpool.py:858: InsecureRequestWarning: Unverified HTTPS request is being made. Adding certificate verification is strongly advised. See: https://urllib3.readthedocs.io/en/latest/advanced-usage.html#ssl-warnings\n",
      "  InsecureRequestWarning)\n"
     ]
    },
    {
     "name": "stdout",
     "output_type": "stream",
     "text": [
      "15 ---  17 ---  {'Date': 'Fri, 23 Nov 2018 06:53:11 GMT', 'Content-Type': 'text/html;charset=utf-8', 'Transfer-Encoding': 'chunked', 'Connection': 'keep-alive', 'Vary': 'Accept-Encoding', 'X-Powered-By': 'PHP/5.6.14', 'Access-Control-Allow-Origin': '*', 'Access-Control-Allow-Headers': 'X-Requested-With', 'Access-Control-Allow-Methods': 'GET,POST,OPTIONS', 'Content-Encoding': 'gzip'}\n"
     ]
    },
    {
     "name": "stderr",
     "output_type": "stream",
     "text": [
      "/Users/shenxibo/anaconda3/lib/python3.6/site-packages/urllib3/connectionpool.py:858: InsecureRequestWarning: Unverified HTTPS request is being made. Adding certificate verification is strongly advised. See: https://urllib3.readthedocs.io/en/latest/advanced-usage.html#ssl-warnings\n",
      "  InsecureRequestWarning)\n"
     ]
    },
    {
     "name": "stdout",
     "output_type": "stream",
     "text": [
      "16 ---  18 ---  {'Date': 'Fri, 23 Nov 2018 06:53:11 GMT', 'Content-Type': 'text/html;charset=utf-8', 'Transfer-Encoding': 'chunked', 'Connection': 'keep-alive', 'Vary': 'Accept-Encoding', 'X-Powered-By': 'PHP/5.6.14', 'Access-Control-Allow-Origin': '*', 'Access-Control-Allow-Headers': 'X-Requested-With', 'Access-Control-Allow-Methods': 'GET,POST,OPTIONS', 'Content-Encoding': 'gzip'}\n"
     ]
    },
    {
     "name": "stderr",
     "output_type": "stream",
     "text": [
      "/Users/shenxibo/anaconda3/lib/python3.6/site-packages/urllib3/connectionpool.py:858: InsecureRequestWarning: Unverified HTTPS request is being made. Adding certificate verification is strongly advised. See: https://urllib3.readthedocs.io/en/latest/advanced-usage.html#ssl-warnings\n",
      "  InsecureRequestWarning)\n"
     ]
    },
    {
     "name": "stdout",
     "output_type": "stream",
     "text": [
      "17 ---  19 ---  {'Date': 'Fri, 23 Nov 2018 06:53:11 GMT', 'Content-Type': 'text/html;charset=utf-8', 'Transfer-Encoding': 'chunked', 'Connection': 'keep-alive', 'Vary': 'Accept-Encoding', 'X-Powered-By': 'PHP/5.6.14', 'Access-Control-Allow-Origin': '*', 'Access-Control-Allow-Headers': 'X-Requested-With', 'Access-Control-Allow-Methods': 'GET,POST,OPTIONS', 'Content-Encoding': 'gzip'}\n"
     ]
    },
    {
     "name": "stderr",
     "output_type": "stream",
     "text": [
      "/Users/shenxibo/anaconda3/lib/python3.6/site-packages/urllib3/connectionpool.py:858: InsecureRequestWarning: Unverified HTTPS request is being made. Adding certificate verification is strongly advised. See: https://urllib3.readthedocs.io/en/latest/advanced-usage.html#ssl-warnings\n",
      "  InsecureRequestWarning)\n"
     ]
    },
    {
     "name": "stdout",
     "output_type": "stream",
     "text": [
      "18 ---  20 ---  {'Date': 'Fri, 23 Nov 2018 06:53:12 GMT', 'Content-Type': 'text/html;charset=utf-8', 'Transfer-Encoding': 'chunked', 'Connection': 'keep-alive', 'Vary': 'Accept-Encoding', 'X-Powered-By': 'PHP/5.6.14', 'Access-Control-Allow-Origin': '*', 'Access-Control-Allow-Headers': 'X-Requested-With', 'Access-Control-Allow-Methods': 'GET,POST,OPTIONS', 'Content-Encoding': 'gzip'}\n"
     ]
    },
    {
     "name": "stderr",
     "output_type": "stream",
     "text": [
      "/Users/shenxibo/anaconda3/lib/python3.6/site-packages/urllib3/connectionpool.py:858: InsecureRequestWarning: Unverified HTTPS request is being made. Adding certificate verification is strongly advised. See: https://urllib3.readthedocs.io/en/latest/advanced-usage.html#ssl-warnings\n",
      "  InsecureRequestWarning)\n"
     ]
    },
    {
     "name": "stdout",
     "output_type": "stream",
     "text": [
      "19 ---  21 ---  {'Date': 'Fri, 23 Nov 2018 06:53:12 GMT', 'Content-Type': 'text/html;charset=utf-8', 'Transfer-Encoding': 'chunked', 'Connection': 'keep-alive', 'Vary': 'Accept-Encoding', 'X-Powered-By': 'PHP/5.6.14', 'Access-Control-Allow-Origin': '*', 'Access-Control-Allow-Headers': 'X-Requested-With', 'Access-Control-Allow-Methods': 'GET,POST,OPTIONS', 'Content-Encoding': 'gzip'}\n"
     ]
    },
    {
     "name": "stderr",
     "output_type": "stream",
     "text": [
      "/Users/shenxibo/anaconda3/lib/python3.6/site-packages/urllib3/connectionpool.py:858: InsecureRequestWarning: Unverified HTTPS request is being made. Adding certificate verification is strongly advised. See: https://urllib3.readthedocs.io/en/latest/advanced-usage.html#ssl-warnings\n",
      "  InsecureRequestWarning)\n"
     ]
    },
    {
     "name": "stdout",
     "output_type": "stream",
     "text": [
      "20 ---  22 ---  {'Date': 'Fri, 23 Nov 2018 06:53:12 GMT', 'Content-Type': 'text/html;charset=utf-8', 'Transfer-Encoding': 'chunked', 'Connection': 'keep-alive', 'Vary': 'Accept-Encoding', 'X-Powered-By': 'PHP/5.6.14', 'Access-Control-Allow-Origin': '*', 'Access-Control-Allow-Headers': 'X-Requested-With', 'Access-Control-Allow-Methods': 'GET,POST,OPTIONS', 'Content-Encoding': 'gzip'}\n"
     ]
    },
    {
     "name": "stderr",
     "output_type": "stream",
     "text": [
      "/Users/shenxibo/anaconda3/lib/python3.6/site-packages/urllib3/connectionpool.py:858: InsecureRequestWarning: Unverified HTTPS request is being made. Adding certificate verification is strongly advised. See: https://urllib3.readthedocs.io/en/latest/advanced-usage.html#ssl-warnings\n",
      "  InsecureRequestWarning)\n"
     ]
    },
    {
     "name": "stdout",
     "output_type": "stream",
     "text": [
      "21 ---  23 ---  {'Date': 'Fri, 23 Nov 2018 06:53:13 GMT', 'Content-Type': 'text/html;charset=utf-8', 'Transfer-Encoding': 'chunked', 'Connection': 'keep-alive', 'Vary': 'Accept-Encoding', 'X-Powered-By': 'PHP/5.6.14', 'Access-Control-Allow-Origin': '*', 'Access-Control-Allow-Headers': 'X-Requested-With', 'Access-Control-Allow-Methods': 'GET,POST,OPTIONS', 'Content-Encoding': 'gzip'}\n"
     ]
    },
    {
     "name": "stderr",
     "output_type": "stream",
     "text": [
      "/Users/shenxibo/anaconda3/lib/python3.6/site-packages/urllib3/connectionpool.py:858: InsecureRequestWarning: Unverified HTTPS request is being made. Adding certificate verification is strongly advised. See: https://urllib3.readthedocs.io/en/latest/advanced-usage.html#ssl-warnings\n",
      "  InsecureRequestWarning)\n"
     ]
    },
    {
     "name": "stdout",
     "output_type": "stream",
     "text": [
      "22 ---  24 ---  {'Date': 'Fri, 23 Nov 2018 06:53:13 GMT', 'Content-Type': 'text/html;charset=utf-8', 'Transfer-Encoding': 'chunked', 'Connection': 'keep-alive', 'Vary': 'Accept-Encoding', 'X-Powered-By': 'PHP/5.6.14', 'Access-Control-Allow-Origin': '*', 'Access-Control-Allow-Headers': 'X-Requested-With', 'Access-Control-Allow-Methods': 'GET,POST,OPTIONS', 'Content-Encoding': 'gzip'}\n"
     ]
    },
    {
     "name": "stderr",
     "output_type": "stream",
     "text": [
      "/Users/shenxibo/anaconda3/lib/python3.6/site-packages/urllib3/connectionpool.py:858: InsecureRequestWarning: Unverified HTTPS request is being made. Adding certificate verification is strongly advised. See: https://urllib3.readthedocs.io/en/latest/advanced-usage.html#ssl-warnings\n",
      "  InsecureRequestWarning)\n"
     ]
    },
    {
     "name": "stdout",
     "output_type": "stream",
     "text": [
      "23 ---  25 ---  {'Date': 'Fri, 23 Nov 2018 06:53:14 GMT', 'Content-Type': 'text/html;charset=utf-8', 'Transfer-Encoding': 'chunked', 'Connection': 'keep-alive', 'Vary': 'Accept-Encoding', 'X-Powered-By': 'PHP/5.6.14', 'Access-Control-Allow-Origin': '*', 'Access-Control-Allow-Headers': 'X-Requested-With', 'Access-Control-Allow-Methods': 'GET,POST,OPTIONS', 'Content-Encoding': 'gzip'}\n"
     ]
    },
    {
     "name": "stderr",
     "output_type": "stream",
     "text": [
      "/Users/shenxibo/anaconda3/lib/python3.6/site-packages/urllib3/connectionpool.py:858: InsecureRequestWarning: Unverified HTTPS request is being made. Adding certificate verification is strongly advised. See: https://urllib3.readthedocs.io/en/latest/advanced-usage.html#ssl-warnings\n",
      "  InsecureRequestWarning)\n"
     ]
    },
    {
     "name": "stdout",
     "output_type": "stream",
     "text": [
      "24 ---  26 ---  {'Date': 'Fri, 23 Nov 2018 06:53:14 GMT', 'Content-Type': 'text/html;charset=utf-8', 'Transfer-Encoding': 'chunked', 'Connection': 'keep-alive', 'Vary': 'Accept-Encoding', 'X-Powered-By': 'PHP/5.6.14', 'Access-Control-Allow-Origin': '*', 'Access-Control-Allow-Headers': 'X-Requested-With', 'Access-Control-Allow-Methods': 'GET,POST,OPTIONS', 'Content-Encoding': 'gzip'}\n"
     ]
    },
    {
     "name": "stderr",
     "output_type": "stream",
     "text": [
      "/Users/shenxibo/anaconda3/lib/python3.6/site-packages/urllib3/connectionpool.py:858: InsecureRequestWarning: Unverified HTTPS request is being made. Adding certificate verification is strongly advised. See: https://urllib3.readthedocs.io/en/latest/advanced-usage.html#ssl-warnings\n",
      "  InsecureRequestWarning)\n"
     ]
    },
    {
     "name": "stdout",
     "output_type": "stream",
     "text": [
      "25 ---  27 ---  {'Date': 'Fri, 23 Nov 2018 06:53:14 GMT', 'Content-Type': 'text/html;charset=utf-8', 'Transfer-Encoding': 'chunked', 'Connection': 'keep-alive', 'Vary': 'Accept-Encoding', 'X-Powered-By': 'PHP/5.6.14', 'Access-Control-Allow-Origin': '*', 'Access-Control-Allow-Headers': 'X-Requested-With', 'Access-Control-Allow-Methods': 'GET,POST,OPTIONS', 'Content-Encoding': 'gzip'}\n"
     ]
    },
    {
     "name": "stderr",
     "output_type": "stream",
     "text": [
      "/Users/shenxibo/anaconda3/lib/python3.6/site-packages/urllib3/connectionpool.py:858: InsecureRequestWarning: Unverified HTTPS request is being made. Adding certificate verification is strongly advised. See: https://urllib3.readthedocs.io/en/latest/advanced-usage.html#ssl-warnings\n",
      "  InsecureRequestWarning)\n"
     ]
    },
    {
     "name": "stdout",
     "output_type": "stream",
     "text": [
      "26 ---  28 ---  {'Date': 'Fri, 23 Nov 2018 06:53:15 GMT', 'Content-Type': 'text/html;charset=utf-8', 'Transfer-Encoding': 'chunked', 'Connection': 'keep-alive', 'Vary': 'Accept-Encoding', 'X-Powered-By': 'PHP/5.6.14', 'Access-Control-Allow-Origin': '*', 'Access-Control-Allow-Headers': 'X-Requested-With', 'Access-Control-Allow-Methods': 'GET,POST,OPTIONS', 'Content-Encoding': 'gzip'}\n"
     ]
    },
    {
     "name": "stderr",
     "output_type": "stream",
     "text": [
      "/Users/shenxibo/anaconda3/lib/python3.6/site-packages/urllib3/connectionpool.py:858: InsecureRequestWarning: Unverified HTTPS request is being made. Adding certificate verification is strongly advised. See: https://urllib3.readthedocs.io/en/latest/advanced-usage.html#ssl-warnings\n",
      "  InsecureRequestWarning)\n"
     ]
    },
    {
     "name": "stdout",
     "output_type": "stream",
     "text": [
      "27 ---  29 ---  {'Date': 'Fri, 23 Nov 2018 06:53:15 GMT', 'Content-Type': 'text/html;charset=utf-8', 'Transfer-Encoding': 'chunked', 'Connection': 'keep-alive', 'Vary': 'Accept-Encoding', 'X-Powered-By': 'PHP/5.6.14', 'Access-Control-Allow-Origin': '*', 'Access-Control-Allow-Headers': 'X-Requested-With', 'Access-Control-Allow-Methods': 'GET,POST,OPTIONS', 'Content-Encoding': 'gzip'}\n"
     ]
    },
    {
     "name": "stderr",
     "output_type": "stream",
     "text": [
      "/Users/shenxibo/anaconda3/lib/python3.6/site-packages/urllib3/connectionpool.py:858: InsecureRequestWarning: Unverified HTTPS request is being made. Adding certificate verification is strongly advised. See: https://urllib3.readthedocs.io/en/latest/advanced-usage.html#ssl-warnings\n",
      "  InsecureRequestWarning)\n"
     ]
    },
    {
     "name": "stdout",
     "output_type": "stream",
     "text": [
      "28 ---  30 ---  {'Date': 'Fri, 23 Nov 2018 06:53:15 GMT', 'Content-Type': 'text/html;charset=utf-8', 'Transfer-Encoding': 'chunked', 'Connection': 'keep-alive', 'Vary': 'Accept-Encoding', 'X-Powered-By': 'PHP/5.6.14', 'Access-Control-Allow-Origin': '*', 'Access-Control-Allow-Headers': 'X-Requested-With', 'Access-Control-Allow-Methods': 'GET,POST,OPTIONS', 'Content-Encoding': 'gzip'}\n"
     ]
    },
    {
     "name": "stderr",
     "output_type": "stream",
     "text": [
      "/Users/shenxibo/anaconda3/lib/python3.6/site-packages/urllib3/connectionpool.py:858: InsecureRequestWarning: Unverified HTTPS request is being made. Adding certificate verification is strongly advised. See: https://urllib3.readthedocs.io/en/latest/advanced-usage.html#ssl-warnings\n",
      "  InsecureRequestWarning)\n"
     ]
    },
    {
     "name": "stdout",
     "output_type": "stream",
     "text": [
      "29 ---  31 ---  {'Date': 'Fri, 23 Nov 2018 06:53:16 GMT', 'Content-Type': 'text/html;charset=utf-8', 'Transfer-Encoding': 'chunked', 'Connection': 'keep-alive', 'Vary': 'Accept-Encoding', 'X-Powered-By': 'PHP/5.6.14', 'Access-Control-Allow-Origin': '*', 'Access-Control-Allow-Headers': 'X-Requested-With', 'Access-Control-Allow-Methods': 'GET,POST,OPTIONS', 'Content-Encoding': 'gzip'}\n",
      "30 ---  32 ---  {'Date': 'Fri, 23 Nov 2018 06:53:16 GMT', 'Content-Type': 'text/html;charset=utf-8', 'Transfer-Encoding': 'chunked', 'Connection': 'keep-alive', 'Vary': 'Accept-Encoding', 'X-Powered-By': 'PHP/5.6.14', 'Access-Control-Allow-Origin': '*', 'Access-Control-Allow-Headers': 'X-Requested-With', 'Access-Control-Allow-Methods': 'GET,POST,OPTIONS', 'Content-Encoding': 'gzip'}\n"
     ]
    },
    {
     "name": "stderr",
     "output_type": "stream",
     "text": [
      "/Users/shenxibo/anaconda3/lib/python3.6/site-packages/urllib3/connectionpool.py:858: InsecureRequestWarning: Unverified HTTPS request is being made. Adding certificate verification is strongly advised. See: https://urllib3.readthedocs.io/en/latest/advanced-usage.html#ssl-warnings\n",
      "  InsecureRequestWarning)\n",
      "/Users/shenxibo/anaconda3/lib/python3.6/site-packages/urllib3/connectionpool.py:858: InsecureRequestWarning: Unverified HTTPS request is being made. Adding certificate verification is strongly advised. See: https://urllib3.readthedocs.io/en/latest/advanced-usage.html#ssl-warnings\n",
      "  InsecureRequestWarning)\n"
     ]
    },
    {
     "name": "stdout",
     "output_type": "stream",
     "text": [
      "31 ---  33 ---  {'Date': 'Fri, 23 Nov 2018 06:53:16 GMT', 'Content-Type': 'text/html;charset=utf-8', 'Transfer-Encoding': 'chunked', 'Connection': 'keep-alive', 'Vary': 'Accept-Encoding', 'X-Powered-By': 'PHP/5.6.14', 'Access-Control-Allow-Origin': '*', 'Access-Control-Allow-Headers': 'X-Requested-With', 'Access-Control-Allow-Methods': 'GET,POST,OPTIONS', 'Content-Encoding': 'gzip'}\n"
     ]
    },
    {
     "name": "stderr",
     "output_type": "stream",
     "text": [
      "/Users/shenxibo/anaconda3/lib/python3.6/site-packages/urllib3/connectionpool.py:858: InsecureRequestWarning: Unverified HTTPS request is being made. Adding certificate verification is strongly advised. See: https://urllib3.readthedocs.io/en/latest/advanced-usage.html#ssl-warnings\n",
      "  InsecureRequestWarning)\n"
     ]
    },
    {
     "name": "stdout",
     "output_type": "stream",
     "text": [
      "32 ---  34 ---  {'Date': 'Fri, 23 Nov 2018 06:53:16 GMT', 'Content-Type': 'text/html;charset=utf-8', 'Transfer-Encoding': 'chunked', 'Connection': 'keep-alive', 'Vary': 'Accept-Encoding', 'X-Powered-By': 'PHP/5.6.14', 'Access-Control-Allow-Origin': '*', 'Access-Control-Allow-Headers': 'X-Requested-With', 'Access-Control-Allow-Methods': 'GET,POST,OPTIONS', 'Content-Encoding': 'gzip'}\n"
     ]
    },
    {
     "name": "stderr",
     "output_type": "stream",
     "text": [
      "/Users/shenxibo/anaconda3/lib/python3.6/site-packages/urllib3/connectionpool.py:858: InsecureRequestWarning: Unverified HTTPS request is being made. Adding certificate verification is strongly advised. See: https://urllib3.readthedocs.io/en/latest/advanced-usage.html#ssl-warnings\n",
      "  InsecureRequestWarning)\n"
     ]
    },
    {
     "name": "stdout",
     "output_type": "stream",
     "text": [
      "33 ---  35 ---  {'Date': 'Fri, 23 Nov 2018 06:53:17 GMT', 'Content-Type': 'text/html;charset=utf-8', 'Transfer-Encoding': 'chunked', 'Connection': 'keep-alive', 'Vary': 'Accept-Encoding', 'X-Powered-By': 'PHP/5.6.14', 'Access-Control-Allow-Origin': '*', 'Access-Control-Allow-Headers': 'X-Requested-With', 'Access-Control-Allow-Methods': 'GET,POST,OPTIONS', 'Content-Encoding': 'gzip'}\n"
     ]
    },
    {
     "name": "stderr",
     "output_type": "stream",
     "text": [
      "/Users/shenxibo/anaconda3/lib/python3.6/site-packages/urllib3/connectionpool.py:858: InsecureRequestWarning: Unverified HTTPS request is being made. Adding certificate verification is strongly advised. See: https://urllib3.readthedocs.io/en/latest/advanced-usage.html#ssl-warnings\n",
      "  InsecureRequestWarning)\n"
     ]
    },
    {
     "name": "stdout",
     "output_type": "stream",
     "text": [
      "34 ---  36 ---  {'Date': 'Fri, 23 Nov 2018 06:53:17 GMT', 'Content-Type': 'text/html;charset=utf-8', 'Transfer-Encoding': 'chunked', 'Connection': 'keep-alive', 'Vary': 'Accept-Encoding', 'X-Powered-By': 'PHP/5.6.14', 'Access-Control-Allow-Origin': '*', 'Access-Control-Allow-Headers': 'X-Requested-With', 'Access-Control-Allow-Methods': 'GET,POST,OPTIONS', 'Content-Encoding': 'gzip'}\n",
      "35 ---  37 ---  {'Date': 'Fri, 23 Nov 2018 06:53:17 GMT', 'Content-Type': 'text/html;charset=utf-8', 'Transfer-Encoding': 'chunked', 'Connection': 'keep-alive', 'Vary': 'Accept-Encoding', 'X-Powered-By': 'PHP/5.6.14', 'Access-Control-Allow-Origin': '*', 'Access-Control-Allow-Headers': 'X-Requested-With', 'Access-Control-Allow-Methods': 'GET,POST,OPTIONS', 'Content-Encoding': 'gzip'}\n"
     ]
    },
    {
     "name": "stderr",
     "output_type": "stream",
     "text": [
      "/Users/shenxibo/anaconda3/lib/python3.6/site-packages/urllib3/connectionpool.py:858: InsecureRequestWarning: Unverified HTTPS request is being made. Adding certificate verification is strongly advised. See: https://urllib3.readthedocs.io/en/latest/advanced-usage.html#ssl-warnings\n",
      "  InsecureRequestWarning)\n",
      "/Users/shenxibo/anaconda3/lib/python3.6/site-packages/urllib3/connectionpool.py:858: InsecureRequestWarning: Unverified HTTPS request is being made. Adding certificate verification is strongly advised. See: https://urllib3.readthedocs.io/en/latest/advanced-usage.html#ssl-warnings\n",
      "  InsecureRequestWarning)\n"
     ]
    },
    {
     "name": "stdout",
     "output_type": "stream",
     "text": [
      "36 ---  38 ---  {'Date': 'Fri, 23 Nov 2018 06:53:18 GMT', 'Content-Type': 'text/html;charset=utf-8', 'Transfer-Encoding': 'chunked', 'Connection': 'keep-alive', 'Vary': 'Accept-Encoding', 'X-Powered-By': 'PHP/5.6.14', 'Access-Control-Allow-Origin': '*', 'Access-Control-Allow-Headers': 'X-Requested-With', 'Access-Control-Allow-Methods': 'GET,POST,OPTIONS', 'Content-Encoding': 'gzip'}\n"
     ]
    },
    {
     "name": "stderr",
     "output_type": "stream",
     "text": [
      "/Users/shenxibo/anaconda3/lib/python3.6/site-packages/urllib3/connectionpool.py:858: InsecureRequestWarning: Unverified HTTPS request is being made. Adding certificate verification is strongly advised. See: https://urllib3.readthedocs.io/en/latest/advanced-usage.html#ssl-warnings\n",
      "  InsecureRequestWarning)\n"
     ]
    },
    {
     "name": "stdout",
     "output_type": "stream",
     "text": [
      "37 ---  39 ---  {'Date': 'Fri, 23 Nov 2018 06:53:18 GMT', 'Content-Type': 'text/html;charset=utf-8', 'Transfer-Encoding': 'chunked', 'Connection': 'keep-alive', 'Vary': 'Accept-Encoding', 'X-Powered-By': 'PHP/5.6.14', 'Access-Control-Allow-Origin': '*', 'Access-Control-Allow-Headers': 'X-Requested-With', 'Access-Control-Allow-Methods': 'GET,POST,OPTIONS', 'Content-Encoding': 'gzip'}\n"
     ]
    },
    {
     "name": "stderr",
     "output_type": "stream",
     "text": [
      "/Users/shenxibo/anaconda3/lib/python3.6/site-packages/urllib3/connectionpool.py:858: InsecureRequestWarning: Unverified HTTPS request is being made. Adding certificate verification is strongly advised. See: https://urllib3.readthedocs.io/en/latest/advanced-usage.html#ssl-warnings\n",
      "  InsecureRequestWarning)\n"
     ]
    },
    {
     "name": "stdout",
     "output_type": "stream",
     "text": [
      "38 ---  40 ---  {'Date': 'Fri, 23 Nov 2018 06:53:18 GMT', 'Content-Type': 'text/html;charset=utf-8', 'Transfer-Encoding': 'chunked', 'Connection': 'keep-alive', 'Vary': 'Accept-Encoding', 'X-Powered-By': 'PHP/5.6.14', 'Access-Control-Allow-Origin': '*', 'Access-Control-Allow-Headers': 'X-Requested-With', 'Access-Control-Allow-Methods': 'GET,POST,OPTIONS', 'Content-Encoding': 'gzip'}\n"
     ]
    },
    {
     "name": "stderr",
     "output_type": "stream",
     "text": [
      "/Users/shenxibo/anaconda3/lib/python3.6/site-packages/urllib3/connectionpool.py:858: InsecureRequestWarning: Unverified HTTPS request is being made. Adding certificate verification is strongly advised. See: https://urllib3.readthedocs.io/en/latest/advanced-usage.html#ssl-warnings\n",
      "  InsecureRequestWarning)\n"
     ]
    },
    {
     "name": "stdout",
     "output_type": "stream",
     "text": [
      "39 ---  41 ---  {'Date': 'Fri, 23 Nov 2018 06:53:19 GMT', 'Content-Type': 'text/html;charset=utf-8', 'Transfer-Encoding': 'chunked', 'Connection': 'keep-alive', 'Vary': 'Accept-Encoding', 'X-Powered-By': 'PHP/5.6.14', 'Access-Control-Allow-Origin': '*', 'Access-Control-Allow-Headers': 'X-Requested-With', 'Access-Control-Allow-Methods': 'GET,POST,OPTIONS', 'Content-Encoding': 'gzip'}\n"
     ]
    },
    {
     "name": "stderr",
     "output_type": "stream",
     "text": [
      "/Users/shenxibo/anaconda3/lib/python3.6/site-packages/urllib3/connectionpool.py:858: InsecureRequestWarning: Unverified HTTPS request is being made. Adding certificate verification is strongly advised. See: https://urllib3.readthedocs.io/en/latest/advanced-usage.html#ssl-warnings\n",
      "  InsecureRequestWarning)\n"
     ]
    },
    {
     "name": "stdout",
     "output_type": "stream",
     "text": [
      "40 ---  42 ---  {'Date': 'Fri, 23 Nov 2018 06:53:19 GMT', 'Content-Type': 'text/html;charset=utf-8', 'Transfer-Encoding': 'chunked', 'Connection': 'keep-alive', 'Vary': 'Accept-Encoding', 'X-Powered-By': 'PHP/5.6.14', 'Access-Control-Allow-Origin': '*', 'Access-Control-Allow-Headers': 'X-Requested-With', 'Access-Control-Allow-Methods': 'GET,POST,OPTIONS', 'Content-Encoding': 'gzip'}\n"
     ]
    },
    {
     "name": "stderr",
     "output_type": "stream",
     "text": [
      "/Users/shenxibo/anaconda3/lib/python3.6/site-packages/urllib3/connectionpool.py:858: InsecureRequestWarning: Unverified HTTPS request is being made. Adding certificate verification is strongly advised. See: https://urllib3.readthedocs.io/en/latest/advanced-usage.html#ssl-warnings\n",
      "  InsecureRequestWarning)\n"
     ]
    },
    {
     "name": "stdout",
     "output_type": "stream",
     "text": [
      "41 ---  43 ---  {'Date': 'Fri, 23 Nov 2018 06:53:19 GMT', 'Content-Type': 'text/html;charset=utf-8', 'Transfer-Encoding': 'chunked', 'Connection': 'keep-alive', 'Vary': 'Accept-Encoding', 'X-Powered-By': 'PHP/5.6.14', 'Access-Control-Allow-Origin': '*', 'Access-Control-Allow-Headers': 'X-Requested-With', 'Access-Control-Allow-Methods': 'GET,POST,OPTIONS', 'Content-Encoding': 'gzip'}\n"
     ]
    },
    {
     "name": "stderr",
     "output_type": "stream",
     "text": [
      "/Users/shenxibo/anaconda3/lib/python3.6/site-packages/urllib3/connectionpool.py:858: InsecureRequestWarning: Unverified HTTPS request is being made. Adding certificate verification is strongly advised. See: https://urllib3.readthedocs.io/en/latest/advanced-usage.html#ssl-warnings\n",
      "  InsecureRequestWarning)\n"
     ]
    },
    {
     "name": "stdout",
     "output_type": "stream",
     "text": [
      "42 ---  44 ---  {'Date': 'Fri, 23 Nov 2018 06:53:19 GMT', 'Content-Type': 'text/html;charset=utf-8', 'Transfer-Encoding': 'chunked', 'Connection': 'keep-alive', 'Vary': 'Accept-Encoding', 'X-Powered-By': 'PHP/5.6.14', 'Access-Control-Allow-Origin': '*', 'Access-Control-Allow-Headers': 'X-Requested-With', 'Access-Control-Allow-Methods': 'GET,POST,OPTIONS', 'Content-Encoding': 'gzip'}\n"
     ]
    },
    {
     "name": "stderr",
     "output_type": "stream",
     "text": [
      "/Users/shenxibo/anaconda3/lib/python3.6/site-packages/urllib3/connectionpool.py:858: InsecureRequestWarning: Unverified HTTPS request is being made. Adding certificate verification is strongly advised. See: https://urllib3.readthedocs.io/en/latest/advanced-usage.html#ssl-warnings\n",
      "  InsecureRequestWarning)\n"
     ]
    },
    {
     "name": "stdout",
     "output_type": "stream",
     "text": [
      "43 ---  45 ---  {'Date': 'Fri, 23 Nov 2018 06:53:20 GMT', 'Content-Type': 'text/html;charset=utf-8', 'Transfer-Encoding': 'chunked', 'Connection': 'keep-alive', 'Vary': 'Accept-Encoding', 'X-Powered-By': 'PHP/5.6.14', 'Access-Control-Allow-Origin': '*', 'Access-Control-Allow-Headers': 'X-Requested-With', 'Access-Control-Allow-Methods': 'GET,POST,OPTIONS', 'Content-Encoding': 'gzip'}\n"
     ]
    },
    {
     "name": "stderr",
     "output_type": "stream",
     "text": [
      "/Users/shenxibo/anaconda3/lib/python3.6/site-packages/urllib3/connectionpool.py:858: InsecureRequestWarning: Unverified HTTPS request is being made. Adding certificate verification is strongly advised. See: https://urllib3.readthedocs.io/en/latest/advanced-usage.html#ssl-warnings\n",
      "  InsecureRequestWarning)\n"
     ]
    },
    {
     "name": "stdout",
     "output_type": "stream",
     "text": [
      "44 ---  46 ---  {'Date': 'Fri, 23 Nov 2018 06:53:20 GMT', 'Content-Type': 'text/html;charset=utf-8', 'Transfer-Encoding': 'chunked', 'Connection': 'keep-alive', 'Vary': 'Accept-Encoding', 'X-Powered-By': 'PHP/5.6.14', 'Access-Control-Allow-Origin': '*', 'Access-Control-Allow-Headers': 'X-Requested-With', 'Access-Control-Allow-Methods': 'GET,POST,OPTIONS', 'Content-Encoding': 'gzip'}\n"
     ]
    },
    {
     "name": "stderr",
     "output_type": "stream",
     "text": [
      "/Users/shenxibo/anaconda3/lib/python3.6/site-packages/urllib3/connectionpool.py:858: InsecureRequestWarning: Unverified HTTPS request is being made. Adding certificate verification is strongly advised. See: https://urllib3.readthedocs.io/en/latest/advanced-usage.html#ssl-warnings\n",
      "  InsecureRequestWarning)\n"
     ]
    },
    {
     "name": "stdout",
     "output_type": "stream",
     "text": [
      "45 ---  47 ---  {'Date': 'Fri, 23 Nov 2018 06:53:21 GMT', 'Content-Type': 'text/html;charset=utf-8', 'Transfer-Encoding': 'chunked', 'Connection': 'keep-alive', 'Vary': 'Accept-Encoding', 'X-Powered-By': 'PHP/5.6.14', 'Access-Control-Allow-Origin': '*', 'Access-Control-Allow-Headers': 'X-Requested-With', 'Access-Control-Allow-Methods': 'GET,POST,OPTIONS', 'Content-Encoding': 'gzip'}\n"
     ]
    },
    {
     "name": "stderr",
     "output_type": "stream",
     "text": [
      "/Users/shenxibo/anaconda3/lib/python3.6/site-packages/urllib3/connectionpool.py:858: InsecureRequestWarning: Unverified HTTPS request is being made. Adding certificate verification is strongly advised. See: https://urllib3.readthedocs.io/en/latest/advanced-usage.html#ssl-warnings\n",
      "  InsecureRequestWarning)\n"
     ]
    },
    {
     "name": "stdout",
     "output_type": "stream",
     "text": [
      "46 ---  48 ---  {'Date': 'Fri, 23 Nov 2018 06:53:21 GMT', 'Content-Type': 'text/html;charset=utf-8', 'Transfer-Encoding': 'chunked', 'Connection': 'keep-alive', 'Vary': 'Accept-Encoding', 'X-Powered-By': 'PHP/5.6.14', 'Access-Control-Allow-Origin': '*', 'Access-Control-Allow-Headers': 'X-Requested-With', 'Access-Control-Allow-Methods': 'GET,POST,OPTIONS', 'Content-Encoding': 'gzip'}\n"
     ]
    },
    {
     "name": "stderr",
     "output_type": "stream",
     "text": [
      "/Users/shenxibo/anaconda3/lib/python3.6/site-packages/urllib3/connectionpool.py:858: InsecureRequestWarning: Unverified HTTPS request is being made. Adding certificate verification is strongly advised. See: https://urllib3.readthedocs.io/en/latest/advanced-usage.html#ssl-warnings\n",
      "  InsecureRequestWarning)\n"
     ]
    },
    {
     "name": "stdout",
     "output_type": "stream",
     "text": [
      "47 ---  49 ---  {'Date': 'Fri, 23 Nov 2018 06:53:22 GMT', 'Content-Type': 'text/html;charset=utf-8', 'Transfer-Encoding': 'chunked', 'Connection': 'keep-alive', 'Vary': 'Accept-Encoding', 'X-Powered-By': 'PHP/5.6.14', 'Access-Control-Allow-Origin': '*', 'Access-Control-Allow-Headers': 'X-Requested-With', 'Access-Control-Allow-Methods': 'GET,POST,OPTIONS', 'Content-Encoding': 'gzip'}\n"
     ]
    },
    {
     "name": "stderr",
     "output_type": "stream",
     "text": [
      "/Users/shenxibo/anaconda3/lib/python3.6/site-packages/urllib3/connectionpool.py:858: InsecureRequestWarning: Unverified HTTPS request is being made. Adding certificate verification is strongly advised. See: https://urllib3.readthedocs.io/en/latest/advanced-usage.html#ssl-warnings\n",
      "  InsecureRequestWarning)\n"
     ]
    },
    {
     "name": "stdout",
     "output_type": "stream",
     "text": [
      "48 ---  50 ---  {'Date': 'Fri, 23 Nov 2018 06:53:22 GMT', 'Content-Type': 'text/html;charset=utf-8', 'Transfer-Encoding': 'chunked', 'Connection': 'keep-alive', 'Vary': 'Accept-Encoding', 'X-Powered-By': 'PHP/5.6.14', 'Access-Control-Allow-Origin': '*', 'Access-Control-Allow-Headers': 'X-Requested-With', 'Access-Control-Allow-Methods': 'GET,POST,OPTIONS', 'Content-Encoding': 'gzip'}\n"
     ]
    },
    {
     "name": "stderr",
     "output_type": "stream",
     "text": [
      "/Users/shenxibo/anaconda3/lib/python3.6/site-packages/urllib3/connectionpool.py:858: InsecureRequestWarning: Unverified HTTPS request is being made. Adding certificate verification is strongly advised. See: https://urllib3.readthedocs.io/en/latest/advanced-usage.html#ssl-warnings\n",
      "  InsecureRequestWarning)\n"
     ]
    },
    {
     "name": "stdout",
     "output_type": "stream",
     "text": [
      "49 ---  51 ---  {'Date': 'Fri, 23 Nov 2018 06:53:22 GMT', 'Content-Type': 'text/html;charset=utf-8', 'Transfer-Encoding': 'chunked', 'Connection': 'keep-alive', 'Vary': 'Accept-Encoding', 'X-Powered-By': 'PHP/5.6.14', 'Access-Control-Allow-Origin': '*', 'Access-Control-Allow-Headers': 'X-Requested-With', 'Access-Control-Allow-Methods': 'GET,POST,OPTIONS', 'Content-Encoding': 'gzip'}\n"
     ]
    },
    {
     "name": "stderr",
     "output_type": "stream",
     "text": [
      "/Users/shenxibo/anaconda3/lib/python3.6/site-packages/urllib3/connectionpool.py:858: InsecureRequestWarning: Unverified HTTPS request is being made. Adding certificate verification is strongly advised. See: https://urllib3.readthedocs.io/en/latest/advanced-usage.html#ssl-warnings\n",
      "  InsecureRequestWarning)\n"
     ]
    },
    {
     "name": "stdout",
     "output_type": "stream",
     "text": [
      "50 ---  52 ---  {'Date': 'Fri, 23 Nov 2018 06:53:23 GMT', 'Content-Type': 'text/html;charset=utf-8', 'Transfer-Encoding': 'chunked', 'Connection': 'keep-alive', 'Vary': 'Accept-Encoding', 'X-Powered-By': 'PHP/5.6.14', 'Access-Control-Allow-Origin': '*', 'Access-Control-Allow-Headers': 'X-Requested-With', 'Access-Control-Allow-Methods': 'GET,POST,OPTIONS', 'Content-Encoding': 'gzip'}\n"
     ]
    },
    {
     "name": "stderr",
     "output_type": "stream",
     "text": [
      "/Users/shenxibo/anaconda3/lib/python3.6/site-packages/urllib3/connectionpool.py:858: InsecureRequestWarning: Unverified HTTPS request is being made. Adding certificate verification is strongly advised. See: https://urllib3.readthedocs.io/en/latest/advanced-usage.html#ssl-warnings\n",
      "  InsecureRequestWarning)\n"
     ]
    },
    {
     "name": "stdout",
     "output_type": "stream",
     "text": [
      "51 ---  53 ---  {'Date': 'Fri, 23 Nov 2018 06:53:23 GMT', 'Content-Type': 'text/html;charset=utf-8', 'Transfer-Encoding': 'chunked', 'Connection': 'keep-alive', 'Vary': 'Accept-Encoding', 'X-Powered-By': 'PHP/5.6.14', 'Access-Control-Allow-Origin': '*', 'Access-Control-Allow-Headers': 'X-Requested-With', 'Access-Control-Allow-Methods': 'GET,POST,OPTIONS', 'Content-Encoding': 'gzip'}\n"
     ]
    },
    {
     "name": "stderr",
     "output_type": "stream",
     "text": [
      "/Users/shenxibo/anaconda3/lib/python3.6/site-packages/urllib3/connectionpool.py:858: InsecureRequestWarning: Unverified HTTPS request is being made. Adding certificate verification is strongly advised. See: https://urllib3.readthedocs.io/en/latest/advanced-usage.html#ssl-warnings\n",
      "  InsecureRequestWarning)\n"
     ]
    },
    {
     "name": "stdout",
     "output_type": "stream",
     "text": [
      "52 ---  54 ---  {'Date': 'Fri, 23 Nov 2018 06:53:23 GMT', 'Content-Type': 'text/html;charset=utf-8', 'Transfer-Encoding': 'chunked', 'Connection': 'keep-alive', 'Vary': 'Accept-Encoding', 'X-Powered-By': 'PHP/5.6.14', 'Access-Control-Allow-Origin': '*', 'Access-Control-Allow-Headers': 'X-Requested-With', 'Access-Control-Allow-Methods': 'GET,POST,OPTIONS', 'Content-Encoding': 'gzip'}\n"
     ]
    },
    {
     "name": "stderr",
     "output_type": "stream",
     "text": [
      "/Users/shenxibo/anaconda3/lib/python3.6/site-packages/urllib3/connectionpool.py:858: InsecureRequestWarning: Unverified HTTPS request is being made. Adding certificate verification is strongly advised. See: https://urllib3.readthedocs.io/en/latest/advanced-usage.html#ssl-warnings\n",
      "  InsecureRequestWarning)\n"
     ]
    },
    {
     "name": "stdout",
     "output_type": "stream",
     "text": [
      "53 ---  55 ---  {'Date': 'Fri, 23 Nov 2018 06:53:24 GMT', 'Content-Type': 'text/html;charset=utf-8', 'Transfer-Encoding': 'chunked', 'Connection': 'keep-alive', 'Vary': 'Accept-Encoding', 'X-Powered-By': 'PHP/5.6.14', 'Access-Control-Allow-Origin': '*', 'Access-Control-Allow-Headers': 'X-Requested-With', 'Access-Control-Allow-Methods': 'GET,POST,OPTIONS', 'Content-Encoding': 'gzip'}\n"
     ]
    },
    {
     "name": "stderr",
     "output_type": "stream",
     "text": [
      "/Users/shenxibo/anaconda3/lib/python3.6/site-packages/urllib3/connectionpool.py:858: InsecureRequestWarning: Unverified HTTPS request is being made. Adding certificate verification is strongly advised. See: https://urllib3.readthedocs.io/en/latest/advanced-usage.html#ssl-warnings\n",
      "  InsecureRequestWarning)\n"
     ]
    },
    {
     "name": "stdout",
     "output_type": "stream",
     "text": [
      "54 ---  56 ---  {'Date': 'Fri, 23 Nov 2018 06:53:24 GMT', 'Content-Type': 'text/html;charset=utf-8', 'Transfer-Encoding': 'chunked', 'Connection': 'keep-alive', 'Vary': 'Accept-Encoding', 'X-Powered-By': 'PHP/5.6.14', 'Access-Control-Allow-Origin': '*', 'Access-Control-Allow-Headers': 'X-Requested-With', 'Access-Control-Allow-Methods': 'GET,POST,OPTIONS', 'Content-Encoding': 'gzip'}\n"
     ]
    },
    {
     "name": "stderr",
     "output_type": "stream",
     "text": [
      "/Users/shenxibo/anaconda3/lib/python3.6/site-packages/urllib3/connectionpool.py:858: InsecureRequestWarning: Unverified HTTPS request is being made. Adding certificate verification is strongly advised. See: https://urllib3.readthedocs.io/en/latest/advanced-usage.html#ssl-warnings\n",
      "  InsecureRequestWarning)\n"
     ]
    },
    {
     "name": "stdout",
     "output_type": "stream",
     "text": [
      "55 ---  57 ---  {'Date': 'Fri, 23 Nov 2018 06:53:25 GMT', 'Content-Type': 'text/html;charset=utf-8', 'Transfer-Encoding': 'chunked', 'Connection': 'keep-alive', 'Vary': 'Accept-Encoding', 'X-Powered-By': 'PHP/5.6.14', 'Access-Control-Allow-Origin': '*', 'Access-Control-Allow-Headers': 'X-Requested-With', 'Access-Control-Allow-Methods': 'GET,POST,OPTIONS', 'Content-Encoding': 'gzip'}\n"
     ]
    },
    {
     "name": "stderr",
     "output_type": "stream",
     "text": [
      "/Users/shenxibo/anaconda3/lib/python3.6/site-packages/urllib3/connectionpool.py:858: InsecureRequestWarning: Unverified HTTPS request is being made. Adding certificate verification is strongly advised. See: https://urllib3.readthedocs.io/en/latest/advanced-usage.html#ssl-warnings\n",
      "  InsecureRequestWarning)\n"
     ]
    },
    {
     "name": "stdout",
     "output_type": "stream",
     "text": [
      "56 ---  58 ---  {'Date': 'Fri, 23 Nov 2018 06:53:25 GMT', 'Content-Type': 'text/html;charset=utf-8', 'Transfer-Encoding': 'chunked', 'Connection': 'keep-alive', 'Vary': 'Accept-Encoding', 'X-Powered-By': 'PHP/5.6.14', 'Access-Control-Allow-Origin': '*', 'Access-Control-Allow-Headers': 'X-Requested-With', 'Access-Control-Allow-Methods': 'GET,POST,OPTIONS', 'Content-Encoding': 'gzip'}\n"
     ]
    },
    {
     "name": "stderr",
     "output_type": "stream",
     "text": [
      "/Users/shenxibo/anaconda3/lib/python3.6/site-packages/urllib3/connectionpool.py:858: InsecureRequestWarning: Unverified HTTPS request is being made. Adding certificate verification is strongly advised. See: https://urllib3.readthedocs.io/en/latest/advanced-usage.html#ssl-warnings\n",
      "  InsecureRequestWarning)\n"
     ]
    },
    {
     "name": "stdout",
     "output_type": "stream",
     "text": [
      "57 ---  59 ---  {'Date': 'Fri, 23 Nov 2018 06:53:26 GMT', 'Content-Type': 'text/html;charset=utf-8', 'Transfer-Encoding': 'chunked', 'Connection': 'keep-alive', 'Vary': 'Accept-Encoding', 'X-Powered-By': 'PHP/5.6.14', 'Access-Control-Allow-Origin': '*', 'Access-Control-Allow-Headers': 'X-Requested-With', 'Access-Control-Allow-Methods': 'GET,POST,OPTIONS', 'Content-Encoding': 'gzip'}\n"
     ]
    },
    {
     "name": "stderr",
     "output_type": "stream",
     "text": [
      "/Users/shenxibo/anaconda3/lib/python3.6/site-packages/urllib3/connectionpool.py:858: InsecureRequestWarning: Unverified HTTPS request is being made. Adding certificate verification is strongly advised. See: https://urllib3.readthedocs.io/en/latest/advanced-usage.html#ssl-warnings\n",
      "  InsecureRequestWarning)\n"
     ]
    },
    {
     "name": "stdout",
     "output_type": "stream",
     "text": [
      "58 ---  60 ---  {'Date': 'Fri, 23 Nov 2018 06:53:26 GMT', 'Content-Type': 'text/html;charset=utf-8', 'Transfer-Encoding': 'chunked', 'Connection': 'keep-alive', 'Vary': 'Accept-Encoding', 'X-Powered-By': 'PHP/5.6.14', 'Access-Control-Allow-Origin': '*', 'Access-Control-Allow-Headers': 'X-Requested-With', 'Access-Control-Allow-Methods': 'GET,POST,OPTIONS', 'Content-Encoding': 'gzip'}\n"
     ]
    },
    {
     "name": "stderr",
     "output_type": "stream",
     "text": [
      "/Users/shenxibo/anaconda3/lib/python3.6/site-packages/urllib3/connectionpool.py:858: InsecureRequestWarning: Unverified HTTPS request is being made. Adding certificate verification is strongly advised. See: https://urllib3.readthedocs.io/en/latest/advanced-usage.html#ssl-warnings\n",
      "  InsecureRequestWarning)\n"
     ]
    },
    {
     "name": "stdout",
     "output_type": "stream",
     "text": [
      "59 ---  61 ---  {'Date': 'Fri, 23 Nov 2018 06:53:27 GMT', 'Content-Type': 'text/html;charset=utf-8', 'Transfer-Encoding': 'chunked', 'Connection': 'keep-alive', 'Vary': 'Accept-Encoding', 'X-Powered-By': 'PHP/5.6.14', 'Access-Control-Allow-Origin': '*', 'Access-Control-Allow-Headers': 'X-Requested-With', 'Access-Control-Allow-Methods': 'GET,POST,OPTIONS', 'Content-Encoding': 'gzip'}\n"
     ]
    },
    {
     "name": "stderr",
     "output_type": "stream",
     "text": [
      "/Users/shenxibo/anaconda3/lib/python3.6/site-packages/urllib3/connectionpool.py:858: InsecureRequestWarning: Unverified HTTPS request is being made. Adding certificate verification is strongly advised. See: https://urllib3.readthedocs.io/en/latest/advanced-usage.html#ssl-warnings\n",
      "  InsecureRequestWarning)\n"
     ]
    },
    {
     "name": "stdout",
     "output_type": "stream",
     "text": [
      "60 ---  62 ---  {'Date': 'Fri, 23 Nov 2018 06:53:27 GMT', 'Content-Type': 'text/html;charset=utf-8', 'Transfer-Encoding': 'chunked', 'Connection': 'keep-alive', 'Vary': 'Accept-Encoding', 'X-Powered-By': 'PHP/5.6.14', 'Access-Control-Allow-Origin': '*', 'Access-Control-Allow-Headers': 'X-Requested-With', 'Access-Control-Allow-Methods': 'GET,POST,OPTIONS', 'Content-Encoding': 'gzip'}\n"
     ]
    },
    {
     "name": "stderr",
     "output_type": "stream",
     "text": [
      "/Users/shenxibo/anaconda3/lib/python3.6/site-packages/urllib3/connectionpool.py:858: InsecureRequestWarning: Unverified HTTPS request is being made. Adding certificate verification is strongly advised. See: https://urllib3.readthedocs.io/en/latest/advanced-usage.html#ssl-warnings\n",
      "  InsecureRequestWarning)\n"
     ]
    },
    {
     "name": "stdout",
     "output_type": "stream",
     "text": [
      "61 ---  63 ---  {'Date': 'Fri, 23 Nov 2018 06:53:28 GMT', 'Content-Type': 'text/html;charset=utf-8', 'Transfer-Encoding': 'chunked', 'Connection': 'keep-alive', 'Vary': 'Accept-Encoding', 'X-Powered-By': 'PHP/5.6.14', 'Access-Control-Allow-Origin': '*', 'Access-Control-Allow-Headers': 'X-Requested-With', 'Access-Control-Allow-Methods': 'GET,POST,OPTIONS', 'Content-Encoding': 'gzip'}\n"
     ]
    },
    {
     "name": "stderr",
     "output_type": "stream",
     "text": [
      "/Users/shenxibo/anaconda3/lib/python3.6/site-packages/urllib3/connectionpool.py:858: InsecureRequestWarning: Unverified HTTPS request is being made. Adding certificate verification is strongly advised. See: https://urllib3.readthedocs.io/en/latest/advanced-usage.html#ssl-warnings\n",
      "  InsecureRequestWarning)\n"
     ]
    },
    {
     "name": "stdout",
     "output_type": "stream",
     "text": [
      "62 ---  64 ---  {'Date': 'Fri, 23 Nov 2018 06:53:28 GMT', 'Content-Type': 'text/html;charset=utf-8', 'Transfer-Encoding': 'chunked', 'Connection': 'keep-alive', 'Vary': 'Accept-Encoding', 'X-Powered-By': 'PHP/5.6.14', 'Access-Control-Allow-Origin': '*', 'Access-Control-Allow-Headers': 'X-Requested-With', 'Access-Control-Allow-Methods': 'GET,POST,OPTIONS', 'Content-Encoding': 'gzip'}\n"
     ]
    },
    {
     "name": "stderr",
     "output_type": "stream",
     "text": [
      "/Users/shenxibo/anaconda3/lib/python3.6/site-packages/urllib3/connectionpool.py:858: InsecureRequestWarning: Unverified HTTPS request is being made. Adding certificate verification is strongly advised. See: https://urllib3.readthedocs.io/en/latest/advanced-usage.html#ssl-warnings\n",
      "  InsecureRequestWarning)\n"
     ]
    },
    {
     "name": "stdout",
     "output_type": "stream",
     "text": [
      "63 ---  65 ---  {'Date': 'Fri, 23 Nov 2018 06:53:29 GMT', 'Content-Type': 'text/html;charset=utf-8', 'Transfer-Encoding': 'chunked', 'Connection': 'keep-alive', 'Vary': 'Accept-Encoding', 'X-Powered-By': 'PHP/5.6.14', 'Access-Control-Allow-Origin': '*', 'Access-Control-Allow-Headers': 'X-Requested-With', 'Access-Control-Allow-Methods': 'GET,POST,OPTIONS', 'Content-Encoding': 'gzip'}\n"
     ]
    },
    {
     "name": "stderr",
     "output_type": "stream",
     "text": [
      "/Users/shenxibo/anaconda3/lib/python3.6/site-packages/urllib3/connectionpool.py:858: InsecureRequestWarning: Unverified HTTPS request is being made. Adding certificate verification is strongly advised. See: https://urllib3.readthedocs.io/en/latest/advanced-usage.html#ssl-warnings\n",
      "  InsecureRequestWarning)\n"
     ]
    },
    {
     "name": "stdout",
     "output_type": "stream",
     "text": [
      "64 ---  66 ---  {'Date': 'Fri, 23 Nov 2018 06:53:29 GMT', 'Content-Type': 'text/html;charset=utf-8', 'Transfer-Encoding': 'chunked', 'Connection': 'keep-alive', 'Vary': 'Accept-Encoding', 'X-Powered-By': 'PHP/5.6.14', 'Access-Control-Allow-Origin': '*', 'Access-Control-Allow-Headers': 'X-Requested-With', 'Access-Control-Allow-Methods': 'GET,POST,OPTIONS', 'Content-Encoding': 'gzip'}\n"
     ]
    },
    {
     "name": "stderr",
     "output_type": "stream",
     "text": [
      "/Users/shenxibo/anaconda3/lib/python3.6/site-packages/urllib3/connectionpool.py:858: InsecureRequestWarning: Unverified HTTPS request is being made. Adding certificate verification is strongly advised. See: https://urllib3.readthedocs.io/en/latest/advanced-usage.html#ssl-warnings\n",
      "  InsecureRequestWarning)\n"
     ]
    },
    {
     "name": "stdout",
     "output_type": "stream",
     "text": [
      "65 ---  67 ---  {'Date': 'Fri, 23 Nov 2018 06:53:29 GMT', 'Content-Type': 'text/html;charset=utf-8', 'Transfer-Encoding': 'chunked', 'Connection': 'keep-alive', 'Vary': 'Accept-Encoding', 'X-Powered-By': 'PHP/5.6.14', 'Access-Control-Allow-Origin': '*', 'Access-Control-Allow-Headers': 'X-Requested-With', 'Access-Control-Allow-Methods': 'GET,POST,OPTIONS', 'Content-Encoding': 'gzip'}\n"
     ]
    },
    {
     "name": "stderr",
     "output_type": "stream",
     "text": [
      "/Users/shenxibo/anaconda3/lib/python3.6/site-packages/urllib3/connectionpool.py:858: InsecureRequestWarning: Unverified HTTPS request is being made. Adding certificate verification is strongly advised. See: https://urllib3.readthedocs.io/en/latest/advanced-usage.html#ssl-warnings\n",
      "  InsecureRequestWarning)\n"
     ]
    },
    {
     "name": "stdout",
     "output_type": "stream",
     "text": [
      "66 ---  68 ---  {'Date': 'Fri, 23 Nov 2018 06:53:31 GMT', 'Content-Type': 'text/html;charset=utf-8', 'Transfer-Encoding': 'chunked', 'Connection': 'keep-alive', 'Vary': 'Accept-Encoding', 'X-Powered-By': 'PHP/5.6.14', 'Access-Control-Allow-Origin': '*', 'Access-Control-Allow-Headers': 'X-Requested-With', 'Access-Control-Allow-Methods': 'GET,POST,OPTIONS', 'Content-Encoding': 'gzip'}\n"
     ]
    },
    {
     "name": "stderr",
     "output_type": "stream",
     "text": [
      "/Users/shenxibo/anaconda3/lib/python3.6/site-packages/urllib3/connectionpool.py:858: InsecureRequestWarning: Unverified HTTPS request is being made. Adding certificate verification is strongly advised. See: https://urllib3.readthedocs.io/en/latest/advanced-usage.html#ssl-warnings\n",
      "  InsecureRequestWarning)\n"
     ]
    },
    {
     "name": "stdout",
     "output_type": "stream",
     "text": [
      "67 ---  69 ---  {'Date': 'Fri, 23 Nov 2018 06:53:32 GMT', 'Content-Type': 'text/html;charset=utf-8', 'Transfer-Encoding': 'chunked', 'Connection': 'keep-alive', 'Vary': 'Accept-Encoding', 'X-Powered-By': 'PHP/5.6.14', 'Access-Control-Allow-Origin': '*', 'Access-Control-Allow-Headers': 'X-Requested-With', 'Access-Control-Allow-Methods': 'GET,POST,OPTIONS', 'Content-Encoding': 'gzip'}\n"
     ]
    },
    {
     "name": "stderr",
     "output_type": "stream",
     "text": [
      "/Users/shenxibo/anaconda3/lib/python3.6/site-packages/urllib3/connectionpool.py:858: InsecureRequestWarning: Unverified HTTPS request is being made. Adding certificate verification is strongly advised. See: https://urllib3.readthedocs.io/en/latest/advanced-usage.html#ssl-warnings\n",
      "  InsecureRequestWarning)\n"
     ]
    },
    {
     "name": "stdout",
     "output_type": "stream",
     "text": [
      "68 ---  70 ---  {'Date': 'Fri, 23 Nov 2018 06:53:33 GMT', 'Content-Type': 'text/html;charset=utf-8', 'Transfer-Encoding': 'chunked', 'Connection': 'keep-alive', 'Vary': 'Accept-Encoding', 'X-Powered-By': 'PHP/5.6.14', 'Access-Control-Allow-Origin': '*', 'Access-Control-Allow-Headers': 'X-Requested-With', 'Access-Control-Allow-Methods': 'GET,POST,OPTIONS', 'Content-Encoding': 'gzip'}\n"
     ]
    },
    {
     "name": "stderr",
     "output_type": "stream",
     "text": [
      "/Users/shenxibo/anaconda3/lib/python3.6/site-packages/urllib3/connectionpool.py:858: InsecureRequestWarning: Unverified HTTPS request is being made. Adding certificate verification is strongly advised. See: https://urllib3.readthedocs.io/en/latest/advanced-usage.html#ssl-warnings\n",
      "  InsecureRequestWarning)\n"
     ]
    },
    {
     "name": "stdout",
     "output_type": "stream",
     "text": [
      "69 ---  71 ---  {'Date': 'Fri, 23 Nov 2018 06:53:33 GMT', 'Content-Type': 'text/html;charset=utf-8', 'Transfer-Encoding': 'chunked', 'Connection': 'keep-alive', 'Vary': 'Accept-Encoding', 'X-Powered-By': 'PHP/5.6.14', 'Access-Control-Allow-Origin': '*', 'Access-Control-Allow-Headers': 'X-Requested-With', 'Access-Control-Allow-Methods': 'GET,POST,OPTIONS', 'Content-Encoding': 'gzip'}\n"
     ]
    },
    {
     "name": "stderr",
     "output_type": "stream",
     "text": [
      "/Users/shenxibo/anaconda3/lib/python3.6/site-packages/urllib3/connectionpool.py:858: InsecureRequestWarning: Unverified HTTPS request is being made. Adding certificate verification is strongly advised. See: https://urllib3.readthedocs.io/en/latest/advanced-usage.html#ssl-warnings\n",
      "  InsecureRequestWarning)\n"
     ]
    },
    {
     "name": "stdout",
     "output_type": "stream",
     "text": [
      "70 ---  72 ---  {'Date': 'Fri, 23 Nov 2018 06:53:34 GMT', 'Content-Type': 'text/html;charset=utf-8', 'Transfer-Encoding': 'chunked', 'Connection': 'keep-alive', 'Vary': 'Accept-Encoding', 'X-Powered-By': 'PHP/5.6.14', 'Access-Control-Allow-Origin': '*', 'Access-Control-Allow-Headers': 'X-Requested-With', 'Access-Control-Allow-Methods': 'GET,POST,OPTIONS', 'Content-Encoding': 'gzip'}\n"
     ]
    },
    {
     "name": "stderr",
     "output_type": "stream",
     "text": [
      "/Users/shenxibo/anaconda3/lib/python3.6/site-packages/urllib3/connectionpool.py:858: InsecureRequestWarning: Unverified HTTPS request is being made. Adding certificate verification is strongly advised. See: https://urllib3.readthedocs.io/en/latest/advanced-usage.html#ssl-warnings\n",
      "  InsecureRequestWarning)\n"
     ]
    },
    {
     "name": "stdout",
     "output_type": "stream",
     "text": [
      "71 ---  73 ---  {'Date': 'Fri, 23 Nov 2018 06:53:34 GMT', 'Content-Type': 'text/html;charset=utf-8', 'Transfer-Encoding': 'chunked', 'Connection': 'keep-alive', 'Vary': 'Accept-Encoding', 'X-Powered-By': 'PHP/5.6.14', 'Access-Control-Allow-Origin': '*', 'Access-Control-Allow-Headers': 'X-Requested-With', 'Access-Control-Allow-Methods': 'GET,POST,OPTIONS', 'Content-Encoding': 'gzip'}\n"
     ]
    },
    {
     "name": "stderr",
     "output_type": "stream",
     "text": [
      "/Users/shenxibo/anaconda3/lib/python3.6/site-packages/urllib3/connectionpool.py:858: InsecureRequestWarning: Unverified HTTPS request is being made. Adding certificate verification is strongly advised. See: https://urllib3.readthedocs.io/en/latest/advanced-usage.html#ssl-warnings\n",
      "  InsecureRequestWarning)\n"
     ]
    },
    {
     "name": "stdout",
     "output_type": "stream",
     "text": [
      "72 ---  74 ---  {'Date': 'Fri, 23 Nov 2018 06:53:34 GMT', 'Content-Type': 'text/html;charset=utf-8', 'Transfer-Encoding': 'chunked', 'Connection': 'keep-alive', 'Vary': 'Accept-Encoding', 'X-Powered-By': 'PHP/5.6.14', 'Access-Control-Allow-Origin': '*', 'Access-Control-Allow-Headers': 'X-Requested-With', 'Access-Control-Allow-Methods': 'GET,POST,OPTIONS', 'Content-Encoding': 'gzip'}\n"
     ]
    },
    {
     "name": "stderr",
     "output_type": "stream",
     "text": [
      "/Users/shenxibo/anaconda3/lib/python3.6/site-packages/urllib3/connectionpool.py:858: InsecureRequestWarning: Unverified HTTPS request is being made. Adding certificate verification is strongly advised. See: https://urllib3.readthedocs.io/en/latest/advanced-usage.html#ssl-warnings\n",
      "  InsecureRequestWarning)\n"
     ]
    },
    {
     "name": "stdout",
     "output_type": "stream",
     "text": [
      "73 ---  75 ---  {'Date': 'Fri, 23 Nov 2018 06:53:35 GMT', 'Content-Type': 'text/html;charset=utf-8', 'Transfer-Encoding': 'chunked', 'Connection': 'keep-alive', 'Vary': 'Accept-Encoding', 'X-Powered-By': 'PHP/5.6.14', 'Access-Control-Allow-Origin': '*', 'Access-Control-Allow-Headers': 'X-Requested-With', 'Access-Control-Allow-Methods': 'GET,POST,OPTIONS', 'Content-Encoding': 'gzip'}\n"
     ]
    },
    {
     "name": "stderr",
     "output_type": "stream",
     "text": [
      "/Users/shenxibo/anaconda3/lib/python3.6/site-packages/urllib3/connectionpool.py:858: InsecureRequestWarning: Unverified HTTPS request is being made. Adding certificate verification is strongly advised. See: https://urllib3.readthedocs.io/en/latest/advanced-usage.html#ssl-warnings\n",
      "  InsecureRequestWarning)\n"
     ]
    },
    {
     "name": "stdout",
     "output_type": "stream",
     "text": [
      "74 ---  76 ---  {'Date': 'Fri, 23 Nov 2018 06:53:35 GMT', 'Content-Type': 'text/html;charset=utf-8', 'Transfer-Encoding': 'chunked', 'Connection': 'keep-alive', 'Vary': 'Accept-Encoding', 'X-Powered-By': 'PHP/5.6.14', 'Access-Control-Allow-Origin': '*', 'Access-Control-Allow-Headers': 'X-Requested-With', 'Access-Control-Allow-Methods': 'GET,POST,OPTIONS', 'Content-Encoding': 'gzip'}\n"
     ]
    },
    {
     "name": "stderr",
     "output_type": "stream",
     "text": [
      "/Users/shenxibo/anaconda3/lib/python3.6/site-packages/urllib3/connectionpool.py:858: InsecureRequestWarning: Unverified HTTPS request is being made. Adding certificate verification is strongly advised. See: https://urllib3.readthedocs.io/en/latest/advanced-usage.html#ssl-warnings\n",
      "  InsecureRequestWarning)\n"
     ]
    },
    {
     "name": "stdout",
     "output_type": "stream",
     "text": [
      "75 ---  77 ---  {'Date': 'Fri, 23 Nov 2018 06:53:36 GMT', 'Content-Type': 'text/html;charset=utf-8', 'Transfer-Encoding': 'chunked', 'Connection': 'keep-alive', 'Vary': 'Accept-Encoding', 'X-Powered-By': 'PHP/5.6.14', 'Access-Control-Allow-Origin': '*', 'Access-Control-Allow-Headers': 'X-Requested-With', 'Access-Control-Allow-Methods': 'GET,POST,OPTIONS', 'Content-Encoding': 'gzip'}\n"
     ]
    },
    {
     "name": "stderr",
     "output_type": "stream",
     "text": [
      "/Users/shenxibo/anaconda3/lib/python3.6/site-packages/urllib3/connectionpool.py:858: InsecureRequestWarning: Unverified HTTPS request is being made. Adding certificate verification is strongly advised. See: https://urllib3.readthedocs.io/en/latest/advanced-usage.html#ssl-warnings\n",
      "  InsecureRequestWarning)\n"
     ]
    },
    {
     "name": "stdout",
     "output_type": "stream",
     "text": [
      "76 ---  78 ---  {'Date': 'Fri, 23 Nov 2018 06:53:36 GMT', 'Content-Type': 'text/html;charset=utf-8', 'Transfer-Encoding': 'chunked', 'Connection': 'keep-alive', 'Vary': 'Accept-Encoding', 'X-Powered-By': 'PHP/5.6.14', 'Access-Control-Allow-Origin': '*', 'Access-Control-Allow-Headers': 'X-Requested-With', 'Access-Control-Allow-Methods': 'GET,POST,OPTIONS', 'Content-Encoding': 'gzip'}\n"
     ]
    },
    {
     "name": "stderr",
     "output_type": "stream",
     "text": [
      "/Users/shenxibo/anaconda3/lib/python3.6/site-packages/urllib3/connectionpool.py:858: InsecureRequestWarning: Unverified HTTPS request is being made. Adding certificate verification is strongly advised. See: https://urllib3.readthedocs.io/en/latest/advanced-usage.html#ssl-warnings\n",
      "  InsecureRequestWarning)\n"
     ]
    },
    {
     "name": "stdout",
     "output_type": "stream",
     "text": [
      "77 ---  79 ---  {'Date': 'Fri, 23 Nov 2018 06:53:36 GMT', 'Content-Type': 'text/html;charset=utf-8', 'Transfer-Encoding': 'chunked', 'Connection': 'keep-alive', 'Vary': 'Accept-Encoding', 'X-Powered-By': 'PHP/5.6.14', 'Access-Control-Allow-Origin': '*', 'Access-Control-Allow-Headers': 'X-Requested-With', 'Access-Control-Allow-Methods': 'GET,POST,OPTIONS', 'Content-Encoding': 'gzip'}\n"
     ]
    },
    {
     "name": "stderr",
     "output_type": "stream",
     "text": [
      "/Users/shenxibo/anaconda3/lib/python3.6/site-packages/urllib3/connectionpool.py:858: InsecureRequestWarning: Unverified HTTPS request is being made. Adding certificate verification is strongly advised. See: https://urllib3.readthedocs.io/en/latest/advanced-usage.html#ssl-warnings\n",
      "  InsecureRequestWarning)\n"
     ]
    },
    {
     "name": "stdout",
     "output_type": "stream",
     "text": [
      "78 ---  80 ---  {'Date': 'Fri, 23 Nov 2018 06:53:37 GMT', 'Content-Type': 'text/html;charset=utf-8', 'Transfer-Encoding': 'chunked', 'Connection': 'keep-alive', 'Vary': 'Accept-Encoding', 'X-Powered-By': 'PHP/5.6.14', 'Access-Control-Allow-Origin': '*', 'Access-Control-Allow-Headers': 'X-Requested-With', 'Access-Control-Allow-Methods': 'GET,POST,OPTIONS', 'Content-Encoding': 'gzip'}\n"
     ]
    },
    {
     "name": "stderr",
     "output_type": "stream",
     "text": [
      "/Users/shenxibo/anaconda3/lib/python3.6/site-packages/urllib3/connectionpool.py:858: InsecureRequestWarning: Unverified HTTPS request is being made. Adding certificate verification is strongly advised. See: https://urllib3.readthedocs.io/en/latest/advanced-usage.html#ssl-warnings\n",
      "  InsecureRequestWarning)\n"
     ]
    },
    {
     "name": "stdout",
     "output_type": "stream",
     "text": [
      "79 ---  81 ---  {'Date': 'Fri, 23 Nov 2018 06:53:38 GMT', 'Content-Type': 'text/html;charset=utf-8', 'Transfer-Encoding': 'chunked', 'Connection': 'keep-alive', 'Vary': 'Accept-Encoding', 'X-Powered-By': 'PHP/5.6.14', 'Access-Control-Allow-Origin': '*', 'Access-Control-Allow-Headers': 'X-Requested-With', 'Access-Control-Allow-Methods': 'GET,POST,OPTIONS', 'Content-Encoding': 'gzip'}\n",
      "80 ---  82 ---  {'Date': 'Fri, 23 Nov 2018 06:53:38 GMT', 'Content-Type': 'text/html;charset=utf-8', 'Transfer-Encoding': 'chunked', 'Connection': 'keep-alive', 'Vary': 'Accept-Encoding', 'X-Powered-By': 'PHP/5.6.14', 'Access-Control-Allow-Origin': '*', 'Access-Control-Allow-Headers': 'X-Requested-With', 'Access-Control-Allow-Methods': 'GET,POST,OPTIONS', 'Content-Encoding': 'gzip'}\n"
     ]
    },
    {
     "name": "stderr",
     "output_type": "stream",
     "text": [
      "/Users/shenxibo/anaconda3/lib/python3.6/site-packages/urllib3/connectionpool.py:858: InsecureRequestWarning: Unverified HTTPS request is being made. Adding certificate verification is strongly advised. See: https://urllib3.readthedocs.io/en/latest/advanced-usage.html#ssl-warnings\n",
      "  InsecureRequestWarning)\n",
      "/Users/shenxibo/anaconda3/lib/python3.6/site-packages/urllib3/connectionpool.py:858: InsecureRequestWarning: Unverified HTTPS request is being made. Adding certificate verification is strongly advised. See: https://urllib3.readthedocs.io/en/latest/advanced-usage.html#ssl-warnings\n",
      "  InsecureRequestWarning)\n"
     ]
    },
    {
     "name": "stdout",
     "output_type": "stream",
     "text": [
      "81 ---  83 ---  {'Date': 'Fri, 23 Nov 2018 06:53:38 GMT', 'Content-Type': 'text/html;charset=utf-8', 'Transfer-Encoding': 'chunked', 'Connection': 'keep-alive', 'Vary': 'Accept-Encoding', 'X-Powered-By': 'PHP/5.6.14', 'Access-Control-Allow-Origin': '*', 'Access-Control-Allow-Headers': 'X-Requested-With', 'Access-Control-Allow-Methods': 'GET,POST,OPTIONS', 'Content-Encoding': 'gzip'}\n"
     ]
    },
    {
     "name": "stderr",
     "output_type": "stream",
     "text": [
      "/Users/shenxibo/anaconda3/lib/python3.6/site-packages/urllib3/connectionpool.py:858: InsecureRequestWarning: Unverified HTTPS request is being made. Adding certificate verification is strongly advised. See: https://urllib3.readthedocs.io/en/latest/advanced-usage.html#ssl-warnings\n",
      "  InsecureRequestWarning)\n"
     ]
    },
    {
     "name": "stdout",
     "output_type": "stream",
     "text": [
      "82 ---  84 ---  {'Date': 'Fri, 23 Nov 2018 06:53:39 GMT', 'Content-Type': 'text/html;charset=utf-8', 'Transfer-Encoding': 'chunked', 'Connection': 'keep-alive', 'Vary': 'Accept-Encoding', 'X-Powered-By': 'PHP/5.6.14', 'Access-Control-Allow-Origin': '*', 'Access-Control-Allow-Headers': 'X-Requested-With', 'Access-Control-Allow-Methods': 'GET,POST,OPTIONS', 'Content-Encoding': 'gzip'}\n"
     ]
    },
    {
     "name": "stderr",
     "output_type": "stream",
     "text": [
      "/Users/shenxibo/anaconda3/lib/python3.6/site-packages/urllib3/connectionpool.py:858: InsecureRequestWarning: Unverified HTTPS request is being made. Adding certificate verification is strongly advised. See: https://urllib3.readthedocs.io/en/latest/advanced-usage.html#ssl-warnings\n",
      "  InsecureRequestWarning)\n"
     ]
    },
    {
     "name": "stdout",
     "output_type": "stream",
     "text": [
      "83 ---  85 ---  {'Date': 'Fri, 23 Nov 2018 06:53:39 GMT', 'Content-Type': 'text/html;charset=utf-8', 'Transfer-Encoding': 'chunked', 'Connection': 'keep-alive', 'Vary': 'Accept-Encoding', 'X-Powered-By': 'PHP/5.6.14', 'Access-Control-Allow-Origin': '*', 'Access-Control-Allow-Headers': 'X-Requested-With', 'Access-Control-Allow-Methods': 'GET,POST,OPTIONS', 'Content-Encoding': 'gzip'}\n"
     ]
    },
    {
     "name": "stderr",
     "output_type": "stream",
     "text": [
      "/Users/shenxibo/anaconda3/lib/python3.6/site-packages/urllib3/connectionpool.py:858: InsecureRequestWarning: Unverified HTTPS request is being made. Adding certificate verification is strongly advised. See: https://urllib3.readthedocs.io/en/latest/advanced-usage.html#ssl-warnings\n",
      "  InsecureRequestWarning)\n"
     ]
    },
    {
     "name": "stdout",
     "output_type": "stream",
     "text": [
      "84 ---  86 ---  {'Date': 'Fri, 23 Nov 2018 06:53:39 GMT', 'Content-Type': 'text/html;charset=utf-8', 'Transfer-Encoding': 'chunked', 'Connection': 'keep-alive', 'Vary': 'Accept-Encoding', 'X-Powered-By': 'PHP/5.6.14', 'Access-Control-Allow-Origin': '*', 'Access-Control-Allow-Headers': 'X-Requested-With', 'Access-Control-Allow-Methods': 'GET,POST,OPTIONS', 'Content-Encoding': 'gzip'}\n"
     ]
    },
    {
     "name": "stderr",
     "output_type": "stream",
     "text": [
      "/Users/shenxibo/anaconda3/lib/python3.6/site-packages/urllib3/connectionpool.py:858: InsecureRequestWarning: Unverified HTTPS request is being made. Adding certificate verification is strongly advised. See: https://urllib3.readthedocs.io/en/latest/advanced-usage.html#ssl-warnings\n",
      "  InsecureRequestWarning)\n"
     ]
    },
    {
     "name": "stdout",
     "output_type": "stream",
     "text": [
      "85 ---  87 ---  {'Date': 'Fri, 23 Nov 2018 06:53:40 GMT', 'Content-Type': 'text/html;charset=utf-8', 'Transfer-Encoding': 'chunked', 'Connection': 'keep-alive', 'Vary': 'Accept-Encoding', 'X-Powered-By': 'PHP/5.6.14', 'Access-Control-Allow-Origin': '*', 'Access-Control-Allow-Headers': 'X-Requested-With', 'Access-Control-Allow-Methods': 'GET,POST,OPTIONS', 'Content-Encoding': 'gzip'}\n"
     ]
    },
    {
     "name": "stderr",
     "output_type": "stream",
     "text": [
      "/Users/shenxibo/anaconda3/lib/python3.6/site-packages/urllib3/connectionpool.py:858: InsecureRequestWarning: Unverified HTTPS request is being made. Adding certificate verification is strongly advised. See: https://urllib3.readthedocs.io/en/latest/advanced-usage.html#ssl-warnings\n",
      "  InsecureRequestWarning)\n"
     ]
    },
    {
     "name": "stdout",
     "output_type": "stream",
     "text": [
      "86 ---  88 ---  {'Date': 'Fri, 23 Nov 2018 06:53:40 GMT', 'Content-Type': 'text/html;charset=utf-8', 'Transfer-Encoding': 'chunked', 'Connection': 'keep-alive', 'Vary': 'Accept-Encoding', 'X-Powered-By': 'PHP/5.6.14', 'Access-Control-Allow-Origin': '*', 'Access-Control-Allow-Headers': 'X-Requested-With', 'Access-Control-Allow-Methods': 'GET,POST,OPTIONS', 'Content-Encoding': 'gzip'}\n"
     ]
    },
    {
     "name": "stderr",
     "output_type": "stream",
     "text": [
      "/Users/shenxibo/anaconda3/lib/python3.6/site-packages/urllib3/connectionpool.py:858: InsecureRequestWarning: Unverified HTTPS request is being made. Adding certificate verification is strongly advised. See: https://urllib3.readthedocs.io/en/latest/advanced-usage.html#ssl-warnings\n",
      "  InsecureRequestWarning)\n"
     ]
    },
    {
     "name": "stdout",
     "output_type": "stream",
     "text": [
      "87 ---  89 ---  {'Date': 'Fri, 23 Nov 2018 06:53:40 GMT', 'Content-Type': 'text/html;charset=utf-8', 'Transfer-Encoding': 'chunked', 'Connection': 'keep-alive', 'Vary': 'Accept-Encoding', 'X-Powered-By': 'PHP/5.6.14', 'Access-Control-Allow-Origin': '*', 'Access-Control-Allow-Headers': 'X-Requested-With', 'Access-Control-Allow-Methods': 'GET,POST,OPTIONS', 'Content-Encoding': 'gzip'}\n"
     ]
    },
    {
     "name": "stderr",
     "output_type": "stream",
     "text": [
      "/Users/shenxibo/anaconda3/lib/python3.6/site-packages/urllib3/connectionpool.py:858: InsecureRequestWarning: Unverified HTTPS request is being made. Adding certificate verification is strongly advised. See: https://urllib3.readthedocs.io/en/latest/advanced-usage.html#ssl-warnings\n",
      "  InsecureRequestWarning)\n"
     ]
    },
    {
     "name": "stdout",
     "output_type": "stream",
     "text": [
      "88 ---  90 ---  {'Date': 'Fri, 23 Nov 2018 06:53:41 GMT', 'Content-Type': 'text/html;charset=utf-8', 'Transfer-Encoding': 'chunked', 'Connection': 'keep-alive', 'Vary': 'Accept-Encoding', 'X-Powered-By': 'PHP/5.6.14', 'Access-Control-Allow-Origin': '*', 'Access-Control-Allow-Headers': 'X-Requested-With', 'Access-Control-Allow-Methods': 'GET,POST,OPTIONS', 'Content-Encoding': 'gzip'}\n"
     ]
    },
    {
     "name": "stderr",
     "output_type": "stream",
     "text": [
      "/Users/shenxibo/anaconda3/lib/python3.6/site-packages/urllib3/connectionpool.py:858: InsecureRequestWarning: Unverified HTTPS request is being made. Adding certificate verification is strongly advised. See: https://urllib3.readthedocs.io/en/latest/advanced-usage.html#ssl-warnings\n",
      "  InsecureRequestWarning)\n",
      "/Users/shenxibo/anaconda3/lib/python3.6/site-packages/urllib3/connectionpool.py:858: InsecureRequestWarning: Unverified HTTPS request is being made. Adding certificate verification is strongly advised. See: https://urllib3.readthedocs.io/en/latest/advanced-usage.html#ssl-warnings\n",
      "  InsecureRequestWarning)\n"
     ]
    },
    {
     "name": "stdout",
     "output_type": "stream",
     "text": [
      "89 ---  91 ---  {'Date': 'Fri, 23 Nov 2018 06:53:41 GMT', 'Content-Type': 'text/html;charset=utf-8', 'Transfer-Encoding': 'chunked', 'Connection': 'keep-alive', 'Vary': 'Accept-Encoding', 'X-Powered-By': 'PHP/5.6.14', 'Access-Control-Allow-Origin': '*', 'Access-Control-Allow-Headers': 'X-Requested-With', 'Access-Control-Allow-Methods': 'GET,POST,OPTIONS', 'Content-Encoding': 'gzip'}\n",
      "90 ---  92 ---  {'Date': 'Fri, 23 Nov 2018 06:53:42 GMT', 'Content-Type': 'text/html;charset=utf-8', 'Transfer-Encoding': 'chunked', 'Connection': 'keep-alive', 'Vary': 'Accept-Encoding', 'X-Powered-By': 'PHP/5.6.14', 'Access-Control-Allow-Origin': '*', 'Access-Control-Allow-Headers': 'X-Requested-With', 'Access-Control-Allow-Methods': 'GET,POST,OPTIONS', 'Content-Encoding': 'gzip'}\n"
     ]
    },
    {
     "name": "stderr",
     "output_type": "stream",
     "text": [
      "/Users/shenxibo/anaconda3/lib/python3.6/site-packages/urllib3/connectionpool.py:858: InsecureRequestWarning: Unverified HTTPS request is being made. Adding certificate verification is strongly advised. See: https://urllib3.readthedocs.io/en/latest/advanced-usage.html#ssl-warnings\n",
      "  InsecureRequestWarning)\n"
     ]
    },
    {
     "name": "stdout",
     "output_type": "stream",
     "text": [
      "91 ---  93 ---  {'Date': 'Fri, 23 Nov 2018 06:53:42 GMT', 'Content-Type': 'text/html;charset=utf-8', 'Transfer-Encoding': 'chunked', 'Connection': 'keep-alive', 'Vary': 'Accept-Encoding', 'X-Powered-By': 'PHP/5.6.14', 'Access-Control-Allow-Origin': '*', 'Access-Control-Allow-Headers': 'X-Requested-With', 'Access-Control-Allow-Methods': 'GET,POST,OPTIONS', 'Content-Encoding': 'gzip'}\n"
     ]
    },
    {
     "name": "stderr",
     "output_type": "stream",
     "text": [
      "/Users/shenxibo/anaconda3/lib/python3.6/site-packages/urllib3/connectionpool.py:858: InsecureRequestWarning: Unverified HTTPS request is being made. Adding certificate verification is strongly advised. See: https://urllib3.readthedocs.io/en/latest/advanced-usage.html#ssl-warnings\n",
      "  InsecureRequestWarning)\n"
     ]
    },
    {
     "name": "stdout",
     "output_type": "stream",
     "text": [
      "92 ---  94 ---  {'Date': 'Fri, 23 Nov 2018 06:53:42 GMT', 'Content-Type': 'text/html;charset=utf-8', 'Transfer-Encoding': 'chunked', 'Connection': 'keep-alive', 'Vary': 'Accept-Encoding', 'X-Powered-By': 'PHP/5.6.14', 'Access-Control-Allow-Origin': '*', 'Access-Control-Allow-Headers': 'X-Requested-With', 'Access-Control-Allow-Methods': 'GET,POST,OPTIONS', 'Content-Encoding': 'gzip'}\n"
     ]
    },
    {
     "name": "stderr",
     "output_type": "stream",
     "text": [
      "/Users/shenxibo/anaconda3/lib/python3.6/site-packages/urllib3/connectionpool.py:858: InsecureRequestWarning: Unverified HTTPS request is being made. Adding certificate verification is strongly advised. See: https://urllib3.readthedocs.io/en/latest/advanced-usage.html#ssl-warnings\n",
      "  InsecureRequestWarning)\n"
     ]
    },
    {
     "name": "stdout",
     "output_type": "stream",
     "text": [
      "93 ---  95 ---  {'Date': 'Fri, 23 Nov 2018 06:53:43 GMT', 'Content-Type': 'text/html;charset=utf-8', 'Transfer-Encoding': 'chunked', 'Connection': 'keep-alive', 'Vary': 'Accept-Encoding', 'X-Powered-By': 'PHP/5.6.14', 'Access-Control-Allow-Origin': '*', 'Access-Control-Allow-Headers': 'X-Requested-With', 'Access-Control-Allow-Methods': 'GET,POST,OPTIONS', 'Content-Encoding': 'gzip'}\n"
     ]
    },
    {
     "name": "stderr",
     "output_type": "stream",
     "text": [
      "/Users/shenxibo/anaconda3/lib/python3.6/site-packages/urllib3/connectionpool.py:858: InsecureRequestWarning: Unverified HTTPS request is being made. Adding certificate verification is strongly advised. See: https://urllib3.readthedocs.io/en/latest/advanced-usage.html#ssl-warnings\n",
      "  InsecureRequestWarning)\n"
     ]
    },
    {
     "name": "stdout",
     "output_type": "stream",
     "text": [
      "94 ---  96 ---  {'Date': 'Fri, 23 Nov 2018 06:53:43 GMT', 'Content-Type': 'text/html;charset=utf-8', 'Transfer-Encoding': 'chunked', 'Connection': 'keep-alive', 'Vary': 'Accept-Encoding', 'X-Powered-By': 'PHP/5.6.14', 'Access-Control-Allow-Origin': '*', 'Access-Control-Allow-Headers': 'X-Requested-With', 'Access-Control-Allow-Methods': 'GET,POST,OPTIONS', 'Content-Encoding': 'gzip'}\n"
     ]
    },
    {
     "name": "stderr",
     "output_type": "stream",
     "text": [
      "/Users/shenxibo/anaconda3/lib/python3.6/site-packages/urllib3/connectionpool.py:858: InsecureRequestWarning: Unverified HTTPS request is being made. Adding certificate verification is strongly advised. See: https://urllib3.readthedocs.io/en/latest/advanced-usage.html#ssl-warnings\n",
      "  InsecureRequestWarning)\n"
     ]
    },
    {
     "name": "stdout",
     "output_type": "stream",
     "text": [
      "95 ---  97 ---  {'Date': 'Fri, 23 Nov 2018 06:53:43 GMT', 'Content-Type': 'text/html;charset=utf-8', 'Transfer-Encoding': 'chunked', 'Connection': 'keep-alive', 'Vary': 'Accept-Encoding', 'X-Powered-By': 'PHP/5.6.14', 'Access-Control-Allow-Origin': '*', 'Access-Control-Allow-Headers': 'X-Requested-With', 'Access-Control-Allow-Methods': 'GET,POST,OPTIONS', 'Content-Encoding': 'gzip'}\n"
     ]
    },
    {
     "name": "stderr",
     "output_type": "stream",
     "text": [
      "/Users/shenxibo/anaconda3/lib/python3.6/site-packages/urllib3/connectionpool.py:858: InsecureRequestWarning: Unverified HTTPS request is being made. Adding certificate verification is strongly advised. See: https://urllib3.readthedocs.io/en/latest/advanced-usage.html#ssl-warnings\n",
      "  InsecureRequestWarning)\n"
     ]
    },
    {
     "name": "stdout",
     "output_type": "stream",
     "text": [
      "96 ---  98 ---  {'Date': 'Fri, 23 Nov 2018 06:53:43 GMT', 'Content-Type': 'text/html;charset=utf-8', 'Transfer-Encoding': 'chunked', 'Connection': 'keep-alive', 'Vary': 'Accept-Encoding', 'X-Powered-By': 'PHP/5.6.14', 'Access-Control-Allow-Origin': '*', 'Access-Control-Allow-Headers': 'X-Requested-With', 'Access-Control-Allow-Methods': 'GET,POST,OPTIONS', 'Content-Encoding': 'gzip'}\n"
     ]
    },
    {
     "name": "stderr",
     "output_type": "stream",
     "text": [
      "/Users/shenxibo/anaconda3/lib/python3.6/site-packages/urllib3/connectionpool.py:858: InsecureRequestWarning: Unverified HTTPS request is being made. Adding certificate verification is strongly advised. See: https://urllib3.readthedocs.io/en/latest/advanced-usage.html#ssl-warnings\n",
      "  InsecureRequestWarning)\n"
     ]
    },
    {
     "name": "stdout",
     "output_type": "stream",
     "text": [
      "97 ---  99 ---  {'Date': 'Fri, 23 Nov 2018 06:53:44 GMT', 'Content-Type': 'text/html;charset=utf-8', 'Transfer-Encoding': 'chunked', 'Connection': 'keep-alive', 'Vary': 'Accept-Encoding', 'X-Powered-By': 'PHP/5.6.14', 'Access-Control-Allow-Origin': '*', 'Access-Control-Allow-Headers': 'X-Requested-With', 'Access-Control-Allow-Methods': 'GET,POST,OPTIONS', 'Content-Encoding': 'gzip'}\n"
     ]
    },
    {
     "name": "stderr",
     "output_type": "stream",
     "text": [
      "/Users/shenxibo/anaconda3/lib/python3.6/site-packages/urllib3/connectionpool.py:858: InsecureRequestWarning: Unverified HTTPS request is being made. Adding certificate verification is strongly advised. See: https://urllib3.readthedocs.io/en/latest/advanced-usage.html#ssl-warnings\n",
      "  InsecureRequestWarning)\n",
      "/Users/shenxibo/anaconda3/lib/python3.6/site-packages/urllib3/connectionpool.py:858: InsecureRequestWarning: Unverified HTTPS request is being made. Adding certificate verification is strongly advised. See: https://urllib3.readthedocs.io/en/latest/advanced-usage.html#ssl-warnings\n",
      "  InsecureRequestWarning)\n"
     ]
    },
    {
     "name": "stdout",
     "output_type": "stream",
     "text": [
      "98 ---  100 ---  {'Date': 'Fri, 23 Nov 2018 06:53:44 GMT', 'Content-Type': 'text/html;charset=utf-8', 'Transfer-Encoding': 'chunked', 'Connection': 'keep-alive', 'Vary': 'Accept-Encoding', 'X-Powered-By': 'PHP/5.6.14', 'Access-Control-Allow-Origin': '*', 'Access-Control-Allow-Headers': 'X-Requested-With', 'Access-Control-Allow-Methods': 'GET,POST,OPTIONS', 'Content-Encoding': 'gzip'}\n",
      "99 ---  101 ---  {'Date': 'Fri, 23 Nov 2018 06:53:45 GMT', 'Content-Type': 'text/html;charset=utf-8', 'Transfer-Encoding': 'chunked', 'Connection': 'keep-alive', 'Vary': 'Accept-Encoding', 'X-Powered-By': 'PHP/5.6.14', 'Access-Control-Allow-Origin': '*', 'Access-Control-Allow-Headers': 'X-Requested-With', 'Access-Control-Allow-Methods': 'GET,POST,OPTIONS', 'Content-Encoding': 'gzip'}\n"
     ]
    },
    {
     "name": "stderr",
     "output_type": "stream",
     "text": [
      "/Users/shenxibo/anaconda3/lib/python3.6/site-packages/urllib3/connectionpool.py:858: InsecureRequestWarning: Unverified HTTPS request is being made. Adding certificate verification is strongly advised. See: https://urllib3.readthedocs.io/en/latest/advanced-usage.html#ssl-warnings\n",
      "  InsecureRequestWarning)\n"
     ]
    },
    {
     "name": "stdout",
     "output_type": "stream",
     "text": [
      "100 ---  102 ---  {'Date': 'Fri, 23 Nov 2018 06:53:45 GMT', 'Content-Type': 'text/html;charset=utf-8', 'Transfer-Encoding': 'chunked', 'Connection': 'keep-alive', 'Vary': 'Accept-Encoding', 'X-Powered-By': 'PHP/5.6.14', 'Access-Control-Allow-Origin': '*', 'Access-Control-Allow-Headers': 'X-Requested-With', 'Access-Control-Allow-Methods': 'GET,POST,OPTIONS', 'Content-Encoding': 'gzip'}\n"
     ]
    },
    {
     "name": "stderr",
     "output_type": "stream",
     "text": [
      "/Users/shenxibo/anaconda3/lib/python3.6/site-packages/urllib3/connectionpool.py:858: InsecureRequestWarning: Unverified HTTPS request is being made. Adding certificate verification is strongly advised. See: https://urllib3.readthedocs.io/en/latest/advanced-usage.html#ssl-warnings\n",
      "  InsecureRequestWarning)\n"
     ]
    },
    {
     "name": "stdout",
     "output_type": "stream",
     "text": [
      "101 ---  103 ---  {'Date': 'Fri, 23 Nov 2018 06:53:45 GMT', 'Content-Type': 'text/html;charset=utf-8', 'Transfer-Encoding': 'chunked', 'Connection': 'keep-alive', 'Vary': 'Accept-Encoding', 'X-Powered-By': 'PHP/5.6.14', 'Access-Control-Allow-Origin': '*', 'Access-Control-Allow-Headers': 'X-Requested-With', 'Access-Control-Allow-Methods': 'GET,POST,OPTIONS', 'Content-Encoding': 'gzip'}\n"
     ]
    },
    {
     "name": "stderr",
     "output_type": "stream",
     "text": [
      "/Users/shenxibo/anaconda3/lib/python3.6/site-packages/urllib3/connectionpool.py:858: InsecureRequestWarning: Unverified HTTPS request is being made. Adding certificate verification is strongly advised. See: https://urllib3.readthedocs.io/en/latest/advanced-usage.html#ssl-warnings\n",
      "  InsecureRequestWarning)\n"
     ]
    },
    {
     "name": "stdout",
     "output_type": "stream",
     "text": [
      "102 ---  104 ---  {'Date': 'Fri, 23 Nov 2018 06:53:46 GMT', 'Content-Type': 'text/html;charset=utf-8', 'Transfer-Encoding': 'chunked', 'Connection': 'keep-alive', 'Vary': 'Accept-Encoding', 'X-Powered-By': 'PHP/5.6.14', 'Access-Control-Allow-Origin': '*', 'Access-Control-Allow-Headers': 'X-Requested-With', 'Access-Control-Allow-Methods': 'GET,POST,OPTIONS', 'Content-Encoding': 'gzip'}\n",
      "103 ---  105 ---  {'Date': 'Fri, 23 Nov 2018 06:53:46 GMT', 'Content-Type': 'text/html;charset=utf-8', 'Transfer-Encoding': 'chunked', 'Connection': 'keep-alive', 'Vary': 'Accept-Encoding', 'X-Powered-By': 'PHP/5.6.14', 'Access-Control-Allow-Origin': '*', 'Access-Control-Allow-Headers': 'X-Requested-With', 'Access-Control-Allow-Methods': 'GET,POST,OPTIONS', 'Content-Encoding': 'gzip'}\n"
     ]
    },
    {
     "name": "stderr",
     "output_type": "stream",
     "text": [
      "/Users/shenxibo/anaconda3/lib/python3.6/site-packages/urllib3/connectionpool.py:858: InsecureRequestWarning: Unverified HTTPS request is being made. Adding certificate verification is strongly advised. See: https://urllib3.readthedocs.io/en/latest/advanced-usage.html#ssl-warnings\n",
      "  InsecureRequestWarning)\n",
      "/Users/shenxibo/anaconda3/lib/python3.6/site-packages/urllib3/connectionpool.py:858: InsecureRequestWarning: Unverified HTTPS request is being made. Adding certificate verification is strongly advised. See: https://urllib3.readthedocs.io/en/latest/advanced-usage.html#ssl-warnings\n",
      "  InsecureRequestWarning)\n"
     ]
    },
    {
     "name": "stdout",
     "output_type": "stream",
     "text": [
      "104 ---  106 ---  {'Date': 'Fri, 23 Nov 2018 06:53:46 GMT', 'Content-Type': 'text/html;charset=utf-8', 'Transfer-Encoding': 'chunked', 'Connection': 'keep-alive', 'Vary': 'Accept-Encoding', 'X-Powered-By': 'PHP/5.6.14', 'Access-Control-Allow-Origin': '*', 'Access-Control-Allow-Headers': 'X-Requested-With', 'Access-Control-Allow-Methods': 'GET,POST,OPTIONS', 'Content-Encoding': 'gzip'}\n",
      "105 ---  107 ---  {'Date': 'Fri, 23 Nov 2018 06:53:46 GMT', 'Content-Type': 'text/html;charset=utf-8', 'Transfer-Encoding': 'chunked', 'Connection': 'keep-alive', 'Vary': 'Accept-Encoding', 'X-Powered-By': 'PHP/5.6.14', 'Access-Control-Allow-Origin': '*', 'Access-Control-Allow-Headers': 'X-Requested-With', 'Access-Control-Allow-Methods': 'GET,POST,OPTIONS', 'Content-Encoding': 'gzip'}\n"
     ]
    },
    {
     "name": "stderr",
     "output_type": "stream",
     "text": [
      "/Users/shenxibo/anaconda3/lib/python3.6/site-packages/urllib3/connectionpool.py:858: InsecureRequestWarning: Unverified HTTPS request is being made. Adding certificate verification is strongly advised. See: https://urllib3.readthedocs.io/en/latest/advanced-usage.html#ssl-warnings\n",
      "  InsecureRequestWarning)\n",
      "/Users/shenxibo/anaconda3/lib/python3.6/site-packages/urllib3/connectionpool.py:858: InsecureRequestWarning: Unverified HTTPS request is being made. Adding certificate verification is strongly advised. See: https://urllib3.readthedocs.io/en/latest/advanced-usage.html#ssl-warnings\n",
      "  InsecureRequestWarning)\n"
     ]
    },
    {
     "name": "stdout",
     "output_type": "stream",
     "text": [
      "106 ---  108 ---  {'Date': 'Fri, 23 Nov 2018 06:53:46 GMT', 'Content-Type': 'text/html;charset=utf-8', 'Transfer-Encoding': 'chunked', 'Connection': 'keep-alive', 'Vary': 'Accept-Encoding', 'X-Powered-By': 'PHP/5.6.14', 'Access-Control-Allow-Origin': '*', 'Access-Control-Allow-Headers': 'X-Requested-With', 'Access-Control-Allow-Methods': 'GET,POST,OPTIONS', 'Content-Encoding': 'gzip'}\n"
     ]
    },
    {
     "name": "stderr",
     "output_type": "stream",
     "text": [
      "/Users/shenxibo/anaconda3/lib/python3.6/site-packages/urllib3/connectionpool.py:858: InsecureRequestWarning: Unverified HTTPS request is being made. Adding certificate verification is strongly advised. See: https://urllib3.readthedocs.io/en/latest/advanced-usage.html#ssl-warnings\n",
      "  InsecureRequestWarning)\n"
     ]
    },
    {
     "name": "stdout",
     "output_type": "stream",
     "text": [
      "107 ---  109 ---  {'Date': 'Fri, 23 Nov 2018 06:53:47 GMT', 'Content-Type': 'text/html;charset=utf-8', 'Transfer-Encoding': 'chunked', 'Connection': 'keep-alive', 'Vary': 'Accept-Encoding', 'X-Powered-By': 'PHP/5.6.14', 'Access-Control-Allow-Origin': '*', 'Access-Control-Allow-Headers': 'X-Requested-With', 'Access-Control-Allow-Methods': 'GET,POST,OPTIONS', 'Content-Encoding': 'gzip'}\n"
     ]
    },
    {
     "name": "stderr",
     "output_type": "stream",
     "text": [
      "/Users/shenxibo/anaconda3/lib/python3.6/site-packages/urllib3/connectionpool.py:858: InsecureRequestWarning: Unverified HTTPS request is being made. Adding certificate verification is strongly advised. See: https://urllib3.readthedocs.io/en/latest/advanced-usage.html#ssl-warnings\n",
      "  InsecureRequestWarning)\n"
     ]
    },
    {
     "name": "stdout",
     "output_type": "stream",
     "text": [
      "108 ---  110 ---  {'Date': 'Fri, 23 Nov 2018 06:53:47 GMT', 'Content-Type': 'text/html;charset=utf-8', 'Transfer-Encoding': 'chunked', 'Connection': 'keep-alive', 'Vary': 'Accept-Encoding', 'X-Powered-By': 'PHP/5.6.14', 'Access-Control-Allow-Origin': '*', 'Access-Control-Allow-Headers': 'X-Requested-With', 'Access-Control-Allow-Methods': 'GET,POST,OPTIONS', 'Content-Encoding': 'gzip'}\n"
     ]
    },
    {
     "name": "stderr",
     "output_type": "stream",
     "text": [
      "/Users/shenxibo/anaconda3/lib/python3.6/site-packages/urllib3/connectionpool.py:858: InsecureRequestWarning: Unverified HTTPS request is being made. Adding certificate verification is strongly advised. See: https://urllib3.readthedocs.io/en/latest/advanced-usage.html#ssl-warnings\n",
      "  InsecureRequestWarning)\n"
     ]
    },
    {
     "name": "stdout",
     "output_type": "stream",
     "text": [
      "109 ---  111 ---  {'Date': 'Fri, 23 Nov 2018 06:53:47 GMT', 'Content-Type': 'text/html;charset=utf-8', 'Transfer-Encoding': 'chunked', 'Connection': 'keep-alive', 'Vary': 'Accept-Encoding', 'X-Powered-By': 'PHP/5.6.14', 'Access-Control-Allow-Origin': '*', 'Access-Control-Allow-Headers': 'X-Requested-With', 'Access-Control-Allow-Methods': 'GET,POST,OPTIONS', 'Content-Encoding': 'gzip'}\n"
     ]
    },
    {
     "name": "stderr",
     "output_type": "stream",
     "text": [
      "/Users/shenxibo/anaconda3/lib/python3.6/site-packages/urllib3/connectionpool.py:858: InsecureRequestWarning: Unverified HTTPS request is being made. Adding certificate verification is strongly advised. See: https://urllib3.readthedocs.io/en/latest/advanced-usage.html#ssl-warnings\n",
      "  InsecureRequestWarning)\n"
     ]
    },
    {
     "name": "stdout",
     "output_type": "stream",
     "text": [
      "110 ---  112 ---  {'Date': 'Fri, 23 Nov 2018 06:53:47 GMT', 'Content-Type': 'text/html;charset=utf-8', 'Transfer-Encoding': 'chunked', 'Connection': 'keep-alive', 'Vary': 'Accept-Encoding', 'X-Powered-By': 'PHP/5.6.14', 'Access-Control-Allow-Origin': '*', 'Access-Control-Allow-Headers': 'X-Requested-With', 'Access-Control-Allow-Methods': 'GET,POST,OPTIONS', 'Content-Encoding': 'gzip'}\n"
     ]
    },
    {
     "name": "stderr",
     "output_type": "stream",
     "text": [
      "/Users/shenxibo/anaconda3/lib/python3.6/site-packages/urllib3/connectionpool.py:858: InsecureRequestWarning: Unverified HTTPS request is being made. Adding certificate verification is strongly advised. See: https://urllib3.readthedocs.io/en/latest/advanced-usage.html#ssl-warnings\n",
      "  InsecureRequestWarning)\n"
     ]
    },
    {
     "name": "stdout",
     "output_type": "stream",
     "text": [
      "111 ---  113 ---  {'Date': 'Fri, 23 Nov 2018 06:53:48 GMT', 'Content-Type': 'text/html;charset=utf-8', 'Transfer-Encoding': 'chunked', 'Connection': 'keep-alive', 'Vary': 'Accept-Encoding', 'X-Powered-By': 'PHP/5.6.14', 'Access-Control-Allow-Origin': '*', 'Access-Control-Allow-Headers': 'X-Requested-With', 'Access-Control-Allow-Methods': 'GET,POST,OPTIONS', 'Content-Encoding': 'gzip'}\n"
     ]
    },
    {
     "name": "stderr",
     "output_type": "stream",
     "text": [
      "/Users/shenxibo/anaconda3/lib/python3.6/site-packages/urllib3/connectionpool.py:858: InsecureRequestWarning: Unverified HTTPS request is being made. Adding certificate verification is strongly advised. See: https://urllib3.readthedocs.io/en/latest/advanced-usage.html#ssl-warnings\n",
      "  InsecureRequestWarning)\n"
     ]
    },
    {
     "name": "stdout",
     "output_type": "stream",
     "text": [
      "112 ---  114 ---  {'Date': 'Fri, 23 Nov 2018 06:53:48 GMT', 'Content-Type': 'text/html;charset=utf-8', 'Transfer-Encoding': 'chunked', 'Connection': 'keep-alive', 'Vary': 'Accept-Encoding', 'X-Powered-By': 'PHP/5.6.14', 'Access-Control-Allow-Origin': '*', 'Access-Control-Allow-Headers': 'X-Requested-With', 'Access-Control-Allow-Methods': 'GET,POST,OPTIONS', 'Content-Encoding': 'gzip'}\n"
     ]
    },
    {
     "name": "stderr",
     "output_type": "stream",
     "text": [
      "/Users/shenxibo/anaconda3/lib/python3.6/site-packages/urllib3/connectionpool.py:858: InsecureRequestWarning: Unverified HTTPS request is being made. Adding certificate verification is strongly advised. See: https://urllib3.readthedocs.io/en/latest/advanced-usage.html#ssl-warnings\n",
      "  InsecureRequestWarning)\n"
     ]
    },
    {
     "name": "stdout",
     "output_type": "stream",
     "text": [
      "113 ---  115 ---  {'Date': 'Fri, 23 Nov 2018 06:53:48 GMT', 'Content-Type': 'text/html;charset=utf-8', 'Transfer-Encoding': 'chunked', 'Connection': 'keep-alive', 'Vary': 'Accept-Encoding', 'X-Powered-By': 'PHP/5.6.14', 'Access-Control-Allow-Origin': '*', 'Access-Control-Allow-Headers': 'X-Requested-With', 'Access-Control-Allow-Methods': 'GET,POST,OPTIONS', 'Content-Encoding': 'gzip'}\n"
     ]
    },
    {
     "name": "stderr",
     "output_type": "stream",
     "text": [
      "/Users/shenxibo/anaconda3/lib/python3.6/site-packages/urllib3/connectionpool.py:858: InsecureRequestWarning: Unverified HTTPS request is being made. Adding certificate verification is strongly advised. See: https://urllib3.readthedocs.io/en/latest/advanced-usage.html#ssl-warnings\n",
      "  InsecureRequestWarning)\n"
     ]
    },
    {
     "name": "stdout",
     "output_type": "stream",
     "text": [
      "114 ---  116 ---  {'Date': 'Fri, 23 Nov 2018 06:53:49 GMT', 'Content-Type': 'text/html;charset=utf-8', 'Transfer-Encoding': 'chunked', 'Connection': 'keep-alive', 'Vary': 'Accept-Encoding', 'X-Powered-By': 'PHP/5.6.14', 'Access-Control-Allow-Origin': '*', 'Access-Control-Allow-Headers': 'X-Requested-With', 'Access-Control-Allow-Methods': 'GET,POST,OPTIONS', 'Content-Encoding': 'gzip'}\n"
     ]
    },
    {
     "name": "stderr",
     "output_type": "stream",
     "text": [
      "/Users/shenxibo/anaconda3/lib/python3.6/site-packages/urllib3/connectionpool.py:858: InsecureRequestWarning: Unverified HTTPS request is being made. Adding certificate verification is strongly advised. See: https://urllib3.readthedocs.io/en/latest/advanced-usage.html#ssl-warnings\n",
      "  InsecureRequestWarning)\n"
     ]
    },
    {
     "name": "stdout",
     "output_type": "stream",
     "text": [
      "115 ---  117 ---  {'Date': 'Fri, 23 Nov 2018 06:53:49 GMT', 'Content-Type': 'text/html;charset=utf-8', 'Transfer-Encoding': 'chunked', 'Connection': 'keep-alive', 'Vary': 'Accept-Encoding', 'X-Powered-By': 'PHP/5.6.14', 'Access-Control-Allow-Origin': '*', 'Access-Control-Allow-Headers': 'X-Requested-With', 'Access-Control-Allow-Methods': 'GET,POST,OPTIONS', 'Content-Encoding': 'gzip'}\n"
     ]
    },
    {
     "name": "stderr",
     "output_type": "stream",
     "text": [
      "/Users/shenxibo/anaconda3/lib/python3.6/site-packages/urllib3/connectionpool.py:858: InsecureRequestWarning: Unverified HTTPS request is being made. Adding certificate verification is strongly advised. See: https://urllib3.readthedocs.io/en/latest/advanced-usage.html#ssl-warnings\n",
      "  InsecureRequestWarning)\n"
     ]
    },
    {
     "name": "stdout",
     "output_type": "stream",
     "text": [
      "116 ---  118 ---  {'Date': 'Fri, 23 Nov 2018 06:53:49 GMT', 'Content-Type': 'text/html;charset=utf-8', 'Transfer-Encoding': 'chunked', 'Connection': 'keep-alive', 'Vary': 'Accept-Encoding', 'X-Powered-By': 'PHP/5.6.14', 'Access-Control-Allow-Origin': '*', 'Access-Control-Allow-Headers': 'X-Requested-With', 'Access-Control-Allow-Methods': 'GET,POST,OPTIONS', 'Content-Encoding': 'gzip'}\n"
     ]
    },
    {
     "name": "stderr",
     "output_type": "stream",
     "text": [
      "/Users/shenxibo/anaconda3/lib/python3.6/site-packages/urllib3/connectionpool.py:858: InsecureRequestWarning: Unverified HTTPS request is being made. Adding certificate verification is strongly advised. See: https://urllib3.readthedocs.io/en/latest/advanced-usage.html#ssl-warnings\n",
      "  InsecureRequestWarning)\n"
     ]
    },
    {
     "name": "stdout",
     "output_type": "stream",
     "text": [
      "117 ---  119 ---  {'Date': 'Fri, 23 Nov 2018 06:53:49 GMT', 'Content-Type': 'text/html;charset=utf-8', 'Transfer-Encoding': 'chunked', 'Connection': 'keep-alive', 'Vary': 'Accept-Encoding', 'X-Powered-By': 'PHP/5.6.14', 'Access-Control-Allow-Origin': '*', 'Access-Control-Allow-Headers': 'X-Requested-With', 'Access-Control-Allow-Methods': 'GET,POST,OPTIONS', 'Content-Encoding': 'gzip'}\n"
     ]
    },
    {
     "name": "stderr",
     "output_type": "stream",
     "text": [
      "/Users/shenxibo/anaconda3/lib/python3.6/site-packages/urllib3/connectionpool.py:858: InsecureRequestWarning: Unverified HTTPS request is being made. Adding certificate verification is strongly advised. See: https://urllib3.readthedocs.io/en/latest/advanced-usage.html#ssl-warnings\n",
      "  InsecureRequestWarning)\n"
     ]
    },
    {
     "name": "stdout",
     "output_type": "stream",
     "text": [
      "118 ---  120 ---  {'Date': 'Fri, 23 Nov 2018 06:53:50 GMT', 'Content-Type': 'text/html;charset=utf-8', 'Transfer-Encoding': 'chunked', 'Connection': 'keep-alive', 'Vary': 'Accept-Encoding', 'X-Powered-By': 'PHP/5.6.14', 'Access-Control-Allow-Origin': '*', 'Access-Control-Allow-Headers': 'X-Requested-With', 'Access-Control-Allow-Methods': 'GET,POST,OPTIONS', 'Content-Encoding': 'gzip'}\n"
     ]
    },
    {
     "name": "stderr",
     "output_type": "stream",
     "text": [
      "/Users/shenxibo/anaconda3/lib/python3.6/site-packages/urllib3/connectionpool.py:858: InsecureRequestWarning: Unverified HTTPS request is being made. Adding certificate verification is strongly advised. See: https://urllib3.readthedocs.io/en/latest/advanced-usage.html#ssl-warnings\n",
      "  InsecureRequestWarning)\n"
     ]
    },
    {
     "name": "stdout",
     "output_type": "stream",
     "text": [
      "119 ---  121 ---  {'Date': 'Fri, 23 Nov 2018 06:53:50 GMT', 'Content-Type': 'text/html;charset=utf-8', 'Transfer-Encoding': 'chunked', 'Connection': 'keep-alive', 'Vary': 'Accept-Encoding', 'X-Powered-By': 'PHP/5.6.14', 'Access-Control-Allow-Origin': '*', 'Access-Control-Allow-Headers': 'X-Requested-With', 'Access-Control-Allow-Methods': 'GET,POST,OPTIONS', 'Content-Encoding': 'gzip'}\n"
     ]
    },
    {
     "name": "stderr",
     "output_type": "stream",
     "text": [
      "/Users/shenxibo/anaconda3/lib/python3.6/site-packages/urllib3/connectionpool.py:858: InsecureRequestWarning: Unverified HTTPS request is being made. Adding certificate verification is strongly advised. See: https://urllib3.readthedocs.io/en/latest/advanced-usage.html#ssl-warnings\n",
      "  InsecureRequestWarning)\n"
     ]
    },
    {
     "name": "stdout",
     "output_type": "stream",
     "text": [
      "120 ---  122 ---  {'Date': 'Fri, 23 Nov 2018 06:53:50 GMT', 'Content-Type': 'text/html;charset=utf-8', 'Transfer-Encoding': 'chunked', 'Connection': 'keep-alive', 'Vary': 'Accept-Encoding', 'X-Powered-By': 'PHP/5.6.14', 'Access-Control-Allow-Origin': '*', 'Access-Control-Allow-Headers': 'X-Requested-With', 'Access-Control-Allow-Methods': 'GET,POST,OPTIONS', 'Content-Encoding': 'gzip'}\n"
     ]
    },
    {
     "name": "stderr",
     "output_type": "stream",
     "text": [
      "/Users/shenxibo/anaconda3/lib/python3.6/site-packages/urllib3/connectionpool.py:858: InsecureRequestWarning: Unverified HTTPS request is being made. Adding certificate verification is strongly advised. See: https://urllib3.readthedocs.io/en/latest/advanced-usage.html#ssl-warnings\n",
      "  InsecureRequestWarning)\n"
     ]
    },
    {
     "name": "stdout",
     "output_type": "stream",
     "text": [
      "121 ---  123 ---  {'Date': 'Fri, 23 Nov 2018 06:53:51 GMT', 'Content-Type': 'text/html;charset=utf-8', 'Transfer-Encoding': 'chunked', 'Connection': 'keep-alive', 'Vary': 'Accept-Encoding', 'X-Powered-By': 'PHP/5.6.14', 'Access-Control-Allow-Origin': '*', 'Access-Control-Allow-Headers': 'X-Requested-With', 'Access-Control-Allow-Methods': 'GET,POST,OPTIONS', 'Content-Encoding': 'gzip'}\n"
     ]
    },
    {
     "name": "stderr",
     "output_type": "stream",
     "text": [
      "/Users/shenxibo/anaconda3/lib/python3.6/site-packages/urllib3/connectionpool.py:858: InsecureRequestWarning: Unverified HTTPS request is being made. Adding certificate verification is strongly advised. See: https://urllib3.readthedocs.io/en/latest/advanced-usage.html#ssl-warnings\n",
      "  InsecureRequestWarning)\n"
     ]
    },
    {
     "name": "stdout",
     "output_type": "stream",
     "text": [
      "122 ---  124 ---  {'Date': 'Fri, 23 Nov 2018 06:53:51 GMT', 'Content-Type': 'text/html;charset=utf-8', 'Transfer-Encoding': 'chunked', 'Connection': 'keep-alive', 'Vary': 'Accept-Encoding', 'X-Powered-By': 'PHP/5.6.14', 'Access-Control-Allow-Origin': '*', 'Access-Control-Allow-Headers': 'X-Requested-With', 'Access-Control-Allow-Methods': 'GET,POST,OPTIONS', 'Content-Encoding': 'gzip'}\n"
     ]
    },
    {
     "name": "stderr",
     "output_type": "stream",
     "text": [
      "/Users/shenxibo/anaconda3/lib/python3.6/site-packages/urllib3/connectionpool.py:858: InsecureRequestWarning: Unverified HTTPS request is being made. Adding certificate verification is strongly advised. See: https://urllib3.readthedocs.io/en/latest/advanced-usage.html#ssl-warnings\n",
      "  InsecureRequestWarning)\n"
     ]
    },
    {
     "name": "stdout",
     "output_type": "stream",
     "text": [
      "123 ---  125 ---  {'Date': 'Fri, 23 Nov 2018 06:53:51 GMT', 'Content-Type': 'text/html;charset=utf-8', 'Transfer-Encoding': 'chunked', 'Connection': 'keep-alive', 'Vary': 'Accept-Encoding', 'X-Powered-By': 'PHP/5.6.14', 'Access-Control-Allow-Origin': '*', 'Access-Control-Allow-Headers': 'X-Requested-With', 'Access-Control-Allow-Methods': 'GET,POST,OPTIONS', 'Content-Encoding': 'gzip'}\n"
     ]
    },
    {
     "name": "stderr",
     "output_type": "stream",
     "text": [
      "/Users/shenxibo/anaconda3/lib/python3.6/site-packages/urllib3/connectionpool.py:858: InsecureRequestWarning: Unverified HTTPS request is being made. Adding certificate verification is strongly advised. See: https://urllib3.readthedocs.io/en/latest/advanced-usage.html#ssl-warnings\n",
      "  InsecureRequestWarning)\n"
     ]
    },
    {
     "name": "stdout",
     "output_type": "stream",
     "text": [
      "124 ---  126 ---  {'Date': 'Fri, 23 Nov 2018 06:53:52 GMT', 'Content-Type': 'text/html;charset=utf-8', 'Transfer-Encoding': 'chunked', 'Connection': 'keep-alive', 'Vary': 'Accept-Encoding', 'X-Powered-By': 'PHP/5.6.14', 'Access-Control-Allow-Origin': '*', 'Access-Control-Allow-Headers': 'X-Requested-With', 'Access-Control-Allow-Methods': 'GET,POST,OPTIONS', 'Content-Encoding': 'gzip'}\n"
     ]
    },
    {
     "name": "stderr",
     "output_type": "stream",
     "text": [
      "/Users/shenxibo/anaconda3/lib/python3.6/site-packages/urllib3/connectionpool.py:858: InsecureRequestWarning: Unverified HTTPS request is being made. Adding certificate verification is strongly advised. See: https://urllib3.readthedocs.io/en/latest/advanced-usage.html#ssl-warnings\n",
      "  InsecureRequestWarning)\n"
     ]
    },
    {
     "name": "stdout",
     "output_type": "stream",
     "text": [
      "125 ---  127 ---  {'Date': 'Fri, 23 Nov 2018 06:53:52 GMT', 'Content-Type': 'text/html;charset=utf-8', 'Transfer-Encoding': 'chunked', 'Connection': 'keep-alive', 'Vary': 'Accept-Encoding', 'X-Powered-By': 'PHP/5.6.14', 'Access-Control-Allow-Origin': '*', 'Access-Control-Allow-Headers': 'X-Requested-With', 'Access-Control-Allow-Methods': 'GET,POST,OPTIONS', 'Content-Encoding': 'gzip'}\n"
     ]
    },
    {
     "name": "stderr",
     "output_type": "stream",
     "text": [
      "/Users/shenxibo/anaconda3/lib/python3.6/site-packages/urllib3/connectionpool.py:858: InsecureRequestWarning: Unverified HTTPS request is being made. Adding certificate verification is strongly advised. See: https://urllib3.readthedocs.io/en/latest/advanced-usage.html#ssl-warnings\n",
      "  InsecureRequestWarning)\n"
     ]
    },
    {
     "name": "stdout",
     "output_type": "stream",
     "text": [
      "126 ---  128 ---  {'Date': 'Fri, 23 Nov 2018 06:53:52 GMT', 'Content-Type': 'text/html;charset=utf-8', 'Transfer-Encoding': 'chunked', 'Connection': 'keep-alive', 'Vary': 'Accept-Encoding', 'X-Powered-By': 'PHP/5.6.14', 'Access-Control-Allow-Origin': '*', 'Access-Control-Allow-Headers': 'X-Requested-With', 'Access-Control-Allow-Methods': 'GET,POST,OPTIONS', 'Content-Encoding': 'gzip'}\n"
     ]
    },
    {
     "name": "stderr",
     "output_type": "stream",
     "text": [
      "/Users/shenxibo/anaconda3/lib/python3.6/site-packages/urllib3/connectionpool.py:858: InsecureRequestWarning: Unverified HTTPS request is being made. Adding certificate verification is strongly advised. See: https://urllib3.readthedocs.io/en/latest/advanced-usage.html#ssl-warnings\n",
      "  InsecureRequestWarning)\n"
     ]
    },
    {
     "name": "stdout",
     "output_type": "stream",
     "text": [
      "127 ---  129 ---  {'Date': 'Fri, 23 Nov 2018 06:53:52 GMT', 'Content-Type': 'text/html;charset=utf-8', 'Transfer-Encoding': 'chunked', 'Connection': 'keep-alive', 'Vary': 'Accept-Encoding', 'X-Powered-By': 'PHP/5.6.14', 'Access-Control-Allow-Origin': '*', 'Access-Control-Allow-Headers': 'X-Requested-With', 'Access-Control-Allow-Methods': 'GET,POST,OPTIONS', 'Content-Encoding': 'gzip'}\n"
     ]
    },
    {
     "name": "stderr",
     "output_type": "stream",
     "text": [
      "/Users/shenxibo/anaconda3/lib/python3.6/site-packages/urllib3/connectionpool.py:858: InsecureRequestWarning: Unverified HTTPS request is being made. Adding certificate verification is strongly advised. See: https://urllib3.readthedocs.io/en/latest/advanced-usage.html#ssl-warnings\n",
      "  InsecureRequestWarning)\n"
     ]
    },
    {
     "name": "stdout",
     "output_type": "stream",
     "text": [
      "128 ---  130 ---  {'Date': 'Fri, 23 Nov 2018 06:53:53 GMT', 'Content-Type': 'text/html;charset=utf-8', 'Transfer-Encoding': 'chunked', 'Connection': 'keep-alive', 'Vary': 'Accept-Encoding', 'X-Powered-By': 'PHP/5.6.14', 'Access-Control-Allow-Origin': '*', 'Access-Control-Allow-Headers': 'X-Requested-With', 'Access-Control-Allow-Methods': 'GET,POST,OPTIONS', 'Content-Encoding': 'gzip'}\n"
     ]
    },
    {
     "name": "stderr",
     "output_type": "stream",
     "text": [
      "/Users/shenxibo/anaconda3/lib/python3.6/site-packages/urllib3/connectionpool.py:858: InsecureRequestWarning: Unverified HTTPS request is being made. Adding certificate verification is strongly advised. See: https://urllib3.readthedocs.io/en/latest/advanced-usage.html#ssl-warnings\n",
      "  InsecureRequestWarning)\n"
     ]
    },
    {
     "name": "stdout",
     "output_type": "stream",
     "text": [
      "129 ---  131 ---  {'Date': 'Fri, 23 Nov 2018 06:53:53 GMT', 'Content-Type': 'text/html;charset=utf-8', 'Transfer-Encoding': 'chunked', 'Connection': 'keep-alive', 'Vary': 'Accept-Encoding', 'X-Powered-By': 'PHP/5.6.14', 'Access-Control-Allow-Origin': '*', 'Access-Control-Allow-Headers': 'X-Requested-With', 'Access-Control-Allow-Methods': 'GET,POST,OPTIONS', 'Content-Encoding': 'gzip'}\n"
     ]
    },
    {
     "name": "stderr",
     "output_type": "stream",
     "text": [
      "/Users/shenxibo/anaconda3/lib/python3.6/site-packages/urllib3/connectionpool.py:858: InsecureRequestWarning: Unverified HTTPS request is being made. Adding certificate verification is strongly advised. See: https://urllib3.readthedocs.io/en/latest/advanced-usage.html#ssl-warnings\n",
      "  InsecureRequestWarning)\n"
     ]
    },
    {
     "name": "stdout",
     "output_type": "stream",
     "text": [
      "130 ---  132 ---  {'Date': 'Fri, 23 Nov 2018 06:53:53 GMT', 'Content-Type': 'text/html;charset=utf-8', 'Transfer-Encoding': 'chunked', 'Connection': 'keep-alive', 'Vary': 'Accept-Encoding', 'X-Powered-By': 'PHP/5.6.14', 'Access-Control-Allow-Origin': '*', 'Access-Control-Allow-Headers': 'X-Requested-With', 'Access-Control-Allow-Methods': 'GET,POST,OPTIONS', 'Content-Encoding': 'gzip'}\n"
     ]
    },
    {
     "name": "stderr",
     "output_type": "stream",
     "text": [
      "/Users/shenxibo/anaconda3/lib/python3.6/site-packages/urllib3/connectionpool.py:858: InsecureRequestWarning: Unverified HTTPS request is being made. Adding certificate verification is strongly advised. See: https://urllib3.readthedocs.io/en/latest/advanced-usage.html#ssl-warnings\n",
      "  InsecureRequestWarning)\n"
     ]
    },
    {
     "name": "stdout",
     "output_type": "stream",
     "text": [
      "131 ---  133 ---  {'Date': 'Fri, 23 Nov 2018 06:53:54 GMT', 'Content-Type': 'text/html;charset=utf-8', 'Transfer-Encoding': 'chunked', 'Connection': 'keep-alive', 'Vary': 'Accept-Encoding', 'X-Powered-By': 'PHP/5.6.14', 'Access-Control-Allow-Origin': '*', 'Access-Control-Allow-Headers': 'X-Requested-With', 'Access-Control-Allow-Methods': 'GET,POST,OPTIONS', 'Content-Encoding': 'gzip'}\n"
     ]
    },
    {
     "name": "stderr",
     "output_type": "stream",
     "text": [
      "/Users/shenxibo/anaconda3/lib/python3.6/site-packages/urllib3/connectionpool.py:858: InsecureRequestWarning: Unverified HTTPS request is being made. Adding certificate verification is strongly advised. See: https://urllib3.readthedocs.io/en/latest/advanced-usage.html#ssl-warnings\n",
      "  InsecureRequestWarning)\n"
     ]
    },
    {
     "name": "stdout",
     "output_type": "stream",
     "text": [
      "132 ---  134 ---  {'Date': 'Fri, 23 Nov 2018 06:53:54 GMT', 'Content-Type': 'text/html;charset=utf-8', 'Transfer-Encoding': 'chunked', 'Connection': 'keep-alive', 'Vary': 'Accept-Encoding', 'X-Powered-By': 'PHP/5.6.14', 'Access-Control-Allow-Origin': '*', 'Access-Control-Allow-Headers': 'X-Requested-With', 'Access-Control-Allow-Methods': 'GET,POST,OPTIONS', 'Content-Encoding': 'gzip'}\n"
     ]
    },
    {
     "name": "stderr",
     "output_type": "stream",
     "text": [
      "/Users/shenxibo/anaconda3/lib/python3.6/site-packages/urllib3/connectionpool.py:858: InsecureRequestWarning: Unverified HTTPS request is being made. Adding certificate verification is strongly advised. See: https://urllib3.readthedocs.io/en/latest/advanced-usage.html#ssl-warnings\n",
      "  InsecureRequestWarning)\n"
     ]
    },
    {
     "name": "stdout",
     "output_type": "stream",
     "text": [
      "133 ---  135 ---  {'Date': 'Fri, 23 Nov 2018 06:53:54 GMT', 'Content-Type': 'text/html;charset=utf-8', 'Transfer-Encoding': 'chunked', 'Connection': 'keep-alive', 'Vary': 'Accept-Encoding', 'X-Powered-By': 'PHP/5.6.14', 'Access-Control-Allow-Origin': '*', 'Access-Control-Allow-Headers': 'X-Requested-With', 'Access-Control-Allow-Methods': 'GET,POST,OPTIONS', 'Content-Encoding': 'gzip'}\n"
     ]
    },
    {
     "name": "stderr",
     "output_type": "stream",
     "text": [
      "/Users/shenxibo/anaconda3/lib/python3.6/site-packages/urllib3/connectionpool.py:858: InsecureRequestWarning: Unverified HTTPS request is being made. Adding certificate verification is strongly advised. See: https://urllib3.readthedocs.io/en/latest/advanced-usage.html#ssl-warnings\n",
      "  InsecureRequestWarning)\n"
     ]
    },
    {
     "name": "stdout",
     "output_type": "stream",
     "text": [
      "134 ---  136 ---  {'Date': 'Fri, 23 Nov 2018 06:53:55 GMT', 'Content-Type': 'text/html;charset=utf-8', 'Transfer-Encoding': 'chunked', 'Connection': 'keep-alive', 'Vary': 'Accept-Encoding', 'X-Powered-By': 'PHP/5.6.14', 'Access-Control-Allow-Origin': '*', 'Access-Control-Allow-Headers': 'X-Requested-With', 'Access-Control-Allow-Methods': 'GET,POST,OPTIONS', 'Content-Encoding': 'gzip'}\n"
     ]
    },
    {
     "name": "stderr",
     "output_type": "stream",
     "text": [
      "/Users/shenxibo/anaconda3/lib/python3.6/site-packages/urllib3/connectionpool.py:858: InsecureRequestWarning: Unverified HTTPS request is being made. Adding certificate verification is strongly advised. See: https://urllib3.readthedocs.io/en/latest/advanced-usage.html#ssl-warnings\n",
      "  InsecureRequestWarning)\n"
     ]
    },
    {
     "name": "stdout",
     "output_type": "stream",
     "text": [
      "135 ---  137 ---  {'Date': 'Fri, 23 Nov 2018 06:53:55 GMT', 'Content-Type': 'text/html;charset=utf-8', 'Transfer-Encoding': 'chunked', 'Connection': 'keep-alive', 'Vary': 'Accept-Encoding', 'X-Powered-By': 'PHP/5.6.14', 'Access-Control-Allow-Origin': '*', 'Access-Control-Allow-Headers': 'X-Requested-With', 'Access-Control-Allow-Methods': 'GET,POST,OPTIONS', 'Content-Encoding': 'gzip'}\n"
     ]
    },
    {
     "name": "stderr",
     "output_type": "stream",
     "text": [
      "/Users/shenxibo/anaconda3/lib/python3.6/site-packages/urllib3/connectionpool.py:858: InsecureRequestWarning: Unverified HTTPS request is being made. Adding certificate verification is strongly advised. See: https://urllib3.readthedocs.io/en/latest/advanced-usage.html#ssl-warnings\n",
      "  InsecureRequestWarning)\n"
     ]
    },
    {
     "name": "stdout",
     "output_type": "stream",
     "text": [
      "136 ---  138 ---  {'Date': 'Fri, 23 Nov 2018 06:53:55 GMT', 'Content-Type': 'text/html;charset=utf-8', 'Transfer-Encoding': 'chunked', 'Connection': 'keep-alive', 'Vary': 'Accept-Encoding', 'X-Powered-By': 'PHP/5.6.14', 'Access-Control-Allow-Origin': '*', 'Access-Control-Allow-Headers': 'X-Requested-With', 'Access-Control-Allow-Methods': 'GET,POST,OPTIONS', 'Content-Encoding': 'gzip'}\n"
     ]
    },
    {
     "name": "stderr",
     "output_type": "stream",
     "text": [
      "/Users/shenxibo/anaconda3/lib/python3.6/site-packages/urllib3/connectionpool.py:858: InsecureRequestWarning: Unverified HTTPS request is being made. Adding certificate verification is strongly advised. See: https://urllib3.readthedocs.io/en/latest/advanced-usage.html#ssl-warnings\n",
      "  InsecureRequestWarning)\n"
     ]
    },
    {
     "name": "stdout",
     "output_type": "stream",
     "text": [
      "137 ---  139 ---  {'Date': 'Fri, 23 Nov 2018 06:53:56 GMT', 'Content-Type': 'text/html;charset=utf-8', 'Transfer-Encoding': 'chunked', 'Connection': 'keep-alive', 'Vary': 'Accept-Encoding', 'X-Powered-By': 'PHP/5.6.14', 'Access-Control-Allow-Origin': '*', 'Access-Control-Allow-Headers': 'X-Requested-With', 'Access-Control-Allow-Methods': 'GET,POST,OPTIONS', 'Content-Encoding': 'gzip'}\n"
     ]
    },
    {
     "name": "stderr",
     "output_type": "stream",
     "text": [
      "/Users/shenxibo/anaconda3/lib/python3.6/site-packages/urllib3/connectionpool.py:858: InsecureRequestWarning: Unverified HTTPS request is being made. Adding certificate verification is strongly advised. See: https://urllib3.readthedocs.io/en/latest/advanced-usage.html#ssl-warnings\n",
      "  InsecureRequestWarning)\n"
     ]
    },
    {
     "name": "stdout",
     "output_type": "stream",
     "text": [
      "138 ---  140 ---  {'Date': 'Fri, 23 Nov 2018 06:53:56 GMT', 'Content-Type': 'text/html;charset=utf-8', 'Transfer-Encoding': 'chunked', 'Connection': 'keep-alive', 'Vary': 'Accept-Encoding', 'X-Powered-By': 'PHP/5.6.14', 'Access-Control-Allow-Origin': '*', 'Access-Control-Allow-Headers': 'X-Requested-With', 'Access-Control-Allow-Methods': 'GET,POST,OPTIONS', 'Content-Encoding': 'gzip'}\n"
     ]
    },
    {
     "name": "stderr",
     "output_type": "stream",
     "text": [
      "/Users/shenxibo/anaconda3/lib/python3.6/site-packages/urllib3/connectionpool.py:858: InsecureRequestWarning: Unverified HTTPS request is being made. Adding certificate verification is strongly advised. See: https://urllib3.readthedocs.io/en/latest/advanced-usage.html#ssl-warnings\n",
      "  InsecureRequestWarning)\n"
     ]
    },
    {
     "name": "stdout",
     "output_type": "stream",
     "text": [
      "139 ---  141 ---  {'Date': 'Fri, 23 Nov 2018 06:53:56 GMT', 'Content-Type': 'text/html;charset=utf-8', 'Transfer-Encoding': 'chunked', 'Connection': 'keep-alive', 'Vary': 'Accept-Encoding', 'X-Powered-By': 'PHP/5.6.14', 'Access-Control-Allow-Origin': '*', 'Access-Control-Allow-Headers': 'X-Requested-With', 'Access-Control-Allow-Methods': 'GET,POST,OPTIONS', 'Content-Encoding': 'gzip'}\n"
     ]
    },
    {
     "name": "stderr",
     "output_type": "stream",
     "text": [
      "/Users/shenxibo/anaconda3/lib/python3.6/site-packages/urllib3/connectionpool.py:858: InsecureRequestWarning: Unverified HTTPS request is being made. Adding certificate verification is strongly advised. See: https://urllib3.readthedocs.io/en/latest/advanced-usage.html#ssl-warnings\n",
      "  InsecureRequestWarning)\n"
     ]
    },
    {
     "name": "stdout",
     "output_type": "stream",
     "text": [
      "140 ---  142 ---  {'Date': 'Fri, 23 Nov 2018 06:53:56 GMT', 'Content-Type': 'text/html;charset=utf-8', 'Transfer-Encoding': 'chunked', 'Connection': 'keep-alive', 'Vary': 'Accept-Encoding', 'X-Powered-By': 'PHP/5.6.14', 'Access-Control-Allow-Origin': '*', 'Access-Control-Allow-Headers': 'X-Requested-With', 'Access-Control-Allow-Methods': 'GET,POST,OPTIONS', 'Content-Encoding': 'gzip'}\n"
     ]
    },
    {
     "name": "stderr",
     "output_type": "stream",
     "text": [
      "/Users/shenxibo/anaconda3/lib/python3.6/site-packages/urllib3/connectionpool.py:858: InsecureRequestWarning: Unverified HTTPS request is being made. Adding certificate verification is strongly advised. See: https://urllib3.readthedocs.io/en/latest/advanced-usage.html#ssl-warnings\n",
      "  InsecureRequestWarning)\n"
     ]
    },
    {
     "name": "stdout",
     "output_type": "stream",
     "text": [
      "141 ---  143 ---  {'Date': 'Fri, 23 Nov 2018 06:53:57 GMT', 'Content-Type': 'text/html;charset=utf-8', 'Transfer-Encoding': 'chunked', 'Connection': 'keep-alive', 'Vary': 'Accept-Encoding', 'X-Powered-By': 'PHP/5.6.14', 'Access-Control-Allow-Origin': '*', 'Access-Control-Allow-Headers': 'X-Requested-With', 'Access-Control-Allow-Methods': 'GET,POST,OPTIONS', 'Content-Encoding': 'gzip'}\n"
     ]
    },
    {
     "name": "stderr",
     "output_type": "stream",
     "text": [
      "/Users/shenxibo/anaconda3/lib/python3.6/site-packages/urllib3/connectionpool.py:858: InsecureRequestWarning: Unverified HTTPS request is being made. Adding certificate verification is strongly advised. See: https://urllib3.readthedocs.io/en/latest/advanced-usage.html#ssl-warnings\n",
      "  InsecureRequestWarning)\n"
     ]
    },
    {
     "name": "stdout",
     "output_type": "stream",
     "text": [
      "142 ---  144 ---  {'Date': 'Fri, 23 Nov 2018 06:53:57 GMT', 'Content-Type': 'text/html;charset=utf-8', 'Transfer-Encoding': 'chunked', 'Connection': 'keep-alive', 'Vary': 'Accept-Encoding', 'X-Powered-By': 'PHP/5.6.14', 'Access-Control-Allow-Origin': '*', 'Access-Control-Allow-Headers': 'X-Requested-With', 'Access-Control-Allow-Methods': 'GET,POST,OPTIONS', 'Content-Encoding': 'gzip'}\n"
     ]
    },
    {
     "name": "stderr",
     "output_type": "stream",
     "text": [
      "/Users/shenxibo/anaconda3/lib/python3.6/site-packages/urllib3/connectionpool.py:858: InsecureRequestWarning: Unverified HTTPS request is being made. Adding certificate verification is strongly advised. See: https://urllib3.readthedocs.io/en/latest/advanced-usage.html#ssl-warnings\n",
      "  InsecureRequestWarning)\n"
     ]
    },
    {
     "name": "stdout",
     "output_type": "stream",
     "text": [
      "143 ---  145 ---  {'Date': 'Fri, 23 Nov 2018 06:53:57 GMT', 'Content-Type': 'text/html;charset=utf-8', 'Transfer-Encoding': 'chunked', 'Connection': 'keep-alive', 'Vary': 'Accept-Encoding', 'X-Powered-By': 'PHP/5.6.14', 'Access-Control-Allow-Origin': '*', 'Access-Control-Allow-Headers': 'X-Requested-With', 'Access-Control-Allow-Methods': 'GET,POST,OPTIONS', 'Content-Encoding': 'gzip'}\n"
     ]
    },
    {
     "name": "stderr",
     "output_type": "stream",
     "text": [
      "/Users/shenxibo/anaconda3/lib/python3.6/site-packages/urllib3/connectionpool.py:858: InsecureRequestWarning: Unverified HTTPS request is being made. Adding certificate verification is strongly advised. See: https://urllib3.readthedocs.io/en/latest/advanced-usage.html#ssl-warnings\n",
      "  InsecureRequestWarning)\n"
     ]
    },
    {
     "name": "stdout",
     "output_type": "stream",
     "text": [
      "144 ---  146 ---  {'Date': 'Fri, 23 Nov 2018 06:53:58 GMT', 'Content-Type': 'text/html;charset=utf-8', 'Transfer-Encoding': 'chunked', 'Connection': 'keep-alive', 'Vary': 'Accept-Encoding', 'X-Powered-By': 'PHP/5.6.14', 'Access-Control-Allow-Origin': '*', 'Access-Control-Allow-Headers': 'X-Requested-With', 'Access-Control-Allow-Methods': 'GET,POST,OPTIONS', 'Content-Encoding': 'gzip'}\n"
     ]
    },
    {
     "name": "stderr",
     "output_type": "stream",
     "text": [
      "/Users/shenxibo/anaconda3/lib/python3.6/site-packages/urllib3/connectionpool.py:858: InsecureRequestWarning: Unverified HTTPS request is being made. Adding certificate verification is strongly advised. See: https://urllib3.readthedocs.io/en/latest/advanced-usage.html#ssl-warnings\n",
      "  InsecureRequestWarning)\n"
     ]
    },
    {
     "name": "stdout",
     "output_type": "stream",
     "text": [
      "145 ---  147 ---  {'Date': 'Fri, 23 Nov 2018 06:53:58 GMT', 'Content-Type': 'text/html;charset=utf-8', 'Transfer-Encoding': 'chunked', 'Connection': 'keep-alive', 'Vary': 'Accept-Encoding', 'X-Powered-By': 'PHP/5.6.14', 'Access-Control-Allow-Origin': '*', 'Access-Control-Allow-Headers': 'X-Requested-With', 'Access-Control-Allow-Methods': 'GET,POST,OPTIONS', 'Content-Encoding': 'gzip'}\n"
     ]
    },
    {
     "name": "stderr",
     "output_type": "stream",
     "text": [
      "/Users/shenxibo/anaconda3/lib/python3.6/site-packages/urllib3/connectionpool.py:858: InsecureRequestWarning: Unverified HTTPS request is being made. Adding certificate verification is strongly advised. See: https://urllib3.readthedocs.io/en/latest/advanced-usage.html#ssl-warnings\n",
      "  InsecureRequestWarning)\n"
     ]
    },
    {
     "name": "stdout",
     "output_type": "stream",
     "text": [
      "146 ---  148 ---  {'Date': 'Fri, 23 Nov 2018 06:53:58 GMT', 'Content-Type': 'text/html;charset=utf-8', 'Transfer-Encoding': 'chunked', 'Connection': 'keep-alive', 'Vary': 'Accept-Encoding', 'X-Powered-By': 'PHP/5.6.14', 'Access-Control-Allow-Origin': '*', 'Access-Control-Allow-Headers': 'X-Requested-With', 'Access-Control-Allow-Methods': 'GET,POST,OPTIONS', 'Content-Encoding': 'gzip'}\n"
     ]
    },
    {
     "name": "stderr",
     "output_type": "stream",
     "text": [
      "/Users/shenxibo/anaconda3/lib/python3.6/site-packages/urllib3/connectionpool.py:858: InsecureRequestWarning: Unverified HTTPS request is being made. Adding certificate verification is strongly advised. See: https://urllib3.readthedocs.io/en/latest/advanced-usage.html#ssl-warnings\n",
      "  InsecureRequestWarning)\n"
     ]
    },
    {
     "name": "stdout",
     "output_type": "stream",
     "text": [
      "147 ---  149 ---  {'Date': 'Fri, 23 Nov 2018 06:53:59 GMT', 'Content-Type': 'text/html;charset=utf-8', 'Transfer-Encoding': 'chunked', 'Connection': 'keep-alive', 'Vary': 'Accept-Encoding', 'X-Powered-By': 'PHP/5.6.14', 'Access-Control-Allow-Origin': '*', 'Access-Control-Allow-Headers': 'X-Requested-With', 'Access-Control-Allow-Methods': 'GET,POST,OPTIONS', 'Content-Encoding': 'gzip'}\n"
     ]
    },
    {
     "name": "stderr",
     "output_type": "stream",
     "text": [
      "/Users/shenxibo/anaconda3/lib/python3.6/site-packages/urllib3/connectionpool.py:858: InsecureRequestWarning: Unverified HTTPS request is being made. Adding certificate verification is strongly advised. See: https://urllib3.readthedocs.io/en/latest/advanced-usage.html#ssl-warnings\n",
      "  InsecureRequestWarning)\n"
     ]
    },
    {
     "name": "stdout",
     "output_type": "stream",
     "text": [
      "148 ---  150 ---  {'Date': 'Fri, 23 Nov 2018 06:53:59 GMT', 'Content-Type': 'text/html;charset=utf-8', 'Transfer-Encoding': 'chunked', 'Connection': 'keep-alive', 'Vary': 'Accept-Encoding', 'X-Powered-By': 'PHP/5.6.14', 'Access-Control-Allow-Origin': '*', 'Access-Control-Allow-Headers': 'X-Requested-With', 'Access-Control-Allow-Methods': 'GET,POST,OPTIONS', 'Content-Encoding': 'gzip'}\n"
     ]
    },
    {
     "name": "stderr",
     "output_type": "stream",
     "text": [
      "/Users/shenxibo/anaconda3/lib/python3.6/site-packages/urllib3/connectionpool.py:858: InsecureRequestWarning: Unverified HTTPS request is being made. Adding certificate verification is strongly advised. See: https://urllib3.readthedocs.io/en/latest/advanced-usage.html#ssl-warnings\n",
      "  InsecureRequestWarning)\n"
     ]
    },
    {
     "name": "stdout",
     "output_type": "stream",
     "text": [
      "149 ---  151 ---  {'Date': 'Fri, 23 Nov 2018 06:53:59 GMT', 'Content-Type': 'text/html;charset=utf-8', 'Transfer-Encoding': 'chunked', 'Connection': 'keep-alive', 'Vary': 'Accept-Encoding', 'X-Powered-By': 'PHP/5.6.14', 'Access-Control-Allow-Origin': '*', 'Access-Control-Allow-Headers': 'X-Requested-With', 'Access-Control-Allow-Methods': 'GET,POST,OPTIONS', 'Content-Encoding': 'gzip'}\n"
     ]
    },
    {
     "name": "stderr",
     "output_type": "stream",
     "text": [
      "/Users/shenxibo/anaconda3/lib/python3.6/site-packages/urllib3/connectionpool.py:858: InsecureRequestWarning: Unverified HTTPS request is being made. Adding certificate verification is strongly advised. See: https://urllib3.readthedocs.io/en/latest/advanced-usage.html#ssl-warnings\n",
      "  InsecureRequestWarning)\n"
     ]
    },
    {
     "name": "stdout",
     "output_type": "stream",
     "text": [
      "150 ---  152 ---  {'Date': 'Fri, 23 Nov 2018 06:53:59 GMT', 'Content-Type': 'text/html;charset=utf-8', 'Transfer-Encoding': 'chunked', 'Connection': 'keep-alive', 'Vary': 'Accept-Encoding', 'X-Powered-By': 'PHP/5.6.14', 'Access-Control-Allow-Origin': '*', 'Access-Control-Allow-Headers': 'X-Requested-With', 'Access-Control-Allow-Methods': 'GET,POST,OPTIONS', 'Content-Encoding': 'gzip'}\n"
     ]
    },
    {
     "name": "stderr",
     "output_type": "stream",
     "text": [
      "/Users/shenxibo/anaconda3/lib/python3.6/site-packages/urllib3/connectionpool.py:858: InsecureRequestWarning: Unverified HTTPS request is being made. Adding certificate verification is strongly advised. See: https://urllib3.readthedocs.io/en/latest/advanced-usage.html#ssl-warnings\n",
      "  InsecureRequestWarning)\n"
     ]
    },
    {
     "name": "stdout",
     "output_type": "stream",
     "text": [
      "151 ---  153 ---  {'Date': 'Fri, 23 Nov 2018 06:54:00 GMT', 'Content-Type': 'text/html;charset=utf-8', 'Transfer-Encoding': 'chunked', 'Connection': 'keep-alive', 'Vary': 'Accept-Encoding', 'X-Powered-By': 'PHP/5.6.14', 'Access-Control-Allow-Origin': '*', 'Access-Control-Allow-Headers': 'X-Requested-With', 'Access-Control-Allow-Methods': 'GET,POST,OPTIONS', 'Content-Encoding': 'gzip'}\n"
     ]
    },
    {
     "name": "stderr",
     "output_type": "stream",
     "text": [
      "/Users/shenxibo/anaconda3/lib/python3.6/site-packages/urllib3/connectionpool.py:858: InsecureRequestWarning: Unverified HTTPS request is being made. Adding certificate verification is strongly advised. See: https://urllib3.readthedocs.io/en/latest/advanced-usage.html#ssl-warnings\n",
      "  InsecureRequestWarning)\n"
     ]
    },
    {
     "name": "stdout",
     "output_type": "stream",
     "text": [
      "152 ---  154 ---  {'Date': 'Fri, 23 Nov 2018 06:54:00 GMT', 'Content-Type': 'text/html;charset=utf-8', 'Transfer-Encoding': 'chunked', 'Connection': 'keep-alive', 'Vary': 'Accept-Encoding', 'X-Powered-By': 'PHP/5.6.14', 'Access-Control-Allow-Origin': '*', 'Access-Control-Allow-Headers': 'X-Requested-With', 'Access-Control-Allow-Methods': 'GET,POST,OPTIONS', 'Content-Encoding': 'gzip'}\n"
     ]
    },
    {
     "name": "stderr",
     "output_type": "stream",
     "text": [
      "/Users/shenxibo/anaconda3/lib/python3.6/site-packages/urllib3/connectionpool.py:858: InsecureRequestWarning: Unverified HTTPS request is being made. Adding certificate verification is strongly advised. See: https://urllib3.readthedocs.io/en/latest/advanced-usage.html#ssl-warnings\n",
      "  InsecureRequestWarning)\n"
     ]
    },
    {
     "name": "stdout",
     "output_type": "stream",
     "text": [
      "153 ---  155 ---  {'Date': 'Fri, 23 Nov 2018 06:54:00 GMT', 'Content-Type': 'text/html;charset=utf-8', 'Transfer-Encoding': 'chunked', 'Connection': 'keep-alive', 'Vary': 'Accept-Encoding', 'X-Powered-By': 'PHP/5.6.14', 'Access-Control-Allow-Origin': '*', 'Access-Control-Allow-Headers': 'X-Requested-With', 'Access-Control-Allow-Methods': 'GET,POST,OPTIONS', 'Content-Encoding': 'gzip'}\n"
     ]
    },
    {
     "name": "stderr",
     "output_type": "stream",
     "text": [
      "/Users/shenxibo/anaconda3/lib/python3.6/site-packages/urllib3/connectionpool.py:858: InsecureRequestWarning: Unverified HTTPS request is being made. Adding certificate verification is strongly advised. See: https://urllib3.readthedocs.io/en/latest/advanced-usage.html#ssl-warnings\n",
      "  InsecureRequestWarning)\n"
     ]
    },
    {
     "name": "stdout",
     "output_type": "stream",
     "text": [
      "154 ---  156 ---  {'Date': 'Fri, 23 Nov 2018 06:54:01 GMT', 'Content-Type': 'text/html;charset=utf-8', 'Transfer-Encoding': 'chunked', 'Connection': 'keep-alive', 'Vary': 'Accept-Encoding', 'X-Powered-By': 'PHP/5.6.14', 'Access-Control-Allow-Origin': '*', 'Access-Control-Allow-Headers': 'X-Requested-With', 'Access-Control-Allow-Methods': 'GET,POST,OPTIONS', 'Content-Encoding': 'gzip'}\n"
     ]
    },
    {
     "name": "stderr",
     "output_type": "stream",
     "text": [
      "/Users/shenxibo/anaconda3/lib/python3.6/site-packages/urllib3/connectionpool.py:858: InsecureRequestWarning: Unverified HTTPS request is being made. Adding certificate verification is strongly advised. See: https://urllib3.readthedocs.io/en/latest/advanced-usage.html#ssl-warnings\n",
      "  InsecureRequestWarning)\n"
     ]
    },
    {
     "name": "stdout",
     "output_type": "stream",
     "text": [
      "155 ---  157 ---  {'Date': 'Fri, 23 Nov 2018 06:54:01 GMT', 'Content-Type': 'text/html;charset=utf-8', 'Transfer-Encoding': 'chunked', 'Connection': 'keep-alive', 'Vary': 'Accept-Encoding', 'X-Powered-By': 'PHP/5.6.14', 'Access-Control-Allow-Origin': '*', 'Access-Control-Allow-Headers': 'X-Requested-With', 'Access-Control-Allow-Methods': 'GET,POST,OPTIONS', 'Content-Encoding': 'gzip'}\n"
     ]
    },
    {
     "name": "stderr",
     "output_type": "stream",
     "text": [
      "/Users/shenxibo/anaconda3/lib/python3.6/site-packages/urllib3/connectionpool.py:858: InsecureRequestWarning: Unverified HTTPS request is being made. Adding certificate verification is strongly advised. See: https://urllib3.readthedocs.io/en/latest/advanced-usage.html#ssl-warnings\n",
      "  InsecureRequestWarning)\n"
     ]
    },
    {
     "name": "stdout",
     "output_type": "stream",
     "text": [
      "156 ---  158 ---  {'Date': 'Fri, 23 Nov 2018 06:54:01 GMT', 'Content-Type': 'text/html;charset=utf-8', 'Transfer-Encoding': 'chunked', 'Connection': 'keep-alive', 'Vary': 'Accept-Encoding', 'X-Powered-By': 'PHP/5.6.14', 'Access-Control-Allow-Origin': '*', 'Access-Control-Allow-Headers': 'X-Requested-With', 'Access-Control-Allow-Methods': 'GET,POST,OPTIONS', 'Content-Encoding': 'gzip'}\n"
     ]
    },
    {
     "name": "stderr",
     "output_type": "stream",
     "text": [
      "/Users/shenxibo/anaconda3/lib/python3.6/site-packages/urllib3/connectionpool.py:858: InsecureRequestWarning: Unverified HTTPS request is being made. Adding certificate verification is strongly advised. See: https://urllib3.readthedocs.io/en/latest/advanced-usage.html#ssl-warnings\n",
      "  InsecureRequestWarning)\n"
     ]
    },
    {
     "name": "stdout",
     "output_type": "stream",
     "text": [
      "157 ---  159 ---  {'Date': 'Fri, 23 Nov 2018 06:54:02 GMT', 'Content-Type': 'text/html;charset=utf-8', 'Transfer-Encoding': 'chunked', 'Connection': 'keep-alive', 'Vary': 'Accept-Encoding', 'X-Powered-By': 'PHP/5.6.14', 'Access-Control-Allow-Origin': '*', 'Access-Control-Allow-Headers': 'X-Requested-With', 'Access-Control-Allow-Methods': 'GET,POST,OPTIONS', 'Content-Encoding': 'gzip'}\n"
     ]
    },
    {
     "name": "stderr",
     "output_type": "stream",
     "text": [
      "/Users/shenxibo/anaconda3/lib/python3.6/site-packages/urllib3/connectionpool.py:858: InsecureRequestWarning: Unverified HTTPS request is being made. Adding certificate verification is strongly advised. See: https://urllib3.readthedocs.io/en/latest/advanced-usage.html#ssl-warnings\n",
      "  InsecureRequestWarning)\n"
     ]
    },
    {
     "name": "stdout",
     "output_type": "stream",
     "text": [
      "158 ---  160 ---  {'Date': 'Fri, 23 Nov 2018 06:54:02 GMT', 'Content-Type': 'text/html;charset=utf-8', 'Transfer-Encoding': 'chunked', 'Connection': 'keep-alive', 'Vary': 'Accept-Encoding', 'X-Powered-By': 'PHP/5.6.14', 'Access-Control-Allow-Origin': '*', 'Access-Control-Allow-Headers': 'X-Requested-With', 'Access-Control-Allow-Methods': 'GET,POST,OPTIONS', 'Content-Encoding': 'gzip'}\n"
     ]
    },
    {
     "name": "stderr",
     "output_type": "stream",
     "text": [
      "/Users/shenxibo/anaconda3/lib/python3.6/site-packages/urllib3/connectionpool.py:858: InsecureRequestWarning: Unverified HTTPS request is being made. Adding certificate verification is strongly advised. See: https://urllib3.readthedocs.io/en/latest/advanced-usage.html#ssl-warnings\n",
      "  InsecureRequestWarning)\n"
     ]
    },
    {
     "name": "stdout",
     "output_type": "stream",
     "text": [
      "159 ---  161 ---  {'Date': 'Fri, 23 Nov 2018 06:54:03 GMT', 'Content-Type': 'text/html;charset=utf-8', 'Transfer-Encoding': 'chunked', 'Connection': 'keep-alive', 'Vary': 'Accept-Encoding', 'X-Powered-By': 'PHP/5.6.14', 'Access-Control-Allow-Origin': '*', 'Access-Control-Allow-Headers': 'X-Requested-With', 'Access-Control-Allow-Methods': 'GET,POST,OPTIONS', 'Content-Encoding': 'gzip'}\n"
     ]
    },
    {
     "name": "stderr",
     "output_type": "stream",
     "text": [
      "/Users/shenxibo/anaconda3/lib/python3.6/site-packages/urllib3/connectionpool.py:858: InsecureRequestWarning: Unverified HTTPS request is being made. Adding certificate verification is strongly advised. See: https://urllib3.readthedocs.io/en/latest/advanced-usage.html#ssl-warnings\n",
      "  InsecureRequestWarning)\n"
     ]
    },
    {
     "name": "stdout",
     "output_type": "stream",
     "text": [
      "160 ---  162 ---  {'Date': 'Fri, 23 Nov 2018 06:54:04 GMT', 'Content-Type': 'text/html;charset=utf-8', 'Transfer-Encoding': 'chunked', 'Connection': 'keep-alive', 'Vary': 'Accept-Encoding', 'X-Powered-By': 'PHP/5.6.14', 'Access-Control-Allow-Origin': '*', 'Access-Control-Allow-Headers': 'X-Requested-With', 'Access-Control-Allow-Methods': 'GET,POST,OPTIONS', 'Content-Encoding': 'gzip'}\n"
     ]
    },
    {
     "name": "stderr",
     "output_type": "stream",
     "text": [
      "/Users/shenxibo/anaconda3/lib/python3.6/site-packages/urllib3/connectionpool.py:858: InsecureRequestWarning: Unverified HTTPS request is being made. Adding certificate verification is strongly advised. See: https://urllib3.readthedocs.io/en/latest/advanced-usage.html#ssl-warnings\n",
      "  InsecureRequestWarning)\n"
     ]
    },
    {
     "name": "stdout",
     "output_type": "stream",
     "text": [
      "161 ---  163 ---  {'Date': 'Fri, 23 Nov 2018 06:54:04 GMT', 'Content-Type': 'text/html;charset=utf-8', 'Transfer-Encoding': 'chunked', 'Connection': 'keep-alive', 'Vary': 'Accept-Encoding', 'X-Powered-By': 'PHP/5.6.14', 'Access-Control-Allow-Origin': '*', 'Access-Control-Allow-Headers': 'X-Requested-With', 'Access-Control-Allow-Methods': 'GET,POST,OPTIONS', 'Content-Encoding': 'gzip'}\n"
     ]
    },
    {
     "name": "stderr",
     "output_type": "stream",
     "text": [
      "/Users/shenxibo/anaconda3/lib/python3.6/site-packages/urllib3/connectionpool.py:858: InsecureRequestWarning: Unverified HTTPS request is being made. Adding certificate verification is strongly advised. See: https://urllib3.readthedocs.io/en/latest/advanced-usage.html#ssl-warnings\n",
      "  InsecureRequestWarning)\n"
     ]
    },
    {
     "name": "stdout",
     "output_type": "stream",
     "text": [
      "162 ---  164 ---  {'Date': 'Fri, 23 Nov 2018 06:54:05 GMT', 'Content-Type': 'text/html;charset=utf-8', 'Transfer-Encoding': 'chunked', 'Connection': 'keep-alive', 'Vary': 'Accept-Encoding', 'X-Powered-By': 'PHP/5.6.14', 'Access-Control-Allow-Origin': '*', 'Access-Control-Allow-Headers': 'X-Requested-With', 'Access-Control-Allow-Methods': 'GET,POST,OPTIONS', 'Content-Encoding': 'gzip'}\n"
     ]
    },
    {
     "name": "stderr",
     "output_type": "stream",
     "text": [
      "/Users/shenxibo/anaconda3/lib/python3.6/site-packages/urllib3/connectionpool.py:858: InsecureRequestWarning: Unverified HTTPS request is being made. Adding certificate verification is strongly advised. See: https://urllib3.readthedocs.io/en/latest/advanced-usage.html#ssl-warnings\n",
      "  InsecureRequestWarning)\n"
     ]
    },
    {
     "name": "stdout",
     "output_type": "stream",
     "text": [
      "163 ---  165 ---  {'Date': 'Fri, 23 Nov 2018 06:54:05 GMT', 'Content-Type': 'text/html;charset=utf-8', 'Transfer-Encoding': 'chunked', 'Connection': 'keep-alive', 'Vary': 'Accept-Encoding', 'X-Powered-By': 'PHP/5.6.14', 'Access-Control-Allow-Origin': '*', 'Access-Control-Allow-Headers': 'X-Requested-With', 'Access-Control-Allow-Methods': 'GET,POST,OPTIONS', 'Content-Encoding': 'gzip'}\n"
     ]
    },
    {
     "name": "stderr",
     "output_type": "stream",
     "text": [
      "/Users/shenxibo/anaconda3/lib/python3.6/site-packages/urllib3/connectionpool.py:858: InsecureRequestWarning: Unverified HTTPS request is being made. Adding certificate verification is strongly advised. See: https://urllib3.readthedocs.io/en/latest/advanced-usage.html#ssl-warnings\n",
      "  InsecureRequestWarning)\n"
     ]
    },
    {
     "name": "stdout",
     "output_type": "stream",
     "text": [
      "164 ---  166 ---  {'Date': 'Fri, 23 Nov 2018 06:54:05 GMT', 'Content-Type': 'text/html;charset=utf-8', 'Transfer-Encoding': 'chunked', 'Connection': 'keep-alive', 'Vary': 'Accept-Encoding', 'X-Powered-By': 'PHP/5.6.14', 'Access-Control-Allow-Origin': '*', 'Access-Control-Allow-Headers': 'X-Requested-With', 'Access-Control-Allow-Methods': 'GET,POST,OPTIONS', 'Content-Encoding': 'gzip'}\n"
     ]
    },
    {
     "name": "stderr",
     "output_type": "stream",
     "text": [
      "/Users/shenxibo/anaconda3/lib/python3.6/site-packages/urllib3/connectionpool.py:858: InsecureRequestWarning: Unverified HTTPS request is being made. Adding certificate verification is strongly advised. See: https://urllib3.readthedocs.io/en/latest/advanced-usage.html#ssl-warnings\n",
      "  InsecureRequestWarning)\n"
     ]
    },
    {
     "name": "stdout",
     "output_type": "stream",
     "text": [
      "165 ---  167 ---  {'Date': 'Fri, 23 Nov 2018 06:54:06 GMT', 'Content-Type': 'text/html;charset=utf-8', 'Transfer-Encoding': 'chunked', 'Connection': 'keep-alive', 'Vary': 'Accept-Encoding', 'X-Powered-By': 'PHP/5.6.14', 'Access-Control-Allow-Origin': '*', 'Access-Control-Allow-Headers': 'X-Requested-With', 'Access-Control-Allow-Methods': 'GET,POST,OPTIONS', 'Content-Encoding': 'gzip'}\n"
     ]
    },
    {
     "name": "stderr",
     "output_type": "stream",
     "text": [
      "/Users/shenxibo/anaconda3/lib/python3.6/site-packages/urllib3/connectionpool.py:858: InsecureRequestWarning: Unverified HTTPS request is being made. Adding certificate verification is strongly advised. See: https://urllib3.readthedocs.io/en/latest/advanced-usage.html#ssl-warnings\n",
      "  InsecureRequestWarning)\n"
     ]
    },
    {
     "name": "stdout",
     "output_type": "stream",
     "text": [
      "166 ---  168 ---  {'Date': 'Fri, 23 Nov 2018 06:54:06 GMT', 'Content-Type': 'text/html;charset=utf-8', 'Transfer-Encoding': 'chunked', 'Connection': 'keep-alive', 'Vary': 'Accept-Encoding', 'X-Powered-By': 'PHP/5.6.14', 'Access-Control-Allow-Origin': '*', 'Access-Control-Allow-Headers': 'X-Requested-With', 'Access-Control-Allow-Methods': 'GET,POST,OPTIONS', 'Content-Encoding': 'gzip'}\n"
     ]
    },
    {
     "name": "stderr",
     "output_type": "stream",
     "text": [
      "/Users/shenxibo/anaconda3/lib/python3.6/site-packages/urllib3/connectionpool.py:858: InsecureRequestWarning: Unverified HTTPS request is being made. Adding certificate verification is strongly advised. See: https://urllib3.readthedocs.io/en/latest/advanced-usage.html#ssl-warnings\n",
      "  InsecureRequestWarning)\n"
     ]
    },
    {
     "name": "stdout",
     "output_type": "stream",
     "text": [
      "167 ---  169 ---  {'Date': 'Fri, 23 Nov 2018 06:54:06 GMT', 'Content-Type': 'text/html;charset=utf-8', 'Transfer-Encoding': 'chunked', 'Connection': 'keep-alive', 'Vary': 'Accept-Encoding', 'X-Powered-By': 'PHP/5.6.14', 'Access-Control-Allow-Origin': '*', 'Access-Control-Allow-Headers': 'X-Requested-With', 'Access-Control-Allow-Methods': 'GET,POST,OPTIONS', 'Content-Encoding': 'gzip'}\n"
     ]
    },
    {
     "name": "stderr",
     "output_type": "stream",
     "text": [
      "/Users/shenxibo/anaconda3/lib/python3.6/site-packages/urllib3/connectionpool.py:858: InsecureRequestWarning: Unverified HTTPS request is being made. Adding certificate verification is strongly advised. See: https://urllib3.readthedocs.io/en/latest/advanced-usage.html#ssl-warnings\n",
      "  InsecureRequestWarning)\n"
     ]
    },
    {
     "name": "stdout",
     "output_type": "stream",
     "text": [
      "168 ---  170 ---  {'Date': 'Fri, 23 Nov 2018 06:54:06 GMT', 'Content-Type': 'text/html;charset=utf-8', 'Transfer-Encoding': 'chunked', 'Connection': 'keep-alive', 'Vary': 'Accept-Encoding', 'X-Powered-By': 'PHP/5.6.14', 'Access-Control-Allow-Origin': '*', 'Access-Control-Allow-Headers': 'X-Requested-With', 'Access-Control-Allow-Methods': 'GET,POST,OPTIONS', 'Content-Encoding': 'gzip'}\n"
     ]
    },
    {
     "name": "stderr",
     "output_type": "stream",
     "text": [
      "/Users/shenxibo/anaconda3/lib/python3.6/site-packages/urllib3/connectionpool.py:858: InsecureRequestWarning: Unverified HTTPS request is being made. Adding certificate verification is strongly advised. See: https://urllib3.readthedocs.io/en/latest/advanced-usage.html#ssl-warnings\n",
      "  InsecureRequestWarning)\n"
     ]
    },
    {
     "name": "stdout",
     "output_type": "stream",
     "text": [
      "169 ---  171 ---  {'Date': 'Fri, 23 Nov 2018 06:54:07 GMT', 'Content-Type': 'text/html;charset=utf-8', 'Transfer-Encoding': 'chunked', 'Connection': 'keep-alive', 'Vary': 'Accept-Encoding', 'X-Powered-By': 'PHP/5.6.14', 'Access-Control-Allow-Origin': '*', 'Access-Control-Allow-Headers': 'X-Requested-With', 'Access-Control-Allow-Methods': 'GET,POST,OPTIONS', 'Content-Encoding': 'gzip'}\n"
     ]
    },
    {
     "name": "stderr",
     "output_type": "stream",
     "text": [
      "/Users/shenxibo/anaconda3/lib/python3.6/site-packages/urllib3/connectionpool.py:858: InsecureRequestWarning: Unverified HTTPS request is being made. Adding certificate verification is strongly advised. See: https://urllib3.readthedocs.io/en/latest/advanced-usage.html#ssl-warnings\n",
      "  InsecureRequestWarning)\n"
     ]
    },
    {
     "name": "stdout",
     "output_type": "stream",
     "text": [
      "170 ---  172 ---  {'Date': 'Fri, 23 Nov 2018 06:54:07 GMT', 'Content-Type': 'text/html;charset=utf-8', 'Transfer-Encoding': 'chunked', 'Connection': 'keep-alive', 'Vary': 'Accept-Encoding', 'X-Powered-By': 'PHP/5.6.14', 'Access-Control-Allow-Origin': '*', 'Access-Control-Allow-Headers': 'X-Requested-With', 'Access-Control-Allow-Methods': 'GET,POST,OPTIONS', 'Content-Encoding': 'gzip'}\n"
     ]
    },
    {
     "name": "stderr",
     "output_type": "stream",
     "text": [
      "/Users/shenxibo/anaconda3/lib/python3.6/site-packages/urllib3/connectionpool.py:858: InsecureRequestWarning: Unverified HTTPS request is being made. Adding certificate verification is strongly advised. See: https://urllib3.readthedocs.io/en/latest/advanced-usage.html#ssl-warnings\n",
      "  InsecureRequestWarning)\n"
     ]
    },
    {
     "name": "stdout",
     "output_type": "stream",
     "text": [
      "171 ---  173 ---  {'Date': 'Fri, 23 Nov 2018 06:54:07 GMT', 'Content-Type': 'text/html;charset=utf-8', 'Transfer-Encoding': 'chunked', 'Connection': 'keep-alive', 'Vary': 'Accept-Encoding', 'X-Powered-By': 'PHP/5.6.14', 'Access-Control-Allow-Origin': '*', 'Access-Control-Allow-Headers': 'X-Requested-With', 'Access-Control-Allow-Methods': 'GET,POST,OPTIONS', 'Content-Encoding': 'gzip'}\n"
     ]
    },
    {
     "name": "stderr",
     "output_type": "stream",
     "text": [
      "/Users/shenxibo/anaconda3/lib/python3.6/site-packages/urllib3/connectionpool.py:858: InsecureRequestWarning: Unverified HTTPS request is being made. Adding certificate verification is strongly advised. See: https://urllib3.readthedocs.io/en/latest/advanced-usage.html#ssl-warnings\n",
      "  InsecureRequestWarning)\n"
     ]
    },
    {
     "name": "stdout",
     "output_type": "stream",
     "text": [
      "172 ---  174 ---  {'Date': 'Fri, 23 Nov 2018 06:54:07 GMT', 'Content-Type': 'text/html;charset=utf-8', 'Transfer-Encoding': 'chunked', 'Connection': 'keep-alive', 'Vary': 'Accept-Encoding', 'X-Powered-By': 'PHP/5.6.14', 'Access-Control-Allow-Origin': '*', 'Access-Control-Allow-Headers': 'X-Requested-With', 'Access-Control-Allow-Methods': 'GET,POST,OPTIONS', 'Content-Encoding': 'gzip'}\n"
     ]
    },
    {
     "name": "stderr",
     "output_type": "stream",
     "text": [
      "/Users/shenxibo/anaconda3/lib/python3.6/site-packages/urllib3/connectionpool.py:858: InsecureRequestWarning: Unverified HTTPS request is being made. Adding certificate verification is strongly advised. See: https://urllib3.readthedocs.io/en/latest/advanced-usage.html#ssl-warnings\n",
      "  InsecureRequestWarning)\n"
     ]
    },
    {
     "name": "stdout",
     "output_type": "stream",
     "text": [
      "173 ---  175 ---  {'Date': 'Fri, 23 Nov 2018 06:54:08 GMT', 'Content-Type': 'text/html;charset=utf-8', 'Transfer-Encoding': 'chunked', 'Connection': 'keep-alive', 'Vary': 'Accept-Encoding', 'X-Powered-By': 'PHP/5.6.14', 'Access-Control-Allow-Origin': '*', 'Access-Control-Allow-Headers': 'X-Requested-With', 'Access-Control-Allow-Methods': 'GET,POST,OPTIONS', 'Content-Encoding': 'gzip'}\n"
     ]
    },
    {
     "name": "stderr",
     "output_type": "stream",
     "text": [
      "/Users/shenxibo/anaconda3/lib/python3.6/site-packages/urllib3/connectionpool.py:858: InsecureRequestWarning: Unverified HTTPS request is being made. Adding certificate verification is strongly advised. See: https://urllib3.readthedocs.io/en/latest/advanced-usage.html#ssl-warnings\n",
      "  InsecureRequestWarning)\n"
     ]
    },
    {
     "name": "stdout",
     "output_type": "stream",
     "text": [
      "174 ---  176 ---  {'Date': 'Fri, 23 Nov 2018 06:54:08 GMT', 'Content-Type': 'text/html;charset=utf-8', 'Transfer-Encoding': 'chunked', 'Connection': 'keep-alive', 'Vary': 'Accept-Encoding', 'X-Powered-By': 'PHP/5.6.14', 'Access-Control-Allow-Origin': '*', 'Access-Control-Allow-Headers': 'X-Requested-With', 'Access-Control-Allow-Methods': 'GET,POST,OPTIONS', 'Content-Encoding': 'gzip'}\n"
     ]
    },
    {
     "name": "stderr",
     "output_type": "stream",
     "text": [
      "/Users/shenxibo/anaconda3/lib/python3.6/site-packages/urllib3/connectionpool.py:858: InsecureRequestWarning: Unverified HTTPS request is being made. Adding certificate verification is strongly advised. See: https://urllib3.readthedocs.io/en/latest/advanced-usage.html#ssl-warnings\n",
      "  InsecureRequestWarning)\n"
     ]
    },
    {
     "name": "stdout",
     "output_type": "stream",
     "text": [
      "175 ---  177 ---  {'Date': 'Fri, 23 Nov 2018 06:54:08 GMT', 'Content-Type': 'text/html;charset=utf-8', 'Transfer-Encoding': 'chunked', 'Connection': 'keep-alive', 'Vary': 'Accept-Encoding', 'X-Powered-By': 'PHP/5.6.14', 'Access-Control-Allow-Origin': '*', 'Access-Control-Allow-Headers': 'X-Requested-With', 'Access-Control-Allow-Methods': 'GET,POST,OPTIONS', 'Content-Encoding': 'gzip'}\n"
     ]
    },
    {
     "name": "stderr",
     "output_type": "stream",
     "text": [
      "/Users/shenxibo/anaconda3/lib/python3.6/site-packages/urllib3/connectionpool.py:858: InsecureRequestWarning: Unverified HTTPS request is being made. Adding certificate verification is strongly advised. See: https://urllib3.readthedocs.io/en/latest/advanced-usage.html#ssl-warnings\n",
      "  InsecureRequestWarning)\n"
     ]
    },
    {
     "name": "stdout",
     "output_type": "stream",
     "text": [
      "176 ---  178 ---  {'Date': 'Fri, 23 Nov 2018 06:54:09 GMT', 'Content-Type': 'text/html;charset=utf-8', 'Transfer-Encoding': 'chunked', 'Connection': 'keep-alive', 'Vary': 'Accept-Encoding', 'X-Powered-By': 'PHP/5.6.14', 'Access-Control-Allow-Origin': '*', 'Access-Control-Allow-Headers': 'X-Requested-With', 'Access-Control-Allow-Methods': 'GET,POST,OPTIONS', 'Content-Encoding': 'gzip'}\n"
     ]
    },
    {
     "name": "stderr",
     "output_type": "stream",
     "text": [
      "/Users/shenxibo/anaconda3/lib/python3.6/site-packages/urllib3/connectionpool.py:858: InsecureRequestWarning: Unverified HTTPS request is being made. Adding certificate verification is strongly advised. See: https://urllib3.readthedocs.io/en/latest/advanced-usage.html#ssl-warnings\n",
      "  InsecureRequestWarning)\n"
     ]
    },
    {
     "name": "stdout",
     "output_type": "stream",
     "text": [
      "177 ---  179 ---  {'Date': 'Fri, 23 Nov 2018 06:54:09 GMT', 'Content-Type': 'text/html;charset=utf-8', 'Transfer-Encoding': 'chunked', 'Connection': 'keep-alive', 'Vary': 'Accept-Encoding', 'X-Powered-By': 'PHP/5.6.14', 'Access-Control-Allow-Origin': '*', 'Access-Control-Allow-Headers': 'X-Requested-With', 'Access-Control-Allow-Methods': 'GET,POST,OPTIONS', 'Content-Encoding': 'gzip'}\n"
     ]
    },
    {
     "name": "stderr",
     "output_type": "stream",
     "text": [
      "/Users/shenxibo/anaconda3/lib/python3.6/site-packages/urllib3/connectionpool.py:858: InsecureRequestWarning: Unverified HTTPS request is being made. Adding certificate verification is strongly advised. See: https://urllib3.readthedocs.io/en/latest/advanced-usage.html#ssl-warnings\n",
      "  InsecureRequestWarning)\n"
     ]
    },
    {
     "name": "stdout",
     "output_type": "stream",
     "text": [
      "178 ---  180 ---  {'Date': 'Fri, 23 Nov 2018 06:54:09 GMT', 'Content-Type': 'text/html;charset=utf-8', 'Transfer-Encoding': 'chunked', 'Connection': 'keep-alive', 'Vary': 'Accept-Encoding', 'X-Powered-By': 'PHP/5.6.14', 'Access-Control-Allow-Origin': '*', 'Access-Control-Allow-Headers': 'X-Requested-With', 'Access-Control-Allow-Methods': 'GET,POST,OPTIONS', 'Content-Encoding': 'gzip'}\n"
     ]
    },
    {
     "name": "stderr",
     "output_type": "stream",
     "text": [
      "/Users/shenxibo/anaconda3/lib/python3.6/site-packages/urllib3/connectionpool.py:858: InsecureRequestWarning: Unverified HTTPS request is being made. Adding certificate verification is strongly advised. See: https://urllib3.readthedocs.io/en/latest/advanced-usage.html#ssl-warnings\n",
      "  InsecureRequestWarning)\n"
     ]
    },
    {
     "name": "stdout",
     "output_type": "stream",
     "text": [
      "179 ---  181 ---  {'Date': 'Fri, 23 Nov 2018 06:54:09 GMT', 'Content-Type': 'text/html;charset=utf-8', 'Transfer-Encoding': 'chunked', 'Connection': 'keep-alive', 'Vary': 'Accept-Encoding', 'X-Powered-By': 'PHP/5.6.14', 'Access-Control-Allow-Origin': '*', 'Access-Control-Allow-Headers': 'X-Requested-With', 'Access-Control-Allow-Methods': 'GET,POST,OPTIONS', 'Content-Encoding': 'gzip'}\n"
     ]
    },
    {
     "name": "stderr",
     "output_type": "stream",
     "text": [
      "/Users/shenxibo/anaconda3/lib/python3.6/site-packages/urllib3/connectionpool.py:858: InsecureRequestWarning: Unverified HTTPS request is being made. Adding certificate verification is strongly advised. See: https://urllib3.readthedocs.io/en/latest/advanced-usage.html#ssl-warnings\n",
      "  InsecureRequestWarning)\n"
     ]
    },
    {
     "name": "stdout",
     "output_type": "stream",
     "text": [
      "180 ---  182 ---  {'Date': 'Fri, 23 Nov 2018 06:54:10 GMT', 'Content-Type': 'text/html;charset=utf-8', 'Transfer-Encoding': 'chunked', 'Connection': 'keep-alive', 'Vary': 'Accept-Encoding', 'X-Powered-By': 'PHP/5.6.14', 'Access-Control-Allow-Origin': '*', 'Access-Control-Allow-Headers': 'X-Requested-With', 'Access-Control-Allow-Methods': 'GET,POST,OPTIONS', 'Content-Encoding': 'gzip'}\n"
     ]
    },
    {
     "name": "stderr",
     "output_type": "stream",
     "text": [
      "/Users/shenxibo/anaconda3/lib/python3.6/site-packages/urllib3/connectionpool.py:858: InsecureRequestWarning: Unverified HTTPS request is being made. Adding certificate verification is strongly advised. See: https://urllib3.readthedocs.io/en/latest/advanced-usage.html#ssl-warnings\n",
      "  InsecureRequestWarning)\n",
      "/Users/shenxibo/anaconda3/lib/python3.6/site-packages/urllib3/connectionpool.py:858: InsecureRequestWarning: Unverified HTTPS request is being made. Adding certificate verification is strongly advised. See: https://urllib3.readthedocs.io/en/latest/advanced-usage.html#ssl-warnings\n",
      "  InsecureRequestWarning)\n"
     ]
    },
    {
     "name": "stdout",
     "output_type": "stream",
     "text": [
      "181 ---  183 ---  {'Date': 'Fri, 23 Nov 2018 06:54:10 GMT', 'Content-Type': 'text/html;charset=utf-8', 'Transfer-Encoding': 'chunked', 'Connection': 'keep-alive', 'Vary': 'Accept-Encoding', 'X-Powered-By': 'PHP/5.6.14', 'Access-Control-Allow-Origin': '*', 'Access-Control-Allow-Headers': 'X-Requested-With', 'Access-Control-Allow-Methods': 'GET,POST,OPTIONS', 'Content-Encoding': 'gzip'}\n",
      "182 ---  184 ---  {'Date': 'Fri, 23 Nov 2018 06:54:10 GMT', 'Content-Type': 'text/html;charset=utf-8', 'Transfer-Encoding': 'chunked', 'Connection': 'keep-alive', 'Vary': 'Accept-Encoding', 'X-Powered-By': 'PHP/5.6.14', 'Access-Control-Allow-Origin': '*', 'Access-Control-Allow-Headers': 'X-Requested-With', 'Access-Control-Allow-Methods': 'GET,POST,OPTIONS', 'Content-Encoding': 'gzip'}\n"
     ]
    },
    {
     "name": "stderr",
     "output_type": "stream",
     "text": [
      "/Users/shenxibo/anaconda3/lib/python3.6/site-packages/urllib3/connectionpool.py:858: InsecureRequestWarning: Unverified HTTPS request is being made. Adding certificate verification is strongly advised. See: https://urllib3.readthedocs.io/en/latest/advanced-usage.html#ssl-warnings\n",
      "  InsecureRequestWarning)\n"
     ]
    },
    {
     "name": "stdout",
     "output_type": "stream",
     "text": [
      "183 ---  185 ---  {'Date': 'Fri, 23 Nov 2018 06:54:10 GMT', 'Content-Type': 'text/html;charset=utf-8', 'Transfer-Encoding': 'chunked', 'Connection': 'keep-alive', 'Vary': 'Accept-Encoding', 'X-Powered-By': 'PHP/5.6.14', 'Access-Control-Allow-Origin': '*', 'Access-Control-Allow-Headers': 'X-Requested-With', 'Access-Control-Allow-Methods': 'GET,POST,OPTIONS', 'Content-Encoding': 'gzip'}\n"
     ]
    },
    {
     "name": "stderr",
     "output_type": "stream",
     "text": [
      "/Users/shenxibo/anaconda3/lib/python3.6/site-packages/urllib3/connectionpool.py:858: InsecureRequestWarning: Unverified HTTPS request is being made. Adding certificate verification is strongly advised. See: https://urllib3.readthedocs.io/en/latest/advanced-usage.html#ssl-warnings\n",
      "  InsecureRequestWarning)\n",
      "/Users/shenxibo/anaconda3/lib/python3.6/site-packages/urllib3/connectionpool.py:858: InsecureRequestWarning: Unverified HTTPS request is being made. Adding certificate verification is strongly advised. See: https://urllib3.readthedocs.io/en/latest/advanced-usage.html#ssl-warnings\n",
      "  InsecureRequestWarning)\n"
     ]
    },
    {
     "name": "stdout",
     "output_type": "stream",
     "text": [
      "184 ---  186 ---  {'Date': 'Fri, 23 Nov 2018 06:54:11 GMT', 'Content-Type': 'text/html;charset=utf-8', 'Transfer-Encoding': 'chunked', 'Connection': 'keep-alive', 'Vary': 'Accept-Encoding', 'X-Powered-By': 'PHP/5.6.14', 'Access-Control-Allow-Origin': '*', 'Access-Control-Allow-Headers': 'X-Requested-With', 'Access-Control-Allow-Methods': 'GET,POST,OPTIONS', 'Content-Encoding': 'gzip'}\n",
      "185 ---  187 ---  {'Date': 'Fri, 23 Nov 2018 06:54:11 GMT', 'Content-Type': 'text/html;charset=utf-8', 'Transfer-Encoding': 'chunked', 'Connection': 'keep-alive', 'Vary': 'Accept-Encoding', 'X-Powered-By': 'PHP/5.6.14', 'Access-Control-Allow-Origin': '*', 'Access-Control-Allow-Headers': 'X-Requested-With', 'Access-Control-Allow-Methods': 'GET,POST,OPTIONS', 'Content-Encoding': 'gzip'}\n"
     ]
    },
    {
     "name": "stderr",
     "output_type": "stream",
     "text": [
      "/Users/shenxibo/anaconda3/lib/python3.6/site-packages/urllib3/connectionpool.py:858: InsecureRequestWarning: Unverified HTTPS request is being made. Adding certificate verification is strongly advised. See: https://urllib3.readthedocs.io/en/latest/advanced-usage.html#ssl-warnings\n",
      "  InsecureRequestWarning)\n",
      "/Users/shenxibo/anaconda3/lib/python3.6/site-packages/urllib3/connectionpool.py:858: InsecureRequestWarning: Unverified HTTPS request is being made. Adding certificate verification is strongly advised. See: https://urllib3.readthedocs.io/en/latest/advanced-usage.html#ssl-warnings\n",
      "  InsecureRequestWarning)\n"
     ]
    },
    {
     "name": "stdout",
     "output_type": "stream",
     "text": [
      "186 ---  188 ---  {'Date': 'Fri, 23 Nov 2018 06:54:11 GMT', 'Content-Type': 'text/html;charset=utf-8', 'Transfer-Encoding': 'chunked', 'Connection': 'keep-alive', 'Vary': 'Accept-Encoding', 'X-Powered-By': 'PHP/5.6.14', 'Access-Control-Allow-Origin': '*', 'Access-Control-Allow-Headers': 'X-Requested-With', 'Access-Control-Allow-Methods': 'GET,POST,OPTIONS', 'Content-Encoding': 'gzip'}\n",
      "187 ---  189 ---  {'Date': 'Fri, 23 Nov 2018 06:54:11 GMT', 'Content-Type': 'text/html;charset=utf-8', 'Transfer-Encoding': 'chunked', 'Connection': 'keep-alive', 'Vary': 'Accept-Encoding', 'X-Powered-By': 'PHP/5.6.14', 'Access-Control-Allow-Origin': '*', 'Access-Control-Allow-Headers': 'X-Requested-With', 'Access-Control-Allow-Methods': 'GET,POST,OPTIONS', 'Content-Encoding': 'gzip'}\n"
     ]
    },
    {
     "name": "stderr",
     "output_type": "stream",
     "text": [
      "/Users/shenxibo/anaconda3/lib/python3.6/site-packages/urllib3/connectionpool.py:858: InsecureRequestWarning: Unverified HTTPS request is being made. Adding certificate verification is strongly advised. See: https://urllib3.readthedocs.io/en/latest/advanced-usage.html#ssl-warnings\n",
      "  InsecureRequestWarning)\n",
      "/Users/shenxibo/anaconda3/lib/python3.6/site-packages/urllib3/connectionpool.py:858: InsecureRequestWarning: Unverified HTTPS request is being made. Adding certificate verification is strongly advised. See: https://urllib3.readthedocs.io/en/latest/advanced-usage.html#ssl-warnings\n",
      "  InsecureRequestWarning)\n"
     ]
    },
    {
     "name": "stdout",
     "output_type": "stream",
     "text": [
      "188 ---  190 ---  {'Date': 'Fri, 23 Nov 2018 06:54:11 GMT', 'Content-Type': 'text/html;charset=utf-8', 'Transfer-Encoding': 'chunked', 'Connection': 'keep-alive', 'Vary': 'Accept-Encoding', 'X-Powered-By': 'PHP/5.6.14', 'Access-Control-Allow-Origin': '*', 'Access-Control-Allow-Headers': 'X-Requested-With', 'Access-Control-Allow-Methods': 'GET,POST,OPTIONS', 'Content-Encoding': 'gzip'}\n",
      "189 ---  191 ---  {'Date': 'Fri, 23 Nov 2018 06:54:12 GMT', 'Content-Type': 'text/html;charset=utf-8', 'Transfer-Encoding': 'chunked', 'Connection': 'keep-alive', 'Vary': 'Accept-Encoding', 'X-Powered-By': 'PHP/5.6.14', 'Access-Control-Allow-Origin': '*', 'Access-Control-Allow-Headers': 'X-Requested-With', 'Access-Control-Allow-Methods': 'GET,POST,OPTIONS', 'Content-Encoding': 'gzip'}\n"
     ]
    },
    {
     "name": "stderr",
     "output_type": "stream",
     "text": [
      "/Users/shenxibo/anaconda3/lib/python3.6/site-packages/urllib3/connectionpool.py:858: InsecureRequestWarning: Unverified HTTPS request is being made. Adding certificate verification is strongly advised. See: https://urllib3.readthedocs.io/en/latest/advanced-usage.html#ssl-warnings\n",
      "  InsecureRequestWarning)\n"
     ]
    },
    {
     "name": "stdout",
     "output_type": "stream",
     "text": [
      "190 ---  192 ---  {'Date': 'Fri, 23 Nov 2018 06:54:12 GMT', 'Content-Type': 'text/html;charset=utf-8', 'Transfer-Encoding': 'chunked', 'Connection': 'keep-alive', 'Vary': 'Accept-Encoding', 'X-Powered-By': 'PHP/5.6.14', 'Access-Control-Allow-Origin': '*', 'Access-Control-Allow-Headers': 'X-Requested-With', 'Access-Control-Allow-Methods': 'GET,POST,OPTIONS', 'Content-Encoding': 'gzip'}\n"
     ]
    },
    {
     "name": "stderr",
     "output_type": "stream",
     "text": [
      "/Users/shenxibo/anaconda3/lib/python3.6/site-packages/urllib3/connectionpool.py:858: InsecureRequestWarning: Unverified HTTPS request is being made. Adding certificate verification is strongly advised. See: https://urllib3.readthedocs.io/en/latest/advanced-usage.html#ssl-warnings\n",
      "  InsecureRequestWarning)\n"
     ]
    },
    {
     "name": "stdout",
     "output_type": "stream",
     "text": [
      "191 ---  193 ---  {'Date': 'Fri, 23 Nov 2018 06:54:12 GMT', 'Content-Type': 'text/html;charset=utf-8', 'Transfer-Encoding': 'chunked', 'Connection': 'keep-alive', 'Vary': 'Accept-Encoding', 'X-Powered-By': 'PHP/5.6.14', 'Access-Control-Allow-Origin': '*', 'Access-Control-Allow-Headers': 'X-Requested-With', 'Access-Control-Allow-Methods': 'GET,POST,OPTIONS', 'Content-Encoding': 'gzip'}\n",
      "192 ---  194 ---  {'Date': 'Fri, 23 Nov 2018 06:54:12 GMT', 'Content-Type': 'text/html;charset=utf-8', 'Transfer-Encoding': 'chunked', 'Connection': 'keep-alive', 'Vary': 'Accept-Encoding', 'X-Powered-By': 'PHP/5.6.14', 'Access-Control-Allow-Origin': '*', 'Access-Control-Allow-Headers': 'X-Requested-With', 'Access-Control-Allow-Methods': 'GET,POST,OPTIONS', 'Content-Encoding': 'gzip'}\n"
     ]
    },
    {
     "name": "stderr",
     "output_type": "stream",
     "text": [
      "/Users/shenxibo/anaconda3/lib/python3.6/site-packages/urllib3/connectionpool.py:858: InsecureRequestWarning: Unverified HTTPS request is being made. Adding certificate verification is strongly advised. See: https://urllib3.readthedocs.io/en/latest/advanced-usage.html#ssl-warnings\n",
      "  InsecureRequestWarning)\n",
      "/Users/shenxibo/anaconda3/lib/python3.6/site-packages/urllib3/connectionpool.py:858: InsecureRequestWarning: Unverified HTTPS request is being made. Adding certificate verification is strongly advised. See: https://urllib3.readthedocs.io/en/latest/advanced-usage.html#ssl-warnings\n",
      "  InsecureRequestWarning)\n"
     ]
    },
    {
     "name": "stdout",
     "output_type": "stream",
     "text": [
      "193 ---  195 ---  {'Date': 'Fri, 23 Nov 2018 06:54:12 GMT', 'Content-Type': 'text/html;charset=utf-8', 'Transfer-Encoding': 'chunked', 'Connection': 'keep-alive', 'Vary': 'Accept-Encoding', 'X-Powered-By': 'PHP/5.6.14', 'Access-Control-Allow-Origin': '*', 'Access-Control-Allow-Headers': 'X-Requested-With', 'Access-Control-Allow-Methods': 'GET,POST,OPTIONS', 'Content-Encoding': 'gzip'}\n"
     ]
    },
    {
     "name": "stderr",
     "output_type": "stream",
     "text": [
      "/Users/shenxibo/anaconda3/lib/python3.6/site-packages/urllib3/connectionpool.py:858: InsecureRequestWarning: Unverified HTTPS request is being made. Adding certificate verification is strongly advised. See: https://urllib3.readthedocs.io/en/latest/advanced-usage.html#ssl-warnings\n",
      "  InsecureRequestWarning)\n"
     ]
    },
    {
     "name": "stdout",
     "output_type": "stream",
     "text": [
      "194 ---  196 ---  {'Date': 'Fri, 23 Nov 2018 06:54:13 GMT', 'Content-Type': 'text/html;charset=utf-8', 'Transfer-Encoding': 'chunked', 'Connection': 'keep-alive', 'Vary': 'Accept-Encoding', 'X-Powered-By': 'PHP/5.6.14', 'Access-Control-Allow-Origin': '*', 'Access-Control-Allow-Headers': 'X-Requested-With', 'Access-Control-Allow-Methods': 'GET,POST,OPTIONS', 'Content-Encoding': 'gzip'}\n"
     ]
    },
    {
     "name": "stderr",
     "output_type": "stream",
     "text": [
      "/Users/shenxibo/anaconda3/lib/python3.6/site-packages/urllib3/connectionpool.py:858: InsecureRequestWarning: Unverified HTTPS request is being made. Adding certificate verification is strongly advised. See: https://urllib3.readthedocs.io/en/latest/advanced-usage.html#ssl-warnings\n",
      "  InsecureRequestWarning)\n",
      "/Users/shenxibo/anaconda3/lib/python3.6/site-packages/urllib3/connectionpool.py:858: InsecureRequestWarning: Unverified HTTPS request is being made. Adding certificate verification is strongly advised. See: https://urllib3.readthedocs.io/en/latest/advanced-usage.html#ssl-warnings\n",
      "  InsecureRequestWarning)\n"
     ]
    },
    {
     "name": "stdout",
     "output_type": "stream",
     "text": [
      "195 ---  197 ---  {'Date': 'Fri, 23 Nov 2018 06:54:13 GMT', 'Content-Type': 'text/html;charset=utf-8', 'Transfer-Encoding': 'chunked', 'Connection': 'keep-alive', 'Vary': 'Accept-Encoding', 'X-Powered-By': 'PHP/5.6.14', 'Access-Control-Allow-Origin': '*', 'Access-Control-Allow-Headers': 'X-Requested-With', 'Access-Control-Allow-Methods': 'GET,POST,OPTIONS', 'Content-Encoding': 'gzip'}\n",
      "196 ---  198 ---  {'Date': 'Fri, 23 Nov 2018 06:54:13 GMT', 'Content-Type': 'text/html;charset=utf-8', 'Transfer-Encoding': 'chunked', 'Connection': 'keep-alive', 'Vary': 'Accept-Encoding', 'X-Powered-By': 'PHP/5.6.14', 'Access-Control-Allow-Origin': '*', 'Access-Control-Allow-Headers': 'X-Requested-With', 'Access-Control-Allow-Methods': 'GET,POST,OPTIONS', 'Content-Encoding': 'gzip'}\n"
     ]
    },
    {
     "name": "stderr",
     "output_type": "stream",
     "text": [
      "/Users/shenxibo/anaconda3/lib/python3.6/site-packages/urllib3/connectionpool.py:858: InsecureRequestWarning: Unverified HTTPS request is being made. Adding certificate verification is strongly advised. See: https://urllib3.readthedocs.io/en/latest/advanced-usage.html#ssl-warnings\n",
      "  InsecureRequestWarning)\n",
      "/Users/shenxibo/anaconda3/lib/python3.6/site-packages/urllib3/connectionpool.py:858: InsecureRequestWarning: Unverified HTTPS request is being made. Adding certificate verification is strongly advised. See: https://urllib3.readthedocs.io/en/latest/advanced-usage.html#ssl-warnings\n",
      "  InsecureRequestWarning)\n"
     ]
    },
    {
     "name": "stdout",
     "output_type": "stream",
     "text": [
      "197 ---  199 ---  {'Date': 'Fri, 23 Nov 2018 06:54:13 GMT', 'Content-Type': 'text/html;charset=utf-8', 'Transfer-Encoding': 'chunked', 'Connection': 'keep-alive', 'Vary': 'Accept-Encoding', 'X-Powered-By': 'PHP/5.6.14', 'Access-Control-Allow-Origin': '*', 'Access-Control-Allow-Headers': 'X-Requested-With', 'Access-Control-Allow-Methods': 'GET,POST,OPTIONS', 'Content-Encoding': 'gzip'}\n",
      "198 ---  200 ---  {'Date': 'Fri, 23 Nov 2018 06:54:13 GMT', 'Content-Type': 'text/html;charset=utf-8', 'Transfer-Encoding': 'chunked', 'Connection': 'keep-alive', 'Vary': 'Accept-Encoding', 'X-Powered-By': 'PHP/5.6.14', 'Access-Control-Allow-Origin': '*', 'Access-Control-Allow-Headers': 'X-Requested-With', 'Access-Control-Allow-Methods': 'GET,POST,OPTIONS', 'Content-Encoding': 'gzip'}\n"
     ]
    },
    {
     "name": "stderr",
     "output_type": "stream",
     "text": [
      "/Users/shenxibo/anaconda3/lib/python3.6/site-packages/urllib3/connectionpool.py:858: InsecureRequestWarning: Unverified HTTPS request is being made. Adding certificate verification is strongly advised. See: https://urllib3.readthedocs.io/en/latest/advanced-usage.html#ssl-warnings\n",
      "  InsecureRequestWarning)\n"
     ]
    },
    {
     "name": "stdout",
     "output_type": "stream",
     "text": [
      "199 ---  201 ---  {'Date': 'Fri, 23 Nov 2018 06:54:14 GMT', 'Content-Type': 'text/html;charset=utf-8', 'Transfer-Encoding': 'chunked', 'Connection': 'keep-alive', 'Vary': 'Accept-Encoding', 'X-Powered-By': 'PHP/5.6.14', 'Access-Control-Allow-Origin': '*', 'Access-Control-Allow-Headers': 'X-Requested-With', 'Access-Control-Allow-Methods': 'GET,POST,OPTIONS', 'Content-Encoding': 'gzip'}\n"
     ]
    },
    {
     "name": "stderr",
     "output_type": "stream",
     "text": [
      "/Users/shenxibo/anaconda3/lib/python3.6/site-packages/urllib3/connectionpool.py:858: InsecureRequestWarning: Unverified HTTPS request is being made. Adding certificate verification is strongly advised. See: https://urllib3.readthedocs.io/en/latest/advanced-usage.html#ssl-warnings\n",
      "  InsecureRequestWarning)\n"
     ]
    },
    {
     "name": "stdout",
     "output_type": "stream",
     "text": [
      "200 ---  202 ---  {'Date': 'Fri, 23 Nov 2018 06:54:14 GMT', 'Content-Type': 'text/html;charset=utf-8', 'Transfer-Encoding': 'chunked', 'Connection': 'keep-alive', 'Vary': 'Accept-Encoding', 'X-Powered-By': 'PHP/5.6.14', 'Access-Control-Allow-Origin': '*', 'Access-Control-Allow-Headers': 'X-Requested-With', 'Access-Control-Allow-Methods': 'GET,POST,OPTIONS', 'Content-Encoding': 'gzip'}\n"
     ]
    },
    {
     "name": "stderr",
     "output_type": "stream",
     "text": [
      "/Users/shenxibo/anaconda3/lib/python3.6/site-packages/urllib3/connectionpool.py:858: InsecureRequestWarning: Unverified HTTPS request is being made. Adding certificate verification is strongly advised. See: https://urllib3.readthedocs.io/en/latest/advanced-usage.html#ssl-warnings\n",
      "  InsecureRequestWarning)\n"
     ]
    },
    {
     "name": "stdout",
     "output_type": "stream",
     "text": [
      "201 ---  203 ---  {'Date': 'Fri, 23 Nov 2018 06:54:14 GMT', 'Content-Type': 'text/html;charset=utf-8', 'Transfer-Encoding': 'chunked', 'Connection': 'keep-alive', 'Vary': 'Accept-Encoding', 'X-Powered-By': 'PHP/5.6.14', 'Access-Control-Allow-Origin': '*', 'Access-Control-Allow-Headers': 'X-Requested-With', 'Access-Control-Allow-Methods': 'GET,POST,OPTIONS', 'Content-Encoding': 'gzip'}\n"
     ]
    },
    {
     "name": "stderr",
     "output_type": "stream",
     "text": [
      "/Users/shenxibo/anaconda3/lib/python3.6/site-packages/urllib3/connectionpool.py:858: InsecureRequestWarning: Unverified HTTPS request is being made. Adding certificate verification is strongly advised. See: https://urllib3.readthedocs.io/en/latest/advanced-usage.html#ssl-warnings\n",
      "  InsecureRequestWarning)\n"
     ]
    },
    {
     "name": "stdout",
     "output_type": "stream",
     "text": [
      "202 ---  204 ---  {'Date': 'Fri, 23 Nov 2018 06:54:15 GMT', 'Content-Type': 'text/html;charset=utf-8', 'Transfer-Encoding': 'chunked', 'Connection': 'keep-alive', 'Vary': 'Accept-Encoding', 'X-Powered-By': 'PHP/5.6.14', 'Access-Control-Allow-Origin': '*', 'Access-Control-Allow-Headers': 'X-Requested-With', 'Access-Control-Allow-Methods': 'GET,POST,OPTIONS', 'Content-Encoding': 'gzip'}\n"
     ]
    },
    {
     "name": "stderr",
     "output_type": "stream",
     "text": [
      "/Users/shenxibo/anaconda3/lib/python3.6/site-packages/urllib3/connectionpool.py:858: InsecureRequestWarning: Unverified HTTPS request is being made. Adding certificate verification is strongly advised. See: https://urllib3.readthedocs.io/en/latest/advanced-usage.html#ssl-warnings\n",
      "  InsecureRequestWarning)\n"
     ]
    },
    {
     "name": "stdout",
     "output_type": "stream",
     "text": [
      "203 ---  205 ---  {'Date': 'Fri, 23 Nov 2018 06:54:15 GMT', 'Content-Type': 'text/html;charset=utf-8', 'Transfer-Encoding': 'chunked', 'Connection': 'keep-alive', 'Vary': 'Accept-Encoding', 'X-Powered-By': 'PHP/5.6.14', 'Access-Control-Allow-Origin': '*', 'Access-Control-Allow-Headers': 'X-Requested-With', 'Access-Control-Allow-Methods': 'GET,POST,OPTIONS', 'Content-Encoding': 'gzip'}\n"
     ]
    },
    {
     "name": "stderr",
     "output_type": "stream",
     "text": [
      "/Users/shenxibo/anaconda3/lib/python3.6/site-packages/urllib3/connectionpool.py:858: InsecureRequestWarning: Unverified HTTPS request is being made. Adding certificate verification is strongly advised. See: https://urllib3.readthedocs.io/en/latest/advanced-usage.html#ssl-warnings\n",
      "  InsecureRequestWarning)\n"
     ]
    },
    {
     "name": "stdout",
     "output_type": "stream",
     "text": [
      "204 ---  206 ---  {'Date': 'Fri, 23 Nov 2018 06:54:15 GMT', 'Content-Type': 'text/html;charset=utf-8', 'Transfer-Encoding': 'chunked', 'Connection': 'keep-alive', 'Vary': 'Accept-Encoding', 'X-Powered-By': 'PHP/5.6.14', 'Access-Control-Allow-Origin': '*', 'Access-Control-Allow-Headers': 'X-Requested-With', 'Access-Control-Allow-Methods': 'GET,POST,OPTIONS', 'Content-Encoding': 'gzip'}\n",
      "205 ---  207 ---  {'Date': 'Fri, 23 Nov 2018 06:54:15 GMT', 'Content-Type': 'text/html;charset=utf-8', 'Transfer-Encoding': 'chunked', 'Connection': 'keep-alive', 'Vary': 'Accept-Encoding', 'X-Powered-By': 'PHP/5.6.14', 'Access-Control-Allow-Origin': '*', 'Access-Control-Allow-Headers': 'X-Requested-With', 'Access-Control-Allow-Methods': 'GET,POST,OPTIONS', 'Content-Encoding': 'gzip'}\n"
     ]
    },
    {
     "name": "stderr",
     "output_type": "stream",
     "text": [
      "/Users/shenxibo/anaconda3/lib/python3.6/site-packages/urllib3/connectionpool.py:858: InsecureRequestWarning: Unverified HTTPS request is being made. Adding certificate verification is strongly advised. See: https://urllib3.readthedocs.io/en/latest/advanced-usage.html#ssl-warnings\n",
      "  InsecureRequestWarning)\n",
      "/Users/shenxibo/anaconda3/lib/python3.6/site-packages/urllib3/connectionpool.py:858: InsecureRequestWarning: Unverified HTTPS request is being made. Adding certificate verification is strongly advised. See: https://urllib3.readthedocs.io/en/latest/advanced-usage.html#ssl-warnings\n",
      "  InsecureRequestWarning)\n"
     ]
    },
    {
     "name": "stdout",
     "output_type": "stream",
     "text": [
      "206 ---  208 ---  {'Date': 'Fri, 23 Nov 2018 06:54:16 GMT', 'Content-Type': 'text/html;charset=utf-8', 'Transfer-Encoding': 'chunked', 'Connection': 'keep-alive', 'Vary': 'Accept-Encoding', 'X-Powered-By': 'PHP/5.6.14', 'Access-Control-Allow-Origin': '*', 'Access-Control-Allow-Headers': 'X-Requested-With', 'Access-Control-Allow-Methods': 'GET,POST,OPTIONS', 'Content-Encoding': 'gzip'}\n",
      "207 ---  209 ---  {'Date': 'Fri, 23 Nov 2018 06:54:16 GMT', 'Content-Type': 'text/html;charset=utf-8', 'Transfer-Encoding': 'chunked', 'Connection': 'keep-alive', 'Vary': 'Accept-Encoding', 'X-Powered-By': 'PHP/5.6.14', 'Access-Control-Allow-Origin': '*', 'Access-Control-Allow-Headers': 'X-Requested-With', 'Access-Control-Allow-Methods': 'GET,POST,OPTIONS', 'Content-Encoding': 'gzip'}\n"
     ]
    },
    {
     "name": "stderr",
     "output_type": "stream",
     "text": [
      "/Users/shenxibo/anaconda3/lib/python3.6/site-packages/urllib3/connectionpool.py:858: InsecureRequestWarning: Unverified HTTPS request is being made. Adding certificate verification is strongly advised. See: https://urllib3.readthedocs.io/en/latest/advanced-usage.html#ssl-warnings\n",
      "  InsecureRequestWarning)\n",
      "/Users/shenxibo/anaconda3/lib/python3.6/site-packages/urllib3/connectionpool.py:858: InsecureRequestWarning: Unverified HTTPS request is being made. Adding certificate verification is strongly advised. See: https://urllib3.readthedocs.io/en/latest/advanced-usage.html#ssl-warnings\n",
      "  InsecureRequestWarning)\n"
     ]
    },
    {
     "name": "stdout",
     "output_type": "stream",
     "text": [
      "208 ---  210 ---  {'Date': 'Fri, 23 Nov 2018 06:54:16 GMT', 'Content-Type': 'text/html;charset=utf-8', 'Transfer-Encoding': 'chunked', 'Connection': 'keep-alive', 'Vary': 'Accept-Encoding', 'X-Powered-By': 'PHP/5.6.14', 'Access-Control-Allow-Origin': '*', 'Access-Control-Allow-Headers': 'X-Requested-With', 'Access-Control-Allow-Methods': 'GET,POST,OPTIONS', 'Content-Encoding': 'gzip'}\n",
      "209 ---  211 ---  {'Date': 'Fri, 23 Nov 2018 06:54:16 GMT', 'Content-Type': 'text/html;charset=utf-8', 'Transfer-Encoding': 'chunked', 'Connection': 'keep-alive', 'Vary': 'Accept-Encoding', 'X-Powered-By': 'PHP/5.6.14', 'Access-Control-Allow-Origin': '*', 'Access-Control-Allow-Headers': 'X-Requested-With', 'Access-Control-Allow-Methods': 'GET,POST,OPTIONS', 'Content-Encoding': 'gzip'}\n"
     ]
    },
    {
     "name": "stderr",
     "output_type": "stream",
     "text": [
      "/Users/shenxibo/anaconda3/lib/python3.6/site-packages/urllib3/connectionpool.py:858: InsecureRequestWarning: Unverified HTTPS request is being made. Adding certificate verification is strongly advised. See: https://urllib3.readthedocs.io/en/latest/advanced-usage.html#ssl-warnings\n",
      "  InsecureRequestWarning)\n",
      "/Users/shenxibo/anaconda3/lib/python3.6/site-packages/urllib3/connectionpool.py:858: InsecureRequestWarning: Unverified HTTPS request is being made. Adding certificate verification is strongly advised. See: https://urllib3.readthedocs.io/en/latest/advanced-usage.html#ssl-warnings\n",
      "  InsecureRequestWarning)\n"
     ]
    },
    {
     "name": "stdout",
     "output_type": "stream",
     "text": [
      "210 ---  212 ---  {'Date': 'Fri, 23 Nov 2018 06:54:16 GMT', 'Content-Type': 'text/html;charset=utf-8', 'Transfer-Encoding': 'chunked', 'Connection': 'keep-alive', 'Vary': 'Accept-Encoding', 'X-Powered-By': 'PHP/5.6.14', 'Access-Control-Allow-Origin': '*', 'Access-Control-Allow-Headers': 'X-Requested-With', 'Access-Control-Allow-Methods': 'GET,POST,OPTIONS', 'Content-Encoding': 'gzip'}\n",
      "211 ---  213 ---  {'Date': 'Fri, 23 Nov 2018 06:54:17 GMT', 'Content-Type': 'text/html;charset=utf-8', 'Transfer-Encoding': 'chunked', 'Connection': 'keep-alive', 'Vary': 'Accept-Encoding', 'X-Powered-By': 'PHP/5.6.14', 'Access-Control-Allow-Origin': '*', 'Access-Control-Allow-Headers': 'X-Requested-With', 'Access-Control-Allow-Methods': 'GET,POST,OPTIONS', 'Content-Encoding': 'gzip'}\n"
     ]
    },
    {
     "name": "stderr",
     "output_type": "stream",
     "text": [
      "/Users/shenxibo/anaconda3/lib/python3.6/site-packages/urllib3/connectionpool.py:858: InsecureRequestWarning: Unverified HTTPS request is being made. Adding certificate verification is strongly advised. See: https://urllib3.readthedocs.io/en/latest/advanced-usage.html#ssl-warnings\n",
      "  InsecureRequestWarning)\n",
      "/Users/shenxibo/anaconda3/lib/python3.6/site-packages/urllib3/connectionpool.py:858: InsecureRequestWarning: Unverified HTTPS request is being made. Adding certificate verification is strongly advised. See: https://urllib3.readthedocs.io/en/latest/advanced-usage.html#ssl-warnings\n",
      "  InsecureRequestWarning)\n"
     ]
    },
    {
     "name": "stdout",
     "output_type": "stream",
     "text": [
      "212 ---  214 ---  {'Date': 'Fri, 23 Nov 2018 06:54:17 GMT', 'Content-Type': 'text/html;charset=utf-8', 'Transfer-Encoding': 'chunked', 'Connection': 'keep-alive', 'Vary': 'Accept-Encoding', 'X-Powered-By': 'PHP/5.6.14', 'Access-Control-Allow-Origin': '*', 'Access-Control-Allow-Headers': 'X-Requested-With', 'Access-Control-Allow-Methods': 'GET,POST,OPTIONS', 'Content-Encoding': 'gzip'}\n",
      "213 ---  215 ---  {'Date': 'Fri, 23 Nov 2018 06:54:17 GMT', 'Content-Type': 'text/html;charset=utf-8', 'Transfer-Encoding': 'chunked', 'Connection': 'keep-alive', 'Vary': 'Accept-Encoding', 'X-Powered-By': 'PHP/5.6.14', 'Access-Control-Allow-Origin': '*', 'Access-Control-Allow-Headers': 'X-Requested-With', 'Access-Control-Allow-Methods': 'GET,POST,OPTIONS', 'Content-Encoding': 'gzip'}\n"
     ]
    },
    {
     "name": "stderr",
     "output_type": "stream",
     "text": [
      "/Users/shenxibo/anaconda3/lib/python3.6/site-packages/urllib3/connectionpool.py:858: InsecureRequestWarning: Unverified HTTPS request is being made. Adding certificate verification is strongly advised. See: https://urllib3.readthedocs.io/en/latest/advanced-usage.html#ssl-warnings\n",
      "  InsecureRequestWarning)\n",
      "/Users/shenxibo/anaconda3/lib/python3.6/site-packages/urllib3/connectionpool.py:858: InsecureRequestWarning: Unverified HTTPS request is being made. Adding certificate verification is strongly advised. See: https://urllib3.readthedocs.io/en/latest/advanced-usage.html#ssl-warnings\n",
      "  InsecureRequestWarning)\n"
     ]
    },
    {
     "name": "stdout",
     "output_type": "stream",
     "text": [
      "214 ---  216 ---  {'Date': 'Fri, 23 Nov 2018 06:54:17 GMT', 'Content-Type': 'text/html;charset=utf-8', 'Transfer-Encoding': 'chunked', 'Connection': 'keep-alive', 'Vary': 'Accept-Encoding', 'X-Powered-By': 'PHP/5.6.14', 'Access-Control-Allow-Origin': '*', 'Access-Control-Allow-Headers': 'X-Requested-With', 'Access-Control-Allow-Methods': 'GET,POST,OPTIONS', 'Content-Encoding': 'gzip'}\n",
      "215 ---  217 ---  {'Date': 'Fri, 23 Nov 2018 06:54:17 GMT', 'Content-Type': 'text/html;charset=utf-8', 'Transfer-Encoding': 'chunked', 'Connection': 'keep-alive', 'Vary': 'Accept-Encoding', 'X-Powered-By': 'PHP/5.6.14', 'Access-Control-Allow-Origin': '*', 'Access-Control-Allow-Headers': 'X-Requested-With', 'Access-Control-Allow-Methods': 'GET,POST,OPTIONS', 'Content-Encoding': 'gzip'}\n"
     ]
    },
    {
     "name": "stderr",
     "output_type": "stream",
     "text": [
      "/Users/shenxibo/anaconda3/lib/python3.6/site-packages/urllib3/connectionpool.py:858: InsecureRequestWarning: Unverified HTTPS request is being made. Adding certificate verification is strongly advised. See: https://urllib3.readthedocs.io/en/latest/advanced-usage.html#ssl-warnings\n",
      "  InsecureRequestWarning)\n",
      "/Users/shenxibo/anaconda3/lib/python3.6/site-packages/urllib3/connectionpool.py:858: InsecureRequestWarning: Unverified HTTPS request is being made. Adding certificate verification is strongly advised. See: https://urllib3.readthedocs.io/en/latest/advanced-usage.html#ssl-warnings\n",
      "  InsecureRequestWarning)\n"
     ]
    },
    {
     "name": "stdout",
     "output_type": "stream",
     "text": [
      "216 ---  218 ---  {'Date': 'Fri, 23 Nov 2018 06:54:18 GMT', 'Content-Type': 'text/html;charset=utf-8', 'Transfer-Encoding': 'chunked', 'Connection': 'keep-alive', 'Vary': 'Accept-Encoding', 'X-Powered-By': 'PHP/5.6.14', 'Access-Control-Allow-Origin': '*', 'Access-Control-Allow-Headers': 'X-Requested-With', 'Access-Control-Allow-Methods': 'GET,POST,OPTIONS', 'Content-Encoding': 'gzip'}\n"
     ]
    },
    {
     "name": "stderr",
     "output_type": "stream",
     "text": [
      "/Users/shenxibo/anaconda3/lib/python3.6/site-packages/urllib3/connectionpool.py:858: InsecureRequestWarning: Unverified HTTPS request is being made. Adding certificate verification is strongly advised. See: https://urllib3.readthedocs.io/en/latest/advanced-usage.html#ssl-warnings\n",
      "  InsecureRequestWarning)\n",
      "/Users/shenxibo/anaconda3/lib/python3.6/site-packages/urllib3/connectionpool.py:858: InsecureRequestWarning: Unverified HTTPS request is being made. Adding certificate verification is strongly advised. See: https://urllib3.readthedocs.io/en/latest/advanced-usage.html#ssl-warnings\n",
      "  InsecureRequestWarning)\n"
     ]
    },
    {
     "name": "stdout",
     "output_type": "stream",
     "text": [
      "217 ---  219 ---  {'Date': 'Fri, 23 Nov 2018 06:54:18 GMT', 'Content-Type': 'text/html;charset=utf-8', 'Transfer-Encoding': 'chunked', 'Connection': 'keep-alive', 'Vary': 'Accept-Encoding', 'X-Powered-By': 'PHP/5.6.14', 'Access-Control-Allow-Origin': '*', 'Access-Control-Allow-Headers': 'X-Requested-With', 'Access-Control-Allow-Methods': 'GET,POST,OPTIONS', 'Content-Encoding': 'gzip'}\n",
      "218 ---  220 ---  {'Date': 'Fri, 23 Nov 2018 06:54:18 GMT', 'Content-Type': 'text/html;charset=utf-8', 'Transfer-Encoding': 'chunked', 'Connection': 'keep-alive', 'Vary': 'Accept-Encoding', 'X-Powered-By': 'PHP/5.6.14', 'Access-Control-Allow-Origin': '*', 'Access-Control-Allow-Headers': 'X-Requested-With', 'Access-Control-Allow-Methods': 'GET,POST,OPTIONS', 'Content-Encoding': 'gzip'}\n"
     ]
    },
    {
     "name": "stderr",
     "output_type": "stream",
     "text": [
      "/Users/shenxibo/anaconda3/lib/python3.6/site-packages/urllib3/connectionpool.py:858: InsecureRequestWarning: Unverified HTTPS request is being made. Adding certificate verification is strongly advised. See: https://urllib3.readthedocs.io/en/latest/advanced-usage.html#ssl-warnings\n",
      "  InsecureRequestWarning)\n",
      "/Users/shenxibo/anaconda3/lib/python3.6/site-packages/urllib3/connectionpool.py:858: InsecureRequestWarning: Unverified HTTPS request is being made. Adding certificate verification is strongly advised. See: https://urllib3.readthedocs.io/en/latest/advanced-usage.html#ssl-warnings\n",
      "  InsecureRequestWarning)\n"
     ]
    },
    {
     "name": "stdout",
     "output_type": "stream",
     "text": [
      "219 ---  221 ---  {'Date': 'Fri, 23 Nov 2018 06:54:18 GMT', 'Content-Type': 'text/html;charset=utf-8', 'Transfer-Encoding': 'chunked', 'Connection': 'keep-alive', 'Vary': 'Accept-Encoding', 'X-Powered-By': 'PHP/5.6.14', 'Access-Control-Allow-Origin': '*', 'Access-Control-Allow-Headers': 'X-Requested-With', 'Access-Control-Allow-Methods': 'GET,POST,OPTIONS', 'Content-Encoding': 'gzip'}\n",
      "220 ---  222 ---  {'Date': 'Fri, 23 Nov 2018 06:54:18 GMT', 'Content-Type': 'text/html;charset=utf-8', 'Transfer-Encoding': 'chunked', 'Connection': 'keep-alive', 'Vary': 'Accept-Encoding', 'X-Powered-By': 'PHP/5.6.14', 'Access-Control-Allow-Origin': '*', 'Access-Control-Allow-Headers': 'X-Requested-With', 'Access-Control-Allow-Methods': 'GET,POST,OPTIONS', 'Content-Encoding': 'gzip'}\n"
     ]
    },
    {
     "name": "stderr",
     "output_type": "stream",
     "text": [
      "/Users/shenxibo/anaconda3/lib/python3.6/site-packages/urllib3/connectionpool.py:858: InsecureRequestWarning: Unverified HTTPS request is being made. Adding certificate verification is strongly advised. See: https://urllib3.readthedocs.io/en/latest/advanced-usage.html#ssl-warnings\n",
      "  InsecureRequestWarning)\n",
      "/Users/shenxibo/anaconda3/lib/python3.6/site-packages/urllib3/connectionpool.py:858: InsecureRequestWarning: Unverified HTTPS request is being made. Adding certificate verification is strongly advised. See: https://urllib3.readthedocs.io/en/latest/advanced-usage.html#ssl-warnings\n",
      "  InsecureRequestWarning)\n"
     ]
    },
    {
     "name": "stdout",
     "output_type": "stream",
     "text": [
      "221 ---  223 ---  {'Date': 'Fri, 23 Nov 2018 06:54:19 GMT', 'Content-Type': 'text/html;charset=utf-8', 'Transfer-Encoding': 'chunked', 'Connection': 'keep-alive', 'Vary': 'Accept-Encoding', 'X-Powered-By': 'PHP/5.6.14', 'Access-Control-Allow-Origin': '*', 'Access-Control-Allow-Headers': 'X-Requested-With', 'Access-Control-Allow-Methods': 'GET,POST,OPTIONS', 'Content-Encoding': 'gzip'}\n",
      "222 ---  224 ---  {'Date': 'Fri, 23 Nov 2018 06:54:19 GMT', 'Content-Type': 'text/html;charset=utf-8', 'Transfer-Encoding': 'chunked', 'Connection': 'keep-alive', 'Vary': 'Accept-Encoding', 'X-Powered-By': 'PHP/5.6.14', 'Access-Control-Allow-Origin': '*', 'Access-Control-Allow-Headers': 'X-Requested-With', 'Access-Control-Allow-Methods': 'GET,POST,OPTIONS', 'Content-Encoding': 'gzip'}\n"
     ]
    },
    {
     "name": "stderr",
     "output_type": "stream",
     "text": [
      "/Users/shenxibo/anaconda3/lib/python3.6/site-packages/urllib3/connectionpool.py:858: InsecureRequestWarning: Unverified HTTPS request is being made. Adding certificate verification is strongly advised. See: https://urllib3.readthedocs.io/en/latest/advanced-usage.html#ssl-warnings\n",
      "  InsecureRequestWarning)\n",
      "/Users/shenxibo/anaconda3/lib/python3.6/site-packages/urllib3/connectionpool.py:858: InsecureRequestWarning: Unverified HTTPS request is being made. Adding certificate verification is strongly advised. See: https://urllib3.readthedocs.io/en/latest/advanced-usage.html#ssl-warnings\n",
      "  InsecureRequestWarning)\n"
     ]
    },
    {
     "name": "stdout",
     "output_type": "stream",
     "text": [
      "223 ---  225 ---  {'Date': 'Fri, 23 Nov 2018 06:54:19 GMT', 'Content-Type': 'text/html;charset=utf-8', 'Transfer-Encoding': 'chunked', 'Connection': 'keep-alive', 'Vary': 'Accept-Encoding', 'X-Powered-By': 'PHP/5.6.14', 'Access-Control-Allow-Origin': '*', 'Access-Control-Allow-Headers': 'X-Requested-With', 'Access-Control-Allow-Methods': 'GET,POST,OPTIONS', 'Content-Encoding': 'gzip'}\n",
      "224 ---  226 ---  {'Date': 'Fri, 23 Nov 2018 06:54:19 GMT', 'Content-Type': 'text/html;charset=utf-8', 'Transfer-Encoding': 'chunked', 'Connection': 'keep-alive', 'Vary': 'Accept-Encoding', 'X-Powered-By': 'PHP/5.6.14', 'Access-Control-Allow-Origin': '*', 'Access-Control-Allow-Headers': 'X-Requested-With', 'Access-Control-Allow-Methods': 'GET,POST,OPTIONS', 'Content-Encoding': 'gzip'}\n"
     ]
    },
    {
     "name": "stderr",
     "output_type": "stream",
     "text": [
      "/Users/shenxibo/anaconda3/lib/python3.6/site-packages/urllib3/connectionpool.py:858: InsecureRequestWarning: Unverified HTTPS request is being made. Adding certificate verification is strongly advised. See: https://urllib3.readthedocs.io/en/latest/advanced-usage.html#ssl-warnings\n",
      "  InsecureRequestWarning)\n",
      "/Users/shenxibo/anaconda3/lib/python3.6/site-packages/urllib3/connectionpool.py:858: InsecureRequestWarning: Unverified HTTPS request is being made. Adding certificate verification is strongly advised. See: https://urllib3.readthedocs.io/en/latest/advanced-usage.html#ssl-warnings\n",
      "  InsecureRequestWarning)\n"
     ]
    },
    {
     "name": "stdout",
     "output_type": "stream",
     "text": [
      "225 ---  227 ---  {'Date': 'Fri, 23 Nov 2018 06:54:20 GMT', 'Content-Type': 'text/html;charset=utf-8', 'Transfer-Encoding': 'chunked', 'Connection': 'keep-alive', 'Vary': 'Accept-Encoding', 'X-Powered-By': 'PHP/5.6.14', 'Access-Control-Allow-Origin': '*', 'Access-Control-Allow-Headers': 'X-Requested-With', 'Access-Control-Allow-Methods': 'GET,POST,OPTIONS', 'Content-Encoding': 'gzip'}\n",
      "226 ---  228 ---  {'Date': 'Fri, 23 Nov 2018 06:54:20 GMT', 'Content-Type': 'text/html;charset=utf-8', 'Transfer-Encoding': 'chunked', 'Connection': 'keep-alive', 'Vary': 'Accept-Encoding', 'X-Powered-By': 'PHP/5.6.14', 'Access-Control-Allow-Origin': '*', 'Access-Control-Allow-Headers': 'X-Requested-With', 'Access-Control-Allow-Methods': 'GET,POST,OPTIONS', 'Content-Encoding': 'gzip'}\n"
     ]
    },
    {
     "name": "stderr",
     "output_type": "stream",
     "text": [
      "/Users/shenxibo/anaconda3/lib/python3.6/site-packages/urllib3/connectionpool.py:858: InsecureRequestWarning: Unverified HTTPS request is being made. Adding certificate verification is strongly advised. See: https://urllib3.readthedocs.io/en/latest/advanced-usage.html#ssl-warnings\n",
      "  InsecureRequestWarning)\n",
      "/Users/shenxibo/anaconda3/lib/python3.6/site-packages/urllib3/connectionpool.py:858: InsecureRequestWarning: Unverified HTTPS request is being made. Adding certificate verification is strongly advised. See: https://urllib3.readthedocs.io/en/latest/advanced-usage.html#ssl-warnings\n",
      "  InsecureRequestWarning)\n"
     ]
    },
    {
     "name": "stdout",
     "output_type": "stream",
     "text": [
      "227 ---  229 ---  {'Date': 'Fri, 23 Nov 2018 06:54:20 GMT', 'Content-Type': 'text/html;charset=utf-8', 'Transfer-Encoding': 'chunked', 'Connection': 'keep-alive', 'Vary': 'Accept-Encoding', 'X-Powered-By': 'PHP/5.6.14', 'Access-Control-Allow-Origin': '*', 'Access-Control-Allow-Headers': 'X-Requested-With', 'Access-Control-Allow-Methods': 'GET,POST,OPTIONS', 'Content-Encoding': 'gzip'}\n",
      "228 ---  230 ---  {'Date': 'Fri, 23 Nov 2018 06:54:20 GMT', 'Content-Type': 'text/html;charset=utf-8', 'Transfer-Encoding': 'chunked', 'Connection': 'keep-alive', 'Vary': 'Accept-Encoding', 'X-Powered-By': 'PHP/5.6.14', 'Access-Control-Allow-Origin': '*', 'Access-Control-Allow-Headers': 'X-Requested-With', 'Access-Control-Allow-Methods': 'GET,POST,OPTIONS', 'Content-Encoding': 'gzip'}\n"
     ]
    },
    {
     "name": "stderr",
     "output_type": "stream",
     "text": [
      "/Users/shenxibo/anaconda3/lib/python3.6/site-packages/urllib3/connectionpool.py:858: InsecureRequestWarning: Unverified HTTPS request is being made. Adding certificate verification is strongly advised. See: https://urllib3.readthedocs.io/en/latest/advanced-usage.html#ssl-warnings\n",
      "  InsecureRequestWarning)\n"
     ]
    },
    {
     "name": "stdout",
     "output_type": "stream",
     "text": [
      "229 ---  231 ---  {'Date': 'Fri, 23 Nov 2018 06:54:20 GMT', 'Content-Type': 'text/html;charset=utf-8', 'Transfer-Encoding': 'chunked', 'Connection': 'keep-alive', 'Vary': 'Accept-Encoding', 'X-Powered-By': 'PHP/5.6.14', 'Access-Control-Allow-Origin': '*', 'Access-Control-Allow-Headers': 'X-Requested-With', 'Access-Control-Allow-Methods': 'GET,POST,OPTIONS', 'Content-Encoding': 'gzip'}\n",
      "230 ---  232 ---  {'Date': 'Fri, 23 Nov 2018 06:54:21 GMT', 'Content-Type': 'text/html;charset=utf-8', 'Transfer-Encoding': 'chunked', 'Connection': 'keep-alive', 'Vary': 'Accept-Encoding', 'X-Powered-By': 'PHP/5.6.14', 'Access-Control-Allow-Origin': '*', 'Access-Control-Allow-Headers': 'X-Requested-With', 'Access-Control-Allow-Methods': 'GET,POST,OPTIONS', 'Content-Encoding': 'gzip'}\n"
     ]
    },
    {
     "name": "stderr",
     "output_type": "stream",
     "text": [
      "/Users/shenxibo/anaconda3/lib/python3.6/site-packages/urllib3/connectionpool.py:858: InsecureRequestWarning: Unverified HTTPS request is being made. Adding certificate verification is strongly advised. See: https://urllib3.readthedocs.io/en/latest/advanced-usage.html#ssl-warnings\n",
      "  InsecureRequestWarning)\n",
      "/Users/shenxibo/anaconda3/lib/python3.6/site-packages/urllib3/connectionpool.py:858: InsecureRequestWarning: Unverified HTTPS request is being made. Adding certificate verification is strongly advised. See: https://urllib3.readthedocs.io/en/latest/advanced-usage.html#ssl-warnings\n",
      "  InsecureRequestWarning)\n"
     ]
    },
    {
     "name": "stdout",
     "output_type": "stream",
     "text": [
      "231 ---  233 ---  {'Date': 'Fri, 23 Nov 2018 06:54:21 GMT', 'Content-Type': 'text/html;charset=utf-8', 'Transfer-Encoding': 'chunked', 'Connection': 'keep-alive', 'Vary': 'Accept-Encoding', 'X-Powered-By': 'PHP/5.6.14', 'Access-Control-Allow-Origin': '*', 'Access-Control-Allow-Headers': 'X-Requested-With', 'Access-Control-Allow-Methods': 'GET,POST,OPTIONS', 'Content-Encoding': 'gzip'}\n"
     ]
    },
    {
     "name": "stderr",
     "output_type": "stream",
     "text": [
      "/Users/shenxibo/anaconda3/lib/python3.6/site-packages/urllib3/connectionpool.py:858: InsecureRequestWarning: Unverified HTTPS request is being made. Adding certificate verification is strongly advised. See: https://urllib3.readthedocs.io/en/latest/advanced-usage.html#ssl-warnings\n",
      "  InsecureRequestWarning)\n"
     ]
    },
    {
     "name": "stdout",
     "output_type": "stream",
     "text": [
      "232 ---  234 ---  {'Date': 'Fri, 23 Nov 2018 06:54:21 GMT', 'Content-Type': 'text/html;charset=utf-8', 'Transfer-Encoding': 'chunked', 'Connection': 'keep-alive', 'Vary': 'Accept-Encoding', 'X-Powered-By': 'PHP/5.6.14', 'Access-Control-Allow-Origin': '*', 'Access-Control-Allow-Headers': 'X-Requested-With', 'Access-Control-Allow-Methods': 'GET,POST,OPTIONS', 'Content-Encoding': 'gzip'}\n"
     ]
    },
    {
     "name": "stderr",
     "output_type": "stream",
     "text": [
      "/Users/shenxibo/anaconda3/lib/python3.6/site-packages/urllib3/connectionpool.py:858: InsecureRequestWarning: Unverified HTTPS request is being made. Adding certificate verification is strongly advised. See: https://urllib3.readthedocs.io/en/latest/advanced-usage.html#ssl-warnings\n",
      "  InsecureRequestWarning)\n"
     ]
    },
    {
     "name": "stdout",
     "output_type": "stream",
     "text": [
      "233 ---  235 ---  {'Date': 'Fri, 23 Nov 2018 06:54:22 GMT', 'Content-Type': 'text/html;charset=utf-8', 'Transfer-Encoding': 'chunked', 'Connection': 'keep-alive', 'Vary': 'Accept-Encoding', 'X-Powered-By': 'PHP/5.6.14', 'Access-Control-Allow-Origin': '*', 'Access-Control-Allow-Headers': 'X-Requested-With', 'Access-Control-Allow-Methods': 'GET,POST,OPTIONS', 'Content-Encoding': 'gzip'}\n"
     ]
    },
    {
     "name": "stderr",
     "output_type": "stream",
     "text": [
      "/Users/shenxibo/anaconda3/lib/python3.6/site-packages/urllib3/connectionpool.py:858: InsecureRequestWarning: Unverified HTTPS request is being made. Adding certificate verification is strongly advised. See: https://urllib3.readthedocs.io/en/latest/advanced-usage.html#ssl-warnings\n",
      "  InsecureRequestWarning)\n"
     ]
    },
    {
     "name": "stdout",
     "output_type": "stream",
     "text": [
      "234 ---  236 ---  {'Date': 'Fri, 23 Nov 2018 06:54:22 GMT', 'Content-Type': 'text/html;charset=utf-8', 'Transfer-Encoding': 'chunked', 'Connection': 'keep-alive', 'Vary': 'Accept-Encoding', 'X-Powered-By': 'PHP/5.6.14', 'Access-Control-Allow-Origin': '*', 'Access-Control-Allow-Headers': 'X-Requested-With', 'Access-Control-Allow-Methods': 'GET,POST,OPTIONS', 'Content-Encoding': 'gzip'}\n"
     ]
    },
    {
     "name": "stderr",
     "output_type": "stream",
     "text": [
      "/Users/shenxibo/anaconda3/lib/python3.6/site-packages/urllib3/connectionpool.py:858: InsecureRequestWarning: Unverified HTTPS request is being made. Adding certificate verification is strongly advised. See: https://urllib3.readthedocs.io/en/latest/advanced-usage.html#ssl-warnings\n",
      "  InsecureRequestWarning)\n"
     ]
    },
    {
     "name": "stdout",
     "output_type": "stream",
     "text": [
      "235 ---  237 ---  {'Date': 'Fri, 23 Nov 2018 06:54:22 GMT', 'Content-Type': 'text/html;charset=utf-8', 'Transfer-Encoding': 'chunked', 'Connection': 'keep-alive', 'Vary': 'Accept-Encoding', 'X-Powered-By': 'PHP/5.6.14', 'Access-Control-Allow-Origin': '*', 'Access-Control-Allow-Headers': 'X-Requested-With', 'Access-Control-Allow-Methods': 'GET,POST,OPTIONS', 'Content-Encoding': 'gzip'}\n"
     ]
    },
    {
     "name": "stderr",
     "output_type": "stream",
     "text": [
      "/Users/shenxibo/anaconda3/lib/python3.6/site-packages/urllib3/connectionpool.py:858: InsecureRequestWarning: Unverified HTTPS request is being made. Adding certificate verification is strongly advised. See: https://urllib3.readthedocs.io/en/latest/advanced-usage.html#ssl-warnings\n",
      "  InsecureRequestWarning)\n"
     ]
    },
    {
     "name": "stdout",
     "output_type": "stream",
     "text": [
      "236 ---  238 ---  {'Date': 'Fri, 23 Nov 2018 06:54:23 GMT', 'Content-Type': 'text/html;charset=utf-8', 'Transfer-Encoding': 'chunked', 'Connection': 'keep-alive', 'Vary': 'Accept-Encoding', 'X-Powered-By': 'PHP/5.6.14', 'Access-Control-Allow-Origin': '*', 'Access-Control-Allow-Headers': 'X-Requested-With', 'Access-Control-Allow-Methods': 'GET,POST,OPTIONS', 'Content-Encoding': 'gzip'}\n"
     ]
    },
    {
     "name": "stderr",
     "output_type": "stream",
     "text": [
      "/Users/shenxibo/anaconda3/lib/python3.6/site-packages/urllib3/connectionpool.py:858: InsecureRequestWarning: Unverified HTTPS request is being made. Adding certificate verification is strongly advised. See: https://urllib3.readthedocs.io/en/latest/advanced-usage.html#ssl-warnings\n",
      "  InsecureRequestWarning)\n"
     ]
    },
    {
     "name": "stdout",
     "output_type": "stream",
     "text": [
      "237 ---  239 ---  {'Date': 'Fri, 23 Nov 2018 06:54:24 GMT', 'Content-Type': 'text/html;charset=utf-8', 'Transfer-Encoding': 'chunked', 'Connection': 'keep-alive', 'Vary': 'Accept-Encoding', 'X-Powered-By': 'PHP/5.6.14', 'Access-Control-Allow-Origin': '*', 'Access-Control-Allow-Headers': 'X-Requested-With', 'Access-Control-Allow-Methods': 'GET,POST,OPTIONS', 'Content-Encoding': 'gzip'}\n"
     ]
    },
    {
     "name": "stderr",
     "output_type": "stream",
     "text": [
      "/Users/shenxibo/anaconda3/lib/python3.6/site-packages/urllib3/connectionpool.py:858: InsecureRequestWarning: Unverified HTTPS request is being made. Adding certificate verification is strongly advised. See: https://urllib3.readthedocs.io/en/latest/advanced-usage.html#ssl-warnings\n",
      "  InsecureRequestWarning)\n"
     ]
    },
    {
     "name": "stdout",
     "output_type": "stream",
     "text": [
      "238 ---  240 ---  {'Date': 'Fri, 23 Nov 2018 06:54:24 GMT', 'Content-Type': 'text/html;charset=utf-8', 'Transfer-Encoding': 'chunked', 'Connection': 'keep-alive', 'Vary': 'Accept-Encoding', 'X-Powered-By': 'PHP/5.6.14', 'Access-Control-Allow-Origin': '*', 'Access-Control-Allow-Headers': 'X-Requested-With', 'Access-Control-Allow-Methods': 'GET,POST,OPTIONS', 'Content-Encoding': 'gzip'}\n"
     ]
    },
    {
     "name": "stderr",
     "output_type": "stream",
     "text": [
      "/Users/shenxibo/anaconda3/lib/python3.6/site-packages/urllib3/connectionpool.py:858: InsecureRequestWarning: Unverified HTTPS request is being made. Adding certificate verification is strongly advised. See: https://urllib3.readthedocs.io/en/latest/advanced-usage.html#ssl-warnings\n",
      "  InsecureRequestWarning)\n"
     ]
    },
    {
     "name": "stdout",
     "output_type": "stream",
     "text": [
      "239 ---  241 ---  {'Date': 'Fri, 23 Nov 2018 06:54:26 GMT', 'Content-Type': 'text/html;charset=utf-8', 'Transfer-Encoding': 'chunked', 'Connection': 'keep-alive', 'Vary': 'Accept-Encoding', 'X-Powered-By': 'PHP/5.6.14', 'Access-Control-Allow-Origin': '*', 'Access-Control-Allow-Headers': 'X-Requested-With', 'Access-Control-Allow-Methods': 'GET,POST,OPTIONS', 'Content-Encoding': 'gzip'}\n"
     ]
    },
    {
     "ename": "KeyboardInterrupt",
     "evalue": "",
     "output_type": "error",
     "traceback": [
      "\u001b[0;31m---------------------------------------------------------------------------\u001b[0m",
      "\u001b[0;31mKeyboardInterrupt\u001b[0m                         Traceback (most recent call last)",
      "\u001b[0;32m<ipython-input-82-52407245546b>\u001b[0m in \u001b[0;36m<module>\u001b[0;34m()\u001b[0m\n\u001b[1;32m      4\u001b[0m     \u001b[0;32mif\u001b[0m \u001b[0mr\u001b[0m\u001b[0;34m:\u001b[0m\u001b[0;34m\u001b[0m\u001b[0m\n\u001b[1;32m      5\u001b[0m         \u001b[0ma\u001b[0m\u001b[0;34m=\u001b[0m\u001b[0ma\u001b[0m\u001b[0;34m+\u001b[0m\u001b[0;36m1\u001b[0m\u001b[0;34m\u001b[0m\u001b[0m\n\u001b[0;32m----> 6\u001b[0;31m         \u001b[0mr\u001b[0m\u001b[0;34m=\u001b[0m\u001b[0mrequests\u001b[0m\u001b[0;34m.\u001b[0m\u001b[0mget\u001b[0m\u001b[0;34m(\u001b[0m\u001b[0murl\u001b[0m\u001b[0;34m+\u001b[0m\u001b[0mstr\u001b[0m\u001b[0;34m(\u001b[0m\u001b[0mi\u001b[0m\u001b[0;34m+\u001b[0m\u001b[0;36m1\u001b[0m\u001b[0;34m)\u001b[0m\u001b[0;34m,\u001b[0m\u001b[0mverify\u001b[0m\u001b[0;34m=\u001b[0m\u001b[0;32mFalse\u001b[0m\u001b[0;34m)\u001b[0m\u001b[0;34m\u001b[0m\u001b[0m\n\u001b[0m\u001b[1;32m      7\u001b[0m         \u001b[0mprint\u001b[0m\u001b[0;34m(\u001b[0m\u001b[0mi\u001b[0m\u001b[0;34m,\u001b[0m\u001b[0;34m'--- '\u001b[0m\u001b[0;34m,\u001b[0m\u001b[0ma\u001b[0m\u001b[0;34m,\u001b[0m\u001b[0;34m'--- '\u001b[0m\u001b[0;34m,\u001b[0m\u001b[0mr\u001b[0m\u001b[0;34m.\u001b[0m\u001b[0mheaders\u001b[0m\u001b[0;34m)\u001b[0m\u001b[0;34m\u001b[0m\u001b[0m\n",
      "\u001b[0;32m~/anaconda3/lib/python3.6/site-packages/requests/api.py\u001b[0m in \u001b[0;36mget\u001b[0;34m(url, params, **kwargs)\u001b[0m\n\u001b[1;32m     70\u001b[0m \u001b[0;34m\u001b[0m\u001b[0m\n\u001b[1;32m     71\u001b[0m     \u001b[0mkwargs\u001b[0m\u001b[0;34m.\u001b[0m\u001b[0msetdefault\u001b[0m\u001b[0;34m(\u001b[0m\u001b[0;34m'allow_redirects'\u001b[0m\u001b[0;34m,\u001b[0m \u001b[0;32mTrue\u001b[0m\u001b[0;34m)\u001b[0m\u001b[0;34m\u001b[0m\u001b[0m\n\u001b[0;32m---> 72\u001b[0;31m     \u001b[0;32mreturn\u001b[0m \u001b[0mrequest\u001b[0m\u001b[0;34m(\u001b[0m\u001b[0;34m'get'\u001b[0m\u001b[0;34m,\u001b[0m \u001b[0murl\u001b[0m\u001b[0;34m,\u001b[0m \u001b[0mparams\u001b[0m\u001b[0;34m=\u001b[0m\u001b[0mparams\u001b[0m\u001b[0;34m,\u001b[0m \u001b[0;34m**\u001b[0m\u001b[0mkwargs\u001b[0m\u001b[0;34m)\u001b[0m\u001b[0;34m\u001b[0m\u001b[0m\n\u001b[0m\u001b[1;32m     73\u001b[0m \u001b[0;34m\u001b[0m\u001b[0m\n\u001b[1;32m     74\u001b[0m \u001b[0;34m\u001b[0m\u001b[0m\n",
      "\u001b[0;32m~/anaconda3/lib/python3.6/site-packages/requests/api.py\u001b[0m in \u001b[0;36mrequest\u001b[0;34m(method, url, **kwargs)\u001b[0m\n\u001b[1;32m     56\u001b[0m     \u001b[0;31m# cases, and look like a memory leak in others.\u001b[0m\u001b[0;34m\u001b[0m\u001b[0;34m\u001b[0m\u001b[0m\n\u001b[1;32m     57\u001b[0m     \u001b[0;32mwith\u001b[0m \u001b[0msessions\u001b[0m\u001b[0;34m.\u001b[0m\u001b[0mSession\u001b[0m\u001b[0;34m(\u001b[0m\u001b[0;34m)\u001b[0m \u001b[0;32mas\u001b[0m \u001b[0msession\u001b[0m\u001b[0;34m:\u001b[0m\u001b[0;34m\u001b[0m\u001b[0m\n\u001b[0;32m---> 58\u001b[0;31m         \u001b[0;32mreturn\u001b[0m \u001b[0msession\u001b[0m\u001b[0;34m.\u001b[0m\u001b[0mrequest\u001b[0m\u001b[0;34m(\u001b[0m\u001b[0mmethod\u001b[0m\u001b[0;34m=\u001b[0m\u001b[0mmethod\u001b[0m\u001b[0;34m,\u001b[0m \u001b[0murl\u001b[0m\u001b[0;34m=\u001b[0m\u001b[0murl\u001b[0m\u001b[0;34m,\u001b[0m \u001b[0;34m**\u001b[0m\u001b[0mkwargs\u001b[0m\u001b[0;34m)\u001b[0m\u001b[0;34m\u001b[0m\u001b[0m\n\u001b[0m\u001b[1;32m     59\u001b[0m \u001b[0;34m\u001b[0m\u001b[0m\n\u001b[1;32m     60\u001b[0m \u001b[0;34m\u001b[0m\u001b[0m\n",
      "\u001b[0;32m~/anaconda3/lib/python3.6/site-packages/requests/sessions.py\u001b[0m in \u001b[0;36mrequest\u001b[0;34m(self, method, url, params, data, headers, cookies, files, auth, timeout, allow_redirects, proxies, hooks, stream, verify, cert, json)\u001b[0m\n\u001b[1;32m    506\u001b[0m         }\n\u001b[1;32m    507\u001b[0m         \u001b[0msend_kwargs\u001b[0m\u001b[0;34m.\u001b[0m\u001b[0mupdate\u001b[0m\u001b[0;34m(\u001b[0m\u001b[0msettings\u001b[0m\u001b[0;34m)\u001b[0m\u001b[0;34m\u001b[0m\u001b[0m\n\u001b[0;32m--> 508\u001b[0;31m         \u001b[0mresp\u001b[0m \u001b[0;34m=\u001b[0m \u001b[0mself\u001b[0m\u001b[0;34m.\u001b[0m\u001b[0msend\u001b[0m\u001b[0;34m(\u001b[0m\u001b[0mprep\u001b[0m\u001b[0;34m,\u001b[0m \u001b[0;34m**\u001b[0m\u001b[0msend_kwargs\u001b[0m\u001b[0;34m)\u001b[0m\u001b[0;34m\u001b[0m\u001b[0m\n\u001b[0m\u001b[1;32m    509\u001b[0m \u001b[0;34m\u001b[0m\u001b[0m\n\u001b[1;32m    510\u001b[0m         \u001b[0;32mreturn\u001b[0m \u001b[0mresp\u001b[0m\u001b[0;34m\u001b[0m\u001b[0m\n",
      "\u001b[0;32m~/anaconda3/lib/python3.6/site-packages/requests/sessions.py\u001b[0m in \u001b[0;36msend\u001b[0;34m(self, request, **kwargs)\u001b[0m\n\u001b[1;32m    616\u001b[0m \u001b[0;34m\u001b[0m\u001b[0m\n\u001b[1;32m    617\u001b[0m         \u001b[0;31m# Send the request\u001b[0m\u001b[0;34m\u001b[0m\u001b[0;34m\u001b[0m\u001b[0m\n\u001b[0;32m--> 618\u001b[0;31m         \u001b[0mr\u001b[0m \u001b[0;34m=\u001b[0m \u001b[0madapter\u001b[0m\u001b[0;34m.\u001b[0m\u001b[0msend\u001b[0m\u001b[0;34m(\u001b[0m\u001b[0mrequest\u001b[0m\u001b[0;34m,\u001b[0m \u001b[0;34m**\u001b[0m\u001b[0mkwargs\u001b[0m\u001b[0;34m)\u001b[0m\u001b[0;34m\u001b[0m\u001b[0m\n\u001b[0m\u001b[1;32m    619\u001b[0m \u001b[0;34m\u001b[0m\u001b[0m\n\u001b[1;32m    620\u001b[0m         \u001b[0;31m# Total elapsed time of the request (approximately)\u001b[0m\u001b[0;34m\u001b[0m\u001b[0;34m\u001b[0m\u001b[0m\n",
      "\u001b[0;32m~/anaconda3/lib/python3.6/site-packages/requests/adapters.py\u001b[0m in \u001b[0;36msend\u001b[0;34m(self, request, stream, timeout, verify, cert, proxies)\u001b[0m\n\u001b[1;32m    438\u001b[0m                     \u001b[0mdecode_content\u001b[0m\u001b[0;34m=\u001b[0m\u001b[0;32mFalse\u001b[0m\u001b[0;34m,\u001b[0m\u001b[0;34m\u001b[0m\u001b[0m\n\u001b[1;32m    439\u001b[0m                     \u001b[0mretries\u001b[0m\u001b[0;34m=\u001b[0m\u001b[0mself\u001b[0m\u001b[0;34m.\u001b[0m\u001b[0mmax_retries\u001b[0m\u001b[0;34m,\u001b[0m\u001b[0;34m\u001b[0m\u001b[0m\n\u001b[0;32m--> 440\u001b[0;31m                     \u001b[0mtimeout\u001b[0m\u001b[0;34m=\u001b[0m\u001b[0mtimeout\u001b[0m\u001b[0;34m\u001b[0m\u001b[0m\n\u001b[0m\u001b[1;32m    441\u001b[0m                 )\n\u001b[1;32m    442\u001b[0m \u001b[0;34m\u001b[0m\u001b[0m\n",
      "\u001b[0;32m~/anaconda3/lib/python3.6/site-packages/urllib3/connectionpool.py\u001b[0m in \u001b[0;36murlopen\u001b[0;34m(self, method, url, body, headers, retries, redirect, assert_same_host, timeout, pool_timeout, release_conn, chunked, body_pos, **response_kw)\u001b[0m\n\u001b[1;32m    599\u001b[0m                                                   \u001b[0mtimeout\u001b[0m\u001b[0;34m=\u001b[0m\u001b[0mtimeout_obj\u001b[0m\u001b[0;34m,\u001b[0m\u001b[0;34m\u001b[0m\u001b[0m\n\u001b[1;32m    600\u001b[0m                                                   \u001b[0mbody\u001b[0m\u001b[0;34m=\u001b[0m\u001b[0mbody\u001b[0m\u001b[0;34m,\u001b[0m \u001b[0mheaders\u001b[0m\u001b[0;34m=\u001b[0m\u001b[0mheaders\u001b[0m\u001b[0;34m,\u001b[0m\u001b[0;34m\u001b[0m\u001b[0m\n\u001b[0;32m--> 601\u001b[0;31m                                                   chunked=chunked)\n\u001b[0m\u001b[1;32m    602\u001b[0m \u001b[0;34m\u001b[0m\u001b[0m\n\u001b[1;32m    603\u001b[0m             \u001b[0;31m# If we're going to release the connection in ``finally:``, then\u001b[0m\u001b[0;34m\u001b[0m\u001b[0;34m\u001b[0m\u001b[0m\n",
      "\u001b[0;32m~/anaconda3/lib/python3.6/site-packages/urllib3/connectionpool.py\u001b[0m in \u001b[0;36m_make_request\u001b[0;34m(self, conn, method, url, timeout, chunked, **httplib_request_kw)\u001b[0m\n\u001b[1;32m    344\u001b[0m         \u001b[0;31m# Trigger any extra validation we need to do.\u001b[0m\u001b[0;34m\u001b[0m\u001b[0;34m\u001b[0m\u001b[0m\n\u001b[1;32m    345\u001b[0m         \u001b[0;32mtry\u001b[0m\u001b[0;34m:\u001b[0m\u001b[0;34m\u001b[0m\u001b[0m\n\u001b[0;32m--> 346\u001b[0;31m             \u001b[0mself\u001b[0m\u001b[0;34m.\u001b[0m\u001b[0m_validate_conn\u001b[0m\u001b[0;34m(\u001b[0m\u001b[0mconn\u001b[0m\u001b[0;34m)\u001b[0m\u001b[0;34m\u001b[0m\u001b[0m\n\u001b[0m\u001b[1;32m    347\u001b[0m         \u001b[0;32mexcept\u001b[0m \u001b[0;34m(\u001b[0m\u001b[0mSocketTimeout\u001b[0m\u001b[0;34m,\u001b[0m \u001b[0mBaseSSLError\u001b[0m\u001b[0;34m)\u001b[0m \u001b[0;32mas\u001b[0m \u001b[0me\u001b[0m\u001b[0;34m:\u001b[0m\u001b[0;34m\u001b[0m\u001b[0m\n\u001b[1;32m    348\u001b[0m             \u001b[0;31m# Py2 raises this as a BaseSSLError, Py3 raises it as socket timeout.\u001b[0m\u001b[0;34m\u001b[0m\u001b[0;34m\u001b[0m\u001b[0m\n",
      "\u001b[0;32m~/anaconda3/lib/python3.6/site-packages/urllib3/connectionpool.py\u001b[0m in \u001b[0;36m_validate_conn\u001b[0;34m(self, conn)\u001b[0m\n\u001b[1;32m    848\u001b[0m         \u001b[0;31m# Force connect early to allow us to validate the connection.\u001b[0m\u001b[0;34m\u001b[0m\u001b[0;34m\u001b[0m\u001b[0m\n\u001b[1;32m    849\u001b[0m         \u001b[0;32mif\u001b[0m \u001b[0;32mnot\u001b[0m \u001b[0mgetattr\u001b[0m\u001b[0;34m(\u001b[0m\u001b[0mconn\u001b[0m\u001b[0;34m,\u001b[0m \u001b[0;34m'sock'\u001b[0m\u001b[0;34m,\u001b[0m \u001b[0;32mNone\u001b[0m\u001b[0;34m)\u001b[0m\u001b[0;34m:\u001b[0m  \u001b[0;31m# AppEngine might not have  `.sock`\u001b[0m\u001b[0;34m\u001b[0m\u001b[0m\n\u001b[0;32m--> 850\u001b[0;31m             \u001b[0mconn\u001b[0m\u001b[0;34m.\u001b[0m\u001b[0mconnect\u001b[0m\u001b[0;34m(\u001b[0m\u001b[0;34m)\u001b[0m\u001b[0;34m\u001b[0m\u001b[0m\n\u001b[0m\u001b[1;32m    851\u001b[0m \u001b[0;34m\u001b[0m\u001b[0m\n\u001b[1;32m    852\u001b[0m         \u001b[0;32mif\u001b[0m \u001b[0;32mnot\u001b[0m \u001b[0mconn\u001b[0m\u001b[0;34m.\u001b[0m\u001b[0mis_verified\u001b[0m\u001b[0;34m:\u001b[0m\u001b[0;34m\u001b[0m\u001b[0m\n",
      "\u001b[0;32m~/anaconda3/lib/python3.6/site-packages/urllib3/connection.py\u001b[0m in \u001b[0;36mconnect\u001b[0;34m(self)\u001b[0m\n\u001b[1;32m    324\u001b[0m             \u001b[0mca_cert_dir\u001b[0m\u001b[0;34m=\u001b[0m\u001b[0mself\u001b[0m\u001b[0;34m.\u001b[0m\u001b[0mca_cert_dir\u001b[0m\u001b[0;34m,\u001b[0m\u001b[0;34m\u001b[0m\u001b[0m\n\u001b[1;32m    325\u001b[0m             \u001b[0mserver_hostname\u001b[0m\u001b[0;34m=\u001b[0m\u001b[0mhostname\u001b[0m\u001b[0;34m,\u001b[0m\u001b[0;34m\u001b[0m\u001b[0m\n\u001b[0;32m--> 326\u001b[0;31m             ssl_context=context)\n\u001b[0m\u001b[1;32m    327\u001b[0m \u001b[0;34m\u001b[0m\u001b[0m\n\u001b[1;32m    328\u001b[0m         \u001b[0;32mif\u001b[0m \u001b[0mself\u001b[0m\u001b[0;34m.\u001b[0m\u001b[0massert_fingerprint\u001b[0m\u001b[0;34m:\u001b[0m\u001b[0;34m\u001b[0m\u001b[0m\n",
      "\u001b[0;32m~/anaconda3/lib/python3.6/site-packages/urllib3/util/ssl_.py\u001b[0m in \u001b[0;36mssl_wrap_socket\u001b[0;34m(sock, keyfile, certfile, cert_reqs, ca_certs, server_hostname, ssl_version, ciphers, ssl_context, ca_cert_dir)\u001b[0m\n\u001b[1;32m    327\u001b[0m         \u001b[0mcontext\u001b[0m\u001b[0;34m.\u001b[0m\u001b[0mload_cert_chain\u001b[0m\u001b[0;34m(\u001b[0m\u001b[0mcertfile\u001b[0m\u001b[0;34m,\u001b[0m \u001b[0mkeyfile\u001b[0m\u001b[0;34m)\u001b[0m\u001b[0;34m\u001b[0m\u001b[0m\n\u001b[1;32m    328\u001b[0m     \u001b[0;32mif\u001b[0m \u001b[0mHAS_SNI\u001b[0m\u001b[0;34m:\u001b[0m  \u001b[0;31m# Platform-specific: OpenSSL with enabled SNI\u001b[0m\u001b[0;34m\u001b[0m\u001b[0m\n\u001b[0;32m--> 329\u001b[0;31m         \u001b[0;32mreturn\u001b[0m \u001b[0mcontext\u001b[0m\u001b[0;34m.\u001b[0m\u001b[0mwrap_socket\u001b[0m\u001b[0;34m(\u001b[0m\u001b[0msock\u001b[0m\u001b[0;34m,\u001b[0m \u001b[0mserver_hostname\u001b[0m\u001b[0;34m=\u001b[0m\u001b[0mserver_hostname\u001b[0m\u001b[0;34m)\u001b[0m\u001b[0;34m\u001b[0m\u001b[0m\n\u001b[0m\u001b[1;32m    330\u001b[0m \u001b[0;34m\u001b[0m\u001b[0m\n\u001b[1;32m    331\u001b[0m     warnings.warn(\n",
      "\u001b[0;32m~/anaconda3/lib/python3.6/site-packages/urllib3/contrib/pyopenssl.py\u001b[0m in \u001b[0;36mwrap_socket\u001b[0;34m(self, sock, server_side, do_handshake_on_connect, suppress_ragged_eofs, server_hostname)\u001b[0m\n\u001b[1;32m    439\u001b[0m         \u001b[0;32mwhile\u001b[0m \u001b[0;32mTrue\u001b[0m\u001b[0;34m:\u001b[0m\u001b[0;34m\u001b[0m\u001b[0m\n\u001b[1;32m    440\u001b[0m             \u001b[0;32mtry\u001b[0m\u001b[0;34m:\u001b[0m\u001b[0;34m\u001b[0m\u001b[0m\n\u001b[0;32m--> 441\u001b[0;31m                 \u001b[0mcnx\u001b[0m\u001b[0;34m.\u001b[0m\u001b[0mdo_handshake\u001b[0m\u001b[0;34m(\u001b[0m\u001b[0;34m)\u001b[0m\u001b[0;34m\u001b[0m\u001b[0m\n\u001b[0m\u001b[1;32m    442\u001b[0m             \u001b[0;32mexcept\u001b[0m \u001b[0mOpenSSL\u001b[0m\u001b[0;34m.\u001b[0m\u001b[0mSSL\u001b[0m\u001b[0;34m.\u001b[0m\u001b[0mWantReadError\u001b[0m\u001b[0;34m:\u001b[0m\u001b[0;34m\u001b[0m\u001b[0m\n\u001b[1;32m    443\u001b[0m                 \u001b[0mrd\u001b[0m \u001b[0;34m=\u001b[0m \u001b[0mutil\u001b[0m\u001b[0;34m.\u001b[0m\u001b[0mwait_for_read\u001b[0m\u001b[0;34m(\u001b[0m\u001b[0msock\u001b[0m\u001b[0;34m,\u001b[0m \u001b[0msock\u001b[0m\u001b[0;34m.\u001b[0m\u001b[0mgettimeout\u001b[0m\u001b[0;34m(\u001b[0m\u001b[0;34m)\u001b[0m\u001b[0;34m)\u001b[0m\u001b[0;34m\u001b[0m\u001b[0m\n",
      "\u001b[0;32m~/anaconda3/lib/python3.6/site-packages/OpenSSL/SSL.py\u001b[0m in \u001b[0;36mdo_handshake\u001b[0;34m(self)\u001b[0m\n\u001b[1;32m   1904\u001b[0m         \u001b[0;34m:\u001b[0m\u001b[0;32mreturn\u001b[0m\u001b[0;34m:\u001b[0m \u001b[0;32mNone\u001b[0m\u001b[0;34m.\u001b[0m\u001b[0;34m\u001b[0m\u001b[0m\n\u001b[1;32m   1905\u001b[0m         \"\"\"\n\u001b[0;32m-> 1906\u001b[0;31m         \u001b[0mresult\u001b[0m \u001b[0;34m=\u001b[0m \u001b[0m_lib\u001b[0m\u001b[0;34m.\u001b[0m\u001b[0mSSL_do_handshake\u001b[0m\u001b[0;34m(\u001b[0m\u001b[0mself\u001b[0m\u001b[0;34m.\u001b[0m\u001b[0m_ssl\u001b[0m\u001b[0;34m)\u001b[0m\u001b[0;34m\u001b[0m\u001b[0m\n\u001b[0m\u001b[1;32m   1907\u001b[0m         \u001b[0mself\u001b[0m\u001b[0;34m.\u001b[0m\u001b[0m_raise_ssl_error\u001b[0m\u001b[0;34m(\u001b[0m\u001b[0mself\u001b[0m\u001b[0;34m.\u001b[0m\u001b[0m_ssl\u001b[0m\u001b[0;34m,\u001b[0m \u001b[0mresult\u001b[0m\u001b[0;34m)\u001b[0m\u001b[0;34m\u001b[0m\u001b[0m\n\u001b[1;32m   1908\u001b[0m \u001b[0;34m\u001b[0m\u001b[0m\n",
      "\u001b[0;31mKeyboardInterrupt\u001b[0m: "
     ]
    }
   ],
   "source": [
    "url='https://db.qiumibao.com/f/index/player?pid='\n",
    "a=1\n",
    "for i in range(25000):\n",
    "    if r:\n",
    "        a=a+1\n",
    "        r=requests.get(url+str(i+1),verify=False)\n",
    "        print(i,'--- ',a,'--- ',r.headers)"
   ]
  },
  {
   "cell_type": "code",
   "execution_count": 76,
   "metadata": {},
   "outputs": [],
   "source": [
    "def write_into_file(content):\n",
    "    with open('/Users/shenxibo/study/python/data tables/zhibo8 players/zhiboplayer.csv', 'a', encoding='gbk') as f:\n",
    "        f.write(json.dumps(content, ensure_ascii=False) + '\\n')\n",
    "write_into_file('直播吧球员')"
   ]
  },
  {
   "cell_type": "code",
   "execution_count": 73,
   "metadata": {},
   "outputs": [
    {
     "data": {
      "text/plain": [
       "{'Date': 'Fri, 23 Nov 2018 06:01:35 GMT', 'Content-Type': 'text/html;charset=utf-8', 'Transfer-Encoding': 'chunked', 'Connection': 'keep-alive', 'Vary': 'Accept-Encoding', 'X-Powered-By': 'PHP/5.6.14', 'Access-Control-Allow-Origin': '*', 'Access-Control-Allow-Headers': 'X-Requested-With', 'Access-Control-Allow-Methods': 'GET,POST,OPTIONS', 'Content-Encoding': 'gzip'}"
      ]
     },
     "execution_count": 73,
     "metadata": {},
     "output_type": "execute_result"
    }
   ],
   "source": [
    "r=requests.get(url+'1307')\n",
    "r.headers"
   ]
  },
  {
   "cell_type": "code",
   "execution_count": 80,
   "metadata": {},
   "outputs": [
    {
     "data": {
      "text/plain": [
       "dict_values(['1307', '19', '英乙', '136', '克鲁', '0', '', '尼科尔斯', 'Alex Nicholls', '尼科尔斯', '', '14', '前锋', '英格兰', '31', '178', '70', '0', '0', '0', '0', '0', '0', '0.00', '1987-12-09', '右脚', '0000-00-00 00:00:00', '2019-06-30 00:00:00', 'http://xinwentu.oss-cn-hangzhou.aliyuncs.com/avatar/default-avatar.png', '1', '0', '0', '0', [], [{'id': '164760', 'player_id': '1307', 'from_team_id': '97', 'to_team_id': '136', 'name': '尼科尔斯', 'from_team_name': '巴尼特', 'to_team_name': '克鲁', 'type': '1', 'tran_time': '2018-07-06 00:00:00', 'value': '-', 'at_the_time_value': '25', 'season': '18/19', 'update_time': '1542556846'}, {'id': '164761', 'player_id': '1307', 'from_team_id': '1860', 'to_team_id': '97', 'name': '尼科尔斯', 'from_team_name': '邓迪联', 'to_team_name': '巴尼特', 'type': '3', 'tran_time': '2017-05-31 00:00:00', 'value': '-', 'at_the_time_value': '25', 'season': '16/17', 'update_time': '1542556846'}, {'id': '164762', 'player_id': '1307', 'from_team_id': '97', 'to_team_id': '1860', 'name': '尼科尔斯', 'from_team_name': '巴尼特', 'to_team_name': '邓迪联', 'type': '2', 'tran_time': '2017-01-31 00:00:00', 'value': '-', 'at_the_time_value': '25', 'season': '16/17', 'update_time': '1542556846'}, {'id': '164763', 'player_id': '1307', 'from_team_id': '94', 'to_team_id': '97', 'name': '尼科尔斯', 'from_team_name': '埃克赛特城', 'to_team_name': '巴尼特', 'type': '1', 'tran_time': '2016-07-01 00:00:00', 'value': '-', 'at_the_time_value': '25', 'season': '16/17', 'update_time': '1542556846'}, {'id': '164764', 'player_id': '1307', 'from_team_id': '43', 'to_team_id': '94', 'name': '尼科尔斯', 'from_team_name': '北安普敦', 'to_team_name': '埃克赛特城', 'type': '1', 'tran_time': '2015-01-06 00:00:00', 'value': '-', 'at_the_time_value': '25', 'season': '14/15', 'update_time': '1542556846'}, {'id': '164765', 'player_id': '1307', 'from_team_id': '94', 'to_team_id': '43', 'name': '尼科尔斯', 'from_team_name': '埃克赛特城', 'to_team_name': '北安普敦', 'type': '3', 'tran_time': '2015-01-05 00:00:00', 'value': '-', 'at_the_time_value': '25', 'season': '14/15', 'update_time': '1542556846'}, {'id': '164766', 'player_id': '1307', 'from_team_id': '43', 'to_team_id': '94', 'name': '尼科尔斯', 'from_team_name': '北安普敦', 'to_team_name': '埃克赛特城', 'type': '2', 'tran_time': '2014-11-27 00:00:00', 'value': '-', 'at_the_time_value': '25', 'season': '14/15', 'update_time': '1542556846'}, {'id': '164767', 'player_id': '1307', 'from_team_id': '94', 'to_team_id': '43', 'name': '尼科尔斯', 'from_team_name': '埃克赛特城', 'to_team_name': '北安普敦', 'type': '3', 'tran_time': '2014-10-05 00:00:00', 'value': '-', 'at_the_time_value': '25', 'season': '14/15', 'update_time': '1542556846'}, {'id': '164768', 'player_id': '1307', 'from_team_id': '43', 'to_team_id': '94', 'name': '尼科尔斯', 'from_team_name': '北安普敦', 'to_team_name': '埃克赛特城', 'type': '2', 'tran_time': '2014-09-01 00:00:00', 'value': '-', 'at_the_time_value': '25', 'season': '14/15', 'update_time': '1542556846'}, {'id': '164769', 'player_id': '1307', 'from_team_id': '58', 'to_team_id': '43', 'name': '尼科尔斯', 'from_team_name': '沃尔索尔', 'to_team_name': '北安普敦', 'type': '1', 'tran_time': '2012-07-01 00:00:00', 'value': '-', 'at_the_time_value': '25', 'season': '12/13', 'update_time': '1542556846'}, {'id': '164770', 'player_id': '1307', 'from_team_id': '0', 'to_team_id': '58', 'name': '尼科尔斯', 'from_team_name': 'Burton Albion', 'to_team_name': '沃尔索尔', 'type': '3', 'tran_time': '2007-04-01 00:00:00', 'value': '-', 'at_the_time_value': '0', 'season': '06/07', 'update_time': '1542556846'}, {'id': '164771', 'player_id': '1307', 'from_team_id': '58', 'to_team_id': '0', 'name': '尼科尔斯', 'from_team_name': '沃尔索尔', 'to_team_name': 'Burton Albion', 'type': '2', 'tran_time': '2007-02-01 00:00:00', 'value': '-', 'at_the_time_value': '0', 'season': '06/07', 'update_time': '1542556846'}, {'id': '164772', 'player_id': '1307', 'from_team_id': '0', 'to_team_id': '58', 'name': '尼科尔斯', 'from_team_name': 'Walsall U18', 'to_team_name': '沃尔索尔', 'type': '1', 'tran_time': '2005-07-01 00:00:00', 'value': '-', 'at_the_time_value': '0', 'season': '05/06', 'update_time': '1542556846'}], {'league_type': ['赛事', '球队', '赛季', '出场次数', '进球', '助攻', '红牌', '黄牌', '替补上场', '替补下场', '出场总时间', '黄变红', '场均积分', '乌龙球', '进点球', '进球间隔时间'], 'national_team_type': ['赛事', '球队', '出场次数', '进球', '助攻', '红牌', '黄牌', '替补上场', '替补下场', '出场总时间', '黄变红', '乌龙球', '进点球', '进球间隔时间'], 'league_list': [{'赛事': 'EFL Trophy', '球队': '克鲁', '赛季': '18/19', '出场次数': '3', '进球': '2', '助攻': '0', '红牌': '0', '黄牌': '0', '替补上场': '1', '替补下场': '1', '出场总时间': '196', '黄变红': '0', '场均积分': '1', '乌龙球': '0', '进点球': '0', '进球间隔时间': '98', '赛事类型': '杯赛'}, {'赛事': '英乙', '球队': '克鲁', '赛季': '18/19', '出场次数': '15', '进球': '2', '助攻': '0', '红牌': '0', '黄牌': '1', '替补上场': '9', '替补下场': '4', '出场总时间': '569', '黄变红': '0', '场均积分': '1', '乌龙球': '0', '进点球': '0', '进球间隔时间': '285', '赛事类型': '联赛'}, {'赛事': '联赛杯', '球队': '克鲁', '赛季': '18/19', '出场次数': '1', '进球': '0', '助攻': '0', '红牌': '0', '黄牌': '0', '替补上场': '0', '替补下场': '0', '出场总时间': '90', '黄变红': '0', '场均积分': '0', '乌龙球': '0', '进点球': '0', '进球间隔时间': '0', '赛事类型': '杯赛'}, {'赛事': '英足总杯', '球队': 'Barnet FC', '赛季': '17/18', '出场次数': '1', '进球': '0', '助攻': '0', '红牌': '0', '黄牌': '0', '替补上场': '0', '替补下场': '0', '出场总时间': '90', '黄变红': '0', '场均积分': '0', '乌龙球': '0', '进点球': '0', '进球间隔时间': '0', '赛事类型': '杯赛'}, {'赛事': '英乙', '球队': 'Barnet FC', '赛季': '17/18', '出场次数': '25', '进球': '7', '助攻': '1', '红牌': '0', '黄牌': '1', '替补上场': '6', '替补下场': '9', '出场总时间': '1667', '黄变红': '0', '场均积分': '1.16', '乌龙球': '0', '进点球': '0', '进球间隔时间': '238', '赛事类型': '联赛'}, {'赛事': 'EFL Trophy', '球队': 'Barnet FC', '赛季': '17/18', '出场次数': '1', '进球': '1', '助攻': '0', '红牌': '0', '黄牌': '0', '替补上场': '0', '替补下场': '0', '出场总时间': '90', '黄变红': '0', '场均积分': '3', '乌龙球': '0', '进点球': '0', '进球间隔时间': '90', '赛事类型': '杯赛'}, {'赛事': '苏冠', '球队': '邓迪联', '赛季': '16/17', '出场次数': '9', '进球': '0', '助攻': '0', '红牌': '0', '黄牌': '0', '替补上场': '5', '替补下场': '2', '出场总时间': '391', '黄变红': '0', '场均积分': '0.89', '乌龙球': '0', '进点球': '0', '进球间隔时间': '0', '赛事类型': '联赛'}, {'赛事': '苏挑杯', '球队': '邓迪联', '赛季': '16/17', '出场次数': '1', '进球': '0', '助攻': '0', '红牌': '0', '黄牌': '0', '替补上场': '0', '替补下场': '1', '出场总时间': '73', '黄变红': '0', '场均积分': '3', '乌龙球': '0', '进点球': '0', '进球间隔时间': '0', '赛事类型': '杯赛'}, {'赛事': '英足总杯', '球队': 'Barnet FC', '赛季': '16/17', '出场次数': '0', '进球': '0', '助攻': '0', '红牌': '0', '黄牌': '0', '替补上场': '0', '替补下场': '0', '出场总时间': '0', '黄变红': '0', '场均积分': '0', '乌龙球': '0', '进点球': '0', '进球间隔时间': '0', '赛事类型': '杯赛'}, {'赛事': '英乙', '球队': 'Barnet FC', '赛季': '16/17', '出场次数': '17', '进球': '2', '助攻': '1', '红牌': '0', '黄牌': '1', '替补上场': '6', '替补下场': '9', '出场总时间': '955', '黄变红': '0', '场均积分': '1.29', '乌龙球': '0', '进点球': '0', '进球间隔时间': '478', '赛事类型': '联赛'}, {'赛事': 'EFL Trophy', '球队': 'Barnet FC', '赛季': '16/17', '出场次数': '2', '进球': '1', '助攻': '0', '红牌': '0', '黄牌': '0', '替补上场': '0', '替补下场': '0', '出场总时间': '210', '黄变红': '0', '场均积分': '0', '乌龙球': '0', '进点球': '0', '进球间隔时间': '210', '赛事类型': '杯赛'}, {'赛事': '联赛杯', '球队': 'Barnet FC', '赛季': '16/17', '出场次数': '1', '进球': '0', '助攻': '0', '红牌': '0', '黄牌': '0', '替补上场': '0', '替补下场': '1', '出场总时间': '72', '黄变红': '0', '场均积分': '0', '乌龙球': '0', '进点球': '0', '进球间隔时间': '0', '赛事类型': '杯赛'}, {'赛事': '英足总杯', '球队': '埃克赛特城', '赛季': '15/16', '出场次数': '4', '进球': '1', '助攻': '1', '红牌': '0', '黄牌': '0', '替补上场': '1', '替补下场': '0', '出场总时间': '298', '黄变红': '0', '场均积分': '1.75', '乌龙球': '0', '进点球': '0', '进球间隔时间': '298', '赛事类型': '杯赛'}, {'赛事': '英乙', '球队': '埃克赛特城', '赛季': '15/16', '出场次数': '35', '进球': '5', '助攻': '5', '红牌': '0', '黄牌': '2', '替补上场': '9', '替补下场': '8', '出场总时间': '2289', '黄变红': '0', '场均积分': '1.23', '乌龙球': '0', '进点球': '0', '进球间隔时间': '458', '赛事类型': '联赛'}, {'赛事': '联赛杯', '球队': '埃克赛特城', '赛季': '15/16', '出场次数': '1', '进球': '1', '助攻': '0', '红牌': '0', '黄牌': '0', '替补上场': '0', '替补下场': '1', '出场总时间': '80', '黄变红': '0', '场均积分': '3', '乌龙球': '0', '进点球': '0', '进球间隔时间': '80', '赛事类型': '杯赛'}, {'赛事': 'FL Trophy', '球队': '埃克赛特城', '赛季': '15/16', '出场次数': '2', '进球': '1', '助攻': '0', '红牌': '0', '黄牌': '0', '替补上场': '0', '替补下场': '0', '出场总时间': '180', '黄变红': '0', '场均积分': '1.5', '乌龙球': '0', '进点球': '0', '进球间隔时间': '180', '赛事类型': '杯赛'}, {'赛事': '英足总杯', '球队': '北安普敦', '赛季': '14/15', '出场次数': '1', '进球': '0', '助攻': '0', '红牌': '0', '黄牌': '0', '替补上场': '1', '替补下场': '0', '出场总时间': '10', '黄变红': '0', '场均积分': '1', '乌龙球': '0', '进点球': '0', '进球间隔时间': '0', '赛事类型': '杯赛'}, {'赛事': '英乙', '球队': '北安普敦', '赛季': '14/15', '出场次数': '6', '进球': '1', '助攻': '0', '红牌': '0', '黄牌': '0', '替补上场': '2', '替补下场': '4', '出场总时间': '322', '黄变红': '0', '场均积分': '1', '乌龙球': '0', '进点球': '0', '进球间隔时间': '322', '赛事类型': '联赛'}, {'赛事': '英乙', '球队': '埃克赛特城', '赛季': '14/15', '出场次数': '32', '进球': '3', '助攻': '5', '红牌': '0', '黄牌': '2', '替补上场': '5', '替补下场': '16', '出场总时间': '2216', '黄变红': '0', '场均积分': '1.47', '乌龙球': '0', '进点球': '0', '进球间隔时间': '739', '赛事类型': '联赛'}, {'赛事': '联赛杯', '球队': '北安普敦', '赛季': '14/15', '出场次数': '1', '进球': '0', '助攻': '0', '红牌': '0', '黄牌': '0', '替补上场': '1', '替补下场': '0', '出场总时间': '14', '黄变红': '0', '场均积分': '0', '乌龙球': '0', '进点球': '0', '进球间隔时间': '0', '赛事类型': '杯赛'}, {'赛事': 'EFL Trophy', '球队': '北安普敦', '赛季': '14/15', '出场次数': '2', '进球': '0', '助攻': '0', '红牌': '0', '黄牌': '0', '替补上场': '0', '替补下场': '0', '出场总时间': '180', '黄变红': '0', '场均积分': '1.5', '乌龙球': '0', '进点球': '0', '进球间隔时间': '0', '赛事类型': '杯赛'}, {'赛事': '联赛杯', '球队': '北安普敦', '赛季': '12/13', '出场次数': '2', '进球': '1', '助攻': '0', '红牌': '0', '黄牌': '0', '替补上场': '0', '替补下场': '1', '出场总时间': '135', '黄变红': '0', '场均积分': '1.5', '乌龙球': '0', '进点球': '0', '进球间隔时间': '135', '赛事类型': '杯赛'}, {'赛事': '英乙', '球队': '北安普敦', '赛季': '12/13', '出场次数': '15', '进球': '7', '助攻': '1', '红牌': '0', '黄牌': '3', '替补上场': '0', '替补下场': '1', '出场总时间': '1290', '黄变红': '0', '场均积分': '1.27', '乌龙球': '0', '进点球': '0', '进球间隔时间': '184', '赛事类型': '联赛'}, {'赛事': 'EFL Trophy', '球队': '北安普敦', '赛季': '12/13', '出场次数': '2', '进球': '0', '助攻': '0', '红牌': '0', '黄牌': '0', '替补上场': '1', '替补下场': '0', '出场总时间': '98', '黄变红': '0', '场均积分': '3', '乌龙球': '0', '进点球': '0', '进球间隔时间': '0', '赛事类型': '杯赛'}, {'赛事': '英足总杯', '球队': 'Walsall FC', '赛季': '11/12', '出场次数': '4', '进球': '1', '助攻': '1', '红牌': '0', '黄牌': '0', '替补上场': '0', '替补下场': '0', '出场总时间': '420', '黄变红': '0', '场均积分': '1.25', '乌龙球': '0', '进点球': '0', '进球间隔时间': '420', '赛事类型': '杯赛'}, {'赛事': '英甲', '球队': 'Walsall FC', '赛季': '11/12', '出场次数': '45', '进球': '7', '助攻': '2', '红牌': '0', '黄牌': '2', '替补上场': '13', '替补下场': '5', '出场总时间': '3211', '黄变红': '0', '场均积分': '1.11', '乌龙球': '0', '进点球': '1', '进球间隔时间': '459', '赛事类型': '联赛'}, {'赛事': '联赛杯', '球队': 'Walsall FC', '赛季': '11/12', '出场次数': '1', '进球': '0', '助攻': '0', '红牌': '0', '黄牌': '0', '替补上场': '1', '替补下场': '0', '出场总时间': '44', '黄变红': '0', '场均积分': '0', '乌龙球': '0', '进点球': '0', '进球间隔时间': '0', '赛事类型': '杯赛'}, {'赛事': 'EFL Trophy', '球队': 'Walsall FC', '赛季': '11/12', '出场次数': '2', '进球': '0', '助攻': '0', '红牌': '0', '黄牌': '0', '替补上场': '0', '替补下场': '0', '出场总时间': '210', '黄变红': '0', '场均积分': '1.5', '乌龙球': '0', '进点球': '0', '进球间隔时间': '0', '赛事类型': '杯赛'}, {'赛事': '英甲', '球队': 'Walsall FC', '赛季': '10/11', '出场次数': '37', '进球': '5', '助攻': '3', '红牌': '0', '黄牌': '0', '替补上场': '11', '替补下场': '9', '出场总时间': '2354', '黄变红': '0', '场均积分': '1.14', '乌龙球': '0', '进点球': '0', '进球间隔时间': '471', '赛事类型': '联赛'}, {'赛事': '英足总杯', '球队': 'Walsall FC', '赛季': '10/11', '出场次数': '2', '进球': '0', '助攻': '1', '红牌': '0', '黄牌': '0', '替补上场': '0', '替补下场': '0', '出场总时间': '180', '黄变红': '0', '场均积分': '1.5', '乌龙球': '0', '进点球': '0', '进球间隔时间': '0', '赛事类型': '杯赛'}, {'赛事': '联赛杯', '球队': 'Walsall FC', '赛季': '10/11', '出场次数': '1', '进球': '0', '助攻': '0', '红牌': '0', '黄牌': '0', '替补上场': '0', '替补下场': '1', '出场总时间': '65', '黄变红': '0', '场均积分': '0', '乌龙球': '0', '进点球': '0', '进球间隔时间': '0', '赛事类型': '杯赛'}, {'赛事': '英足总杯', '球队': 'Walsall FC', '赛季': '09/10', '出场次数': '1', '进球': '0', '助攻': '0', '红牌': '0', '黄牌': '0', '替补上场': '1', '替补下场': '0', '出场总时间': '6', '黄变红': '0', '场均积分': '3', '乌龙球': '0', '进点球': '0', '进球间隔时间': '0', '赛事类型': '杯赛'}, {'赛事': '英甲', '球队': 'Walsall FC', '赛季': '09/10', '出场次数': '37', '进球': '4', '助攻': '4', '红牌': '0', '黄牌': '6', '替补上场': '17', '替补下场': '9', '出场总时间': '1942', '黄变红': '0', '场均积分': '1.49', '乌龙球': '0', '进点球': '0', '进球间隔时间': '486', '赛事类型': '联赛'}, {'赛事': '联赛杯', '球队': 'Walsall FC', '赛季': '09/10', '出场次数': '1', '进球': '1', '助攻': '0', '红牌': '0', '黄牌': '0', '替补上场': '0', '替补下场': '0', '出场总时间': '90', '黄变红': '0', '场均积分': '0', '乌龙球': '0', '进点球': '0', '进球间隔时间': '90', '赛事类型': '杯赛'}, {'赛事': '英足总杯', '球队': 'Walsall FC', '赛季': '08/09', '出场次数': '1', '进球': '0', '助攻': '0', '红牌': '0', '黄牌': '0', '替补上场': '1', '替补下场': '0', '出场总时间': '18', '黄变红': '0', '场均积分': '0', '乌龙球': '0', '进点球': '0', '进球间隔时间': '0', '赛事类型': '杯赛'}, {'赛事': '英甲', '球队': 'Walsall FC', '赛季': '08/09', '出场次数': '45', '进球': '6', '助攻': '0', '红牌': '0', '黄牌': '2', '替补上场': '7', '替补下场': '16', '出场总时间': '3229', '黄变红': '0', '场均积分': '1.36', '乌龙球': '0', '进点球': '0', '进球间隔时间': '538', '赛事类型': '联赛'}, {'赛事': '联赛杯', '球队': 'Walsall FC', '赛季': '08/09', '出场次数': '1', '进球': '0', '助攻': '0', '红牌': '0', '黄牌': '0', '替补上场': '0', '替补下场': '0', '出场总时间': '90', '黄变红': '0', '场均积分': '0', '乌龙球': '0', '进点球': '0', '进球间隔时间': '0', '赛事类型': '杯赛'}, {'赛事': '英足总杯', '球队': 'Walsall FC', '赛季': '07/08', '出场次数': '2', '进球': '1', '助攻': '0', '红牌': '0', '黄牌': '0', '替补上场': '0', '替补下场': '0', '出场总时间': '180', '黄变红': '0', '场均积分': '0.5', '乌龙球': '0', '进点球': '0', '进球间隔时间': '180', '赛事类型': '杯赛'}, {'赛事': '英甲', '球队': 'Walsall FC', '赛季': '07/08', '出场次数': '19', '进球': '2', '助攻': '0', '红牌': '0', '黄牌': '0', '替补上场': '12', '替补下场': '6', '出场总时间': '857', '黄变红': '0', '场均积分': '1.26', '乌龙球': '0', '进点球': '0', '进球间隔时间': '429', '赛事类型': '联赛'}, {'赛事': '联赛杯', '球队': 'Walsall FC', '赛季': '07/08', '出场次数': '1', '进球': '0', '助攻': '0', '红牌': '0', '黄牌': '0', '替补上场': '1', '替补下场': '0', '出场总时间': '44', '黄变红': '0', '场均积分': '0', '乌龙球': '0', '进点球': '0', '进球间隔时间': '0', '赛事类型': '杯赛'}, {'赛事': '英乙', '球队': 'Walsall FC', '赛季': '06/07', '出场次数': '0', '进球': '0', '助攻': '0', '红牌': '0', '黄牌': '0', '替补上场': '0', '替补下场': '0', '出场总时间': '0', '黄变红': '0', '场均积分': '0', '乌龙球': '0', '进点球': '0', '进球间隔时间': '0', '赛事类型': '联赛'}, {'赛事': '英甲', '球队': 'Walsall FC', '赛季': '05/06', '出场次数': '8', '进球': '0', '助攻': '0', '红牌': '0', '黄牌': '1', '替补上场': '4', '替补下场': '2', '出场总时间': '440', '黄变红': '0', '场均积分': '1.13', '乌龙球': '0', '进点球': '0', '进球间隔时间': '0', '赛事类型': '联赛'}], 'national_team_list': [], 'total_list': [{'赛季': '18/19', '出场次数': 19, '进球': 4, '助攻': 0, '红牌': 0, '黄牌': 1, '替补上场': 10, '替补下场': 5, '出场总时间': 855, '黄变红': 0, '场均积分': '0.66', '乌龙球': 0, '进点球': 0, '进球间隔时间': '213.75'}, {'赛季': '17/18', '出场次数': 27, '进球': 8, '助攻': 1, '红牌': 0, '黄牌': 1, '替补上场': 6, '替补下场': 9, '出场总时间': 1847, '黄变红': 0, '场均积分': '1.38', '乌龙球': 0, '进点球': 0, '进球间隔时间': '230.87'}, {'赛季': '16/17', '出场次数': 30, '进球': 3, '助攻': 1, '红牌': 0, '黄牌': 1, '替补上场': 11, '替补下场': 13, '出场总时间': 1701, '黄变红': 0, '场均积分': '0.86', '乌龙球': 0, '进点球': 0, '进球间隔时间': '567.00'}, {'赛季': '15/16', '出场次数': 42, '进球': 8, '助攻': 6, '红牌': 0, '黄牌': 2, '替补上场': 10, '替补下场': 9, '出场总时间': 2847, '黄变红': 0, '场均积分': '1.87', '乌龙球': 0, '进点球': 0, '进球间隔时间': '355.87'}, {'赛季': '14/15', '出场次数': 42, '进球': 4, '助攻': 5, '红牌': 0, '黄牌': 2, '替补上场': 9, '替补下场': 20, '出场总时间': 2742, '黄变红': 0, '场均积分': '0.99', '乌龙球': 0, '进点球': 0, '进球间隔时间': '685.50'}, {'赛季': '12/13', '出场次数': 19, '进球': 8, '助攻': 1, '红牌': 0, '黄牌': 3, '替补上场': 1, '替补下场': 2, '出场总时间': 1523, '黄变红': 0, '场均积分': '1.92', '乌龙球': 0, '进点球': 0, '进球间隔时间': '190.37'}, {'赛季': '11/12', '出场次数': 52, '进球': 8, '助攻': 3, '红牌': 0, '黄牌': 2, '替补上场': 14, '替补下场': 5, '出场总时间': 3885, '黄变红': 0, '场均积分': '0.96', '乌龙球': 0, '进点球': 1, '进球间隔时间': '485.62'}, {'赛季': '10/11', '出场次数': 40, '进球': 5, '助攻': 4, '红牌': 0, '黄牌': 0, '替补上场': 11, '替补下场': 10, '出场总时间': 2599, '黄变红': 0, '场均积分': '0.88', '乌龙球': 0, '进点球': 0, '进球间隔时间': '519.80'}, {'赛季': '09/10', '出场次数': 39, '进球': 5, '助攻': 4, '红牌': 0, '黄牌': 6, '替补上场': 18, '替补下场': 9, '出场总时间': 2038, '黄变红': 0, '场均积分': '1.49', '乌龙球': 0, '进点球': 0, '进球间隔时间': '407.60'}, {'赛季': '08/09', '出场次数': 47, '进球': 6, '助攻': 0, '红牌': 0, '黄牌': 2, '替补上场': 8, '替补下场': 16, '出场总时间': 3337, '黄变红': 0, '场均积分': '0.45', '乌龙球': 0, '进点球': 0, '进球间隔时间': '556.16'}, {'赛季': '07/08', '出场次数': 22, '进球': 3, '助攻': 0, '红牌': 0, '黄牌': 0, '替补上场': 13, '替补下场': 6, '出场总时间': 1081, '黄变红': 0, '场均积分': '0.58', '乌龙球': 0, '进点球': 0, '进球间隔时间': '360.33'}, {'赛季': '06/07', '出场次数': 0, '进球': 0, '助攻': 0, '红牌': 0, '黄牌': 0, '替补上场': 0, '替补下场': 0, '出场总时间': 0, '黄变红': 0, '场均积分': 0, '乌龙球': 0, '进点球': 0, '进球间隔时间': 0}, {'赛季': '05/06', '出场次数': 8, '进球': 0, '助攻': 0, '红牌': 0, '黄牌': 1, '替补上场': 4, '替补下场': 2, '出场总时间': 440, '黄变红': 0, '场均积分': '1.13', '乌龙球': 0, '进点球': 0, '进球间隔时间': 0}], 'total': {'总计': {'出场次数': 387, '进球': 62, '助攻': 25, '红牌': 0, '黄牌': 21, '替补上场': 115, '替补下场': 106, '出场总时间': 24895, '黄变红': 0, '场均积分': '1.06', '乌龙球': 0, '进点球': 1, '进球间隔时间': '401.53'}, '联赛': {'出场次数': 345, '进球': 51, '助攻': 22, '红牌': 0, '黄牌': 21, '替补上场': 106, '替补下场': 100, '出场总时间': 21732, '黄变红': 0, '场均积分': '1.12', '乌龙球': 0, '进点球': 1, '进球间隔时间': '426.11'}, '杯赛': {'出场次数': 42, '进球': 11, '助攻': 3, '红牌': 0, '黄牌': 0, '替补上场': 9, '替补下场': 6, '出场总时间': 3163, '黄变红': 0, '场均积分': '1.03', '乌龙球': 0, '进点球': 0, '进球间隔时间': '287.54'}, '国家队': {'出场次数': 0, '进球': 0, '助攻': 0, '红牌': 0, '黄牌': 0, '替补上场': 0, '替补下场': 0, '出场总时间': 0, '黄变红': 0, '场均积分': 0, '乌龙球': 0, '进点球': 0, '进球间隔时间': 0}}, 'number': {'总计': 42, '联赛': 15, '杯赛': 27, '国家队': 0}}, [], [], '0', [{'position': '前腰', 'goals': '3'}, {'position': '中场', 'goals': '4'}, {'position': '中前锋', 'goals': '12'}, {'position': '左前锋', 'goals': '8'}, {'position': '右前锋', 'goals': '6'}, {'position': 'Second Striker', 'goals': '6'}], {'player_id': '1307', 'player': '尼科尔斯', 'season': '18/19', 'league_id': '0', 'league': 'EFL Trophy', 'day': '小组赛', 'date': '2018-09-25', 'position': '左前锋', 'is_home': '1', 'hteam_id': '136', 'gteam_id': '5234', 'hteam': '克鲁', 'gteam': 'Manchester City U23', 'hteam_score': '1', 'gteam_score': '4', 'hteam_logo': 'http://duihui.qiumibao.com/zuqiu/kelu.png', 'gteam_logo': '', 'detail': [{'minute': \"51'\", 'type_of_goal': '右脚', 'score': '1:2', 'provider_id': '3314', 'provider': 'K.奥康内尔'}]}, [{'id': '1104944', 'vs_team_id': '0', 'vs_team': 'Carlisle United', 'player_id': '1307', 'player': '尼科尔斯', 'times': '11', 'win': '5', 'draw': '5', 'lose': '4', 'goal': '1', 'assist': '2', 'yellow': '0', 'red': '0', 'yellow_to_red': '0', 'is_keeper': '0'}, {'id': '1104945', 'vs_team_id': '0', 'vs_team': 'Hartlepool United', 'player_id': '1307', 'player': '尼科尔斯', 'times': '11', 'win': '5', 'draw': '4', 'lose': '4', 'goal': '1', 'assist': '1', 'yellow': '0', 'red': '0', 'yellow_to_red': '0', 'is_keeper': '0'}, {'id': '1104946', 'vs_team_id': '126', 'vs_team': '特兰米尔', 'player_id': '1307', 'player': '尼科尔斯', 'times': '11', 'win': '5', 'draw': '2', 'lose': '7', 'goal': '1', 'assist': '1', 'yellow': '1', 'red': '0', 'yellow_to_red': '0', 'is_keeper': '0'}], [{'id': '332853', 'season': '18/19', 'player_id': '1307', 'team_id': '136', 'team_type': '1', 'player': '尼科尔斯', 'team': '克鲁', 'number': '14', 'team_logo': 'http://duihui.qiumibao.com/zuqiu/kelu.png'}]])"
      ]
     },
     "execution_count": 80,
     "metadata": {},
     "output_type": "execute_result"
    }
   ],
   "source": [
    "data=r.json().values()\n",
    "#write_into_file(data)  r=requests.get(url+str(i+1),verify=False)\n",
    "data"
   ]
  },
  {
   "cell_type": "raw",
   "metadata": {},
   "source": [
    "-------------------\n",
    "￥￥￥￥￥￥￥=\n",
    "-------------------"
   ]
  },
  {
   "cell_type": "code",
   "execution_count": 87,
   "metadata": {},
   "outputs": [
    {
     "name": "stdout",
     "output_type": "stream",
     "text": [
      "19510    卡兰萨\n",
      "19511    迪奥塞斯\n",
      "19512    富恩特斯\n",
      "19513    罗纳尔·乌亚查\n",
      "19514    马查华伊\n",
      "19515    奥赫达\n",
      "19516    杰雷米·萨尔斯\n",
      "19517    维拉尔德\n",
      "19518    瓦斯奎斯\n",
      "19519    萨拉斯\n",
      "19520    法尔科尼\n",
      "19521    梅纳.莫斯克拉\n",
      "19522    哈伊尔·伊格尔希亚斯\n",
      "19523    科尔多瓦\n",
      "19524    蒙特希诺斯\n",
      "19525    基纳\n",
      "19526    瓦斯奎斯\n",
      "19527    比略斯拉达\n",
      "19528    梅纳\n",
      "19529    奥多涅斯\n",
      "19530    萨穆迪奥\n",
      "19531    阿劳霍\n",
      "19532    比达莱斯\n",
      "19533    达尼洛·卡兰多\n",
      "19534    乌加里萨\n",
      "19535    蒂托\n",
      "19536    阿伦卡斯特雷\n",
      "19537    阿尼卡玛\n",
      "19538    阿罗埃\n",
      "19539    奥克卡\n",
      "19540    卡帕奇卡\n",
      "19541    勒卡罗斯\n",
      "19542    拉穆亚\n",
      "19543    雷塔莫索\n",
      "19544    罗哈斯\n",
      "19545    哈拉里奥\n",
      "19546    里瓦斯\n",
      "19547    维拉斯奎兹\n",
      "19548    埃雷拉\n",
      "19549    康托吉安尼斯\n",
      "19550    洛加斯\n",
      "19551    塞巴斯蒂安·罗哈斯\n",
      "19552    圣地兰\n",
      "19553    塞拉诺\n",
      "19554    瓦尔维德\n",
      "19555    卢卡纳\n",
      "19556    西乌奇\n",
      "19557    达维拉\n",
      "19558    奥蒂兹\n",
      "19559    鲁伊斯\n",
      "19560    梅迪纳\n",
      "19561    巴勃罗·迪奥戈·洛佩斯·德·利马\n",
      "19562    奇科\n",
      "19563    马里昂\n",
      "19564    鲁道夫\n",
      "19565    廷加\n",
      "19566    埃尔维斯·维埃拉\n",
      "19567    尤里·纳维斯·罗伯特\n",
      "19568    达尼洛·皮雷斯\n",
      "19569    汤尼\n",
      "19570    阿德里亚诺\n",
      "19571    埃德森·拉莫斯·席尔瓦\n",
      "19572    博特略\n",
      "19573    埃德森·科隆\n",
      "19574    塞利斯\n",
      "19575    阿吉雷\n",
      "19576    蒙特内戈罗\n",
      "19577    博尔格斯\n",
      "19578    穆希卡\n",
      "19579    梅德拉诺\n",
      "19580    希诺斯特罗萨\n",
      "19581    拉托\n",
      "19582    阿切保德\n",
      "19583    坎波多尼科\n",
      "19584    卡雷尼奥\n",
      "19585    卡斯特罗\n",
      "19586    伊诺罗普\n",
      "19587    华雷斯\n",
      "19588    阿拉尔孔\n",
      "19589    安东尼·拉莫斯\n",
      "19590    罗德里格斯\n",
      "19591    里瓦斯\n",
      "19592    加姆贝塔\n",
      "19593    古斯曼\n",
      "19594    佩勒切\n",
      "19595    雷尼吉佛\n",
      "19596    里瓦斯\n",
      "19597    罗达斯\n",
      "19598    比尔切斯\n",
      "19599    雷耶斯\n",
      "19600    雷瓦\n",
      "19601    西斯内罗斯\n",
      "19602    比达尔\n",
      "19603    阿罗约\n",
      "19605    卡罗达\n",
      "19607    维利亚马林\n",
      "19609    斯古拉\n",
      "19613    格雷罗\n",
      "19620    迪亚兹\n",
      "19622    杜兰托\n",
      "19625    莫勒\n",
      "19636    爱德华多\n",
      "19649    斯德莱·费雷拉\n",
      "19654    克莱伯森\n",
      "19657    杰克\n",
      "19663    瓦勒松\n",
      "19665    拉菲尔森·北泽拉\n",
      "19687    阿兰·恩里克\n",
      "19689    卡伊克\n",
      "19692    帕特里克·卡布拉尔\n",
      "19693    R.桑托斯\n",
      "19699    沃尔特·亨里克\n",
      "19700    迭戈·罗萨\n",
      "19701    阿利森·米拉\n",
      "19702    若尔吉尼奥\n",
      "19703    苏亚雷斯.罗德里格斯\n",
      "19704    保罗·塞尔吉奥·德·奥利维拉\n",
      "19705    安德里戈·奥利维拉\n",
      "19706    罗纳尔多·达席尔瓦\n",
      "19707    阿德尼利森·达席尔瓦\n",
      "19708    罗杰·卡瓦略\n",
      "19709    布雷诺\n",
      "19710    爱德华多·加布里埃尔\n",
      "19711    波蒂瓜尔\n",
      "19712    克拉弗\n",
      "19713    蒂亚戈·马丁斯\n",
      "19714    古斯塔沃\n",
      "19715    菲利·普萨特尼诺·戈麦斯\n",
      "19716    阿亚伦\n",
      "19717    威利安斯·多明戈斯\n",
      "19718    卡洛斯·爱德华多\n",
      "19719    加尔兰·达·席尔瓦\n",
      "19720    戴维·马塞多\n",
      "19721    穆里洛\n",
      "19722    安德烈齐尼奥\n",
      "19723    埃韦顿·佩雷拉\n",
      "19724    里尼克尔\n",
      "19725    佩里克尔斯·努内斯\n",
      "19726    布鲁诺.阿吉亚尔\n",
      "19727    卡洛斯·埃米纳罗\n",
      "19728    海尔德·费雷拉\n",
      "19729    阿尔维斯\n",
      "19730    马特乌斯·弗拉兹\n",
      "19731    埃尔文·萨维德拉\n",
      "19732    马里奥\n",
      "19733    雷南\n",
      "19734    莫亚拉\n",
      "19741    阿尔瓦雷斯\n",
      "19762    皮基奥\n",
      "19763    冈萨雷斯\n",
      "19764    奥雷约拉\n",
      "19765    维吉尔\n",
      "19766    基里诺斯\n",
      "19767    阿托切\n",
      "19768    阿利亚加\n",
      "19769    卡兰扎\n",
      "19770    丘比塔兹\n",
      "19771    科兰\n",
      "19772    科内茹\n",
      "19773    霍亚\n",
      "19774    胡安·内拉\n",
      "19775    卡恩\n",
      "19776    米姆韦拉\n",
      "19777    莫拉雷斯\n",
      "19778    纳卡亚\n",
      "19779    桑多瓦尔\n",
      "19780    勒罗耶\n",
      "19781    阿里亚加\n",
      "19782    阿里斯门迪\n",
      "19783    伯纳尔\n",
      "19784    胡尔塔\n",
      "19785    莫奇科\n",
      "19786    奥迪斯\n",
      "19787    佩纳利略\n",
      "19788    西斯托·拉米雷斯\n",
      "19789    卡马乔\n",
      "19790    卡斯特拉诺斯\n",
      "19791    维拉桑蒂\n",
      "19793    蒙特斯\n",
      "19798    兰道里\n",
      "19799    柳亚\n",
      "19802    莫拉莱斯\n",
      "19803    奥蒂斯\n",
      "19806    萨尔塞多\n",
      "19812    克莱奎\n",
      "19817    特鲁希略\n",
      "19819    马约\n",
      "19821    平托\n",
      "19825    托马斯\n",
      "19826    威灵顿·内姆\n",
      "19830    普拉托\n",
      "19854    雷南·里贝罗\n",
      "19855    德尼斯·塞萨尔\n",
      "19859    若奥·保罗\n",
      "19863    罗迪高·戈麦斯\n",
      "19866    马特乌斯·萨莱斯\n",
      "19870    雷内·儒尼奥尔\n",
      "19871    马特乌斯·雷斯\n",
      "19874    费伊让\n",
      "19877    加布里埃尔·科斯塔\n",
      "19890    J.卡皮沙巴\n",
      "19896    亚戈·安杰洛\n",
      "19897    克莱伯·吉亚科马塞\n",
      "19898    里尔多\n",
      "19899    阿莱桑德罗·巴博萨\n",
      "19900    加特森\n",
      "19901    因迪奧\n",
      "19902    凯里森\n",
      "19903    韦罗拉\n",
      "19904    亨里克\n",
      "19905    菲利格拉纳\n",
      "19906    乔纳斯·戈麦斯\n",
      "19907    埃迪尼奥·费雷拉\n",
      "19908    若奥·达\n",
      "19909    蒂亚戈·里尔\n",
      "19910    扬·梅德罗\n",
      "19911    马特乌斯·加尔德扎尼\n",
      "19912    鲍姆约翰\n",
      "19913    桑托斯\n",
      "19914    拉菲尔·维尼休斯·隆古内\n",
      "19915    丹尼尔·弗雷塔斯\n",
      "19916    莱昂纳多\n",
      "19917    安德森·路易斯\n",
      "19918    T.巴斯托斯\n",
      "19919    鲁施\n",
      "19920    罗德里格·拉莫斯\n",
      "19921    威廉·马特乌斯\n",
      "19922    多米利尔森·多斯桑托斯\n",
      "19923    恩里克·库斯托迪奥\n",
      "19924    莱昂纳多·莫雷拉\n",
      "19925    瓦利森·莫雷拉\n",
      "19926    维尔利·安纳尼斯\n",
      "19927    吉奥瓦尼\n",
      "19928    克莱伯\n",
      "19929    罗梅尔西奥\n",
      "19930    马尔西奥\n",
      "19931    蒂亚戈.卡雷托\n",
      "19932    威尔森·德·莫拉\n",
      "19933    威廉阿莫林\n",
      "19934    布鲁诺\n",
      "19935    马丁斯\n",
      "19936    克劳迪奥\n",
      "19937    马西奥·埃默森\n",
      "19938    费利佩\n",
      "19939    莱昂德罗·加马尔尼奥·德·索萨\n",
      "19940    卢卡·博格斯\n",
      "19941    门多萨\n",
      "19942    桑托斯·梅勒莱斯\n",
      "19943    贾德森\n",
      "19944    卢安·佩雷斯\n",
      "19945    法比奥·法罗考\n",
      "19946    雷纳托·卡加\n",
      "19947    若奥·维克多\n",
      "19948    温德尔\n",
      "19949    埃利维顿·维森特\n",
      "19950    马科斯·维尼休斯·塞拉托\n",
      "19951    费尔南多·帕伊克萨奥\n",
      "19952    罗德里格·巴尔达索·达·科斯塔\n",
      "19953    达尼洛\n",
      "19954    纳尔多\n",
      "19955    塞韦里诺·拉莫斯\n",
      "19956    法比奥·费雷拉\n",
      "19957    卡瓦略·杰弗森\n",
      "19958    杰·帕特里克·里斯\n",
      "19959    阿图尔·塞尔吉奥·巴蒂斯塔\n",
      "19960    雅戈·费尔南多\n",
      "19961    乔·卡洛斯\n",
      "19962    伊凡\n",
      "19963    马里奥·卢西奥·杜亚特·科斯塔·阿拉尼亚\n",
      "19964    埃里克·冈萨尔维斯\n",
      "19968    若热·圭代斯\n",
      "19972    吉列尔梅\n",
      "19981    马科斯\n",
      "19987    何塞·卡洛斯·费雷拉\n",
      "19995    西尔维斯特\n",
      "19999    埃迪尔森\n",
      "20002    里卡多·奥利维拉\n",
      "20013    马特乌斯·热苏斯\n",
      "20048    塔利森\n",
      "20050    帕尔达尔\n",
      "20062    伊戈尔\n",
      "20066    普拉塔\n",
      "20067    萨穆埃尔·哈维尔\n",
      "20070    阿尔维斯\n",
      "20079    塔勒斯·利马\n",
      "20082    埃万德\n",
      "20087    马特乌斯·维塔尔\n",
      "20106    罗查\n",
      "20109    莫里尼奥\n",
      "20110    卡帕\n",
      "20111    桑塔伦\n",
      "20112    Caio\n",
      "20113    东条英机\n",
      "20114    W.辛坦拿\n",
      "20115    罗慕洛\n",
      "20116    乔尔·塔德约\n",
      "20117    伦科\n",
      "20118    希米昂\n",
      "20119    路安\n",
      "20120    奥塔维奥\n",
      "20121    马奎尼奥斯\n",
      "20122    爱德华.布莱恩\n",
      "20123    杜特拉\n",
      "20124    德维德\n",
      "20125    维托尔\n",
      "20126    索阿雷斯\n",
      "20127    卡斯特罗\n",
      "20128    若奥·维克多\n",
      "20129    米尼泽斯\n",
      "20130    F.勒达\n",
      "20131    泰华里斯\n",
      "20132    雷纳托\n",
      "20133    毛里西奥\n",
      "20134    桑托斯\n",
      "20135    席尔瓦\n",
      "20136    塔瓦雷斯\n",
      "20137    萨拉扎\n",
      "20138    艾林美奥\n",
      "20139    麦孔\n",
      "20140    胡安·马尔多纳多·贾伊梅兹·儒尼奥尔\n",
      "20141    法比安\n",
      "20142    卢卡斯·罗瓦特\n",
      "20143    艾伯特·贝塔奥\n",
      "20144    古斯塔沃·弗朗奇尼\n",
      "20145    蒂拉巴西艾尔顿\n",
      "20146    莱昂纳多\n",
      "20147    保罗\n",
      "20148    莱奥\n",
      "20149    马图斯\n",
      "20150    道格拉斯·弗雷德里奇\n",
      "20151    维托\n",
      "20152    科兹林斯基\n",
      "20153    费利佩·阿莫林\n",
      "20157    米克·多斯\n",
      "20165    戴维\n",
      "20166    雷纳托·布鲁诺\n",
      "20185    罗杰·罗德里格斯\n",
      "20187    维尼休斯·奥利维拉\n",
      "20193    乔纳森·达席尔瓦\n",
      "20203    维克托·路易斯\n",
      "20213    雷南·雷莫斯\n",
      "20233    迈克尔·阿罗约\n",
      "20234    孔拉多\n",
      "20238    路易斯·费利佩\n",
      "20243    E.埃泽佩尔诺\n",
      "20254    贾森·西奎埃拉\n",
      "20260    卡多索\n",
      "20267    古利\n",
      "20268    埃里克·席尔瓦\n",
      "20269    道格拉斯\n",
      "20270    拉斐尔\n",
      "20271    迪奥戈\n",
      "20272    奥雷利奥\n",
      "20273    利奥兹尼霍\n",
      "20274    阿德兰\n",
      "20275    克里斯蒂亚诺·安德雷\n",
      "20276    加布里埃尔·瓦斯康塞洛斯\n",
      "20277    阿莱桑德罗·达席尔瓦·巴蒂斯塔\n",
      "20278    马修斯·卡西尼\n",
      "20279    Kauê\n",
      "20280    法布里西奥\n",
      "20281    威尔森·马蒂亚斯\n",
      "20282    马津霍\n",
      "20283    丹尼尔\n",
      "20284    凯瑟利\n",
      "20285    罗德里格·爱德华多\n",
      "20286    莱安德罗\n",
      "20287    博格斯\n",
      "20288    威廉\n",
      "20289    鲁道夫·阿尔维斯\n",
      "20294    阿莱芒\n",
      "20295    拉斐尔·卢卡斯\n",
      "20298    伊阿古·麦达纳\n",
      "20299    杰弗森·卡瓦略\n",
      "20300    阿尔维斯\n",
      "20301    卡利尔\n",
      "20302    西尔维奥·儒尼奥尔\n",
      "20303    阿里森·法里亚斯\n",
      "20304    卡约\n",
      "20305    乔西内·斯查德\n",
      "20306    麦孔·马塞多\n",
      "20307    迪奥戈·马特乌斯\n",
      "20308    吉亚雷塔\n",
      "20309    儒尼奥尔\n",
      "20310    马尔考\n",
      "20311    博格松\n",
      "20312    法比奥·马托斯\n",
      "20313    雷纳蒂尼奥·奥古斯托\n",
      "20314    迭戈·伊沃\n",
      "20315    拉斐尔\n",
      "20316    艾尔顿\n",
      "20317    吉列.桑托斯\n",
      "20318    韦斯利·帕切科\n",
      "20319    雅伊尔·罗德里格斯\n",
      "20320    特哈西奥诺\n",
      "20321    拉蒙\n",
      "20322    奥古斯托\n",
      "20323    乔苏·德\n",
      "20324    马蒂奥尼\n",
      "20325    保罗·维克托\n",
      "20326    波利\n",
      "20327    埃斯格丁哈\n",
      "20328    吉奥瓦尼·皮克洛莫\n",
      "20329    威廉\n",
      "20330    布鲁诺·莫塔·米兰达\n",
      "20331    威廉·苏斯特尔\n",
      "20332    雷南·索萨\n",
      "20333    伊阿古\n",
      "20334    达尔兰\n",
      "20335    艾斯兰·保罗\n",
      "20336    佩雷拉\n",
      "20338    马克西米里亚诺·洛维拉\n",
      "20340    赫尔曼·埃雷拉\n",
      "20341    费尔南多.扎皮迪\n",
      "20345    华金·佩雷拉\n",
      "20347    何塞·费尔南德斯\n",
      "20348    吉尔\n",
      "20350    路米诺\n",
      "20352    卡里佐\n",
      "20354    马塞洛·奥蒂兹\n",
      "20359    卡马乔\n",
      "20361    R.阿尔法尼\n",
      "20364    罗德里格斯\n",
      "20368    丰塞卡\n",
      "20369    尼克松\n",
      "20370    科埃略\n",
      "20371    热奥瓦尼·科尔特斯\n",
      "20372    埃里维尔顿\n",
      "20373    贾德尔\n",
      "20374    罗萨多斯.桑托斯\n",
      "20375    安东尼奥·何塞尼尔多\n",
      "20376    奥斯瓦尔多·亨里克斯\n",
      "20377    博卡奥\n",
      "20378    埃尔蒂尼奥\n",
      "20379    拉斐尔·波尔\n",
      "20380    莫拉\n",
      "20381    奥兹吉\n",
      "20382    马塞洛·拉隆多\n",
      "20383    斯科科\n",
      "20384    萨尔托\n",
      "20385    维拉\n",
      "20386    卡米洛·马亚达\n",
      "20387    克鲁兹\n",
      "20388    萨拉基\n",
      "20389    佩雷斯\n",
      "20390    费雷拉\n",
      "20391    庞西奥\n",
      "20392    伊万·罗西\n",
      "20393    冈萨洛·马丁内斯\n",
      "20394    费尔南德斯\n",
      "20395    罗哈斯\n",
      "20396    丹尼斯·罗德里格斯\n",
      "20397    托马斯·安德雷德\n",
      "20398    M.莫亚\n",
      "20399    卢卡斯·马丁内斯\n",
      "20400    Z.莫兰\n",
      "20401    E.帕拉西奥斯\n",
      "20402    维拉\n",
      "20403    亚历山大·巴尔博萨\n",
      "20404    约格·费雷拉\n",
      "20405    吉奥瓦尼·西蒙尼\n",
      "20406    洛洛\n",
      "20407    卡斯科\n",
      "20408    皮诺拉\n",
      "20409    卡雷拉斯\n",
      "20410    凯文·斯比尔\n",
      "20411    阿吉雷\n",
      "20412    吉尔曼·卢克斯\n",
      "20413    博洛尼亚\n",
      "20414    奥古斯托·巴塔拉\n",
      "20418    路易斯罗德里格斯\n",
      "20421    科卡罗\n",
      "20424    罗德里格·阿列安德罗\n",
      "20437    卡夫拉尔\n",
      "20438    弗兰科·斯布托尼\n",
      "20442    奥索雷斯\n",
      "20443    克里斯蒂安.卢切蒂\n",
      "20445    桑切斯\n",
      "20446    阿莫阿\n",
      "20447    卡萨斯\n",
      "20448    莱古萨蒙\n",
      "20449    瓦尼\n",
      "20450    阿莱格里\n",
      "20451    瓦洛斯\n",
      "20452    罗杰斯\n",
      "20453    比拉尔瓦\n",
      "20454    麦托\n",
      "20455    努涅斯\n",
      "20456    戈多伊\n",
      "20457    努涅斯\n",
      "20458    马林\n",
      "20459    胡里奥·多斯桑托斯\n",
      "20460    布里特斯\n",
      "20461    内尔松·卡布雷拉\n",
      "20462    塞尔吉奥\n",
      "20463    艾达马\n",
      "20464    希门尼斯\n",
      "20465    艾奥萨\n",
      "20466    贝尼特斯\n",
      "20467    埃斯科瓦尔\n",
      "20468    巴尔加斯\n",
      "20469    阿基诺\n",
      "20470    威廉\n",
      "20471    布埃诺\n",
      "20472    安德烈\n",
      "20473    布鲁诺·保罗\n",
      "20474    艾迪纳尔多·格拉菲特\n",
      "20475    莱奥·莫拉\n",
      "20476    威廉斯·达鲁兹\n",
      "20477    德莱\n",
      "20478    吉列尔梅·克鲁兹·德·马蒂斯\n",
      "20479    安德森·阿帕雷西多·赛尔斯\n",
      "20480    贾梅森·达席尔瓦·帕帕\n",
      "20481    西塞洛·维克托\n",
      "20482    蒂亚戈.科斯塔\n",
      "20483    何塞·布里托\n",
      "20484    威灵顿\n",
      "20485    阿里森·费雷拉\n",
      "20486    杰克森·安东尼奥\n",
      "20487    马蒂亚斯·冈萨雷斯\n",
      "20501    巴尔德斯\n",
      "20509    圣地亚哥·楚尔布里根\n",
      "20511    卡努托\n",
      "20512    贝拉斯克斯\n",
      "20518    诺斯\n",
      "20519    阿维拉内多\n",
      "20521    莫内蒂\n",
      "20524    希罗·亨里克\n",
      "20525    卢西奥·弗拉维奥\n",
      "20526    卡洛斯·爱德华多\n",
      "20527    亨里克·马托斯\n",
      "20528    迭戈·楚林\n",
      "20529    马丁内斯\n",
      "20530    奥维多\n",
      "20531    阿尔塞\n",
      "20532    尼尔森·巴尔德斯\n",
      "20533    奥蒂戈扎\n",
      "20534    恩沙奥拉迪\n",
      "20535    卡塞雷斯\n",
      "20536    科罗内尔\n",
      "20537    加西亚\n",
      "20538    拜斯\n"
     ]
    },
    {
     "name": "stdout",
     "output_type": "stream",
     "text": [
      "20539    费尔南德斯\n",
      "20540    冈萨雷斯\n",
      "20541    阿吉拉尔\n",
      "20542    雷斯\n",
      "20543    威廉·加雷\n",
      "20544    考尔曼\n",
      "20545    阿基诺\n",
      "20546    马科斯.里贝罗斯\n",
      "20547    罗德里戈.罗哈斯\n",
      "20548    西尔维奥·加布里埃尔·托拉雷斯·吉梅内斯\n",
      "20549    罗哈斯\n",
      "20550    亚历克西斯-冈萨雷斯\n",
      "20551    佛朗哥\n",
      "20552    希门尼斯\n",
      "20553    吉伦\n",
      "20554    卡塞拉斯\n",
      "20555    卡塞雷斯\n",
      "20556    摩利纳\n",
      "20557    艾拉沙巴尔\n",
      "20558    维拉斯克.莫斯\n",
      "20559    柏拉斯\n",
      "20560    特奥多罗·帕文\n",
      "20561    卡诺\n",
      "20562    迪翁\n",
      "20563    乌利安夫尔\n",
      "20564    卡洛斯·努涅斯\n",
      "20565    马林\n",
      "20566    洛佩兹\n",
      "20567    加马拉\n",
      "20568    贝特安\n",
      "20569    雷耶斯\n",
      "20570    莫雷尔\n",
      "20571    博加\n",
      "20572    克鲁兹\n",
      "20573    马丁内斯\n",
      "20574    奥坎波\n",
      "20575    帕劳\n",
      "20576    威尔森·皮托尼\n",
      "20577    荷曼诺维克\n",
      "20578    奥维多\n",
      "20579    洛佩斯\n",
      "20580    凯特\n",
      "20581    卡塞雷斯\n",
      "20582    罗哈斯\n",
      "20583    阿兰达\n",
      "20584    巴托门斯\n",
      "20585    卡布拉尔\n",
      "20586    内里·巴雷罗\n",
      "20587    梅扎\n",
      "20588    卡瓦列罗\n",
      "20589    维克多\n",
      "20590    阿圭勒\n",
      "20591    费雷拉·亨安\n",
      "20592    罗米尔多\n",
      "20593    泽.爱德华多\n",
      "20594    亨利克\n",
      "20595    费雷拉·特谢拉\n",
      "20596    沃尔特森\n",
      "20597    埃古·桑帕约\n",
      "20598    朱利亚诺\n",
      "20599    拉扎罗尼\n",
      "20600    尼古拉斯·莫雷斯\n",
      "20601    马特乌斯·马丁斯\n",
      "20602    阿布达\n",
      "20603    卢卡斯·席尔瓦\n",
      "20604    韦维顿·菲鲁格姆\n",
      "20605    T.桑都斯\n",
      "20606    阿尔梅达\n",
      "20607    马龙·布鲁诺·马里诺·德索扎\n",
      "20608    若奥·保罗\n",
      "20609    布鲁诺·安东尼奥·多斯·桑托斯\n",
      "20610    马基尼奥斯\n",
      "20611    恩里克\n",
      "20612    蒂亚戈·奥利韦拉\n",
      "20613    阿里森·多斯桑托斯\n",
      "20614    杰西马·德·奥利维拉\n",
      "20615    凯萨\n",
      "20616    努埃斯\n",
      "20617    路易斯·内利·卡巴雷罗·查莫洛\n",
      "20618    维拉格拉\n",
      "20619    罗梅罗\n",
      "20620    胡安·萨尔古埃罗\n",
      "20621    亚当.巴雷罗\n",
      "20622    弗雷迪·巴雷罗\n",
      "20623    维尔顿\n",
      "20624    希门内斯\n",
      "20625    罗德里格斯\n",
      "20626    米奥\n",
      "20627    阿尔盖洛\n",
      "20628    奥尔兹\n",
      "20629    乔纳森·桑塔纳\n",
      "20630    胡安·伊格纳西奥·韦里亚\n",
      "20631    米格尔.彭尼亚古\n",
      "20632    卡纳尔\n",
      "20633    克里斯蒂安.索沙\n",
      "20634    阿瓜达\n",
      "20635    加凯特\n",
      "20636    梅尔加雷霍\n",
      "20637    米兰达\n",
      "20638    塞尔文\n",
      "20639    达瓦洛斯\n",
      "20640    卡洛斯·博内特\n",
      "20641    罗霍\n",
      "20642    萨利纳斯\n",
      "20643    罗哈斯\n",
      "20644    胡斯托·比利亚尔\n",
      "20645    胡安\n",
      "20646    圣克鲁斯\n",
      "20647    瓦利恩特\n",
      "20648    圣吉纳\n",
      "20649    雷瓦\n",
      "20650    O.卡多索\n",
      "20651    布里特斯\n",
      "20652    巴雷洛\n",
      "20653    萨沙·萨尔切多\n",
      "20654    卢斯拿\n",
      "20655    阿兰达\n",
      "20656    德尔里斯奥.鲁埃\n",
      "20657    克里斯塔尔多\n",
      "20658    罗多尔福.阿奎诺\n",
      "20659    迈迪纳\n",
      "20660    豪尔赫\n",
      "20661    拉米雷斯\n",
      "20662    吉梅内斯\n",
      "20663    贝尼特斯\n",
      "20664    保罗·达席尔瓦\n",
      "20665    马雷科\n",
      "20666    埃斯皮诺拉\n",
      "20667    胡利安.卡迪亚\n",
      "20668    路易斯·卡多索\n",
      "20669    艾达比图洛文\n",
      "20670    阿尔卡拉斯\n",
      "20671    塞尔万\n",
      "20672    洛迪高梅奴斯\n",
      "20673    多明戈斯\n",
      "20674    卡洛斯·达尔文·金特罗\n",
      "20675    西尔维奥·罗梅罗\n",
      "20676    马努埃尔·佩雷兹·路易兹\n",
      "20677    马林\n",
      "20678    亚历杭德罗·迪亚斯\n",
      "20679    莱内斯\n",
      "20680    克鲁斯\n",
      "20681    P.阿尔塞\n",
      "20682    卡洛斯·罗塞尔\n",
      "20683    雷纳托·伊瓦拉\n",
      "20684    威廉·费尔南多·达席尔瓦\n",
      "20685    帕雷德斯\n",
      "20686    萨莫拉\n",
      "20687    罗德里格斯\n",
      "20688    乌历比\n",
      "20689    阿马多尔\n",
      "20690    托雷斯\n",
      "20691    帕布洛·阿吉拉\n",
      "20692    萨姆迪奥\n",
      "20693    吉尔·布隆\n",
      "20694    布鲁诺·巴尔德斯\n",
      "20696    托雷斯\n",
      "20697    卡洛斯·奥兰蒂亚\n",
      "20698    巴尔加斯\n",
      "20699    塞迪略\n",
      "20700    乔纳森·莱昂\n",
      "20701    马尔切辛\n",
      "20702    奥斯卡·吉梅内斯\n",
      "20703    路易斯·皮内达\n",
      "20709    拉斐尔·阿科斯塔\n",
      "20713    克里斯蒂安·瓦尔德斯\n",
      "20723    克里斯蒂安·佩耶拉诺\n",
      "20724    查维斯\n",
      "20732    克里斯蒂安·阿尔瓦雷斯\n",
      "20743    佩德罗-加莱赛\n",
      "20745    伊格纳西奥·安德雷斯·卡切罗\n",
      "20746    J.比瓦尼\n",
      "20747    埃克托·路易斯·奎瓦斯\n",
      "20748    帕特里西奥·比达尔\n",
      "20749    S.奎罗加\n",
      "20750    华金·博格西昂\n",
      "20751    哈维尔·卡佩里\n",
      "20752    伊万·埃特文纳克斯\n",
      "20753    法雷\n",
      "20754    米拉科\n",
      "20755    冈萨罗·伊斯梅尔·巴赞\n",
      "20756    费尔明·安东尼尼\n",
      "20757    里纳尔迪\n",
      "20758    胡安·伊格纳西奥·洛佩兹\n",
      "20759    罗萨\n",
      "20760    路易斯·加尼尔\n",
      "20761    吉佩斯\n",
      "20762    罗德里格斯\n",
      "20763    萨鲁利特\n",
      "20764    卢卡斯·兰达\n",
      "20765    阿古斯丁·帕斯库奇\n",
      "20766    门德斯\n",
      "20767    拉米罗·阿里亚斯\n",
      "20768    皮耶雷托\n",
      "20769    佩莱格里诺\n",
      "20770    曼努埃尔·马蒂亚斯·比森蒂尼\n",
      "20771    乔达纳\n",
      "20772    杜兰\n",
      "20773    布尔济奥\n",
      "20774    拉米罗·洛佩兹\n",
      "20775    费德里克.乔丹\n",
      "20776    冈萨洛·帕帕\n",
      "20777    尼古拉斯·桑切斯\n",
      "20778    费尔南多·阿拉尔孔\n",
      "20779    胡安·切拉亚\n",
      "20780    莱昂德罗·萨佩蒂\n",
      "20781    伦索·佩雷斯\n",
      "20782    阿楚卡罗\n",
      "20783    维拉\n",
      "20784    门迭塔\n",
      "20785    佛朗哥\n",
      "20786    马雷科\n",
      "20787    奥维拉尔\n",
      "20788    马拉贝尔\n",
      "20789    丹特·洛佩兹\n",
      "20790    佩雷斯\n",
      "20791    费尔南德斯\n",
      "20792    里贝罗斯\n",
      "20793    罗哈斯\n",
      "20794    克里斯蒂安·洛佩兹\n",
      "20795    冈萨雷斯\n",
      "20796    奎奥勒斯\n",
      "20797    埃杜阿多·莱德斯马\n",
      "20798    莫雷尔\n",
      "20799    巴里奥斯\n",
      "20800    詹姆斯\n",
      "20801    梅萨\n",
      "20802    克里斯塔尔多\n",
      "20803    皮拉塔\n",
      "20804    门迭塔\n",
      "20805    迪亚斯\n",
      "20806    查维斯\n",
      "20807    艾布诺\n",
      "20808    维拉马约尔\n",
      "20809    埃斯科巴\n",
      "20810    古斯塔沃·诺古埃拉\n",
      "20811    布加斯\n",
      "20812    内斯特.贡萨雷斯\n",
      "20813    奥蒂戈萨\n",
      "20814    蒙格斯\n",
      "20815    柏利迪斯\n",
      "20816    卡布雷拉\n",
      "20817    贝尼特斯\n",
      "20818    马丁内斯\n",
      "20819    贝尔纳多\n",
      "20820    奥拉斯库亚加\n",
      "20821    L.克鲁兹\n",
      "20827    鲁维奥\n",
      "20852    恩里克·帕洛斯\n",
      "20854    阿吉拉尔\n",
      "20855    维格蒂\n",
      "20856    冈萨罗·里奥斯\n",
      "20857    罗哈斯\n",
      "20858    马里奥.波拉蒂\n",
      "20859    费雷拉\n",
      "20860    迭戈·索萨\n",
      "20861    加里布埃尔.莫拉莱斯\n",
      "20862    费尔南多·阿洛科\n",
      "20863    佩雷斯\n",
      "20864    纳瓦罗\n",
      "20865    希门尼斯\n",
      "20881    路易斯·弗恩特斯\n",
      "20883    埃弗兰·苏亚雷斯\n",
      "20905    莱昂内尔·洛佩斯\n",
      "20925    埃曼努埃尔·比利亚\n",
      "20929    马丁内斯\n",
      "20941    里卡多·弗朗哥\n",
      "20945    J.奥尔芭\n",
      "20950    弗兰科\n",
      "20951    贝内德蒂\n",
      "20952    卢卡斯·约奥\n",
      "20953    帕拉西奥\n",
      "20954    费尔南多·特莱切亚\n",
      "20955    利奥纳多\n",
      "20956    索莫萨\n",
      "20957    埃斯特班·奥尔法诺\n",
      "20958    冈萨雷斯\n",
      "20959    迭戈·维拉尔\n",
      "20960    迈迪纳\n",
      "20961    罗贝托·布鲁姆\n",
      "20962    耶里\n",
      "20963    纳胡尔·帕约诺\n",
      "20964    拉米罗·加拉伊\n",
      "20965    埃米利亚诺·埃拉科普洛斯\n",
      "20966    克鲁斯普茨基\n",
      "20967    基里斯\n",
      "20968    卡内维\n",
      "20969    阿莱格雷\n",
      "20970    帕尔尼萨里\n",
      "20971    辛托奥\n",
      "20972    莫亚诺\n",
      "20973    马蒂亚斯·维加\n",
      "20986    亨利·马丁\n",
      "20989    巴拉哈斯\n",
      "20990    乔·科罗纳\n",
      "20998    阿吉莱拉\n",
      "21008    沃特尔·冈萨雷斯\n",
      "21009    奥蒂戈萨\n",
      "21011    吉梅内斯\n",
      "21014    里韦罗斯\n",
      "21023    埃德卡洛斯\n",
      "21024    塞萨尔·莱昂\n",
      "21027    赫尔南·佩勒拉诺\n",
      "21028    基文尼斯\n",
      "21031    迭戈.巴雷托\n",
      "21032    勒兹卡诺\n",
      "21033    安赫尔·塞普尔维达\n",
      "21034    杰弗森·库埃罗·卡斯特罗\n",
      "21035    米格尔·桑索雷斯\n",
      "21037    波洛\n",
      "21038    查维斯\n",
      "21039    奥蒂斯\n",
      "21040    佩雷斯\n",
      "21041    马里奥·奥苏纳\n",
      "21042    鲁道夫·维奇斯\n",
      "21043    胡安·帕布罗·罗德里格斯\n",
      "21044    罗德里格·米利亚尔\n",
      "21045    迭戈·梅加\n",
      "21046    若热·萨拉特\n",
      "21047    迭戈·巴尔德斯\n",
      "21048    雷耶斯\n",
      "21049    阿尔多·罗查\n",
      "21050    诺拉托\n",
      "21051    贝尔蒙特\n",
      "21052    梅拉斯\n",
      "21053    巴尔德斯\n",
      "21054    希洪\n",
      "21055    阿尔瓦雷斯\n",
      "21056    恩里克·佩雷兹\n",
      "21057    埃曼努埃尔·洛斯奇博\n",
      "21058    埃德瓦多·查瓦斯\n",
      "21059    塞巴斯蒂安·贝加斯\n",
      "21060    卡洛斯·罗格里格斯\n",
      "21061    卡洛斯·古兹曼\n",
      "21062    阿齐利尔\n",
      "21063    贝加\n",
      "21064    索萨\n",
      "21065    亚尔·努涅兹\n",
      "21066    马拉贡\n",
      "21067    查维斯\n",
      "21068    若纳桑·托雷斯\n",
      "21069    迭戈·托雷斯\n",
      "21070    伊拉雷吉\n",
      "21071    M.奥利维拉\n",
      "21072    路易斯·巴尔德斯\n",
      "21073    蒂塞拉\n",
      "21074    B.奥布勒冈\n",
      "21075    米盖尔·卡尼奥\n",
      "21076    皮内多\n",
      "21077    阿科斯塔\n",
      "21078    M.曼斯拉\n",
      "21079    科洛托\n",
      "21080    阿尔瓦雷斯\n",
      "21081    洛佩兹\n",
      "21082    洛扎诺\n",
      "21083    马丁内斯.特雷霍\n",
      "21084    L.卡里佐\n",
      "21085    菲里亚\n",
      "21086    霍拉西奥·拉米雷斯\n",
      "21087    杰瑞米亚斯·莱德斯马\n",
      "21088    福尔摩沙\n",
      "21089    特里波迪\n",
      "21090    维戈\n",
      "21091    阿尔塞\n",
      "21092    哈维尔·托雷多\n",
      "21093    马丁·吉梅内斯\n",
      "21094    维亚格拉\n",
      "21095    迪亚斯\n",
      "21096    泽巴勒斯\n",
      "21097    贝拉\n",
      "21098    杜尔\n",
      "21099    罗杰斯\n",
      "21100    华加斯\n",
      "21101    弗兰克\n",
      "21102    奥斯马\n",
      "21103    尼可拉斯·马丁内斯\n",
      "21104    加雷\n",
      "21105    萨尔塞多\n",
      "21106    诺格拉\n",
      "21107    阿雷切亚\n",
      "21108    阿隆索\n",
      "21109    门迭塔\n",
      "21110    阿古拿\n",
      "21111    马雷科\n",
      "21112    奥尔梅多\n",
      "21113    迭戈·贝拉\n",
      "21114    巴尔加斯\n",
      "21115    维拉斯奎兹\n",
      "21116    戈麦斯\n",
      "21117    吉梅内斯\n",
      "21118    席尔瓦\n",
      "21119    奥尔蒂斯\n",
      "21120    莱查图维斯\n",
      "21121    博尔哈\n",
      "21122    卡塞雷斯\n",
      "21123    吉梅内斯\n",
      "21124    簡路賓尼迪斯\n",
      "21125    多尔丹\n",
      "21126    普罗诺\n",
      "21127    圣克鲁斯\n",
      "21128    迪亚兹\n",
      "21129    比安库奇\n",
      "21130    索萨\n",
      "21131    埃斯皮诺萨\n",
      "21132    贝尼特斯\n",
      "21133    克拉尔\n",
      "21134    普列托\n",
      "21135    扎巴丘\n",
      "21136    希门尼斯\n",
      "21137    罗梅罗\n",
      "21138    梅萨\n",
      "21139    伽尔西特\n",
      "21140    莱斯卡诺\n",
      "21141    比利亚尔瓦\n",
      "21142    马丁内斯\n",
      "21143    卡本拉\n",
      "21144    阿尔伯托-冈萨雷斯\n",
      "21145    胡里奥.冈萨雷斯\n",
      "21146    贝纳尔\n",
      "21147    马丁内斯\n",
      "21148    罗德里格兹\n",
      "21149    埃斯科瓦尔\n",
      "21150    巴尔武埃纳\n",
      "21152    路易斯·恩里克·奎因内斯\n",
      "21164    伊巴拉\n",
      "21166    特贾达\n",
      "21172    奥库诺罗波\n",
      "21217    加布里埃尔·埃斯帕扎\n",
      "21222    戴维·托勒多\n",
      "21223    巴勃罗·米格斯\n",
      "21258    文图拉·阿尔瓦拉多\n",
      "21266    马特乌斯\n",
      "21267    埃内斯托·亚历克西斯·维加·罗哈斯\n",
      "21268    费尔南多·乌里比\n",
      "21269    卡洛斯·埃斯奎维尔\n",
      "21270    M.阿邦迪斯\n",
      "21271    豪切\n",
      "21272    安东尼奥·奈尔森·马蒂亚斯\n",
      "21273    门德斯\n",
      "21274    罗德里格·戈麦斯\n",
      "21275    奥斯卡·里卡多·罗哈斯\n",
      "21276    安东尼奥·里奥斯\n",
      "21277    约格·萨迪亚金\n",
      "21278    卡内洛\n",
      "21279    萨莫拉\n",
      "21280    穆雷罗\n",
      "21281    胡安·桑乔\n",
      "21282    冈萨雷斯\n",
      "21283    鲁本斯·萨姆布埃萨\n",
      "21284    洛佩斯\n",
      "21285    德尔加迪略\n",
      "21286    加西亚\n",
      "21287    梅迪纳\n",
      "21288    埃弗雷恩·贝拉尔德\n",
      "21289    斯科耐德尔\n",
      "21290    加西亚\n",
      "21291    奥尔多·亚宁·贝尼特斯·莫尼特斯\n",
      "21292    奥斯瓦尔多·冈萨雷斯\n",
      "21293    卡洛斯·安德雷斯·卡尔沃\n",
      "21294    罗德里格·萨利纳斯\n",
      "21295    帕凯尔\n",
      "21296    路易斯·加西亚\n",
      "21297    米格尔·塞特诺\n",
      "21298    托雷斯\n",
      "21299    贾希尔·巴拉萨\n",
      "21300    何塞·马杜埃纳\n",
      "21301    布莱恩·加尔尼卡\n",
      "21302    马蒂亚斯·阿鲁斯蒂萨\n",
      "21303    米尔顿·卡拉格里奥\n",
      "21304    纳瓦\n",
      "21305    佩雷斯\n",
      "21306    胡安·比贡\n",
      "21307    吉拉尔多·埃斯皮诺萨\n",
      "21308    莫里森\n",
      "21309    克里斯蒂安·塔沃\n",
      "21310    哈维尔·阿拉万·萨拉斯·萨拉泽尔\n",
      "21311    坎迪多·拉米雷斯\n",
      "21312    迪瓦\n",
      "21313    杰恩·索利斯\n",
      "21314    路易斯·雷耶斯\n",
      "21315    菲德尔·马丁内斯\n",
      "21316    乌瓦尔多·鲁尼亚\n",
      "21317    克里弗德·阿博戈\n",
      "21318    恩若\n",
      "21319    维拉\n",
      "21320    加西亚\n",
      "21321    路易斯·罗布莱斯\n",
      "21322    莱顿·吉梅内斯\n",
      "21323    克鲁兹\n",
      "21324    丹尼尔·阿雷奥拉\n",
      "21325    加迪·阿吉雷\n",
      "21326    法昆多·埃尔佩恩\n",
      "21327    卡尔德龙\n",
      "21328    蒙罗伊\n",
      "21329    冈萨雷斯\n",
      "21330    加西亚\n",
      "21331    戈维亚\n",
      "21332    埃尔南德斯\n",
      "21333    米格尔·弗拉加\n",
      "21334    乌斯塔里\n",
      "21335    埃斯特拉达\n",
      "21336    拉韦略\n",
      "21337    帕布罗·巴雷拉\n",
      "21338    若弗雷·格隆\n",
      "21339    罗梅罗\n",
      "21340    毛罗·福米卡\n",
      "21341    A.森姆迪奥\n",
      "21342    冈萨雷斯\n",
      "21343    阿科斯塔\n",
      "21344    内斯托·卡尔德隆\n",
      "21345    凯文·拉斐尔·埃斯卡米亚·莫雷诺\n",
      "21347    戴维·卡布雷拉\n",
      "21348    菲格罗阿\n",
      "21349    门多萨\n",
      "21350    何塞·安东尼奥\n",
      "21351    A.莫佐\n",
      "21352    杰拉多·阿尔科巴\n",
      "21353    何塞·范·兰肯\n",
      "21354    路易斯·昆塔纳\n",
      "21355    帕布罗·贾奎兹\n",
      "21356    R.冈萨雷斯\n",
      "21357    埃尔维拉\n",
      "21358    茹拉多\n",
      "21359    阿尔弗雷多·萨迪威尔\n",
      "21360    贝纳布·马加纳\n",
      "21361    卡斯蒂略\n",
      "21362    阿拉纳\n",
      "21363    贡萨雷斯\n",
      "21364    马丁·巴拉甘\n",
      "21365    里亚尼奥\n",
      "21366    菲利佩·加列戈斯\n",
      "21367    迭戈·里奥弗\n",
      "21368    丹尼尔·阿尔瓦雷兹·洛佩兹\n",
      "21369    帕布罗·贝拉斯克斯\n"
     ]
    },
    {
     "name": "stdout",
     "output_type": "stream",
     "text": [
      "21370    埃斯基维尔\n",
      "21371    阿尔塞\n",
      "21372    法昆多·佩雷拉\n",
      "21373    费尔南德斯\n",
      "21374    杰苏斯·伊斯亚拉\n",
      "21375    维克多.达维拉\n",
      "21376    迪特·维拉帕多\n",
      "21377    伊图拉\n",
      "21378    哈维尔·巴埃斯\n",
      "21379    佩雷斯\n",
      "21380    艾拉菲塔\n",
      "21381    阿尔瓦拉多\n",
      "21382    赫尔南德斯\n",
      "21383    马里奥·德鲁尼亚\n",
      "21384    贝克尔斯\n",
      "21385    杰罗·冈萨雷斯\n",
      "21386    伊戈尔·利奇诺夫斯基\n",
      "21387    布莱恩\n",
      "21388    米盖尔·庞瑟\n",
      "21389    迭戈·赫尔南德斯\n",
      "21390    埃尔南德斯\n",
      "21391    阿隆·费尔南德兹\n",
      "21392    约斯加特·古铁雷斯\n",
      "21393    巴罗贝洛\n",
      "21394    比安库奇\n",
      "21395    奥鲁埃\n",
      "21396    艾泽奎尔·罗德里格斯\n",
      "21397    加莱亚诺\n",
      "21398    布斯塔曼特\n",
      "21399    弗朗西斯科.维拉\n",
      "21400    卡多佐\n",
      "21401    克劳迪奥·卡尼扎\n",
      "21402    佩雷拉\n",
      "21403    加莱\n",
      "21404    迭戈·戈多伊\n",
      "21405    卢萨迪\n",
      "21406    查维斯\n",
      "21407    卡塞雷斯\n",
      "21408    莫斯\n",
      "21409    埃斯蒂加里维亚\n",
      "21410    胡安·佛朗哥\n",
      "21411    贝拉斯克斯\n",
      "21412    古斯塔沃·维拉\n",
      "21413    冈萨雷斯\n",
      "21414    坎普萨诺\n",
      "21415    卡塞雷斯\n",
      "21416    伊拉拉\n",
      "21417    史密斯\n",
      "21418    戈麦斯\n",
      "21419    吉伦奥\n",
      "21420    佩德罗·贝尼特斯\n",
      "21421    马丁内斯\n",
      "21422    多明戈斯\n",
      "21423    克里斯塔尔多\n",
      "21424    凯特\n",
      "21425    拉莫斯\n",
      "21426    里卡尔德\n",
      "21427    里维罗斯\n",
      "21428    罗哈斯\n",
      "21429    巴伦苏埃拉\n",
      "21430    奥蒂斯\n",
      "21431    保罗.安德烈斯\n",
      "21432    B.久利\n",
      "21433    弗雷德斯\n",
      "21434    卡多佐\n",
      "21435    S.巴尔马塞达\n",
      "21436    托马斯·贝拉\n",
      "21437    胡安·阿尔瓦策特\n",
      "21438    萨尔瓦多·桑切斯\n",
      "21439    约奎恩·帕帕洛\n",
      "21440    加布里埃尔·萨纳布里亚\n",
      "21441    埃斯科巴\n",
      "21442    加斯顿·苏亚雷斯\n",
      "21443    杰尔曼·巴苏阿尔多\n",
      "21444    尼古拉斯·阿尔瓦雷斯\n",
      "21445    埃马努埃尔·莫拉莱斯\n",
      "21446    劳尔·伊贝比亚\n",
      "21447    卡尔维兰\n",
      "21448    阿科斯塔\n",
      "21449    莱安德罗·费尔南德斯\n",
      "21450    古斯塔沃·阿普里勒\n",
      "21451    帕布罗.布鲁纳\n",
      "21452    伊万·席尔瓦\n",
      "21453    马丁内斯\n",
      "21454    古莱尔莫·费拉库蒂\n",
      "21455    弗朗西斯科·杜塔里\n",
      "21456    普鲁佐\n",
      "21457    吉奥维尼\n",
      "21458    比尔包\n",
      "21459    梅赫林\n",
      "21460    阿库尼亚\n",
      "21461    阿里尔·科尔拉\n",
      "21462    索萨\n",
      "21463    J.保萨\n",
      "21464    蒙蒂尔\n",
      "21465    弗兰科.利耶斯\n",
      "21466    塞尔吉奥·萨加尔萨苏\n",
      "21467    帕特里西奥·罗梅罗\n",
      "21468    卡斯特罗\n",
      "21469    希门尼斯\n",
      "21470    巴雷拉\n",
      "21471    费德里克·阿塞维多\n",
      "21472    雨果·索里亚\n",
      "21473    克里斯蒂安·卡努伊埃\n",
      "21474    法西奥利\n",
      "21475    纳胡尔·罗萨达\n",
      "21476    约瑟.门德斯\n",
      "21477    斯特拉赫曼\n",
      "21478    吉西\n",
      "21479    科沃\n",
      "21480    阿维莱拉斯\n",
      "21481    奈格里\n",
      "21482    雷沃拉\n",
      "21483    毛罗·安吉·麦达纳\n",
      "21484    克里斯蒂安·特罗姆贝塔\n",
      "21485    马蒂亚斯.孔蒂\n",
      "21486    科里亚\n",
      "21487    卡斯特拉诺\n",
      "21488    加布里埃尔·基罗尼\n",
      "21489    马西米利亚诺·布斯托斯\n",
      "21490    马楚卡\n",
      "21491    莱奥内尔·库尔多\n",
      "21492    卡森\n",
      "21493    迪斯特法诺\n",
      "21494    普里乔达\n",
      "21495    尼古拉耶夫斯基\n",
      "21496    阿莱桑德罗·弗雷佐蒂\n",
      "21497    尼古拉斯·奥尔梅多\n",
      "21498    塞瓦斯蒂安·桑切斯\n",
      "21499    马特里卡尔迪\n",
      "21500    哈维尔·布莱\n",
      "21501    德乔尔吉斯\n",
      "21502    巴罗内\n",
      "21503    莱斯曼\n",
      "21504    维德拉\n",
      "21505    费尔南德兹\n",
      "21506    科雷亚\n",
      "21507    C.格尔格里诺\n",
      "21508    博纳科索\n",
      "21509    阿兰·阿吉雷\n",
      "21510    洛佩兹\n",
      "21511    卢卡斯·霍约斯\n",
      "21512    马丁努西奥\n",
      "21513    阿瓦罗斯\n",
      "21514    维拉\n",
      "21515    克里斯蒂安.戈麦斯\n",
      "21516    巴尔敦谢尔\n",
      "21517    法托里\n",
      "21518    法兰高基洛加\n",
      "21519    维瓦斯\n",
      "21520    蒙特阿古多\n",
      "21521    大卫·阿丘卡罗\n",
      "21522    马儿洛·马尔科内特\n",
      "21523    毛里西奥·阿尔贝腾戈\n",
      "21524    冈萨洛·科路瑟内\n",
      "21525    圣地亚哥·帕斯\n",
      "21526    卡斯特罗\n",
      "21527    若热·贝拉兹奎兹\n",
      "21528    柯佩蒂\n",
      "21529    埃米里诺·克拉维霍\n",
      "21530    索罗亚\n",
      "21531    加利\n",
      "21532    D.梅扎\n",
      "21533    普塞托\n",
      "21534    马蒂诺\n",
      "21535    皮蒂纳里\n",
      "21536    德马特\n",
      "21537    费雷罗\n",
      "21538    巴罗尼\n",
      "21539    卡纳维西奥\n",
      "21540    弗兰科·拉佐尼\n",
      "21541    奥斯卡·卡涅略\n",
      "21542    布朗德尔\n",
      "21543    奥利维拉\n",
      "21544    拉米罗\n",
      "21545    塔利亚蒙特\n",
      "21546    若热·卡兰萨\n",
      "21547    费尔南德斯\n",
      "21548    马塞洛·斯卡托拉罗\n",
      "21549    布里安·米埃雷斯\n",
      "21550    帕帕拉托\n",
      "21566    莱昂德罗·纳瓦罗\n",
      "21593    奥特罗\n",
      "21596    法昆多·金塔纳\n",
      "21602    达蒙特\n",
      "21607    埃斯特维斯\n",
      "21621    伊巴古恩\n",
      "21632    奥罗兹\n",
      "21635    维斯马拉\n",
      "21645    维托尔\n",
      "21651    蒙代尼\n",
      "21652    马龙·德赫苏斯\n",
      "21653    奥雷茹埃拉\n",
      "21654    布鲁诺·比德斯\n",
      "21655    瓦伦西亚\n",
      "21656    拉斯特拉\n",
      "21657    马塔莫罗斯\n",
      "21658    凯塞多\n",
      "21659    布尔瓦诺\n",
      "21660    盖博尔\n",
      "21661    波托卡雷洛\n",
      "21662    安古洛\n",
      "21663    普雷西亚多\n",
      "21664    金泰罗\n",
      "21665    维拉马尔\n",
      "21666    塞巴斯蒂安·皮利兹\n",
      "21667    费尔南多·大卫·卢纳\n",
      "21668    奎奥勒斯\n",
      "21669    米纳\n",
      "21670    埃斯塔西奥\n",
      "21671    罗哈斯\n",
      "21672    皮尼洛\n",
      "21673    巴吉\n",
      "21674    莫雷诺\n",
      "21675    梅希亚\n",
      "21676    帕雷德斯\n",
      "21677    金泰罗\n",
      "21678    拉莫斯\n",
      "21679    雅伊姆\n",
      "21680    埃斯特班·德雷尔\n",
      "21681    塞瓦洛斯\n",
      "21682    莫拉莱斯\n",
      "21683    乔纳森·拉米斯\n",
      "21687    马蒂亚斯·苏亚雷斯\n",
      "21688    巴尔别里\n",
      "21689    托比亚斯·菲格罗亚\n",
      "21690    塞格拉\n",
      "21693    阿拉尼斯\n",
      "21695    塞巴斯蒂安·鲁纳\n",
      "21707    克里斯蒂安·罗梅罗\n",
      "21708    莱马\n",
      "21710    基罗加\n",
      "21715    里巴德罗\n",
      "21717    阿科斯塔\n",
      "21722    阿森霍\n",
      "21763    梅萨\n",
      "21768    布雷滕布鲁赫\n",
      "21777    帕拉西奥斯\n",
      "21782    桑切斯\n",
      "21783    阿里亚斯\n",
      "21785    拉米雷斯\n",
      "21800    莱昂纳多·格多伊\n",
      "21804    卡兰塔\n",
      "21807    尼古拉斯·席尔瓦\n",
      "21809    文度沙\n",
      "21818    毛罗·博加多\n",
      "21821    卢西奥·科姆帕格努奇\n",
      "21829    克里斯蒂安·奇梅诺\n",
      "21830    费德里科·曼奇内利\n",
      "21831    阿劳约\n",
      "21841    圣地亚哥·加西亚\n",
      "21844    拉米斯\n",
      "21850    安吉莱里\n",
      "21859    迭戈·维埃拉\n",
      "21862    阿贝卡西斯\n",
      "21863    托马斯·卡尔多纳\n",
      "21864    法昆多·科博\n",
      "21873    法比安·博达加莱\n",
      "21876    里乌斯\n",
      "21877    梅利维洛\n",
      "21885    尼可拉斯·费尔南德斯\n",
      "21890    米兰达\n",
      "21894    帕布洛·阿尔瓦拉多\n",
      "21896    德尔加多\n",
      "21897    胡戈·席尔瓦\n",
      "21899    扎兹佩\n",
      "21901    阿里亚斯\n",
      "21903    埃泽奎尔·温萨因\n",
      "21908    拉米罗·科斯塔\n",
      "21916    莱昂纳多·迪·洛伦佐\n",
      "21925    马克西米里亚诺·卢戈\n",
      "21927    费雷拉\n",
      "21938    德里格·孔特雷拉斯\n",
      "21945    卡尔萨达\n",
      "21950    卡雷拉\n",
      "21955    费德里科·米洛\n",
      "21967    维拉\n",
      "21968    胡安·迪农诺\n",
      "21969    约翰逊\n",
      "21970    阿劳霍\n",
      "21971    普雷西亚多\n",
      "21972    波罗佐\n",
      "21973    耶尔维斯\n",
      "21974    卡拉瓦利\n",
      "21975    萨里塔马\n",
      "21976    乌楚亚里\n",
      "21977    莫斯克拉\n",
      "21978    坎波维德\n",
      "21979    卡勒\n",
      "21980    迈克尔·霍约斯\n",
      "21981    卢萨拉加\n",
      "21982    奥厄\n",
      "21983    坎加\n",
      "21984    潘托哈\n",
      "21985    瓦莱西拉\n",
      "21986    埃斯皮诺萨\n",
      "21987    卡洛斯·库埃罗\n",
      "21988    米纳\n",
      "21989    尤斯蒂西亚\n",
      "21990    多明戈斯\n",
      "21991    库科\n",
      "21992    顺克\n",
      "21993    赫拉斯\n",
      "21994    奎诺奈兹\n",
      "21995    彼德拉\n",
      "21996    摩纳加\n",
      "21997    科罗佐\n",
      "21998    博尔哈\n",
      "21999    帕拉莱斯\n",
      "22000    巴尔达\n",
      "22001    金特罗\n",
      "22002    加塞斯\n",
      "22003    比拉尔瓦\n",
      "22004    古迪奥\n",
      "22005    纳瓦斯\n",
      "22006    诺博阿\n",
      "22007    拉雷亚\n",
      "22008    塔纳\n",
      "22009    萨马涅戈\n",
      "22010    切拉\n",
      "22011    皮亚\n",
      "22012    塞戈维亚\n",
      "22013    科德罗\n",
      "22014    佩拉尔塔\n",
      "22015    格拉\n",
      "22016    穆奥斯\n",
      "22017    奥蒂斯\n",
      "22018    查拉\n",
      "22019    蒙坦诺\n",
      "22020    阿里亚斯\n",
      "22021    博尔哈\n",
      "22022    赫苏斯\n",
      "22023    J. Ordoez\n",
      "22024    福尔特斯\n",
      "22025    洛佩斯\n",
      "22026    奎诺奈兹\n",
      "22027    弗洛尔\n",
      "22028    帕迪拉\n",
      "22029    卡德纳斯\n",
      "22030    奎罗\n",
      "22031    卡韦萨斯\n",
      "22032    马西米利亚诺·罗梅罗\n",
      "22034    安德拉达\n",
      "22050    法夫里西奥·阿尔瓦伦加\n",
      "22053    阿库尼亚\n",
      "22076    贝洛克\n",
      "22079    加西亚\n",
      "22094    阿德里安·何塞·加巴里尼\n",
      "22102    埃尔韦斯\n",
      "22103    门多萨\n",
      "22105    卡尔多纳\n",
      "22109    加布里尔·拉扎尔特\n",
      "22113    马蒂亚斯·罗德里格斯\n",
      "22115    塞巴斯蒂安·格尔加\n",
      "22116    雷\n",
      "22122    克里斯蒂安·卡佩斯特里尼\n",
      "22155    弗兰科·索尔达诺\n",
      "22159    弗拉加帕内\n",
      "22162    迭戈·萨巴拉\n",
      "22165    曼努埃尔·德伊里昂多\n",
      "22167    毛罗·皮顿\n",
      "22169    卢卡斯·阿尔格兹诺\n",
      "22174    胡安·加布里埃尔·里瓦斯\n",
      "22180    布鲁诺·皮顿\n",
      "22181    布里安·布拉西\n",
      "22183    马丁内思\n",
      "22193    特维斯\n",
      "22207    莱耶斯\n",
      "22211    米尔顿·巴伦祖埃拉\n",
      "22224    伦西\n",
      "22228    埃泽奎尔·哈姆\n",
      "22241    莱昂内尔·莫塞维奇\n",
      "22245    阿尔伯里奥尼\n",
      "22254    卡拉斯科\n",
      "22271    乌里巴里\n",
      "22273    沃尔特·安德拉德\n",
      "22274    冈萨洛·维拉\n",
      "22280    劳塔罗·赫米尼亚尼\n",
      "22289    巴尔克斯\n",
      "22290    胡安·阿南格诺\n",
      "22291    塞巴洛斯\n",
      "22292    因特里亚戈\n",
      "22293    伊达尔戈\n",
      "22294    贝坦考特\n",
      "22295    霍纳桑·冈萨雷斯\n",
      "22296    卡里略\n",
      "22297    胡利奥\n",
      "22298    贝加\n",
      "22299    比莱纳\n",
      "22300    谢尔曼·卡德纳斯\n",
      "22301    胡利奥\n",
      "22302    里斯科\n",
      "22303    金特罗斯\n",
      "22304    阿莱克斯·伯拉诺斯\n",
      "22305    奥利维拉\n",
      "22306    明达\n",
      "22307    卡塞伦\n",
      "22308    卢卡斯\n",
      "22309    A.查拉\n",
      "22310    纳瓦斯\n",
      "22311    奎诺奈兹\n",
      "22312    坎加\n",
      "22313    阿劳霍\n",
      "22314    萨拉韦里\n",
      "22315    比贝罗斯\n",
      "22316    维特里\n",
      "22317    纳扎雷诺\n",
      "22318    卡尔多索\n",
      "22319    康丁\n",
      "22320    伊巴萨\n",
      "22321    米洛奇\n",
      "22322    基罗加\n",
      "22323    拉查尔德\n",
      "22324    利希特\n",
      "22325    普索\n",
      "22326    波乔洛\n",
      "22327    雅乌雷吉\n",
      "22328    戈格里诺\n",
      "22329    卢西亚诺·帕多莫\n",
      "22330    巴索蒂尼\n",
      "22331    奥雷哈\n",
      "22332    科隆尼尔\n",
      "22333    帕斯\n",
      "22334    邦尼法肖\n",
      "22335    乌尔基萨\n",
      "22336    阿里尔·加西亚\n",
      "22337    卢卡斯\n",
      "22338    凯文·切切里\n",
      "22339    邦宁\n",
      "22340    帕布罗·托雷斯\n",
      "22342    卢纳\n",
      "22345    卢卡斯·查卡纳\n",
      "22347    帕塞里尼\n",
      "22348    德佩特里斯\n",
      "22349    佩雷斯-加西亚\n",
      "22352    加尔马里尼\n",
      "22353    梅诺西\n",
      "22355    汉密尔顿·佩雷拉\n",
      "22356    伦佐·斯皮纳奇\n",
      "22363    马克西米利亚诺·凯雷\n",
      "22365    孔特雷拉斯\n",
      "22367    尼斯\n",
      "22368    奥里胡埃拉\n",
      "22374    梅内塞斯\n",
      "22378    J.克鲁兹\n",
      "22379    J.奥尔蒂兹\n",
      "22380    阿列塔\n",
      "22381    肯内·布朗\n",
      "22382    贡萨雷斯\n",
      "22384    坎宁安\n",
      "22386    索洛萨诺\n",
      "22387    克里斯蒂安·塔拉戈纳\n",
      "22388    雷诺罗\n",
      "22389    戴维·拉米雷斯\n",
      "22390    马塞洛·加西亚\n",
      "22391    迭戈·德·杰苏斯·阿古拉·米兰\n",
      "22392    阿兰·萨莫拉\n",
      "22393    加斯帕\n",
      "22394    苏亚雷斯\n",
      "22395    弗朗西斯科·弗洛雷斯\n",
      "22396    D.赫尔南德斯\n",
      "22397    弗朗西斯科·甘博亚\n",
      "22398    格米兹\n",
      "22399    里瓦斯\n",
      "22400    何塞·安古洛\n",
      "22401    A.卡贝萨\n",
      "22402    F.梅西亚\n",
      "22403    W.克罗佐\n",
      "22404    W.阿尤维\n",
      "22405    M.埃斯特拉达\n",
      "22406    J.门德斯\n",
      "22407    M.里索托\n",
      "22408    E.梅拉\n",
      "22409    B.阿西\n",
      "22410    D.阿罗约\n",
      "22411    布尔瓦诺\n",
      "22412    贾拉米洛\n",
      "22413    A.兰达祖里\n",
      "22414    G.科茨\n",
      "22415    C.努涅斯\n",
      "22416    佛朗哥\n",
      "22417    D.米纳\n",
      "22418    科罗佐\n",
      "22419    K.阿西\n",
      "22420    F.莱昂\n",
      "22421    L.阿亚拉\n",
      "22422    J.塞戈维亚\n",
      "22423    雷卡尔德\n",
      "22424    博内\n",
      "22425    A.莱莫斯\n",
      "22426    索利斯\n",
      "22427    克里斯蒂安·苏亚雷斯\n",
      "22428    塞瓦洛斯\n",
      "22429    里瓦斯\n",
      "22430    曼西拉\n",
      "22431    卢纳\n",
      "22432    凯塞多\n",
      "22433    巴斯克斯\n",
      "22434    卡韦萨斯\n",
      "22435    布拉沃\n",
      "22436    阿兰尼兹\n",
      "22437    基拉\n",
      "22438    鲁阿\n",
      "22439    纳乌拉\n",
      "22440    索利斯\n",
      "22441    凯塞多\n",
      "22442    拉拉\n",
      "22443    克鲁斯\n",
      "22444    塞瓦洛斯\n",
      "22445    沃尔特·阿约维\n",
      "22446    罗哈斯\n",
      "22447    罗梅罗\n",
      "22448    里尔佩\n",
      "22449    德拉托雷\n",
      "22450    胡尔塔多\n",
      "22451    埃米里亚诺·加西亚\n",
      "22452    佩雷阿\n",
      "22453    凯塞多\n",
      "22454    特诺里奥\n",
      "22455    弗拉斯卡雷利\n",
      "22456    瓦勒\n",
      "22469    哲马伊利\n",
      "22472    B.塔布拉\n"
     ]
    }
   ],
   "source": [
    "url='https://db.qiumibao.com/f/index/player?pid='\n",
    "r=requests.get(url+'1')\n",
    "s=Series(r.json())\n",
    "for i in range(19510,22474):\n",
    "    r=requests.get(url+str(i+1))\n",
    "    if r.json():\n",
    "        sp=Series(r.json())\n",
    "        sp['read_card']=''\n",
    "        data.loc[i]=sp.values\n",
    "        print(i,'  ',data.loc[i]['name'])"
   ]
  },
  {
   "cell_type": "code",
   "execution_count": 88,
   "metadata": {},
   "outputs": [
    {
     "name": "stdout",
     "output_type": "stream",
     "text": [
      "<class 'pandas.core.frame.DataFrame'>\n",
      "Int64Index: 9229 entries, 10000 to 22472\n",
      "Data columns (total 43 columns):\n",
      "id                      9229 non-null object\n",
      "league_id               9229 non-null object\n",
      "league                  9229 non-null object\n",
      "team_id                 9229 non-null object\n",
      "team_name               9229 non-null object\n",
      "national_team_id        9229 non-null object\n",
      "national_team           9229 non-null object\n",
      "name                    9229 non-null object\n",
      "name_en                 9229 non-null object\n",
      "short_name              9229 non-null object\n",
      "short_en                9229 non-null object\n",
      "number                  9229 non-null object\n",
      "position                9229 non-null object\n",
      "nationality             9229 non-null object\n",
      "age                     9229 non-null object\n",
      "height                  9229 non-null object\n",
      "weight                  9229 non-null object\n",
      "games_played            9229 non-null object\n",
      "playing_time            9229 non-null object\n",
      "goal                    9229 non-null object\n",
      "assist                  9229 non-null object\n",
      "yellow_card             9229 non-null object\n",
      "red_card                9229 non-null object\n",
      "value                   9229 non-null object\n",
      "birthday                9229 non-null object\n",
      "habit_foot              9229 non-null object\n",
      "join_time               9229 non-null object\n",
      "contract_time           9229 non-null object\n",
      "avatar                  9229 non-null object\n",
      "flag                    9229 non-null object\n",
      "create_type             9229 non-null object\n",
      "create_time             9229 non-null object\n",
      "update_time             9229 non-null object\n",
      "injury_history          9229 non-null object\n",
      "transfers               9229 non-null object\n",
      "season_performace       9229 non-null object\n",
      "honors                  9229 non-null object\n",
      "charaters               9229 non-null object\n",
      "read_card               9229 non-null object\n",
      "position_performace     9229 non-null object\n",
      "single_match_records    9229 non-null object\n",
      "vs_teams                9229 non-null object\n",
      "jersey_numbers          9229 non-null object\n",
      "dtypes: object(43)\n",
      "memory usage: 3.4+ MB\n"
     ]
    }
   ],
   "source": [
    "data.info()"
   ]
  },
  {
   "cell_type": "code",
   "execution_count": 103,
   "metadata": {},
   "outputs": [
    {
     "data": {
      "text/html": [
       "<div>\n",
       "<style scoped>\n",
       "    .dataframe tbody tr th:only-of-type {\n",
       "        vertical-align: middle;\n",
       "    }\n",
       "\n",
       "    .dataframe tbody tr th {\n",
       "        vertical-align: top;\n",
       "    }\n",
       "\n",
       "    .dataframe thead th {\n",
       "        text-align: right;\n",
       "    }\n",
       "</style>\n",
       "<table border=\"1\" class=\"dataframe\">\n",
       "  <thead>\n",
       "    <tr style=\"text-align: right;\">\n",
       "      <th></th>\n",
       "      <th>Active season</th>\n",
       "      <th>Player</th>\n",
       "      <th>Team</th>\n",
       "      <th>Conference</th>\n",
       "      <th>Date</th>\n",
       "      <th>Position</th>\n",
       "      <th>Height</th>\n",
       "      <th>Weight</th>\n",
       "      <th>Age</th>\n",
       "      <th>Draft Year</th>\n",
       "      <th>Seasons in league</th>\n",
       "      <th>Season</th>\n",
       "      <th>Season short</th>\n",
       "      <th>Real_value</th>\n",
       "    </tr>\n",
       "  </thead>\n",
       "  <tbody>\n",
       "    <tr>\n",
       "      <th>0</th>\n",
       "      <td>0</td>\n",
       "      <td>Micheal Ray Richardson</td>\n",
       "      <td>New Jersey Nets</td>\n",
       "      <td>NaN</td>\n",
       "      <td>Apr 14, 1985</td>\n",
       "      <td>PG</td>\n",
       "      <td>6-5</td>\n",
       "      <td>189</td>\n",
       "      <td>29</td>\n",
       "      <td>1978</td>\n",
       "      <td>6</td>\n",
       "      <td>1984-1985</td>\n",
       "      <td>1985</td>\n",
       "      <td>1.0</td>\n",
       "    </tr>\n",
       "    <tr>\n",
       "      <th>1</th>\n",
       "      <td>0</td>\n",
       "      <td>Derek Smith</td>\n",
       "      <td>Los Angeles Clippers</td>\n",
       "      <td>NaN</td>\n",
       "      <td>Apr 7, 1985</td>\n",
       "      <td>SG</td>\n",
       "      <td>6-6</td>\n",
       "      <td>205</td>\n",
       "      <td>23</td>\n",
       "      <td>1982</td>\n",
       "      <td>2</td>\n",
       "      <td>1984-1985</td>\n",
       "      <td>1985</td>\n",
       "      <td>1.0</td>\n",
       "    </tr>\n",
       "    <tr>\n",
       "      <th>2</th>\n",
       "      <td>0</td>\n",
       "      <td>Calvin Natt</td>\n",
       "      <td>Denver Nuggets</td>\n",
       "      <td>NaN</td>\n",
       "      <td>Apr 1, 1985</td>\n",
       "      <td>F</td>\n",
       "      <td>6-6</td>\n",
       "      <td>220</td>\n",
       "      <td>28</td>\n",
       "      <td>1979</td>\n",
       "      <td>5</td>\n",
       "      <td>1984-1985</td>\n",
       "      <td>1985</td>\n",
       "      <td>1.0</td>\n",
       "    </tr>\n",
       "    <tr>\n",
       "      <th>3</th>\n",
       "      <td>0</td>\n",
       "      <td>Kareem Abdul-Jabbar</td>\n",
       "      <td>Los Angeles Lakers</td>\n",
       "      <td>NaN</td>\n",
       "      <td>Mar 24, 1985</td>\n",
       "      <td>C</td>\n",
       "      <td>7-2</td>\n",
       "      <td>225</td>\n",
       "      <td>37</td>\n",
       "      <td>1969</td>\n",
       "      <td>15</td>\n",
       "      <td>1984-1985</td>\n",
       "      <td>1985</td>\n",
       "      <td>1.0</td>\n",
       "    </tr>\n",
       "    <tr>\n",
       "      <th>4</th>\n",
       "      <td>0</td>\n",
       "      <td>Larry Bird</td>\n",
       "      <td>Boston Celtics</td>\n",
       "      <td>NaN</td>\n",
       "      <td>Mar 17, 1985</td>\n",
       "      <td>SF</td>\n",
       "      <td>6-9</td>\n",
       "      <td>220</td>\n",
       "      <td>28</td>\n",
       "      <td>1978</td>\n",
       "      <td>5</td>\n",
       "      <td>1984-1985</td>\n",
       "      <td>1985</td>\n",
       "      <td>1.0</td>\n",
       "    </tr>\n",
       "    <tr>\n",
       "      <th>5</th>\n",
       "      <td>0</td>\n",
       "      <td>Darrell Griffith</td>\n",
       "      <td>Utah Jazz</td>\n",
       "      <td>NaN</td>\n",
       "      <td>Mar 10, 1985</td>\n",
       "      <td>SG</td>\n",
       "      <td>6-4</td>\n",
       "      <td>190</td>\n",
       "      <td>26</td>\n",
       "      <td>1980</td>\n",
       "      <td>4</td>\n",
       "      <td>1984-1985</td>\n",
       "      <td>1985</td>\n",
       "      <td>1.0</td>\n",
       "    </tr>\n",
       "    <tr>\n",
       "      <th>6</th>\n",
       "      <td>0</td>\n",
       "      <td>Sleepy Floyd</td>\n",
       "      <td>Golden State Warriors</td>\n",
       "      <td>NaN</td>\n",
       "      <td>Mar 3, 1985</td>\n",
       "      <td>PG</td>\n",
       "      <td>6-3</td>\n",
       "      <td>170</td>\n",
       "      <td>24</td>\n",
       "      <td>1982</td>\n",
       "      <td>2</td>\n",
       "      <td>1984-1985</td>\n",
       "      <td>1985</td>\n",
       "      <td>1.0</td>\n",
       "    </tr>\n",
       "  </tbody>\n",
       "</table>\n",
       "</div>"
      ],
      "text/plain": [
       "   Active season                  Player                   Team Conference  \\\n",
       "0              0  Micheal Ray Richardson        New Jersey Nets        NaN   \n",
       "1              0             Derek Smith   Los Angeles Clippers        NaN   \n",
       "2              0             Calvin Natt         Denver Nuggets        NaN   \n",
       "3              0     Kareem Abdul-Jabbar     Los Angeles Lakers        NaN   \n",
       "4              0              Larry Bird         Boston Celtics        NaN   \n",
       "5              0        Darrell Griffith              Utah Jazz        NaN   \n",
       "6              0            Sleepy Floyd  Golden State Warriors        NaN   \n",
       "\n",
       "           Date Position Height  Weight  Age  Draft Year  Seasons in league  \\\n",
       "0  Apr 14, 1985       PG    6-5     189   29        1978                  6   \n",
       "1   Apr 7, 1985       SG    6-6     205   23        1982                  2   \n",
       "2   Apr 1, 1985        F    6-6     220   28        1979                  5   \n",
       "3  Mar 24, 1985        C    7-2     225   37        1969                 15   \n",
       "4  Mar 17, 1985       SF    6-9     220   28        1978                  5   \n",
       "5  Mar 10, 1985       SG    6-4     190   26        1980                  4   \n",
       "6   Mar 3, 1985       PG    6-3     170   24        1982                  2   \n",
       "\n",
       "      Season  Season short  Real_value  \n",
       "0  1984-1985          1985         1.0  \n",
       "1  1984-1985          1985         1.0  \n",
       "2  1984-1985          1985         1.0  \n",
       "3  1984-1985          1985         1.0  \n",
       "4  1984-1985          1985         1.0  \n",
       "5  1984-1985          1985         1.0  \n",
       "6  1984-1985          1985         1.0  "
      ]
     },
     "execution_count": 103,
     "metadata": {},
     "output_type": "execute_result"
    }
   ],
   "source": [
    "nabdir='/Users/shenxibo/study/python/data tables/NBA_player_of_the_week.csv'\n",
    "nba=pd.read_csv(nabdir)\n",
    "nba.head(7)"
   ]
  },
  {
   "cell_type": "code",
   "execution_count": 104,
   "metadata": {},
   "outputs": [
    {
     "name": "stdout",
     "output_type": "stream",
     "text": [
      "<class 'pandas.core.frame.DataFrame'>\n",
      "RangeIndex: 1155 entries, 0 to 1154\n",
      "Data columns (total 14 columns):\n",
      "Active season        1155 non-null int64\n",
      "Player               1155 non-null object\n",
      "Team                 1155 non-null object\n",
      "Conference           771 non-null object\n",
      "Date                 1155 non-null object\n",
      "Position             1155 non-null object\n",
      "Height               1155 non-null object\n",
      "Weight               1155 non-null int64\n",
      "Age                  1155 non-null int64\n",
      "Draft Year           1155 non-null int64\n",
      "Seasons in league    1155 non-null int64\n",
      "Season               1155 non-null object\n",
      "Season short         1155 non-null int64\n",
      "Real_value           1155 non-null float64\n",
      "dtypes: float64(1), int64(6), object(7)\n",
      "memory usage: 126.4+ KB\n"
     ]
    }
   ],
   "source": [
    "nba.info()  "
   ]
  },
  {
   "cell_type": "code",
   "execution_count": 114,
   "metadata": {},
   "outputs": [
    {
     "data": {
      "text/plain": [
       "198.12"
      ]
     },
     "execution_count": 114,
     "metadata": {},
     "output_type": "execute_result"
    }
   ],
   "source": [
    "def heightCM(s):\n",
    "    return (int(s.split('-')[0])+int(s.split('-')[1])/10)*30.48\n",
    "heightCM(nba.loc[0]['Height'])"
   ]
  },
  {
   "cell_type": "code",
   "execution_count": 116,
   "metadata": {},
   "outputs": [
    {
     "data": {
      "text/html": [
       "<div>\n",
       "<style scoped>\n",
       "    .dataframe tbody tr th:only-of-type {\n",
       "        vertical-align: middle;\n",
       "    }\n",
       "\n",
       "    .dataframe tbody tr th {\n",
       "        vertical-align: top;\n",
       "    }\n",
       "\n",
       "    .dataframe thead th {\n",
       "        text-align: right;\n",
       "    }\n",
       "</style>\n",
       "<table border=\"1\" class=\"dataframe\">\n",
       "  <thead>\n",
       "    <tr style=\"text-align: right;\">\n",
       "      <th></th>\n",
       "      <th>Active season</th>\n",
       "      <th>Player</th>\n",
       "      <th>Team</th>\n",
       "      <th>Conference</th>\n",
       "      <th>Date</th>\n",
       "      <th>Position</th>\n",
       "      <th>Height</th>\n",
       "      <th>Weight</th>\n",
       "      <th>Age</th>\n",
       "      <th>Draft Year</th>\n",
       "      <th>Seasons in league</th>\n",
       "      <th>Season</th>\n",
       "      <th>Season short</th>\n",
       "      <th>Real_value</th>\n",
       "      <th>height_cm</th>\n",
       "    </tr>\n",
       "  </thead>\n",
       "  <tbody>\n",
       "    <tr>\n",
       "      <th>0</th>\n",
       "      <td>0</td>\n",
       "      <td>Micheal Ray Richardson</td>\n",
       "      <td>New Jersey Nets</td>\n",
       "      <td>NaN</td>\n",
       "      <td>Apr 14, 1985</td>\n",
       "      <td>PG</td>\n",
       "      <td>6-5</td>\n",
       "      <td>189</td>\n",
       "      <td>29</td>\n",
       "      <td>1978</td>\n",
       "      <td>6</td>\n",
       "      <td>1984-1985</td>\n",
       "      <td>1985</td>\n",
       "      <td>1.0</td>\n",
       "      <td>198.120</td>\n",
       "    </tr>\n",
       "    <tr>\n",
       "      <th>1</th>\n",
       "      <td>0</td>\n",
       "      <td>Derek Smith</td>\n",
       "      <td>Los Angeles Clippers</td>\n",
       "      <td>NaN</td>\n",
       "      <td>Apr 7, 1985</td>\n",
       "      <td>SG</td>\n",
       "      <td>6-6</td>\n",
       "      <td>205</td>\n",
       "      <td>23</td>\n",
       "      <td>1982</td>\n",
       "      <td>2</td>\n",
       "      <td>1984-1985</td>\n",
       "      <td>1985</td>\n",
       "      <td>1.0</td>\n",
       "      <td>201.168</td>\n",
       "    </tr>\n",
       "    <tr>\n",
       "      <th>2</th>\n",
       "      <td>0</td>\n",
       "      <td>Calvin Natt</td>\n",
       "      <td>Denver Nuggets</td>\n",
       "      <td>NaN</td>\n",
       "      <td>Apr 1, 1985</td>\n",
       "      <td>F</td>\n",
       "      <td>6-6</td>\n",
       "      <td>220</td>\n",
       "      <td>28</td>\n",
       "      <td>1979</td>\n",
       "      <td>5</td>\n",
       "      <td>1984-1985</td>\n",
       "      <td>1985</td>\n",
       "      <td>1.0</td>\n",
       "      <td>201.168</td>\n",
       "    </tr>\n",
       "    <tr>\n",
       "      <th>3</th>\n",
       "      <td>0</td>\n",
       "      <td>Kareem Abdul-Jabbar</td>\n",
       "      <td>Los Angeles Lakers</td>\n",
       "      <td>NaN</td>\n",
       "      <td>Mar 24, 1985</td>\n",
       "      <td>C</td>\n",
       "      <td>7-2</td>\n",
       "      <td>225</td>\n",
       "      <td>37</td>\n",
       "      <td>1969</td>\n",
       "      <td>15</td>\n",
       "      <td>1984-1985</td>\n",
       "      <td>1985</td>\n",
       "      <td>1.0</td>\n",
       "      <td>219.456</td>\n",
       "    </tr>\n",
       "    <tr>\n",
       "      <th>4</th>\n",
       "      <td>0</td>\n",
       "      <td>Larry Bird</td>\n",
       "      <td>Boston Celtics</td>\n",
       "      <td>NaN</td>\n",
       "      <td>Mar 17, 1985</td>\n",
       "      <td>SF</td>\n",
       "      <td>6-9</td>\n",
       "      <td>220</td>\n",
       "      <td>28</td>\n",
       "      <td>1978</td>\n",
       "      <td>5</td>\n",
       "      <td>1984-1985</td>\n",
       "      <td>1985</td>\n",
       "      <td>1.0</td>\n",
       "      <td>210.312</td>\n",
       "    </tr>\n",
       "    <tr>\n",
       "      <th>5</th>\n",
       "      <td>0</td>\n",
       "      <td>Darrell Griffith</td>\n",
       "      <td>Utah Jazz</td>\n",
       "      <td>NaN</td>\n",
       "      <td>Mar 10, 1985</td>\n",
       "      <td>SG</td>\n",
       "      <td>6-4</td>\n",
       "      <td>190</td>\n",
       "      <td>26</td>\n",
       "      <td>1980</td>\n",
       "      <td>4</td>\n",
       "      <td>1984-1985</td>\n",
       "      <td>1985</td>\n",
       "      <td>1.0</td>\n",
       "      <td>195.072</td>\n",
       "    </tr>\n",
       "    <tr>\n",
       "      <th>6</th>\n",
       "      <td>0</td>\n",
       "      <td>Sleepy Floyd</td>\n",
       "      <td>Golden State Warriors</td>\n",
       "      <td>NaN</td>\n",
       "      <td>Mar 3, 1985</td>\n",
       "      <td>PG</td>\n",
       "      <td>6-3</td>\n",
       "      <td>170</td>\n",
       "      <td>24</td>\n",
       "      <td>1982</td>\n",
       "      <td>2</td>\n",
       "      <td>1984-1985</td>\n",
       "      <td>1985</td>\n",
       "      <td>1.0</td>\n",
       "      <td>192.024</td>\n",
       "    </tr>\n",
       "  </tbody>\n",
       "</table>\n",
       "</div>"
      ],
      "text/plain": [
       "   Active season                  Player                   Team Conference  \\\n",
       "0              0  Micheal Ray Richardson        New Jersey Nets        NaN   \n",
       "1              0             Derek Smith   Los Angeles Clippers        NaN   \n",
       "2              0             Calvin Natt         Denver Nuggets        NaN   \n",
       "3              0     Kareem Abdul-Jabbar     Los Angeles Lakers        NaN   \n",
       "4              0              Larry Bird         Boston Celtics        NaN   \n",
       "5              0        Darrell Griffith              Utah Jazz        NaN   \n",
       "6              0            Sleepy Floyd  Golden State Warriors        NaN   \n",
       "\n",
       "           Date Position Height  Weight  Age  Draft Year  Seasons in league  \\\n",
       "0  Apr 14, 1985       PG    6-5     189   29        1978                  6   \n",
       "1   Apr 7, 1985       SG    6-6     205   23        1982                  2   \n",
       "2   Apr 1, 1985        F    6-6     220   28        1979                  5   \n",
       "3  Mar 24, 1985        C    7-2     225   37        1969                 15   \n",
       "4  Mar 17, 1985       SF    6-9     220   28        1978                  5   \n",
       "5  Mar 10, 1985       SG    6-4     190   26        1980                  4   \n",
       "6   Mar 3, 1985       PG    6-3     170   24        1982                  2   \n",
       "\n",
       "      Season  Season short  Real_value  height_cm  \n",
       "0  1984-1985          1985         1.0    198.120  \n",
       "1  1984-1985          1985         1.0    201.168  \n",
       "2  1984-1985          1985         1.0    201.168  \n",
       "3  1984-1985          1985         1.0    219.456  \n",
       "4  1984-1985          1985         1.0    210.312  \n",
       "5  1984-1985          1985         1.0    195.072  \n",
       "6  1984-1985          1985         1.0    192.024  "
      ]
     },
     "execution_count": 116,
     "metadata": {},
     "output_type": "execute_result"
    }
   ],
   "source": [
    "nba['height_cm']=nba['Height'].apply(heightCM)\n",
    "nba.head(7)"
   ]
  },
  {
   "cell_type": "code",
   "execution_count": 117,
   "metadata": {},
   "outputs": [
    {
     "data": {
      "text/html": [
       "<div>\n",
       "<style scoped>\n",
       "    .dataframe tbody tr th:only-of-type {\n",
       "        vertical-align: middle;\n",
       "    }\n",
       "\n",
       "    .dataframe tbody tr th {\n",
       "        vertical-align: top;\n",
       "    }\n",
       "\n",
       "    .dataframe thead th {\n",
       "        text-align: right;\n",
       "    }\n",
       "</style>\n",
       "<table border=\"1\" class=\"dataframe\">\n",
       "  <thead>\n",
       "    <tr style=\"text-align: right;\">\n",
       "      <th></th>\n",
       "      <th>Active season</th>\n",
       "      <th>Player</th>\n",
       "      <th>Team</th>\n",
       "      <th>Conference</th>\n",
       "      <th>Date</th>\n",
       "      <th>Position</th>\n",
       "      <th>Height</th>\n",
       "      <th>Weight</th>\n",
       "      <th>Age</th>\n",
       "      <th>Draft Year</th>\n",
       "      <th>Seasons in league</th>\n",
       "      <th>Season</th>\n",
       "      <th>Season short</th>\n",
       "      <th>Real_value</th>\n",
       "      <th>height_cm</th>\n",
       "    </tr>\n",
       "  </thead>\n",
       "  <tbody>\n",
       "    <tr>\n",
       "      <th>1148</th>\n",
       "      <td>1</td>\n",
       "      <td>C.J. McCollum</td>\n",
       "      <td>Portland Trail Blazers</td>\n",
       "      <td>West</td>\n",
       "      <td>Nov 12, 2018</td>\n",
       "      <td>G</td>\n",
       "      <td>6-3</td>\n",
       "      <td>190</td>\n",
       "      <td>27</td>\n",
       "      <td>2013</td>\n",
       "      <td>5</td>\n",
       "      <td>2018-2019</td>\n",
       "      <td>2019</td>\n",
       "      <td>0.5</td>\n",
       "      <td>192.024</td>\n",
       "    </tr>\n",
       "    <tr>\n",
       "      <th>1149</th>\n",
       "      <td>1</td>\n",
       "      <td>Victor Oladipo</td>\n",
       "      <td>Indiana Pacers</td>\n",
       "      <td>East</td>\n",
       "      <td>Nov 5, 2018</td>\n",
       "      <td>G</td>\n",
       "      <td>6-4</td>\n",
       "      <td>210</td>\n",
       "      <td>26</td>\n",
       "      <td>2013</td>\n",
       "      <td>5</td>\n",
       "      <td>2018-2019</td>\n",
       "      <td>2019</td>\n",
       "      <td>0.5</td>\n",
       "      <td>195.072</td>\n",
       "    </tr>\n",
       "    <tr>\n",
       "      <th>1150</th>\n",
       "      <td>1</td>\n",
       "      <td>Russell Westbrook</td>\n",
       "      <td>Oklahoma City Thunder</td>\n",
       "      <td>West</td>\n",
       "      <td>Nov 5, 2018</td>\n",
       "      <td>G</td>\n",
       "      <td>6-3</td>\n",
       "      <td>200</td>\n",
       "      <td>30</td>\n",
       "      <td>2008</td>\n",
       "      <td>10</td>\n",
       "      <td>2018-2019</td>\n",
       "      <td>2019</td>\n",
       "      <td>0.5</td>\n",
       "      <td>192.024</td>\n",
       "    </tr>\n",
       "    <tr>\n",
       "      <th>1151</th>\n",
       "      <td>1</td>\n",
       "      <td>Giannis Antetokounmpo</td>\n",
       "      <td>Milwaukee Bucks</td>\n",
       "      <td>East</td>\n",
       "      <td>Oct 29, 2018</td>\n",
       "      <td>F</td>\n",
       "      <td>6-11</td>\n",
       "      <td>242</td>\n",
       "      <td>24</td>\n",
       "      <td>2013</td>\n",
       "      <td>5</td>\n",
       "      <td>2018-2019</td>\n",
       "      <td>2019</td>\n",
       "      <td>0.5</td>\n",
       "      <td>216.408</td>\n",
       "    </tr>\n",
       "    <tr>\n",
       "      <th>1152</th>\n",
       "      <td>1</td>\n",
       "      <td>Stephen Curry</td>\n",
       "      <td>Golden State Warriors</td>\n",
       "      <td>West</td>\n",
       "      <td>Oct 29, 2018</td>\n",
       "      <td>G</td>\n",
       "      <td>6-3</td>\n",
       "      <td>190</td>\n",
       "      <td>30</td>\n",
       "      <td>2009</td>\n",
       "      <td>9</td>\n",
       "      <td>2018-2019</td>\n",
       "      <td>2019</td>\n",
       "      <td>0.5</td>\n",
       "      <td>192.024</td>\n",
       "    </tr>\n",
       "    <tr>\n",
       "      <th>1153</th>\n",
       "      <td>1</td>\n",
       "      <td>Kemba Walker</td>\n",
       "      <td>Charlotte Hornets</td>\n",
       "      <td>East</td>\n",
       "      <td>Oct 22, 2018</td>\n",
       "      <td>G</td>\n",
       "      <td>6-1</td>\n",
       "      <td>184</td>\n",
       "      <td>28</td>\n",
       "      <td>2011</td>\n",
       "      <td>7</td>\n",
       "      <td>2018-2019</td>\n",
       "      <td>2019</td>\n",
       "      <td>0.5</td>\n",
       "      <td>185.928</td>\n",
       "    </tr>\n",
       "    <tr>\n",
       "      <th>1154</th>\n",
       "      <td>1</td>\n",
       "      <td>Nikola Jokic</td>\n",
       "      <td>Denver Nuggets</td>\n",
       "      <td>West</td>\n",
       "      <td>Oct 22, 2018</td>\n",
       "      <td>C</td>\n",
       "      <td>7-0</td>\n",
       "      <td>250</td>\n",
       "      <td>24</td>\n",
       "      <td>2014</td>\n",
       "      <td>3</td>\n",
       "      <td>2018-2019</td>\n",
       "      <td>2019</td>\n",
       "      <td>0.5</td>\n",
       "      <td>213.360</td>\n",
       "    </tr>\n",
       "  </tbody>\n",
       "</table>\n",
       "</div>"
      ],
      "text/plain": [
       "      Active season                 Player                    Team Conference  \\\n",
       "1148              1          C.J. McCollum  Portland Trail Blazers       West   \n",
       "1149              1         Victor Oladipo          Indiana Pacers       East   \n",
       "1150              1      Russell Westbrook   Oklahoma City Thunder       West   \n",
       "1151              1  Giannis Antetokounmpo         Milwaukee Bucks       East   \n",
       "1152              1          Stephen Curry   Golden State Warriors       West   \n",
       "1153              1           Kemba Walker       Charlotte Hornets       East   \n",
       "1154              1           Nikola Jokic          Denver Nuggets       West   \n",
       "\n",
       "              Date Position Height  Weight  Age  Draft Year  \\\n",
       "1148  Nov 12, 2018        G    6-3     190   27        2013   \n",
       "1149   Nov 5, 2018        G    6-4     210   26        2013   \n",
       "1150   Nov 5, 2018        G    6-3     200   30        2008   \n",
       "1151  Oct 29, 2018        F   6-11     242   24        2013   \n",
       "1152  Oct 29, 2018        G    6-3     190   30        2009   \n",
       "1153  Oct 22, 2018        G    6-1     184   28        2011   \n",
       "1154  Oct 22, 2018        C    7-0     250   24        2014   \n",
       "\n",
       "      Seasons in league     Season  Season short  Real_value  height_cm  \n",
       "1148                  5  2018-2019          2019         0.5    192.024  \n",
       "1149                  5  2018-2019          2019         0.5    195.072  \n",
       "1150                 10  2018-2019          2019         0.5    192.024  \n",
       "1151                  5  2018-2019          2019         0.5    216.408  \n",
       "1152                  9  2018-2019          2019         0.5    192.024  \n",
       "1153                  7  2018-2019          2019         0.5    185.928  \n",
       "1154                  3  2018-2019          2019         0.5    213.360  "
      ]
     },
     "execution_count": 117,
     "metadata": {},
     "output_type": "execute_result"
    }
   ],
   "source": [
    "nba.tail(7)"
   ]
  },
  {
   "cell_type": "code",
   "execution_count": 122,
   "metadata": {},
   "outputs": [
    {
     "data": {
      "text/html": [
       "<div>\n",
       "<style scoped>\n",
       "    .dataframe tbody tr th:only-of-type {\n",
       "        vertical-align: middle;\n",
       "    }\n",
       "\n",
       "    .dataframe tbody tr th {\n",
       "        vertical-align: top;\n",
       "    }\n",
       "\n",
       "    .dataframe thead th {\n",
       "        text-align: right;\n",
       "    }\n",
       "</style>\n",
       "<table border=\"1\" class=\"dataframe\">\n",
       "  <thead>\n",
       "    <tr style=\"text-align: right;\">\n",
       "      <th></th>\n",
       "      <th>Active season</th>\n",
       "      <th>Team</th>\n",
       "      <th>Conference</th>\n",
       "      <th>Date</th>\n",
       "      <th>Position</th>\n",
       "      <th>Height</th>\n",
       "      <th>Weight</th>\n",
       "      <th>Age</th>\n",
       "      <th>Draft Year</th>\n",
       "      <th>Seasons in league</th>\n",
       "      <th>Season</th>\n",
       "      <th>Season short</th>\n",
       "      <th>Real_value</th>\n",
       "      <th>height_cm</th>\n",
       "    </tr>\n",
       "    <tr>\n",
       "      <th>Player</th>\n",
       "      <th></th>\n",
       "      <th></th>\n",
       "      <th></th>\n",
       "      <th></th>\n",
       "      <th></th>\n",
       "      <th></th>\n",
       "      <th></th>\n",
       "      <th></th>\n",
       "      <th></th>\n",
       "      <th></th>\n",
       "      <th></th>\n",
       "      <th></th>\n",
       "      <th></th>\n",
       "      <th></th>\n",
       "    </tr>\n",
       "  </thead>\n",
       "  <tbody>\n",
       "    <tr>\n",
       "      <th>LeBron James</th>\n",
       "      <td>61</td>\n",
       "      <td>61</td>\n",
       "      <td>61</td>\n",
       "      <td>61</td>\n",
       "      <td>61</td>\n",
       "      <td>61</td>\n",
       "      <td>61</td>\n",
       "      <td>61</td>\n",
       "      <td>61</td>\n",
       "      <td>61</td>\n",
       "      <td>61</td>\n",
       "      <td>61</td>\n",
       "      <td>61</td>\n",
       "      <td>61</td>\n",
       "    </tr>\n",
       "    <tr>\n",
       "      <th>Kobe Bryant</th>\n",
       "      <td>33</td>\n",
       "      <td>33</td>\n",
       "      <td>31</td>\n",
       "      <td>33</td>\n",
       "      <td>33</td>\n",
       "      <td>33</td>\n",
       "      <td>33</td>\n",
       "      <td>33</td>\n",
       "      <td>33</td>\n",
       "      <td>33</td>\n",
       "      <td>33</td>\n",
       "      <td>33</td>\n",
       "      <td>33</td>\n",
       "      <td>33</td>\n",
       "    </tr>\n",
       "    <tr>\n",
       "      <th>Kevin Durant</th>\n",
       "      <td>26</td>\n",
       "      <td>26</td>\n",
       "      <td>26</td>\n",
       "      <td>26</td>\n",
       "      <td>26</td>\n",
       "      <td>26</td>\n",
       "      <td>26</td>\n",
       "      <td>26</td>\n",
       "      <td>26</td>\n",
       "      <td>26</td>\n",
       "      <td>26</td>\n",
       "      <td>26</td>\n",
       "      <td>26</td>\n",
       "      <td>26</td>\n",
       "    </tr>\n",
       "    <tr>\n",
       "      <th>Michael Jordan</th>\n",
       "      <td>25</td>\n",
       "      <td>25</td>\n",
       "      <td>2</td>\n",
       "      <td>25</td>\n",
       "      <td>25</td>\n",
       "      <td>25</td>\n",
       "      <td>25</td>\n",
       "      <td>25</td>\n",
       "      <td>25</td>\n",
       "      <td>25</td>\n",
       "      <td>25</td>\n",
       "      <td>25</td>\n",
       "      <td>25</td>\n",
       "      <td>25</td>\n",
       "    </tr>\n",
       "    <tr>\n",
       "      <th>Tim Duncan</th>\n",
       "      <td>23</td>\n",
       "      <td>23</td>\n",
       "      <td>18</td>\n",
       "      <td>23</td>\n",
       "      <td>23</td>\n",
       "      <td>23</td>\n",
       "      <td>23</td>\n",
       "      <td>23</td>\n",
       "      <td>23</td>\n",
       "      <td>23</td>\n",
       "      <td>23</td>\n",
       "      <td>23</td>\n",
       "      <td>23</td>\n",
       "      <td>23</td>\n",
       "    </tr>\n",
       "    <tr>\n",
       "      <th>Allen Iverson</th>\n",
       "      <td>23</td>\n",
       "      <td>23</td>\n",
       "      <td>19</td>\n",
       "      <td>23</td>\n",
       "      <td>23</td>\n",
       "      <td>23</td>\n",
       "      <td>23</td>\n",
       "      <td>23</td>\n",
       "      <td>23</td>\n",
       "      <td>23</td>\n",
       "      <td>23</td>\n",
       "      <td>23</td>\n",
       "      <td>23</td>\n",
       "      <td>23</td>\n",
       "    </tr>\n",
       "    <tr>\n",
       "      <th>Karl Malone</th>\n",
       "      <td>23</td>\n",
       "      <td>23</td>\n",
       "      <td>1</td>\n",
       "      <td>23</td>\n",
       "      <td>23</td>\n",
       "      <td>23</td>\n",
       "      <td>23</td>\n",
       "      <td>23</td>\n",
       "      <td>23</td>\n",
       "      <td>23</td>\n",
       "      <td>23</td>\n",
       "      <td>23</td>\n",
       "      <td>23</td>\n",
       "      <td>23</td>\n",
       "    </tr>\n",
       "    <tr>\n",
       "      <th>Shaquille O'Neal</th>\n",
       "      <td>20</td>\n",
       "      <td>20</td>\n",
       "      <td>8</td>\n",
       "      <td>20</td>\n",
       "      <td>20</td>\n",
       "      <td>20</td>\n",
       "      <td>20</td>\n",
       "      <td>20</td>\n",
       "      <td>20</td>\n",
       "      <td>20</td>\n",
       "      <td>20</td>\n",
       "      <td>20</td>\n",
       "      <td>20</td>\n",
       "      <td>20</td>\n",
       "    </tr>\n",
       "    <tr>\n",
       "      <th>Kevin Garnett</th>\n",
       "      <td>20</td>\n",
       "      <td>20</td>\n",
       "      <td>15</td>\n",
       "      <td>20</td>\n",
       "      <td>20</td>\n",
       "      <td>20</td>\n",
       "      <td>20</td>\n",
       "      <td>20</td>\n",
       "      <td>20</td>\n",
       "      <td>20</td>\n",
       "      <td>20</td>\n",
       "      <td>20</td>\n",
       "      <td>20</td>\n",
       "      <td>20</td>\n",
       "    </tr>\n",
       "    <tr>\n",
       "      <th>Dwyane Wade</th>\n",
       "      <td>19</td>\n",
       "      <td>19</td>\n",
       "      <td>19</td>\n",
       "      <td>19</td>\n",
       "      <td>19</td>\n",
       "      <td>19</td>\n",
       "      <td>19</td>\n",
       "      <td>19</td>\n",
       "      <td>19</td>\n",
       "      <td>19</td>\n",
       "      <td>19</td>\n",
       "      <td>19</td>\n",
       "      <td>19</td>\n",
       "      <td>19</td>\n",
       "    </tr>\n",
       "    <tr>\n",
       "      <th>James Harden</th>\n",
       "      <td>18</td>\n",
       "      <td>18</td>\n",
       "      <td>18</td>\n",
       "      <td>18</td>\n",
       "      <td>18</td>\n",
       "      <td>18</td>\n",
       "      <td>18</td>\n",
       "      <td>18</td>\n",
       "      <td>18</td>\n",
       "      <td>18</td>\n",
       "      <td>18</td>\n",
       "      <td>18</td>\n",
       "      <td>18</td>\n",
       "      <td>18</td>\n",
       "    </tr>\n",
       "    <tr>\n",
       "      <th>Russell Westbrook</th>\n",
       "      <td>18</td>\n",
       "      <td>18</td>\n",
       "      <td>18</td>\n",
       "      <td>18</td>\n",
       "      <td>18</td>\n",
       "      <td>18</td>\n",
       "      <td>18</td>\n",
       "      <td>18</td>\n",
       "      <td>18</td>\n",
       "      <td>18</td>\n",
       "      <td>18</td>\n",
       "      <td>18</td>\n",
       "      <td>18</td>\n",
       "      <td>18</td>\n",
       "    </tr>\n",
       "    <tr>\n",
       "      <th>Carmelo Anthony</th>\n",
       "      <td>18</td>\n",
       "      <td>18</td>\n",
       "      <td>18</td>\n",
       "      <td>18</td>\n",
       "      <td>18</td>\n",
       "      <td>18</td>\n",
       "      <td>18</td>\n",
       "      <td>18</td>\n",
       "      <td>18</td>\n",
       "      <td>18</td>\n",
       "      <td>18</td>\n",
       "      <td>18</td>\n",
       "      <td>18</td>\n",
       "      <td>18</td>\n",
       "    </tr>\n",
       "    <tr>\n",
       "      <th>Dwight Howard</th>\n",
       "      <td>18</td>\n",
       "      <td>18</td>\n",
       "      <td>18</td>\n",
       "      <td>18</td>\n",
       "      <td>18</td>\n",
       "      <td>18</td>\n",
       "      <td>18</td>\n",
       "      <td>18</td>\n",
       "      <td>18</td>\n",
       "      <td>18</td>\n",
       "      <td>18</td>\n",
       "      <td>18</td>\n",
       "      <td>18</td>\n",
       "      <td>18</td>\n",
       "    </tr>\n",
       "    <tr>\n",
       "      <th>Paul Pierce</th>\n",
       "      <td>17</td>\n",
       "      <td>17</td>\n",
       "      <td>16</td>\n",
       "      <td>17</td>\n",
       "      <td>17</td>\n",
       "      <td>17</td>\n",
       "      <td>17</td>\n",
       "      <td>17</td>\n",
       "      <td>17</td>\n",
       "      <td>17</td>\n",
       "      <td>17</td>\n",
       "      <td>17</td>\n",
       "      <td>17</td>\n",
       "      <td>17</td>\n",
       "    </tr>\n",
       "    <tr>\n",
       "      <th>Jason Kidd</th>\n",
       "      <td>17</td>\n",
       "      <td>17</td>\n",
       "      <td>10</td>\n",
       "      <td>17</td>\n",
       "      <td>17</td>\n",
       "      <td>17</td>\n",
       "      <td>17</td>\n",
       "      <td>17</td>\n",
       "      <td>17</td>\n",
       "      <td>17</td>\n",
       "      <td>17</td>\n",
       "      <td>17</td>\n",
       "      <td>17</td>\n",
       "      <td>17</td>\n",
       "    </tr>\n",
       "    <tr>\n",
       "      <th>Dirk Nowitzki</th>\n",
       "      <td>16</td>\n",
       "      <td>16</td>\n",
       "      <td>16</td>\n",
       "      <td>16</td>\n",
       "      <td>16</td>\n",
       "      <td>16</td>\n",
       "      <td>16</td>\n",
       "      <td>16</td>\n",
       "      <td>16</td>\n",
       "      <td>16</td>\n",
       "      <td>16</td>\n",
       "      <td>16</td>\n",
       "      <td>16</td>\n",
       "      <td>16</td>\n",
       "    </tr>\n",
       "    <tr>\n",
       "      <th>David Robinson</th>\n",
       "      <td>15</td>\n",
       "      <td>15</td>\n",
       "      <td>0</td>\n",
       "      <td>15</td>\n",
       "      <td>15</td>\n",
       "      <td>15</td>\n",
       "      <td>15</td>\n",
       "      <td>15</td>\n",
       "      <td>15</td>\n",
       "      <td>15</td>\n",
       "      <td>15</td>\n",
       "      <td>15</td>\n",
       "      <td>15</td>\n",
       "      <td>15</td>\n",
       "    </tr>\n",
       "    <tr>\n",
       "      <th>Stephen Curry</th>\n",
       "      <td>13</td>\n",
       "      <td>13</td>\n",
       "      <td>13</td>\n",
       "      <td>13</td>\n",
       "      <td>13</td>\n",
       "      <td>13</td>\n",
       "      <td>13</td>\n",
       "      <td>13</td>\n",
       "      <td>13</td>\n",
       "      <td>13</td>\n",
       "      <td>13</td>\n",
       "      <td>13</td>\n",
       "      <td>13</td>\n",
       "      <td>13</td>\n",
       "    </tr>\n",
       "    <tr>\n",
       "      <th>Chris Paul</th>\n",
       "      <td>13</td>\n",
       "      <td>13</td>\n",
       "      <td>13</td>\n",
       "      <td>13</td>\n",
       "      <td>13</td>\n",
       "      <td>13</td>\n",
       "      <td>13</td>\n",
       "      <td>13</td>\n",
       "      <td>13</td>\n",
       "      <td>13</td>\n",
       "      <td>13</td>\n",
       "      <td>13</td>\n",
       "      <td>13</td>\n",
       "      <td>13</td>\n",
       "    </tr>\n",
       "    <tr>\n",
       "      <th>Tracy McGrady</th>\n",
       "      <td>12</td>\n",
       "      <td>12</td>\n",
       "      <td>12</td>\n",
       "      <td>12</td>\n",
       "      <td>12</td>\n",
       "      <td>12</td>\n",
       "      <td>12</td>\n",
       "      <td>12</td>\n",
       "      <td>12</td>\n",
       "      <td>12</td>\n",
       "      <td>12</td>\n",
       "      <td>12</td>\n",
       "      <td>12</td>\n",
       "      <td>12</td>\n",
       "    </tr>\n",
       "    <tr>\n",
       "      <th>Hakeem Olajuwon</th>\n",
       "      <td>12</td>\n",
       "      <td>12</td>\n",
       "      <td>0</td>\n",
       "      <td>12</td>\n",
       "      <td>12</td>\n",
       "      <td>12</td>\n",
       "      <td>12</td>\n",
       "      <td>12</td>\n",
       "      <td>12</td>\n",
       "      <td>12</td>\n",
       "      <td>12</td>\n",
       "      <td>12</td>\n",
       "      <td>12</td>\n",
       "      <td>12</td>\n",
       "    </tr>\n",
       "    <tr>\n",
       "      <th>Patrick Ewing</th>\n",
       "      <td>12</td>\n",
       "      <td>12</td>\n",
       "      <td>0</td>\n",
       "      <td>12</td>\n",
       "      <td>12</td>\n",
       "      <td>12</td>\n",
       "      <td>12</td>\n",
       "      <td>12</td>\n",
       "      <td>12</td>\n",
       "      <td>12</td>\n",
       "      <td>12</td>\n",
       "      <td>12</td>\n",
       "      <td>12</td>\n",
       "      <td>12</td>\n",
       "    </tr>\n",
       "    <tr>\n",
       "      <th>Magic Johnson</th>\n",
       "      <td>12</td>\n",
       "      <td>12</td>\n",
       "      <td>0</td>\n",
       "      <td>12</td>\n",
       "      <td>12</td>\n",
       "      <td>12</td>\n",
       "      <td>12</td>\n",
       "      <td>12</td>\n",
       "      <td>12</td>\n",
       "      <td>12</td>\n",
       "      <td>12</td>\n",
       "      <td>12</td>\n",
       "      <td>12</td>\n",
       "      <td>12</td>\n",
       "    </tr>\n",
       "    <tr>\n",
       "      <th>Clyde Drexler</th>\n",
       "      <td>11</td>\n",
       "      <td>11</td>\n",
       "      <td>0</td>\n",
       "      <td>11</td>\n",
       "      <td>11</td>\n",
       "      <td>11</td>\n",
       "      <td>11</td>\n",
       "      <td>11</td>\n",
       "      <td>11</td>\n",
       "      <td>11</td>\n",
       "      <td>11</td>\n",
       "      <td>11</td>\n",
       "      <td>11</td>\n",
       "      <td>11</td>\n",
       "    </tr>\n",
       "    <tr>\n",
       "      <th>Vince Carter</th>\n",
       "      <td>11</td>\n",
       "      <td>11</td>\n",
       "      <td>7</td>\n",
       "      <td>11</td>\n",
       "      <td>11</td>\n",
       "      <td>11</td>\n",
       "      <td>11</td>\n",
       "      <td>11</td>\n",
       "      <td>11</td>\n",
       "      <td>11</td>\n",
       "      <td>11</td>\n",
       "      <td>11</td>\n",
       "      <td>11</td>\n",
       "      <td>11</td>\n",
       "    </tr>\n",
       "    <tr>\n",
       "      <th>Charles Barkley</th>\n",
       "      <td>11</td>\n",
       "      <td>11</td>\n",
       "      <td>0</td>\n",
       "      <td>11</td>\n",
       "      <td>11</td>\n",
       "      <td>11</td>\n",
       "      <td>11</td>\n",
       "      <td>11</td>\n",
       "      <td>11</td>\n",
       "      <td>11</td>\n",
       "      <td>11</td>\n",
       "      <td>11</td>\n",
       "      <td>11</td>\n",
       "      <td>11</td>\n",
       "    </tr>\n",
       "    <tr>\n",
       "      <th>LaMarcus Aldridge</th>\n",
       "      <td>10</td>\n",
       "      <td>10</td>\n",
       "      <td>10</td>\n",
       "      <td>10</td>\n",
       "      <td>10</td>\n",
       "      <td>10</td>\n",
       "      <td>10</td>\n",
       "      <td>10</td>\n",
       "      <td>10</td>\n",
       "      <td>10</td>\n",
       "      <td>10</td>\n",
       "      <td>10</td>\n",
       "      <td>10</td>\n",
       "      <td>10</td>\n",
       "    </tr>\n",
       "    <tr>\n",
       "      <th>DeMar DeRozan</th>\n",
       "      <td>10</td>\n",
       "      <td>10</td>\n",
       "      <td>10</td>\n",
       "      <td>10</td>\n",
       "      <td>10</td>\n",
       "      <td>10</td>\n",
       "      <td>10</td>\n",
       "      <td>10</td>\n",
       "      <td>10</td>\n",
       "      <td>10</td>\n",
       "      <td>10</td>\n",
       "      <td>10</td>\n",
       "      <td>10</td>\n",
       "      <td>10</td>\n",
       "    </tr>\n",
       "    <tr>\n",
       "      <th>Chris Webber</th>\n",
       "      <td>9</td>\n",
       "      <td>9</td>\n",
       "      <td>2</td>\n",
       "      <td>9</td>\n",
       "      <td>9</td>\n",
       "      <td>9</td>\n",
       "      <td>9</td>\n",
       "      <td>9</td>\n",
       "      <td>9</td>\n",
       "      <td>9</td>\n",
       "      <td>9</td>\n",
       "      <td>9</td>\n",
       "      <td>9</td>\n",
       "      <td>9</td>\n",
       "    </tr>\n",
       "    <tr>\n",
       "      <th>...</th>\n",
       "      <td>...</td>\n",
       "      <td>...</td>\n",
       "      <td>...</td>\n",
       "      <td>...</td>\n",
       "      <td>...</td>\n",
       "      <td>...</td>\n",
       "      <td>...</td>\n",
       "      <td>...</td>\n",
       "      <td>...</td>\n",
       "      <td>...</td>\n",
       "      <td>...</td>\n",
       "      <td>...</td>\n",
       "      <td>...</td>\n",
       "      <td>...</td>\n",
       "    </tr>\n",
       "    <tr>\n",
       "      <th>Loy Vaught</th>\n",
       "      <td>1</td>\n",
       "      <td>1</td>\n",
       "      <td>0</td>\n",
       "      <td>1</td>\n",
       "      <td>1</td>\n",
       "      <td>1</td>\n",
       "      <td>1</td>\n",
       "      <td>1</td>\n",
       "      <td>1</td>\n",
       "      <td>1</td>\n",
       "      <td>1</td>\n",
       "      <td>1</td>\n",
       "      <td>1</td>\n",
       "      <td>1</td>\n",
       "    </tr>\n",
       "    <tr>\n",
       "      <th>Kenny Anderson</th>\n",
       "      <td>1</td>\n",
       "      <td>1</td>\n",
       "      <td>0</td>\n",
       "      <td>1</td>\n",
       "      <td>1</td>\n",
       "      <td>1</td>\n",
       "      <td>1</td>\n",
       "      <td>1</td>\n",
       "      <td>1</td>\n",
       "      <td>1</td>\n",
       "      <td>1</td>\n",
       "      <td>1</td>\n",
       "      <td>1</td>\n",
       "      <td>1</td>\n",
       "    </tr>\n",
       "    <tr>\n",
       "      <th>Lucious Harris</th>\n",
       "      <td>1</td>\n",
       "      <td>1</td>\n",
       "      <td>1</td>\n",
       "      <td>1</td>\n",
       "      <td>1</td>\n",
       "      <td>1</td>\n",
       "      <td>1</td>\n",
       "      <td>1</td>\n",
       "      <td>1</td>\n",
       "      <td>1</td>\n",
       "      <td>1</td>\n",
       "      <td>1</td>\n",
       "      <td>1</td>\n",
       "      <td>1</td>\n",
       "    </tr>\n",
       "    <tr>\n",
       "      <th>Marcin Gortat</th>\n",
       "      <td>1</td>\n",
       "      <td>1</td>\n",
       "      <td>1</td>\n",
       "      <td>1</td>\n",
       "      <td>1</td>\n",
       "      <td>1</td>\n",
       "      <td>1</td>\n",
       "      <td>1</td>\n",
       "      <td>1</td>\n",
       "      <td>1</td>\n",
       "      <td>1</td>\n",
       "      <td>1</td>\n",
       "      <td>1</td>\n",
       "      <td>1</td>\n",
       "    </tr>\n",
       "    <tr>\n",
       "      <th>Mark Aguirre</th>\n",
       "      <td>1</td>\n",
       "      <td>1</td>\n",
       "      <td>0</td>\n",
       "      <td>1</td>\n",
       "      <td>1</td>\n",
       "      <td>1</td>\n",
       "      <td>1</td>\n",
       "      <td>1</td>\n",
       "      <td>1</td>\n",
       "      <td>1</td>\n",
       "      <td>1</td>\n",
       "      <td>1</td>\n",
       "      <td>1</td>\n",
       "      <td>1</td>\n",
       "    </tr>\n",
       "    <tr>\n",
       "      <th>Mark Jackson</th>\n",
       "      <td>1</td>\n",
       "      <td>1</td>\n",
       "      <td>0</td>\n",
       "      <td>1</td>\n",
       "      <td>1</td>\n",
       "      <td>1</td>\n",
       "      <td>1</td>\n",
       "      <td>1</td>\n",
       "      <td>1</td>\n",
       "      <td>1</td>\n",
       "      <td>1</td>\n",
       "      <td>1</td>\n",
       "      <td>1</td>\n",
       "      <td>1</td>\n",
       "    </tr>\n",
       "    <tr>\n",
       "      <th>Markieff Morris</th>\n",
       "      <td>1</td>\n",
       "      <td>1</td>\n",
       "      <td>1</td>\n",
       "      <td>1</td>\n",
       "      <td>1</td>\n",
       "      <td>1</td>\n",
       "      <td>1</td>\n",
       "      <td>1</td>\n",
       "      <td>1</td>\n",
       "      <td>1</td>\n",
       "      <td>1</td>\n",
       "      <td>1</td>\n",
       "      <td>1</td>\n",
       "      <td>1</td>\n",
       "    </tr>\n",
       "    <tr>\n",
       "      <th>Mehmet Okur</th>\n",
       "      <td>1</td>\n",
       "      <td>1</td>\n",
       "      <td>1</td>\n",
       "      <td>1</td>\n",
       "      <td>1</td>\n",
       "      <td>1</td>\n",
       "      <td>1</td>\n",
       "      <td>1</td>\n",
       "      <td>1</td>\n",
       "      <td>1</td>\n",
       "      <td>1</td>\n",
       "      <td>1</td>\n",
       "      <td>1</td>\n",
       "      <td>1</td>\n",
       "    </tr>\n",
       "    <tr>\n",
       "      <th>Michael Carter-Williams</th>\n",
       "      <td>1</td>\n",
       "      <td>1</td>\n",
       "      <td>1</td>\n",
       "      <td>1</td>\n",
       "      <td>1</td>\n",
       "      <td>1</td>\n",
       "      <td>1</td>\n",
       "      <td>1</td>\n",
       "      <td>1</td>\n",
       "      <td>1</td>\n",
       "      <td>1</td>\n",
       "      <td>1</td>\n",
       "      <td>1</td>\n",
       "      <td>1</td>\n",
       "    </tr>\n",
       "    <tr>\n",
       "      <th>Kenny Smith</th>\n",
       "      <td>1</td>\n",
       "      <td>1</td>\n",
       "      <td>0</td>\n",
       "      <td>1</td>\n",
       "      <td>1</td>\n",
       "      <td>1</td>\n",
       "      <td>1</td>\n",
       "      <td>1</td>\n",
       "      <td>1</td>\n",
       "      <td>1</td>\n",
       "      <td>1</td>\n",
       "      <td>1</td>\n",
       "      <td>1</td>\n",
       "      <td>1</td>\n",
       "    </tr>\n",
       "    <tr>\n",
       "      <th>Kenneth Faried</th>\n",
       "      <td>1</td>\n",
       "      <td>1</td>\n",
       "      <td>1</td>\n",
       "      <td>1</td>\n",
       "      <td>1</td>\n",
       "      <td>1</td>\n",
       "      <td>1</td>\n",
       "      <td>1</td>\n",
       "      <td>1</td>\n",
       "      <td>1</td>\n",
       "      <td>1</td>\n",
       "      <td>1</td>\n",
       "      <td>1</td>\n",
       "      <td>1</td>\n",
       "    </tr>\n",
       "    <tr>\n",
       "      <th>Hot Rod Williams</th>\n",
       "      <td>1</td>\n",
       "      <td>1</td>\n",
       "      <td>0</td>\n",
       "      <td>1</td>\n",
       "      <td>1</td>\n",
       "      <td>1</td>\n",
       "      <td>1</td>\n",
       "      <td>1</td>\n",
       "      <td>1</td>\n",
       "      <td>1</td>\n",
       "      <td>1</td>\n",
       "      <td>1</td>\n",
       "      <td>1</td>\n",
       "      <td>1</td>\n",
       "    </tr>\n",
       "    <tr>\n",
       "      <th>Jason Terry</th>\n",
       "      <td>1</td>\n",
       "      <td>1</td>\n",
       "      <td>1</td>\n",
       "      <td>1</td>\n",
       "      <td>1</td>\n",
       "      <td>1</td>\n",
       "      <td>1</td>\n",
       "      <td>1</td>\n",
       "      <td>1</td>\n",
       "      <td>1</td>\n",
       "      <td>1</td>\n",
       "      <td>1</td>\n",
       "      <td>1</td>\n",
       "      <td>1</td>\n",
       "    </tr>\n",
       "    <tr>\n",
       "      <th>J.J. Barea</th>\n",
       "      <td>1</td>\n",
       "      <td>1</td>\n",
       "      <td>1</td>\n",
       "      <td>1</td>\n",
       "      <td>1</td>\n",
       "      <td>1</td>\n",
       "      <td>1</td>\n",
       "      <td>1</td>\n",
       "      <td>1</td>\n",
       "      <td>1</td>\n",
       "      <td>1</td>\n",
       "      <td>1</td>\n",
       "      <td>1</td>\n",
       "      <td>1</td>\n",
       "    </tr>\n",
       "    <tr>\n",
       "      <th>J.R. Smith</th>\n",
       "      <td>1</td>\n",
       "      <td>1</td>\n",
       "      <td>1</td>\n",
       "      <td>1</td>\n",
       "      <td>1</td>\n",
       "      <td>1</td>\n",
       "      <td>1</td>\n",
       "      <td>1</td>\n",
       "      <td>1</td>\n",
       "      <td>1</td>\n",
       "      <td>1</td>\n",
       "      <td>1</td>\n",
       "      <td>1</td>\n",
       "      <td>1</td>\n",
       "    </tr>\n",
       "    <tr>\n",
       "      <th>Jack Sikma</th>\n",
       "      <td>1</td>\n",
       "      <td>1</td>\n",
       "      <td>0</td>\n",
       "      <td>1</td>\n",
       "      <td>1</td>\n",
       "      <td>1</td>\n",
       "      <td>1</td>\n",
       "      <td>1</td>\n",
       "      <td>1</td>\n",
       "      <td>1</td>\n",
       "      <td>1</td>\n",
       "      <td>1</td>\n",
       "      <td>1</td>\n",
       "      <td>1</td>\n",
       "    </tr>\n",
       "    <tr>\n",
       "      <th>Jamaal Magloire</th>\n",
       "      <td>1</td>\n",
       "      <td>1</td>\n",
       "      <td>1</td>\n",
       "      <td>1</td>\n",
       "      <td>1</td>\n",
       "      <td>1</td>\n",
       "      <td>1</td>\n",
       "      <td>1</td>\n",
       "      <td>1</td>\n",
       "      <td>1</td>\n",
       "      <td>1</td>\n",
       "      <td>1</td>\n",
       "      <td>1</td>\n",
       "      <td>1</td>\n",
       "    </tr>\n",
       "    <tr>\n",
       "      <th>Jamal Crawford</th>\n",
       "      <td>1</td>\n",
       "      <td>1</td>\n",
       "      <td>1</td>\n",
       "      <td>1</td>\n",
       "      <td>1</td>\n",
       "      <td>1</td>\n",
       "      <td>1</td>\n",
       "      <td>1</td>\n",
       "      <td>1</td>\n",
       "      <td>1</td>\n",
       "      <td>1</td>\n",
       "      <td>1</td>\n",
       "      <td>1</td>\n",
       "      <td>1</td>\n",
       "    </tr>\n",
       "    <tr>\n",
       "      <th>Jamal Mashburn</th>\n",
       "      <td>1</td>\n",
       "      <td>1</td>\n",
       "      <td>0</td>\n",
       "      <td>1</td>\n",
       "      <td>1</td>\n",
       "      <td>1</td>\n",
       "      <td>1</td>\n",
       "      <td>1</td>\n",
       "      <td>1</td>\n",
       "      <td>1</td>\n",
       "      <td>1</td>\n",
       "      <td>1</td>\n",
       "      <td>1</td>\n",
       "      <td>1</td>\n",
       "    </tr>\n",
       "    <tr>\n",
       "      <th>Jared Sullinger</th>\n",
       "      <td>1</td>\n",
       "      <td>1</td>\n",
       "      <td>1</td>\n",
       "      <td>1</td>\n",
       "      <td>1</td>\n",
       "      <td>1</td>\n",
       "      <td>1</td>\n",
       "      <td>1</td>\n",
       "      <td>1</td>\n",
       "      <td>1</td>\n",
       "      <td>1</td>\n",
       "      <td>1</td>\n",
       "      <td>1</td>\n",
       "      <td>1</td>\n",
       "    </tr>\n",
       "    <tr>\n",
       "      <th>Jayson Williams</th>\n",
       "      <td>1</td>\n",
       "      <td>1</td>\n",
       "      <td>0</td>\n",
       "      <td>1</td>\n",
       "      <td>1</td>\n",
       "      <td>1</td>\n",
       "      <td>1</td>\n",
       "      <td>1</td>\n",
       "      <td>1</td>\n",
       "      <td>1</td>\n",
       "      <td>1</td>\n",
       "      <td>1</td>\n",
       "      <td>1</td>\n",
       "      <td>1</td>\n",
       "    </tr>\n",
       "    <tr>\n",
       "      <th>Kareem Abdul-Jabbar</th>\n",
       "      <td>1</td>\n",
       "      <td>1</td>\n",
       "      <td>0</td>\n",
       "      <td>1</td>\n",
       "      <td>1</td>\n",
       "      <td>1</td>\n",
       "      <td>1</td>\n",
       "      <td>1</td>\n",
       "      <td>1</td>\n",
       "      <td>1</td>\n",
       "      <td>1</td>\n",
       "      <td>1</td>\n",
       "      <td>1</td>\n",
       "      <td>1</td>\n",
       "    </tr>\n",
       "    <tr>\n",
       "      <th>Jeff Malone</th>\n",
       "      <td>1</td>\n",
       "      <td>1</td>\n",
       "      <td>0</td>\n",
       "      <td>1</td>\n",
       "      <td>1</td>\n",
       "      <td>1</td>\n",
       "      <td>1</td>\n",
       "      <td>1</td>\n",
       "      <td>1</td>\n",
       "      <td>1</td>\n",
       "      <td>1</td>\n",
       "      <td>1</td>\n",
       "      <td>1</td>\n",
       "      <td>1</td>\n",
       "    </tr>\n",
       "    <tr>\n",
       "      <th>Jeff Ruland</th>\n",
       "      <td>1</td>\n",
       "      <td>1</td>\n",
       "      <td>0</td>\n",
       "      <td>1</td>\n",
       "      <td>1</td>\n",
       "      <td>1</td>\n",
       "      <td>1</td>\n",
       "      <td>1</td>\n",
       "      <td>1</td>\n",
       "      <td>1</td>\n",
       "      <td>1</td>\n",
       "      <td>1</td>\n",
       "      <td>1</td>\n",
       "      <td>1</td>\n",
       "    </tr>\n",
       "    <tr>\n",
       "      <th>Jeremy Lin</th>\n",
       "      <td>1</td>\n",
       "      <td>1</td>\n",
       "      <td>1</td>\n",
       "      <td>1</td>\n",
       "      <td>1</td>\n",
       "      <td>1</td>\n",
       "      <td>1</td>\n",
       "      <td>1</td>\n",
       "      <td>1</td>\n",
       "      <td>1</td>\n",
       "      <td>1</td>\n",
       "      <td>1</td>\n",
       "      <td>1</td>\n",
       "      <td>1</td>\n",
       "    </tr>\n",
       "    <tr>\n",
       "      <th>Jerry Stackhouse</th>\n",
       "      <td>1</td>\n",
       "      <td>1</td>\n",
       "      <td>1</td>\n",
       "      <td>1</td>\n",
       "      <td>1</td>\n",
       "      <td>1</td>\n",
       "      <td>1</td>\n",
       "      <td>1</td>\n",
       "      <td>1</td>\n",
       "      <td>1</td>\n",
       "      <td>1</td>\n",
       "      <td>1</td>\n",
       "      <td>1</td>\n",
       "      <td>1</td>\n",
       "    </tr>\n",
       "    <tr>\n",
       "      <th>Jordan Crawford</th>\n",
       "      <td>1</td>\n",
       "      <td>1</td>\n",
       "      <td>1</td>\n",
       "      <td>1</td>\n",
       "      <td>1</td>\n",
       "      <td>1</td>\n",
       "      <td>1</td>\n",
       "      <td>1</td>\n",
       "      <td>1</td>\n",
       "      <td>1</td>\n",
       "      <td>1</td>\n",
       "      <td>1</td>\n",
       "      <td>1</td>\n",
       "      <td>1</td>\n",
       "    </tr>\n",
       "    <tr>\n",
       "      <th>Adrian Dantley</th>\n",
       "      <td>1</td>\n",
       "      <td>1</td>\n",
       "      <td>0</td>\n",
       "      <td>1</td>\n",
       "      <td>1</td>\n",
       "      <td>1</td>\n",
       "      <td>1</td>\n",
       "      <td>1</td>\n",
       "      <td>1</td>\n",
       "      <td>1</td>\n",
       "      <td>1</td>\n",
       "      <td>1</td>\n",
       "      <td>1</td>\n",
       "      <td>1</td>\n",
       "    </tr>\n",
       "    <tr>\n",
       "      <th>Juwan Howard</th>\n",
       "      <td>1</td>\n",
       "      <td>1</td>\n",
       "      <td>0</td>\n",
       "      <td>1</td>\n",
       "      <td>1</td>\n",
       "      <td>1</td>\n",
       "      <td>1</td>\n",
       "      <td>1</td>\n",
       "      <td>1</td>\n",
       "      <td>1</td>\n",
       "      <td>1</td>\n",
       "      <td>1</td>\n",
       "      <td>1</td>\n",
       "      <td>1</td>\n",
       "    </tr>\n",
       "    <tr>\n",
       "      <th>Zydrunas Ilgauskas</th>\n",
       "      <td>1</td>\n",
       "      <td>1</td>\n",
       "      <td>1</td>\n",
       "      <td>1</td>\n",
       "      <td>1</td>\n",
       "      <td>1</td>\n",
       "      <td>1</td>\n",
       "      <td>1</td>\n",
       "      <td>1</td>\n",
       "      <td>1</td>\n",
       "      <td>1</td>\n",
       "      <td>1</td>\n",
       "      <td>1</td>\n",
       "      <td>1</td>\n",
       "    </tr>\n",
       "  </tbody>\n",
       "</table>\n",
       "<p>276 rows × 14 columns</p>\n",
       "</div>"
      ],
      "text/plain": [
       "                         Active season  Team  Conference  Date  Position  \\\n",
       "Player                                                                     \n",
       "LeBron James                        61    61          61    61        61   \n",
       "Kobe Bryant                         33    33          31    33        33   \n",
       "Kevin Durant                        26    26          26    26        26   \n",
       "Michael Jordan                      25    25           2    25        25   \n",
       "Tim Duncan                          23    23          18    23        23   \n",
       "Allen Iverson                       23    23          19    23        23   \n",
       "Karl Malone                         23    23           1    23        23   \n",
       "Shaquille O'Neal                    20    20           8    20        20   \n",
       "Kevin Garnett                       20    20          15    20        20   \n",
       "Dwyane Wade                         19    19          19    19        19   \n",
       "James Harden                        18    18          18    18        18   \n",
       "Russell Westbrook                   18    18          18    18        18   \n",
       "Carmelo Anthony                     18    18          18    18        18   \n",
       "Dwight Howard                       18    18          18    18        18   \n",
       "Paul Pierce                         17    17          16    17        17   \n",
       "Jason Kidd                          17    17          10    17        17   \n",
       "Dirk Nowitzki                       16    16          16    16        16   \n",
       "David Robinson                      15    15           0    15        15   \n",
       "Stephen Curry                       13    13          13    13        13   \n",
       "Chris Paul                          13    13          13    13        13   \n",
       "Tracy McGrady                       12    12          12    12        12   \n",
       "Hakeem Olajuwon                     12    12           0    12        12   \n",
       "Patrick Ewing                       12    12           0    12        12   \n",
       "Magic Johnson                       12    12           0    12        12   \n",
       "Clyde Drexler                       11    11           0    11        11   \n",
       "Vince Carter                        11    11           7    11        11   \n",
       "Charles Barkley                     11    11           0    11        11   \n",
       "LaMarcus Aldridge                   10    10          10    10        10   \n",
       "DeMar DeRozan                       10    10          10    10        10   \n",
       "Chris Webber                         9     9           2     9         9   \n",
       "...                                ...   ...         ...   ...       ...   \n",
       "Loy Vaught                           1     1           0     1         1   \n",
       "Kenny Anderson                       1     1           0     1         1   \n",
       "Lucious Harris                       1     1           1     1         1   \n",
       "Marcin Gortat                        1     1           1     1         1   \n",
       "Mark Aguirre                         1     1           0     1         1   \n",
       "Mark Jackson                         1     1           0     1         1   \n",
       "Markieff Morris                      1     1           1     1         1   \n",
       "Mehmet Okur                          1     1           1     1         1   \n",
       "Michael Carter-Williams              1     1           1     1         1   \n",
       "Kenny Smith                          1     1           0     1         1   \n",
       "Kenneth Faried                       1     1           1     1         1   \n",
       "Hot Rod Williams                     1     1           0     1         1   \n",
       "Jason Terry                          1     1           1     1         1   \n",
       "J.J. Barea                           1     1           1     1         1   \n",
       "J.R. Smith                           1     1           1     1         1   \n",
       "Jack Sikma                           1     1           0     1         1   \n",
       "Jamaal Magloire                      1     1           1     1         1   \n",
       "Jamal Crawford                       1     1           1     1         1   \n",
       "Jamal Mashburn                       1     1           0     1         1   \n",
       "Jared Sullinger                      1     1           1     1         1   \n",
       "Jayson Williams                      1     1           0     1         1   \n",
       "Kareem Abdul-Jabbar                  1     1           0     1         1   \n",
       "Jeff Malone                          1     1           0     1         1   \n",
       "Jeff Ruland                          1     1           0     1         1   \n",
       "Jeremy Lin                           1     1           1     1         1   \n",
       "Jerry Stackhouse                     1     1           1     1         1   \n",
       "Jordan Crawford                      1     1           1     1         1   \n",
       "Adrian Dantley                       1     1           0     1         1   \n",
       "Juwan Howard                         1     1           0     1         1   \n",
       "Zydrunas Ilgauskas                   1     1           1     1         1   \n",
       "\n",
       "                         Height  Weight  Age  Draft Year  Seasons in league  \\\n",
       "Player                                                                        \n",
       "LeBron James                 61      61   61          61                 61   \n",
       "Kobe Bryant                  33      33   33          33                 33   \n",
       "Kevin Durant                 26      26   26          26                 26   \n",
       "Michael Jordan               25      25   25          25                 25   \n",
       "Tim Duncan                   23      23   23          23                 23   \n",
       "Allen Iverson                23      23   23          23                 23   \n",
       "Karl Malone                  23      23   23          23                 23   \n",
       "Shaquille O'Neal             20      20   20          20                 20   \n",
       "Kevin Garnett                20      20   20          20                 20   \n",
       "Dwyane Wade                  19      19   19          19                 19   \n",
       "James Harden                 18      18   18          18                 18   \n",
       "Russell Westbrook            18      18   18          18                 18   \n",
       "Carmelo Anthony              18      18   18          18                 18   \n",
       "Dwight Howard                18      18   18          18                 18   \n",
       "Paul Pierce                  17      17   17          17                 17   \n",
       "Jason Kidd                   17      17   17          17                 17   \n",
       "Dirk Nowitzki                16      16   16          16                 16   \n",
       "David Robinson               15      15   15          15                 15   \n",
       "Stephen Curry                13      13   13          13                 13   \n",
       "Chris Paul                   13      13   13          13                 13   \n",
       "Tracy McGrady                12      12   12          12                 12   \n",
       "Hakeem Olajuwon              12      12   12          12                 12   \n",
       "Patrick Ewing                12      12   12          12                 12   \n",
       "Magic Johnson                12      12   12          12                 12   \n",
       "Clyde Drexler                11      11   11          11                 11   \n",
       "Vince Carter                 11      11   11          11                 11   \n",
       "Charles Barkley              11      11   11          11                 11   \n",
       "LaMarcus Aldridge            10      10   10          10                 10   \n",
       "DeMar DeRozan                10      10   10          10                 10   \n",
       "Chris Webber                  9       9    9           9                  9   \n",
       "...                         ...     ...  ...         ...                ...   \n",
       "Loy Vaught                    1       1    1           1                  1   \n",
       "Kenny Anderson                1       1    1           1                  1   \n",
       "Lucious Harris                1       1    1           1                  1   \n",
       "Marcin Gortat                 1       1    1           1                  1   \n",
       "Mark Aguirre                  1       1    1           1                  1   \n",
       "Mark Jackson                  1       1    1           1                  1   \n",
       "Markieff Morris               1       1    1           1                  1   \n",
       "Mehmet Okur                   1       1    1           1                  1   \n",
       "Michael Carter-Williams       1       1    1           1                  1   \n",
       "Kenny Smith                   1       1    1           1                  1   \n",
       "Kenneth Faried                1       1    1           1                  1   \n",
       "Hot Rod Williams              1       1    1           1                  1   \n",
       "Jason Terry                   1       1    1           1                  1   \n",
       "J.J. Barea                    1       1    1           1                  1   \n",
       "J.R. Smith                    1       1    1           1                  1   \n",
       "Jack Sikma                    1       1    1           1                  1   \n",
       "Jamaal Magloire               1       1    1           1                  1   \n",
       "Jamal Crawford                1       1    1           1                  1   \n",
       "Jamal Mashburn                1       1    1           1                  1   \n",
       "Jared Sullinger               1       1    1           1                  1   \n",
       "Jayson Williams               1       1    1           1                  1   \n",
       "Kareem Abdul-Jabbar           1       1    1           1                  1   \n",
       "Jeff Malone                   1       1    1           1                  1   \n",
       "Jeff Ruland                   1       1    1           1                  1   \n",
       "Jeremy Lin                    1       1    1           1                  1   \n",
       "Jerry Stackhouse              1       1    1           1                  1   \n",
       "Jordan Crawford               1       1    1           1                  1   \n",
       "Adrian Dantley                1       1    1           1                  1   \n",
       "Juwan Howard                  1       1    1           1                  1   \n",
       "Zydrunas Ilgauskas            1       1    1           1                  1   \n",
       "\n",
       "                         Season  Season short  Real_value  height_cm  \n",
       "Player                                                                \n",
       "LeBron James                 61            61          61         61  \n",
       "Kobe Bryant                  33            33          33         33  \n",
       "Kevin Durant                 26            26          26         26  \n",
       "Michael Jordan               25            25          25         25  \n",
       "Tim Duncan                   23            23          23         23  \n",
       "Allen Iverson                23            23          23         23  \n",
       "Karl Malone                  23            23          23         23  \n",
       "Shaquille O'Neal             20            20          20         20  \n",
       "Kevin Garnett                20            20          20         20  \n",
       "Dwyane Wade                  19            19          19         19  \n",
       "James Harden                 18            18          18         18  \n",
       "Russell Westbrook            18            18          18         18  \n",
       "Carmelo Anthony              18            18          18         18  \n",
       "Dwight Howard                18            18          18         18  \n",
       "Paul Pierce                  17            17          17         17  \n",
       "Jason Kidd                   17            17          17         17  \n",
       "Dirk Nowitzki                16            16          16         16  \n",
       "David Robinson               15            15          15         15  \n",
       "Stephen Curry                13            13          13         13  \n",
       "Chris Paul                   13            13          13         13  \n",
       "Tracy McGrady                12            12          12         12  \n",
       "Hakeem Olajuwon              12            12          12         12  \n",
       "Patrick Ewing                12            12          12         12  \n",
       "Magic Johnson                12            12          12         12  \n",
       "Clyde Drexler                11            11          11         11  \n",
       "Vince Carter                 11            11          11         11  \n",
       "Charles Barkley              11            11          11         11  \n",
       "LaMarcus Aldridge            10            10          10         10  \n",
       "DeMar DeRozan                10            10          10         10  \n",
       "Chris Webber                  9             9           9          9  \n",
       "...                         ...           ...         ...        ...  \n",
       "Loy Vaught                    1             1           1          1  \n",
       "Kenny Anderson                1             1           1          1  \n",
       "Lucious Harris                1             1           1          1  \n",
       "Marcin Gortat                 1             1           1          1  \n",
       "Mark Aguirre                  1             1           1          1  \n",
       "Mark Jackson                  1             1           1          1  \n",
       "Markieff Morris               1             1           1          1  \n",
       "Mehmet Okur                   1             1           1          1  \n",
       "Michael Carter-Williams       1             1           1          1  \n",
       "Kenny Smith                   1             1           1          1  \n",
       "Kenneth Faried                1             1           1          1  \n",
       "Hot Rod Williams              1             1           1          1  \n",
       "Jason Terry                   1             1           1          1  \n",
       "J.J. Barea                    1             1           1          1  \n",
       "J.R. Smith                    1             1           1          1  \n",
       "Jack Sikma                    1             1           1          1  \n",
       "Jamaal Magloire               1             1           1          1  \n",
       "Jamal Crawford                1             1           1          1  \n",
       "Jamal Mashburn                1             1           1          1  \n",
       "Jared Sullinger               1             1           1          1  \n",
       "Jayson Williams               1             1           1          1  \n",
       "Kareem Abdul-Jabbar           1             1           1          1  \n",
       "Jeff Malone                   1             1           1          1  \n",
       "Jeff Ruland                   1             1           1          1  \n",
       "Jeremy Lin                    1             1           1          1  \n",
       "Jerry Stackhouse              1             1           1          1  \n",
       "Jordan Crawford               1             1           1          1  \n",
       "Adrian Dantley                1             1           1          1  \n",
       "Juwan Howard                  1             1           1          1  \n",
       "Zydrunas Ilgauskas            1             1           1          1  \n",
       "\n",
       "[276 rows x 14 columns]"
      ]
     },
     "execution_count": 122,
     "metadata": {},
     "output_type": "execute_result"
    }
   ],
   "source": [
    "nba.groupby('Player').count().sort_values(by='Team',ascending=False)"
   ]
  },
  {
   "cell_type": "code",
   "execution_count": 123,
   "metadata": {},
   "outputs": [
    {
     "data": {
      "text/html": [
       "<div>\n",
       "<style scoped>\n",
       "    .dataframe tbody tr th:only-of-type {\n",
       "        vertical-align: middle;\n",
       "    }\n",
       "\n",
       "    .dataframe tbody tr th {\n",
       "        vertical-align: top;\n",
       "    }\n",
       "\n",
       "    .dataframe thead th {\n",
       "        text-align: right;\n",
       "    }\n",
       "</style>\n",
       "<table border=\"1\" class=\"dataframe\">\n",
       "  <thead>\n",
       "    <tr style=\"text-align: right;\">\n",
       "      <th></th>\n",
       "      <th>Active season</th>\n",
       "      <th>Player</th>\n",
       "      <th>Team</th>\n",
       "      <th>Conference</th>\n",
       "      <th>Date</th>\n",
       "      <th>Position</th>\n",
       "      <th>Height</th>\n",
       "      <th>Weight</th>\n",
       "      <th>Age</th>\n",
       "      <th>Draft Year</th>\n",
       "      <th>Seasons in league</th>\n",
       "      <th>Season</th>\n",
       "      <th>Season short</th>\n",
       "      <th>Real_value</th>\n",
       "      <th>height_cm</th>\n",
       "    </tr>\n",
       "  </thead>\n",
       "  <tbody>\n",
       "    <tr>\n",
       "      <th>656</th>\n",
       "      <td>0</td>\n",
       "      <td>Yao Ming</td>\n",
       "      <td>Houston Rockets</td>\n",
       "      <td>West</td>\n",
       "      <td>Nov 12, 2006</td>\n",
       "      <td>C</td>\n",
       "      <td>7-6</td>\n",
       "      <td>310</td>\n",
       "      <td>26</td>\n",
       "      <td>2002</td>\n",
       "      <td>4</td>\n",
       "      <td>2006-2007</td>\n",
       "      <td>2007</td>\n",
       "      <td>0.5</td>\n",
       "      <td>231.648</td>\n",
       "    </tr>\n",
       "    <tr>\n",
       "      <th>618</th>\n",
       "      <td>0</td>\n",
       "      <td>Yao Ming</td>\n",
       "      <td>Houston Rockets</td>\n",
       "      <td>West</td>\n",
       "      <td>Apr 1, 2007</td>\n",
       "      <td>C</td>\n",
       "      <td>7-6</td>\n",
       "      <td>310</td>\n",
       "      <td>26</td>\n",
       "      <td>2002</td>\n",
       "      <td>4</td>\n",
       "      <td>2006-2007</td>\n",
       "      <td>2007</td>\n",
       "      <td>0.5</td>\n",
       "      <td>231.648</td>\n",
       "    </tr>\n",
       "    <tr>\n",
       "      <th>702</th>\n",
       "      <td>0</td>\n",
       "      <td>Yao Ming</td>\n",
       "      <td>Houston Rockets</td>\n",
       "      <td>West</td>\n",
       "      <td>Nov 11, 2007</td>\n",
       "      <td>C</td>\n",
       "      <td>7-6</td>\n",
       "      <td>310</td>\n",
       "      <td>27</td>\n",
       "      <td>2002</td>\n",
       "      <td>5</td>\n",
       "      <td>2007-2008</td>\n",
       "      <td>2008</td>\n",
       "      <td>0.5</td>\n",
       "      <td>231.648</td>\n",
       "    </tr>\n",
       "    <tr>\n",
       "      <th>572</th>\n",
       "      <td>0</td>\n",
       "      <td>Yao Ming</td>\n",
       "      <td>Houston Rockets</td>\n",
       "      <td>West</td>\n",
       "      <td>Apr 2, 2006</td>\n",
       "      <td>C</td>\n",
       "      <td>7-6</td>\n",
       "      <td>310</td>\n",
       "      <td>25</td>\n",
       "      <td>2002</td>\n",
       "      <td>3</td>\n",
       "      <td>2005-2006</td>\n",
       "      <td>2006</td>\n",
       "      <td>0.5</td>\n",
       "      <td>231.648</td>\n",
       "    </tr>\n",
       "    <tr>\n",
       "      <th>486</th>\n",
       "      <td>0</td>\n",
       "      <td>Yao Ming</td>\n",
       "      <td>Houston Rockets</td>\n",
       "      <td>West</td>\n",
       "      <td>Mar 7, 2004</td>\n",
       "      <td>C</td>\n",
       "      <td>7-6</td>\n",
       "      <td>310</td>\n",
       "      <td>23</td>\n",
       "      <td>2002</td>\n",
       "      <td>1</td>\n",
       "      <td>2003-2004</td>\n",
       "      <td>2004</td>\n",
       "      <td>0.5</td>\n",
       "      <td>231.648</td>\n",
       "    </tr>\n",
       "    <tr>\n",
       "      <th>582</th>\n",
       "      <td>0</td>\n",
       "      <td>Yao Ming</td>\n",
       "      <td>Houston Rockets</td>\n",
       "      <td>West</td>\n",
       "      <td>Feb 27, 2006</td>\n",
       "      <td>C</td>\n",
       "      <td>7-6</td>\n",
       "      <td>310</td>\n",
       "      <td>25</td>\n",
       "      <td>2002</td>\n",
       "      <td>3</td>\n",
       "      <td>2005-2006</td>\n",
       "      <td>2006</td>\n",
       "      <td>0.5</td>\n",
       "      <td>231.648</td>\n",
       "    </tr>\n",
       "    <tr>\n",
       "      <th>315</th>\n",
       "      <td>0</td>\n",
       "      <td>Rik Smits</td>\n",
       "      <td>Indiana Pacers</td>\n",
       "      <td>NaN</td>\n",
       "      <td>Jan 4, 1998</td>\n",
       "      <td>C</td>\n",
       "      <td>7-4</td>\n",
       "      <td>250</td>\n",
       "      <td>31</td>\n",
       "      <td>1988</td>\n",
       "      <td>9</td>\n",
       "      <td>1997-1998</td>\n",
       "      <td>1998</td>\n",
       "      <td>1.0</td>\n",
       "      <td>225.552</td>\n",
       "    </tr>\n",
       "    <tr>\n",
       "      <th>236</th>\n",
       "      <td>0</td>\n",
       "      <td>Rik Smits</td>\n",
       "      <td>Indiana Pacers</td>\n",
       "      <td>NaN</td>\n",
       "      <td>Mar 12, 1995</td>\n",
       "      <td>C</td>\n",
       "      <td>7-4</td>\n",
       "      <td>250</td>\n",
       "      <td>28</td>\n",
       "      <td>1988</td>\n",
       "      <td>6</td>\n",
       "      <td>1994-1995</td>\n",
       "      <td>1995</td>\n",
       "      <td>1.0</td>\n",
       "      <td>225.552</td>\n",
       "    </tr>\n",
       "    <tr>\n",
       "      <th>256</th>\n",
       "      <td>0</td>\n",
       "      <td>Arvydas Sabonis</td>\n",
       "      <td>Portland Trail Blazers</td>\n",
       "      <td>NaN</td>\n",
       "      <td>Mar 31, 1996</td>\n",
       "      <td>C</td>\n",
       "      <td>7-3</td>\n",
       "      <td>279</td>\n",
       "      <td>31</td>\n",
       "      <td>1985</td>\n",
       "      <td>0</td>\n",
       "      <td>1995-1996</td>\n",
       "      <td>1996</td>\n",
       "      <td>1.0</td>\n",
       "      <td>222.504</td>\n",
       "    </tr>\n",
       "    <tr>\n",
       "      <th>1139</th>\n",
       "      <td>0</td>\n",
       "      <td>Kristaps Porzingis</td>\n",
       "      <td>New York Knicks</td>\n",
       "      <td>East</td>\n",
       "      <td>Nov 6, 2017</td>\n",
       "      <td>FC</td>\n",
       "      <td>7-3</td>\n",
       "      <td>240</td>\n",
       "      <td>22</td>\n",
       "      <td>2015</td>\n",
       "      <td>2</td>\n",
       "      <td>2017-2018</td>\n",
       "      <td>2018</td>\n",
       "      <td>0.5</td>\n",
       "      <td>222.504</td>\n",
       "    </tr>\n",
       "    <tr>\n",
       "      <th>483</th>\n",
       "      <td>0</td>\n",
       "      <td>Zydrunas Ilgauskas</td>\n",
       "      <td>Cleveland Cavaliers</td>\n",
       "      <td>East</td>\n",
       "      <td>Mar 14, 2004</td>\n",
       "      <td>C</td>\n",
       "      <td>7-3</td>\n",
       "      <td>260</td>\n",
       "      <td>28</td>\n",
       "      <td>1996</td>\n",
       "      <td>7</td>\n",
       "      <td>2003-2004</td>\n",
       "      <td>2004</td>\n",
       "      <td>0.5</td>\n",
       "      <td>222.504</td>\n",
       "    </tr>\n",
       "    <tr>\n",
       "      <th>347</th>\n",
       "      <td>0</td>\n",
       "      <td>Dikembe Mutombo</td>\n",
       "      <td>Atlanta Hawks</td>\n",
       "      <td>NaN</td>\n",
       "      <td>Jan 31, 2000</td>\n",
       "      <td>C</td>\n",
       "      <td>7-2</td>\n",
       "      <td>260</td>\n",
       "      <td>33</td>\n",
       "      <td>1991</td>\n",
       "      <td>8</td>\n",
       "      <td>1999-2000</td>\n",
       "      <td>2000</td>\n",
       "      <td>1.0</td>\n",
       "      <td>219.456</td>\n",
       "    </tr>\n",
       "    <tr>\n",
       "      <th>231</th>\n",
       "      <td>0</td>\n",
       "      <td>Dikembe Mutombo</td>\n",
       "      <td>Denver Nuggets</td>\n",
       "      <td>NaN</td>\n",
       "      <td>Apr 16, 1995</td>\n",
       "      <td>C</td>\n",
       "      <td>7-2</td>\n",
       "      <td>260</td>\n",
       "      <td>28</td>\n",
       "      <td>1991</td>\n",
       "      <td>3</td>\n",
       "      <td>1994-1995</td>\n",
       "      <td>1995</td>\n",
       "      <td>1.0</td>\n",
       "      <td>219.456</td>\n",
       "    </tr>\n",
       "    <tr>\n",
       "      <th>296</th>\n",
       "      <td>0</td>\n",
       "      <td>Dikembe Mutombo</td>\n",
       "      <td>Atlanta Hawks</td>\n",
       "      <td>NaN</td>\n",
       "      <td>Dec 1, 1996</td>\n",
       "      <td>C</td>\n",
       "      <td>7-2</td>\n",
       "      <td>260</td>\n",
       "      <td>30</td>\n",
       "      <td>1991</td>\n",
       "      <td>5</td>\n",
       "      <td>1996-1997</td>\n",
       "      <td>1997</td>\n",
       "      <td>1.0</td>\n",
       "      <td>219.456</td>\n",
       "    </tr>\n",
       "    <tr>\n",
       "      <th>209</th>\n",
       "      <td>0</td>\n",
       "      <td>Dikembe Mutombo</td>\n",
       "      <td>Denver Nuggets</td>\n",
       "      <td>NaN</td>\n",
       "      <td>Apr 10, 1994</td>\n",
       "      <td>C</td>\n",
       "      <td>7-2</td>\n",
       "      <td>260</td>\n",
       "      <td>27</td>\n",
       "      <td>1991</td>\n",
       "      <td>2</td>\n",
       "      <td>1993-1994</td>\n",
       "      <td>1994</td>\n",
       "      <td>1.0</td>\n",
       "      <td>219.456</td>\n",
       "    </tr>\n",
       "    <tr>\n",
       "      <th>3</th>\n",
       "      <td>0</td>\n",
       "      <td>Kareem Abdul-Jabbar</td>\n",
       "      <td>Los Angeles Lakers</td>\n",
       "      <td>NaN</td>\n",
       "      <td>Mar 24, 1985</td>\n",
       "      <td>C</td>\n",
       "      <td>7-2</td>\n",
       "      <td>225</td>\n",
       "      <td>37</td>\n",
       "      <td>1969</td>\n",
       "      <td>15</td>\n",
       "      <td>1984-1985</td>\n",
       "      <td>1985</td>\n",
       "      <td>1.0</td>\n",
       "      <td>219.456</td>\n",
       "    </tr>\n",
       "    <tr>\n",
       "      <th>323</th>\n",
       "      <td>0</td>\n",
       "      <td>Dikembe Mutombo</td>\n",
       "      <td>Atlanta Hawks</td>\n",
       "      <td>NaN</td>\n",
       "      <td>Nov 9, 1997</td>\n",
       "      <td>C</td>\n",
       "      <td>7-2</td>\n",
       "      <td>260</td>\n",
       "      <td>31</td>\n",
       "      <td>1991</td>\n",
       "      <td>6</td>\n",
       "      <td>1997-1998</td>\n",
       "      <td>1998</td>\n",
       "      <td>1.0</td>\n",
       "      <td>219.456</td>\n",
       "    </tr>\n",
       "    <tr>\n",
       "      <th>336</th>\n",
       "      <td>0</td>\n",
       "      <td>Dikembe Mutombo</td>\n",
       "      <td>Atlanta Hawks</td>\n",
       "      <td>NaN</td>\n",
       "      <td>Feb 7, 1999</td>\n",
       "      <td>C</td>\n",
       "      <td>7-2</td>\n",
       "      <td>260</td>\n",
       "      <td>32</td>\n",
       "      <td>1991</td>\n",
       "      <td>7</td>\n",
       "      <td>1998-1999</td>\n",
       "      <td>1999</td>\n",
       "      <td>1.0</td>\n",
       "      <td>219.456</td>\n",
       "    </tr>\n",
       "    <tr>\n",
       "      <th>188</th>\n",
       "      <td>0</td>\n",
       "      <td>Dikembe Mutombo</td>\n",
       "      <td>Denver Nuggets</td>\n",
       "      <td>NaN</td>\n",
       "      <td>Mar 28, 1993</td>\n",
       "      <td>C</td>\n",
       "      <td>7-2</td>\n",
       "      <td>260</td>\n",
       "      <td>26</td>\n",
       "      <td>1991</td>\n",
       "      <td>1</td>\n",
       "      <td>1992-1993</td>\n",
       "      <td>1993</td>\n",
       "      <td>1.0</td>\n",
       "      <td>219.456</td>\n",
       "    </tr>\n",
       "    <tr>\n",
       "      <th>511</th>\n",
       "      <td>0</td>\n",
       "      <td>Dikembe Mutombo</td>\n",
       "      <td>New York Knicks</td>\n",
       "      <td>East</td>\n",
       "      <td>Nov 30, 2003</td>\n",
       "      <td>C</td>\n",
       "      <td>7-2</td>\n",
       "      <td>260</td>\n",
       "      <td>37</td>\n",
       "      <td>1991</td>\n",
       "      <td>12</td>\n",
       "      <td>2003-2004</td>\n",
       "      <td>2004</td>\n",
       "      <td>0.5</td>\n",
       "      <td>219.456</td>\n",
       "    </tr>\n",
       "    <tr>\n",
       "      <th>272</th>\n",
       "      <td>0</td>\n",
       "      <td>Dikembe Mutombo</td>\n",
       "      <td>Denver Nuggets</td>\n",
       "      <td>NaN</td>\n",
       "      <td>Dec 10, 1995</td>\n",
       "      <td>C</td>\n",
       "      <td>7-2</td>\n",
       "      <td>260</td>\n",
       "      <td>29</td>\n",
       "      <td>1991</td>\n",
       "      <td>4</td>\n",
       "      <td>1995-1996</td>\n",
       "      <td>1996</td>\n",
       "      <td>1.0</td>\n",
       "      <td>219.456</td>\n",
       "    </tr>\n",
       "    <tr>\n",
       "      <th>458</th>\n",
       "      <td>0</td>\n",
       "      <td>Tim Duncan</td>\n",
       "      <td>San Antonio Spurs</td>\n",
       "      <td>West</td>\n",
       "      <td>Dec 29, 2002</td>\n",
       "      <td>FC</td>\n",
       "      <td>6-11</td>\n",
       "      <td>250</td>\n",
       "      <td>26</td>\n",
       "      <td>1997</td>\n",
       "      <td>5</td>\n",
       "      <td>2002-2003</td>\n",
       "      <td>2003</td>\n",
       "      <td>0.5</td>\n",
       "      <td>216.408</td>\n",
       "    </tr>\n",
       "    <tr>\n",
       "      <th>234</th>\n",
       "      <td>0</td>\n",
       "      <td>Vlade Divac</td>\n",
       "      <td>Los Angeles Lakers</td>\n",
       "      <td>NaN</td>\n",
       "      <td>Mar 26, 1995</td>\n",
       "      <td>C</td>\n",
       "      <td>7-1</td>\n",
       "      <td>260</td>\n",
       "      <td>27</td>\n",
       "      <td>1989</td>\n",
       "      <td>5</td>\n",
       "      <td>1994-1995</td>\n",
       "      <td>1995</td>\n",
       "      <td>1.0</td>\n",
       "      <td>216.408</td>\n",
       "    </tr>\n",
       "    <tr>\n",
       "      <th>214</th>\n",
       "      <td>0</td>\n",
       "      <td>David Robinson</td>\n",
       "      <td>San Antonio Spurs</td>\n",
       "      <td>NaN</td>\n",
       "      <td>Mar 6, 1994</td>\n",
       "      <td>C</td>\n",
       "      <td>7-1</td>\n",
       "      <td>250</td>\n",
       "      <td>28</td>\n",
       "      <td>1987</td>\n",
       "      <td>4</td>\n",
       "      <td>1993-1994</td>\n",
       "      <td>1994</td>\n",
       "      <td>1.0</td>\n",
       "      <td>216.408</td>\n",
       "    </tr>\n",
       "    <tr>\n",
       "      <th>206</th>\n",
       "      <td>0</td>\n",
       "      <td>Shaquille O'Neal</td>\n",
       "      <td>Orlando Magic</td>\n",
       "      <td>NaN</td>\n",
       "      <td>Nov 15, 1992</td>\n",
       "      <td>C</td>\n",
       "      <td>7-1</td>\n",
       "      <td>325</td>\n",
       "      <td>20</td>\n",
       "      <td>1992</td>\n",
       "      <td>0</td>\n",
       "      <td>1992-1993</td>\n",
       "      <td>1993</td>\n",
       "      <td>1.0</td>\n",
       "      <td>216.408</td>\n",
       "    </tr>\n",
       "    <tr>\n",
       "      <th>946</th>\n",
       "      <td>0</td>\n",
       "      <td>DeMarcus Cousins</td>\n",
       "      <td>Sacramento Kings</td>\n",
       "      <td>West</td>\n",
       "      <td>Jan 13, 2014</td>\n",
       "      <td>C</td>\n",
       "      <td>6-11</td>\n",
       "      <td>270</td>\n",
       "      <td>23</td>\n",
       "      <td>2010</td>\n",
       "      <td>3</td>\n",
       "      <td>2013-2014</td>\n",
       "      <td>2014</td>\n",
       "      <td>0.5</td>\n",
       "      <td>216.408</td>\n",
       "    </tr>\n",
       "    <tr>\n",
       "      <th>207</th>\n",
       "      <td>0</td>\n",
       "      <td>David Robinson</td>\n",
       "      <td>San Antonio Spurs</td>\n",
       "      <td>NaN</td>\n",
       "      <td>Apr 24, 1994</td>\n",
       "      <td>C</td>\n",
       "      <td>7-1</td>\n",
       "      <td>250</td>\n",
       "      <td>28</td>\n",
       "      <td>1987</td>\n",
       "      <td>4</td>\n",
       "      <td>1993-1994</td>\n",
       "      <td>1994</td>\n",
       "      <td>1.0</td>\n",
       "      <td>216.408</td>\n",
       "    </tr>\n",
       "    <tr>\n",
       "      <th>449</th>\n",
       "      <td>0</td>\n",
       "      <td>Tim Duncan</td>\n",
       "      <td>San Antonio Spurs</td>\n",
       "      <td>West</td>\n",
       "      <td>Jan 26, 2003</td>\n",
       "      <td>FC</td>\n",
       "      <td>6-11</td>\n",
       "      <td>250</td>\n",
       "      <td>26</td>\n",
       "      <td>1997</td>\n",
       "      <td>5</td>\n",
       "      <td>2002-2003</td>\n",
       "      <td>2003</td>\n",
       "      <td>0.5</td>\n",
       "      <td>216.408</td>\n",
       "    </tr>\n",
       "    <tr>\n",
       "      <th>216</th>\n",
       "      <td>0</td>\n",
       "      <td>David Robinson</td>\n",
       "      <td>San Antonio Spurs</td>\n",
       "      <td>NaN</td>\n",
       "      <td>Feb 20, 1994</td>\n",
       "      <td>C</td>\n",
       "      <td>7-1</td>\n",
       "      <td>250</td>\n",
       "      <td>28</td>\n",
       "      <td>1987</td>\n",
       "      <td>4</td>\n",
       "      <td>1993-1994</td>\n",
       "      <td>1994</td>\n",
       "      <td>1.0</td>\n",
       "      <td>216.408</td>\n",
       "    </tr>\n",
       "    <tr>\n",
       "      <th>217</th>\n",
       "      <td>0</td>\n",
       "      <td>David Robinson</td>\n",
       "      <td>San Antonio Spurs</td>\n",
       "      <td>NaN</td>\n",
       "      <td>Feb 6, 1994</td>\n",
       "      <td>C</td>\n",
       "      <td>7-1</td>\n",
       "      <td>250</td>\n",
       "      <td>28</td>\n",
       "      <td>1987</td>\n",
       "      <td>4</td>\n",
       "      <td>1993-1994</td>\n",
       "      <td>1994</td>\n",
       "      <td>1.0</td>\n",
       "      <td>216.408</td>\n",
       "    </tr>\n",
       "    <tr>\n",
       "      <th>...</th>\n",
       "      <td>...</td>\n",
       "      <td>...</td>\n",
       "      <td>...</td>\n",
       "      <td>...</td>\n",
       "      <td>...</td>\n",
       "      <td>...</td>\n",
       "      <td>...</td>\n",
       "      <td>...</td>\n",
       "      <td>...</td>\n",
       "      <td>...</td>\n",
       "      <td>...</td>\n",
       "      <td>...</td>\n",
       "      <td>...</td>\n",
       "      <td>...</td>\n",
       "      <td>...</td>\n",
       "    </tr>\n",
       "    <tr>\n",
       "      <th>712</th>\n",
       "      <td>0</td>\n",
       "      <td>Chris Paul</td>\n",
       "      <td>New Orleans Hornets</td>\n",
       "      <td>West</td>\n",
       "      <td>Mar 23, 2009</td>\n",
       "      <td>PG</td>\n",
       "      <td>6-0</td>\n",
       "      <td>175</td>\n",
       "      <td>23</td>\n",
       "      <td>2005</td>\n",
       "      <td>3</td>\n",
       "      <td>2008-2009</td>\n",
       "      <td>2009</td>\n",
       "      <td>0.5</td>\n",
       "      <td>182.880</td>\n",
       "    </tr>\n",
       "    <tr>\n",
       "      <th>551</th>\n",
       "      <td>0</td>\n",
       "      <td>Allen Iverson</td>\n",
       "      <td>Philadelphia Sixers</td>\n",
       "      <td>East</td>\n",
       "      <td>Dec 26, 2004</td>\n",
       "      <td>G</td>\n",
       "      <td>6-0</td>\n",
       "      <td>165</td>\n",
       "      <td>29</td>\n",
       "      <td>1996</td>\n",
       "      <td>8</td>\n",
       "      <td>2004-2005</td>\n",
       "      <td>2005</td>\n",
       "      <td>0.5</td>\n",
       "      <td>182.880</td>\n",
       "    </tr>\n",
       "    <tr>\n",
       "      <th>1034</th>\n",
       "      <td>0</td>\n",
       "      <td>Chris Paul</td>\n",
       "      <td>Los Angeles Clippers</td>\n",
       "      <td>West</td>\n",
       "      <td>Jan 11, 2016</td>\n",
       "      <td>PG</td>\n",
       "      <td>6-0</td>\n",
       "      <td>175</td>\n",
       "      <td>30</td>\n",
       "      <td>2005</td>\n",
       "      <td>10</td>\n",
       "      <td>2015-2016</td>\n",
       "      <td>2016</td>\n",
       "      <td>0.5</td>\n",
       "      <td>182.880</td>\n",
       "    </tr>\n",
       "    <tr>\n",
       "      <th>125</th>\n",
       "      <td>0</td>\n",
       "      <td>Tim Hardaway</td>\n",
       "      <td>Golden State Warriors</td>\n",
       "      <td>NaN</td>\n",
       "      <td>Feb 4, 1990</td>\n",
       "      <td>PG</td>\n",
       "      <td>6-0</td>\n",
       "      <td>175</td>\n",
       "      <td>23</td>\n",
       "      <td>1989</td>\n",
       "      <td>0</td>\n",
       "      <td>1989-1990</td>\n",
       "      <td>1990</td>\n",
       "      <td>1.0</td>\n",
       "      <td>182.880</td>\n",
       "    </tr>\n",
       "    <tr>\n",
       "      <th>515</th>\n",
       "      <td>0</td>\n",
       "      <td>Allen Iverson</td>\n",
       "      <td>Philadelphia Sixers</td>\n",
       "      <td>East</td>\n",
       "      <td>Nov 16, 2003</td>\n",
       "      <td>G</td>\n",
       "      <td>6-0</td>\n",
       "      <td>165</td>\n",
       "      <td>28</td>\n",
       "      <td>1996</td>\n",
       "      <td>7</td>\n",
       "      <td>2003-2004</td>\n",
       "      <td>2004</td>\n",
       "      <td>0.5</td>\n",
       "      <td>182.880</td>\n",
       "    </tr>\n",
       "    <tr>\n",
       "      <th>1014</th>\n",
       "      <td>0</td>\n",
       "      <td>J.J. Barea</td>\n",
       "      <td>Dallas Mavericks</td>\n",
       "      <td>West</td>\n",
       "      <td>Apr 4, 2016</td>\n",
       "      <td>G</td>\n",
       "      <td>6-0</td>\n",
       "      <td>185</td>\n",
       "      <td>31</td>\n",
       "      <td>2006</td>\n",
       "      <td>9</td>\n",
       "      <td>2015-2016</td>\n",
       "      <td>2016</td>\n",
       "      <td>0.5</td>\n",
       "      <td>182.880</td>\n",
       "    </tr>\n",
       "    <tr>\n",
       "      <th>727</th>\n",
       "      <td>0</td>\n",
       "      <td>Jameer Nelson</td>\n",
       "      <td>Orlando Magic</td>\n",
       "      <td>East</td>\n",
       "      <td>Jan 19, 2009</td>\n",
       "      <td>G</td>\n",
       "      <td>6-0</td>\n",
       "      <td>190</td>\n",
       "      <td>27</td>\n",
       "      <td>2004</td>\n",
       "      <td>4</td>\n",
       "      <td>2008-2009</td>\n",
       "      <td>2009</td>\n",
       "      <td>0.5</td>\n",
       "      <td>182.880</td>\n",
       "    </tr>\n",
       "    <tr>\n",
       "      <th>728</th>\n",
       "      <td>0</td>\n",
       "      <td>Chris Paul</td>\n",
       "      <td>New Orleans Hornets</td>\n",
       "      <td>West</td>\n",
       "      <td>Jan 19, 2009</td>\n",
       "      <td>PG</td>\n",
       "      <td>6-0</td>\n",
       "      <td>175</td>\n",
       "      <td>23</td>\n",
       "      <td>2005</td>\n",
       "      <td>3</td>\n",
       "      <td>2008-2009</td>\n",
       "      <td>2009</td>\n",
       "      <td>0.5</td>\n",
       "      <td>182.880</td>\n",
       "    </tr>\n",
       "    <tr>\n",
       "      <th>173</th>\n",
       "      <td>0</td>\n",
       "      <td>Tim Hardaway</td>\n",
       "      <td>Golden State Warriors</td>\n",
       "      <td>NaN</td>\n",
       "      <td>Jan 19, 1992</td>\n",
       "      <td>PG</td>\n",
       "      <td>6-0</td>\n",
       "      <td>175</td>\n",
       "      <td>25</td>\n",
       "      <td>1989</td>\n",
       "      <td>2</td>\n",
       "      <td>1991-1992</td>\n",
       "      <td>1992</td>\n",
       "      <td>1.0</td>\n",
       "      <td>182.880</td>\n",
       "    </tr>\n",
       "    <tr>\n",
       "      <th>149</th>\n",
       "      <td>0</td>\n",
       "      <td>Michael Adams</td>\n",
       "      <td>Denver Nuggets</td>\n",
       "      <td>NaN</td>\n",
       "      <td>Jan 27, 1991</td>\n",
       "      <td>PG</td>\n",
       "      <td>5-10</td>\n",
       "      <td>163</td>\n",
       "      <td>28</td>\n",
       "      <td>1985</td>\n",
       "      <td>5</td>\n",
       "      <td>1990-1991</td>\n",
       "      <td>1991</td>\n",
       "      <td>1.0</td>\n",
       "      <td>182.880</td>\n",
       "    </tr>\n",
       "    <tr>\n",
       "      <th>150</th>\n",
       "      <td>0</td>\n",
       "      <td>Tim Hardaway</td>\n",
       "      <td>Golden State Warriors</td>\n",
       "      <td>NaN</td>\n",
       "      <td>Jan 20, 1991</td>\n",
       "      <td>PG</td>\n",
       "      <td>6-0</td>\n",
       "      <td>175</td>\n",
       "      <td>24</td>\n",
       "      <td>1989</td>\n",
       "      <td>1</td>\n",
       "      <td>1990-1991</td>\n",
       "      <td>1991</td>\n",
       "      <td>1.0</td>\n",
       "      <td>182.880</td>\n",
       "    </tr>\n",
       "    <tr>\n",
       "      <th>735</th>\n",
       "      <td>0</td>\n",
       "      <td>Jameer Nelson</td>\n",
       "      <td>Orlando Magic</td>\n",
       "      <td>East</td>\n",
       "      <td>Dec 22, 2008</td>\n",
       "      <td>G</td>\n",
       "      <td>6-0</td>\n",
       "      <td>190</td>\n",
       "      <td>27</td>\n",
       "      <td>2004</td>\n",
       "      <td>4</td>\n",
       "      <td>2008-2009</td>\n",
       "      <td>2009</td>\n",
       "      <td>0.5</td>\n",
       "      <td>182.880</td>\n",
       "    </tr>\n",
       "    <tr>\n",
       "      <th>169</th>\n",
       "      <td>0</td>\n",
       "      <td>Tim Hardaway</td>\n",
       "      <td>Golden State Warriors</td>\n",
       "      <td>NaN</td>\n",
       "      <td>Feb 23, 1992</td>\n",
       "      <td>PG</td>\n",
       "      <td>6-0</td>\n",
       "      <td>175</td>\n",
       "      <td>25</td>\n",
       "      <td>1989</td>\n",
       "      <td>2</td>\n",
       "      <td>1991-1992</td>\n",
       "      <td>1992</td>\n",
       "      <td>1.0</td>\n",
       "      <td>182.880</td>\n",
       "    </tr>\n",
       "    <tr>\n",
       "      <th>750</th>\n",
       "      <td>0</td>\n",
       "      <td>Chris Paul</td>\n",
       "      <td>New Orleans Hornets</td>\n",
       "      <td>West</td>\n",
       "      <td>Nov 3, 2008</td>\n",
       "      <td>PG</td>\n",
       "      <td>6-0</td>\n",
       "      <td>175</td>\n",
       "      <td>23</td>\n",
       "      <td>2005</td>\n",
       "      <td>3</td>\n",
       "      <td>2008-2009</td>\n",
       "      <td>2009</td>\n",
       "      <td>0.5</td>\n",
       "      <td>182.880</td>\n",
       "    </tr>\n",
       "    <tr>\n",
       "      <th>591</th>\n",
       "      <td>0</td>\n",
       "      <td>Allen Iverson</td>\n",
       "      <td>Philadelphia Sixers</td>\n",
       "      <td>East</td>\n",
       "      <td>Jan 15, 2006</td>\n",
       "      <td>G</td>\n",
       "      <td>6-0</td>\n",
       "      <td>165</td>\n",
       "      <td>30</td>\n",
       "      <td>1996</td>\n",
       "      <td>9</td>\n",
       "      <td>2005-2006</td>\n",
       "      <td>2006</td>\n",
       "      <td>0.5</td>\n",
       "      <td>182.880</td>\n",
       "    </tr>\n",
       "    <tr>\n",
       "      <th>586</th>\n",
       "      <td>0</td>\n",
       "      <td>Chris Paul</td>\n",
       "      <td>New Orleans Hornets</td>\n",
       "      <td>West</td>\n",
       "      <td>Feb 6, 2006</td>\n",
       "      <td>PG</td>\n",
       "      <td>6-0</td>\n",
       "      <td>175</td>\n",
       "      <td>20</td>\n",
       "      <td>2005</td>\n",
       "      <td>0</td>\n",
       "      <td>2005-2006</td>\n",
       "      <td>2006</td>\n",
       "      <td>0.5</td>\n",
       "      <td>182.880</td>\n",
       "    </tr>\n",
       "    <tr>\n",
       "      <th>533</th>\n",
       "      <td>0</td>\n",
       "      <td>Allen Iverson</td>\n",
       "      <td>Philadelphia Sixers</td>\n",
       "      <td>East</td>\n",
       "      <td>Mar 6, 2005</td>\n",
       "      <td>G</td>\n",
       "      <td>6-0</td>\n",
       "      <td>165</td>\n",
       "      <td>29</td>\n",
       "      <td>1996</td>\n",
       "      <td>8</td>\n",
       "      <td>2004-2005</td>\n",
       "      <td>2005</td>\n",
       "      <td>0.5</td>\n",
       "      <td>182.880</td>\n",
       "    </tr>\n",
       "    <tr>\n",
       "      <th>974</th>\n",
       "      <td>0</td>\n",
       "      <td>Chris Paul</td>\n",
       "      <td>Los Angeles Clippers</td>\n",
       "      <td>West</td>\n",
       "      <td>Mar 23, 2015</td>\n",
       "      <td>PG</td>\n",
       "      <td>6-0</td>\n",
       "      <td>175</td>\n",
       "      <td>29</td>\n",
       "      <td>2005</td>\n",
       "      <td>9</td>\n",
       "      <td>2014-2015</td>\n",
       "      <td>2015</td>\n",
       "      <td>0.5</td>\n",
       "      <td>182.880</td>\n",
       "    </tr>\n",
       "    <tr>\n",
       "      <th>657</th>\n",
       "      <td>0</td>\n",
       "      <td>Allen Iverson</td>\n",
       "      <td>Philadelphia Sixers</td>\n",
       "      <td>East</td>\n",
       "      <td>Nov 6, 2006</td>\n",
       "      <td>G</td>\n",
       "      <td>6-0</td>\n",
       "      <td>165</td>\n",
       "      <td>31</td>\n",
       "      <td>1996</td>\n",
       "      <td>10</td>\n",
       "      <td>2006-2007</td>\n",
       "      <td>2007</td>\n",
       "      <td>0.5</td>\n",
       "      <td>182.880</td>\n",
       "    </tr>\n",
       "    <tr>\n",
       "      <th>660</th>\n",
       "      <td>0</td>\n",
       "      <td>Allen Iverson</td>\n",
       "      <td>Denver Nuggets</td>\n",
       "      <td>West</td>\n",
       "      <td>Apr 13, 2008</td>\n",
       "      <td>G</td>\n",
       "      <td>6-0</td>\n",
       "      <td>165</td>\n",
       "      <td>32</td>\n",
       "      <td>1996</td>\n",
       "      <td>11</td>\n",
       "      <td>2007-2008</td>\n",
       "      <td>2008</td>\n",
       "      <td>0.5</td>\n",
       "      <td>182.880</td>\n",
       "    </tr>\n",
       "    <tr>\n",
       "      <th>736</th>\n",
       "      <td>0</td>\n",
       "      <td>Chris Paul</td>\n",
       "      <td>New Orleans Hornets</td>\n",
       "      <td>West</td>\n",
       "      <td>Dec 22, 2008</td>\n",
       "      <td>PG</td>\n",
       "      <td>6-0</td>\n",
       "      <td>175</td>\n",
       "      <td>23</td>\n",
       "      <td>2005</td>\n",
       "      <td>3</td>\n",
       "      <td>2008-2009</td>\n",
       "      <td>2009</td>\n",
       "      <td>0.5</td>\n",
       "      <td>182.880</td>\n",
       "    </tr>\n",
       "    <tr>\n",
       "      <th>579</th>\n",
       "      <td>0</td>\n",
       "      <td>Allen Iverson</td>\n",
       "      <td>Philadelphia Sixers</td>\n",
       "      <td>East</td>\n",
       "      <td>Mar 5, 2006</td>\n",
       "      <td>G</td>\n",
       "      <td>6-0</td>\n",
       "      <td>165</td>\n",
       "      <td>30</td>\n",
       "      <td>1996</td>\n",
       "      <td>9</td>\n",
       "      <td>2005-2006</td>\n",
       "      <td>2006</td>\n",
       "      <td>0.5</td>\n",
       "      <td>182.880</td>\n",
       "    </tr>\n",
       "    <tr>\n",
       "      <th>369</th>\n",
       "      <td>0</td>\n",
       "      <td>Darrell Armstrong</td>\n",
       "      <td>Orlando Magic</td>\n",
       "      <td>NaN</td>\n",
       "      <td>Feb 4, 2001</td>\n",
       "      <td>PG</td>\n",
       "      <td>6-0</td>\n",
       "      <td>170</td>\n",
       "      <td>32</td>\n",
       "      <td>1991</td>\n",
       "      <td>6</td>\n",
       "      <td>2000-2001</td>\n",
       "      <td>2001</td>\n",
       "      <td>1.0</td>\n",
       "      <td>182.880</td>\n",
       "    </tr>\n",
       "    <tr>\n",
       "      <th>368</th>\n",
       "      <td>0</td>\n",
       "      <td>Allen Iverson</td>\n",
       "      <td>Philadelphia Sixers</td>\n",
       "      <td>NaN</td>\n",
       "      <td>Feb 18, 2001</td>\n",
       "      <td>G</td>\n",
       "      <td>6-0</td>\n",
       "      <td>165</td>\n",
       "      <td>25</td>\n",
       "      <td>1996</td>\n",
       "      <td>4</td>\n",
       "      <td>2000-2001</td>\n",
       "      <td>2001</td>\n",
       "      <td>1.0</td>\n",
       "      <td>182.880</td>\n",
       "    </tr>\n",
       "    <tr>\n",
       "      <th>979</th>\n",
       "      <td>0</td>\n",
       "      <td>Isaiah Thomas</td>\n",
       "      <td>Boston Celtics</td>\n",
       "      <td>East</td>\n",
       "      <td>Mar 2, 2015</td>\n",
       "      <td>PG</td>\n",
       "      <td>5-9</td>\n",
       "      <td>185</td>\n",
       "      <td>26</td>\n",
       "      <td>2011</td>\n",
       "      <td>3</td>\n",
       "      <td>2014-2015</td>\n",
       "      <td>2015</td>\n",
       "      <td>0.5</td>\n",
       "      <td>179.832</td>\n",
       "    </tr>\n",
       "    <tr>\n",
       "      <th>1025</th>\n",
       "      <td>0</td>\n",
       "      <td>Isaiah Thomas</td>\n",
       "      <td>Boston Celtics</td>\n",
       "      <td>East</td>\n",
       "      <td>Feb 8, 2016</td>\n",
       "      <td>PG</td>\n",
       "      <td>5-9</td>\n",
       "      <td>185</td>\n",
       "      <td>27</td>\n",
       "      <td>2011</td>\n",
       "      <td>4</td>\n",
       "      <td>2015-2016</td>\n",
       "      <td>2016</td>\n",
       "      <td>0.5</td>\n",
       "      <td>179.832</td>\n",
       "    </tr>\n",
       "    <tr>\n",
       "      <th>893</th>\n",
       "      <td>0</td>\n",
       "      <td>Nate Robinson</td>\n",
       "      <td>Chicago Bulls</td>\n",
       "      <td>East</td>\n",
       "      <td>Feb 4, 2013</td>\n",
       "      <td>G</td>\n",
       "      <td>5-9</td>\n",
       "      <td>180</td>\n",
       "      <td>28</td>\n",
       "      <td>2005</td>\n",
       "      <td>7</td>\n",
       "      <td>2012-2013</td>\n",
       "      <td>2013</td>\n",
       "      <td>0.5</td>\n",
       "      <td>179.832</td>\n",
       "    </tr>\n",
       "    <tr>\n",
       "      <th>1081</th>\n",
       "      <td>0</td>\n",
       "      <td>Isaiah Thomas</td>\n",
       "      <td>Boston Celtics</td>\n",
       "      <td>East</td>\n",
       "      <td>Dec 26, 2016</td>\n",
       "      <td>PG</td>\n",
       "      <td>5-9</td>\n",
       "      <td>185</td>\n",
       "      <td>28</td>\n",
       "      <td>2011</td>\n",
       "      <td>5</td>\n",
       "      <td>2016-2017</td>\n",
       "      <td>2017</td>\n",
       "      <td>0.5</td>\n",
       "      <td>179.832</td>\n",
       "    </tr>\n",
       "    <tr>\n",
       "      <th>967</th>\n",
       "      <td>0</td>\n",
       "      <td>Isaiah Thomas</td>\n",
       "      <td>Boston Celtics</td>\n",
       "      <td>East</td>\n",
       "      <td>Apr 13, 2015</td>\n",
       "      <td>PG</td>\n",
       "      <td>5-9</td>\n",
       "      <td>185</td>\n",
       "      <td>26</td>\n",
       "      <td>2011</td>\n",
       "      <td>3</td>\n",
       "      <td>2014-2015</td>\n",
       "      <td>2015</td>\n",
       "      <td>0.5</td>\n",
       "      <td>179.832</td>\n",
       "    </tr>\n",
       "    <tr>\n",
       "      <th>1069</th>\n",
       "      <td>0</td>\n",
       "      <td>Isaiah Thomas</td>\n",
       "      <td>Boston Celtics</td>\n",
       "      <td>East</td>\n",
       "      <td>Feb 6, 2017</td>\n",
       "      <td>PG</td>\n",
       "      <td>5-9</td>\n",
       "      <td>185</td>\n",
       "      <td>28</td>\n",
       "      <td>2011</td>\n",
       "      <td>5</td>\n",
       "      <td>2016-2017</td>\n",
       "      <td>2017</td>\n",
       "      <td>0.5</td>\n",
       "      <td>179.832</td>\n",
       "    </tr>\n",
       "  </tbody>\n",
       "</table>\n",
       "<p>1155 rows × 15 columns</p>\n",
       "</div>"
      ],
      "text/plain": [
       "      Active season               Player                    Team Conference  \\\n",
       "656               0             Yao Ming         Houston Rockets       West   \n",
       "618               0             Yao Ming         Houston Rockets       West   \n",
       "702               0             Yao Ming         Houston Rockets       West   \n",
       "572               0             Yao Ming         Houston Rockets       West   \n",
       "486               0             Yao Ming         Houston Rockets       West   \n",
       "582               0             Yao Ming         Houston Rockets       West   \n",
       "315               0            Rik Smits          Indiana Pacers        NaN   \n",
       "236               0            Rik Smits          Indiana Pacers        NaN   \n",
       "256               0      Arvydas Sabonis  Portland Trail Blazers        NaN   \n",
       "1139              0   Kristaps Porzingis         New York Knicks       East   \n",
       "483               0   Zydrunas Ilgauskas     Cleveland Cavaliers       East   \n",
       "347               0      Dikembe Mutombo           Atlanta Hawks        NaN   \n",
       "231               0      Dikembe Mutombo          Denver Nuggets        NaN   \n",
       "296               0      Dikembe Mutombo           Atlanta Hawks        NaN   \n",
       "209               0      Dikembe Mutombo          Denver Nuggets        NaN   \n",
       "3                 0  Kareem Abdul-Jabbar      Los Angeles Lakers        NaN   \n",
       "323               0      Dikembe Mutombo           Atlanta Hawks        NaN   \n",
       "336               0      Dikembe Mutombo           Atlanta Hawks        NaN   \n",
       "188               0      Dikembe Mutombo          Denver Nuggets        NaN   \n",
       "511               0      Dikembe Mutombo         New York Knicks       East   \n",
       "272               0      Dikembe Mutombo          Denver Nuggets        NaN   \n",
       "458               0           Tim Duncan       San Antonio Spurs       West   \n",
       "234               0          Vlade Divac      Los Angeles Lakers        NaN   \n",
       "214               0       David Robinson       San Antonio Spurs        NaN   \n",
       "206               0     Shaquille O'Neal           Orlando Magic        NaN   \n",
       "946               0     DeMarcus Cousins        Sacramento Kings       West   \n",
       "207               0       David Robinson       San Antonio Spurs        NaN   \n",
       "449               0           Tim Duncan       San Antonio Spurs       West   \n",
       "216               0       David Robinson       San Antonio Spurs        NaN   \n",
       "217               0       David Robinson       San Antonio Spurs        NaN   \n",
       "...             ...                  ...                     ...        ...   \n",
       "712               0           Chris Paul     New Orleans Hornets       West   \n",
       "551               0        Allen Iverson     Philadelphia Sixers       East   \n",
       "1034              0           Chris Paul    Los Angeles Clippers       West   \n",
       "125               0         Tim Hardaway   Golden State Warriors        NaN   \n",
       "515               0        Allen Iverson     Philadelphia Sixers       East   \n",
       "1014              0           J.J. Barea        Dallas Mavericks       West   \n",
       "727               0        Jameer Nelson           Orlando Magic       East   \n",
       "728               0           Chris Paul     New Orleans Hornets       West   \n",
       "173               0         Tim Hardaway   Golden State Warriors        NaN   \n",
       "149               0        Michael Adams          Denver Nuggets        NaN   \n",
       "150               0         Tim Hardaway   Golden State Warriors        NaN   \n",
       "735               0        Jameer Nelson           Orlando Magic       East   \n",
       "169               0         Tim Hardaway   Golden State Warriors        NaN   \n",
       "750               0           Chris Paul     New Orleans Hornets       West   \n",
       "591               0        Allen Iverson     Philadelphia Sixers       East   \n",
       "586               0           Chris Paul     New Orleans Hornets       West   \n",
       "533               0        Allen Iverson     Philadelphia Sixers       East   \n",
       "974               0           Chris Paul    Los Angeles Clippers       West   \n",
       "657               0        Allen Iverson     Philadelphia Sixers       East   \n",
       "660               0        Allen Iverson          Denver Nuggets       West   \n",
       "736               0           Chris Paul     New Orleans Hornets       West   \n",
       "579               0        Allen Iverson     Philadelphia Sixers       East   \n",
       "369               0    Darrell Armstrong           Orlando Magic        NaN   \n",
       "368               0        Allen Iverson     Philadelphia Sixers        NaN   \n",
       "979               0        Isaiah Thomas          Boston Celtics       East   \n",
       "1025              0        Isaiah Thomas          Boston Celtics       East   \n",
       "893               0        Nate Robinson           Chicago Bulls       East   \n",
       "1081              0        Isaiah Thomas          Boston Celtics       East   \n",
       "967               0        Isaiah Thomas          Boston Celtics       East   \n",
       "1069              0        Isaiah Thomas          Boston Celtics       East   \n",
       "\n",
       "              Date Position Height  Weight  Age  Draft Year  \\\n",
       "656   Nov 12, 2006        C    7-6     310   26        2002   \n",
       "618    Apr 1, 2007        C    7-6     310   26        2002   \n",
       "702   Nov 11, 2007        C    7-6     310   27        2002   \n",
       "572    Apr 2, 2006        C    7-6     310   25        2002   \n",
       "486    Mar 7, 2004        C    7-6     310   23        2002   \n",
       "582   Feb 27, 2006        C    7-6     310   25        2002   \n",
       "315    Jan 4, 1998        C    7-4     250   31        1988   \n",
       "236   Mar 12, 1995        C    7-4     250   28        1988   \n",
       "256   Mar 31, 1996        C    7-3     279   31        1985   \n",
       "1139   Nov 6, 2017       FC    7-3     240   22        2015   \n",
       "483   Mar 14, 2004        C    7-3     260   28        1996   \n",
       "347   Jan 31, 2000        C    7-2     260   33        1991   \n",
       "231   Apr 16, 1995        C    7-2     260   28        1991   \n",
       "296    Dec 1, 1996        C    7-2     260   30        1991   \n",
       "209   Apr 10, 1994        C    7-2     260   27        1991   \n",
       "3     Mar 24, 1985        C    7-2     225   37        1969   \n",
       "323    Nov 9, 1997        C    7-2     260   31        1991   \n",
       "336    Feb 7, 1999        C    7-2     260   32        1991   \n",
       "188   Mar 28, 1993        C    7-2     260   26        1991   \n",
       "511   Nov 30, 2003        C    7-2     260   37        1991   \n",
       "272   Dec 10, 1995        C    7-2     260   29        1991   \n",
       "458   Dec 29, 2002       FC   6-11     250   26        1997   \n",
       "234   Mar 26, 1995        C    7-1     260   27        1989   \n",
       "214    Mar 6, 1994        C    7-1     250   28        1987   \n",
       "206   Nov 15, 1992        C    7-1     325   20        1992   \n",
       "946   Jan 13, 2014        C   6-11     270   23        2010   \n",
       "207   Apr 24, 1994        C    7-1     250   28        1987   \n",
       "449   Jan 26, 2003       FC   6-11     250   26        1997   \n",
       "216   Feb 20, 1994        C    7-1     250   28        1987   \n",
       "217    Feb 6, 1994        C    7-1     250   28        1987   \n",
       "...            ...      ...    ...     ...  ...         ...   \n",
       "712   Mar 23, 2009       PG    6-0     175   23        2005   \n",
       "551   Dec 26, 2004        G    6-0     165   29        1996   \n",
       "1034  Jan 11, 2016       PG    6-0     175   30        2005   \n",
       "125    Feb 4, 1990       PG    6-0     175   23        1989   \n",
       "515   Nov 16, 2003        G    6-0     165   28        1996   \n",
       "1014   Apr 4, 2016        G    6-0     185   31        2006   \n",
       "727   Jan 19, 2009        G    6-0     190   27        2004   \n",
       "728   Jan 19, 2009       PG    6-0     175   23        2005   \n",
       "173   Jan 19, 1992       PG    6-0     175   25        1989   \n",
       "149   Jan 27, 1991       PG   5-10     163   28        1985   \n",
       "150   Jan 20, 1991       PG    6-0     175   24        1989   \n",
       "735   Dec 22, 2008        G    6-0     190   27        2004   \n",
       "169   Feb 23, 1992       PG    6-0     175   25        1989   \n",
       "750    Nov 3, 2008       PG    6-0     175   23        2005   \n",
       "591   Jan 15, 2006        G    6-0     165   30        1996   \n",
       "586    Feb 6, 2006       PG    6-0     175   20        2005   \n",
       "533    Mar 6, 2005        G    6-0     165   29        1996   \n",
       "974   Mar 23, 2015       PG    6-0     175   29        2005   \n",
       "657    Nov 6, 2006        G    6-0     165   31        1996   \n",
       "660   Apr 13, 2008        G    6-0     165   32        1996   \n",
       "736   Dec 22, 2008       PG    6-0     175   23        2005   \n",
       "579    Mar 5, 2006        G    6-0     165   30        1996   \n",
       "369    Feb 4, 2001       PG    6-0     170   32        1991   \n",
       "368   Feb 18, 2001        G    6-0     165   25        1996   \n",
       "979    Mar 2, 2015       PG    5-9     185   26        2011   \n",
       "1025   Feb 8, 2016       PG    5-9     185   27        2011   \n",
       "893    Feb 4, 2013        G    5-9     180   28        2005   \n",
       "1081  Dec 26, 2016       PG    5-9     185   28        2011   \n",
       "967   Apr 13, 2015       PG    5-9     185   26        2011   \n",
       "1069   Feb 6, 2017       PG    5-9     185   28        2011   \n",
       "\n",
       "      Seasons in league     Season  Season short  Real_value  height_cm  \n",
       "656                   4  2006-2007          2007         0.5    231.648  \n",
       "618                   4  2006-2007          2007         0.5    231.648  \n",
       "702                   5  2007-2008          2008         0.5    231.648  \n",
       "572                   3  2005-2006          2006         0.5    231.648  \n",
       "486                   1  2003-2004          2004         0.5    231.648  \n",
       "582                   3  2005-2006          2006         0.5    231.648  \n",
       "315                   9  1997-1998          1998         1.0    225.552  \n",
       "236                   6  1994-1995          1995         1.0    225.552  \n",
       "256                   0  1995-1996          1996         1.0    222.504  \n",
       "1139                  2  2017-2018          2018         0.5    222.504  \n",
       "483                   7  2003-2004          2004         0.5    222.504  \n",
       "347                   8  1999-2000          2000         1.0    219.456  \n",
       "231                   3  1994-1995          1995         1.0    219.456  \n",
       "296                   5  1996-1997          1997         1.0    219.456  \n",
       "209                   2  1993-1994          1994         1.0    219.456  \n",
       "3                    15  1984-1985          1985         1.0    219.456  \n",
       "323                   6  1997-1998          1998         1.0    219.456  \n",
       "336                   7  1998-1999          1999         1.0    219.456  \n",
       "188                   1  1992-1993          1993         1.0    219.456  \n",
       "511                  12  2003-2004          2004         0.5    219.456  \n",
       "272                   4  1995-1996          1996         1.0    219.456  \n",
       "458                   5  2002-2003          2003         0.5    216.408  \n",
       "234                   5  1994-1995          1995         1.0    216.408  \n",
       "214                   4  1993-1994          1994         1.0    216.408  \n",
       "206                   0  1992-1993          1993         1.0    216.408  \n",
       "946                   3  2013-2014          2014         0.5    216.408  \n",
       "207                   4  1993-1994          1994         1.0    216.408  \n",
       "449                   5  2002-2003          2003         0.5    216.408  \n",
       "216                   4  1993-1994          1994         1.0    216.408  \n",
       "217                   4  1993-1994          1994         1.0    216.408  \n",
       "...                 ...        ...           ...         ...        ...  \n",
       "712                   3  2008-2009          2009         0.5    182.880  \n",
       "551                   8  2004-2005          2005         0.5    182.880  \n",
       "1034                 10  2015-2016          2016         0.5    182.880  \n",
       "125                   0  1989-1990          1990         1.0    182.880  \n",
       "515                   7  2003-2004          2004         0.5    182.880  \n",
       "1014                  9  2015-2016          2016         0.5    182.880  \n",
       "727                   4  2008-2009          2009         0.5    182.880  \n",
       "728                   3  2008-2009          2009         0.5    182.880  \n",
       "173                   2  1991-1992          1992         1.0    182.880  \n",
       "149                   5  1990-1991          1991         1.0    182.880  \n",
       "150                   1  1990-1991          1991         1.0    182.880  \n",
       "735                   4  2008-2009          2009         0.5    182.880  \n",
       "169                   2  1991-1992          1992         1.0    182.880  \n",
       "750                   3  2008-2009          2009         0.5    182.880  \n",
       "591                   9  2005-2006          2006         0.5    182.880  \n",
       "586                   0  2005-2006          2006         0.5    182.880  \n",
       "533                   8  2004-2005          2005         0.5    182.880  \n",
       "974                   9  2014-2015          2015         0.5    182.880  \n",
       "657                  10  2006-2007          2007         0.5    182.880  \n",
       "660                  11  2007-2008          2008         0.5    182.880  \n",
       "736                   3  2008-2009          2009         0.5    182.880  \n",
       "579                   9  2005-2006          2006         0.5    182.880  \n",
       "369                   6  2000-2001          2001         1.0    182.880  \n",
       "368                   4  2000-2001          2001         1.0    182.880  \n",
       "979                   3  2014-2015          2015         0.5    179.832  \n",
       "1025                  4  2015-2016          2016         0.5    179.832  \n",
       "893                   7  2012-2013          2013         0.5    179.832  \n",
       "1081                  5  2016-2017          2017         0.5    179.832  \n",
       "967                   3  2014-2015          2015         0.5    179.832  \n",
       "1069                  5  2016-2017          2017         0.5    179.832  \n",
       "\n",
       "[1155 rows x 15 columns]"
      ]
     },
     "execution_count": 123,
     "metadata": {},
     "output_type": "execute_result"
    }
   ],
   "source": [
    "nba.sort_values(by='height_cm',ascending=False)"
   ]
  },
  {
   "cell_type": "code",
   "execution_count": 133,
   "metadata": {},
   "outputs": [
    {
     "data": {
      "text/html": [
       "<div>\n",
       "<style scoped>\n",
       "    .dataframe tbody tr th:only-of-type {\n",
       "        vertical-align: middle;\n",
       "    }\n",
       "\n",
       "    .dataframe tbody tr th {\n",
       "        vertical-align: top;\n",
       "    }\n",
       "\n",
       "    .dataframe thead th {\n",
       "        text-align: right;\n",
       "    }\n",
       "</style>\n",
       "<table border=\"1\" class=\"dataframe\">\n",
       "  <thead>\n",
       "    <tr style=\"text-align: right;\">\n",
       "      <th></th>\n",
       "      <th>Active season</th>\n",
       "      <th>Player</th>\n",
       "      <th>Team</th>\n",
       "      <th>Conference</th>\n",
       "      <th>Date</th>\n",
       "      <th>Position</th>\n",
       "      <th>Height</th>\n",
       "      <th>Weight</th>\n",
       "      <th>Age</th>\n",
       "      <th>Draft Year</th>\n",
       "      <th>Seasons in league</th>\n",
       "      <th>Season</th>\n",
       "      <th>Season short</th>\n",
       "      <th>Real_value</th>\n",
       "      <th>height_cm</th>\n",
       "    </tr>\n",
       "  </thead>\n",
       "  <tbody>\n",
       "    <tr>\n",
       "      <th>0</th>\n",
       "      <td>0</td>\n",
       "      <td>Micheal Ray Richardson</td>\n",
       "      <td>New Jersey Nets</td>\n",
       "      <td>NaN</td>\n",
       "      <td>Apr 14, 1985</td>\n",
       "      <td>PG</td>\n",
       "      <td>6-5</td>\n",
       "      <td>189</td>\n",
       "      <td>29</td>\n",
       "      <td>1978</td>\n",
       "      <td>6</td>\n",
       "      <td>1984-1985</td>\n",
       "      <td>1985</td>\n",
       "      <td>1.0</td>\n",
       "      <td>198.120</td>\n",
       "    </tr>\n",
       "    <tr>\n",
       "      <th>1</th>\n",
       "      <td>0</td>\n",
       "      <td>Derek Smith</td>\n",
       "      <td>Los Angeles Clippers</td>\n",
       "      <td>NaN</td>\n",
       "      <td>Apr 7, 1985</td>\n",
       "      <td>SG</td>\n",
       "      <td>6-6</td>\n",
       "      <td>205</td>\n",
       "      <td>23</td>\n",
       "      <td>1982</td>\n",
       "      <td>2</td>\n",
       "      <td>1984-1985</td>\n",
       "      <td>1985</td>\n",
       "      <td>1.0</td>\n",
       "      <td>201.168</td>\n",
       "    </tr>\n",
       "    <tr>\n",
       "      <th>2</th>\n",
       "      <td>0</td>\n",
       "      <td>Calvin Natt</td>\n",
       "      <td>Denver Nuggets</td>\n",
       "      <td>NaN</td>\n",
       "      <td>Apr 1, 1985</td>\n",
       "      <td>F</td>\n",
       "      <td>6-6</td>\n",
       "      <td>220</td>\n",
       "      <td>28</td>\n",
       "      <td>1979</td>\n",
       "      <td>5</td>\n",
       "      <td>1984-1985</td>\n",
       "      <td>1985</td>\n",
       "      <td>1.0</td>\n",
       "      <td>201.168</td>\n",
       "    </tr>\n",
       "  </tbody>\n",
       "</table>\n",
       "</div>"
      ],
      "text/plain": [
       "   Active season                  Player                  Team Conference  \\\n",
       "0              0  Micheal Ray Richardson       New Jersey Nets        NaN   \n",
       "1              0             Derek Smith  Los Angeles Clippers        NaN   \n",
       "2              0             Calvin Natt        Denver Nuggets        NaN   \n",
       "\n",
       "           Date Position Height  Weight  Age  Draft Year  Seasons in league  \\\n",
       "0  Apr 14, 1985       PG    6-5     189   29        1978                  6   \n",
       "1   Apr 7, 1985       SG    6-6     205   23        1982                  2   \n",
       "2   Apr 1, 1985        F    6-6     220   28        1979                  5   \n",
       "\n",
       "      Season  Season short  Real_value  height_cm  \n",
       "0  1984-1985          1985         1.0    198.120  \n",
       "1  1984-1985          1985         1.0    201.168  \n",
       "2  1984-1985          1985         1.0    201.168  "
      ]
     },
     "execution_count": 133,
     "metadata": {},
     "output_type": "execute_result"
    }
   ],
   "source": [
    "nba.loc[[True, True, True]]"
   ]
  },
  {
   "cell_type": "code",
   "execution_count": 138,
   "metadata": {},
   "outputs": [
    {
     "data": {
      "text/plain": [
       "pandas.core.series.Series"
      ]
     },
     "execution_count": 138,
     "metadata": {},
     "output_type": "execute_result"
    }
   ],
   "source": [
    "type(nba.stack())"
   ]
  },
  {
   "cell_type": "code",
   "execution_count": 130,
   "metadata": {},
   "outputs": [
    {
     "data": {
      "text/plain": [
       "id                                                                      2\n",
       "league_id                                                              59\n",
       "league                                                                 德甲\n",
       "team_id                                                               222\n",
       "team_name                                                           拜仁慕尼黑\n",
       "national_team_id                                                        7\n",
       "national_team                                                          德国\n",
       "name                                                               托马斯-穆勒\n",
       "name_en                                                     Thomas Müller\n",
       "short_name                                                             穆勒\n",
       "short_en                                                           MÜller\n",
       "number                                                                 25\n",
       "position                                                               前锋\n",
       "nationality                                                            德国\n",
       "age                                                                    29\n",
       "height                                                                186\n",
       "weight                                                                 75\n",
       "games_played                                                           28\n",
       "playing_time                                                         1896\n",
       "goal                                                                    8\n",
       "assist                                                                 14\n",
       "yellow_card                                                             4\n",
       "red_card                                                                0\n",
       "value                                                                5500\n",
       "birthday                                                       1989-09-13\n",
       "habit_foot                                                             右脚\n",
       "join_time                                             2009-07-01 00:00:00\n",
       "contract_time                                         2021-06-30 00:00:00\n",
       "avatar                  http://xinwentu.oss-cn-hangzhou.aliyuncs.com/a...\n",
       "flag                                                                    1\n",
       "create_type                                                             0\n",
       "create_time                                                             0\n",
       "update_time                                                             0\n",
       "injury_history          [{'id': '23394', 'player_id': '2', 'player': '...\n",
       "transfers               [{'id': '37712', 'player_id': '2', 'from_team_...\n",
       "season_performace       {'league_type': ['赛事', '球队', '赛季', '出场次数', '进球...\n",
       "honors                  {'最佳射手': {'honor': '最佳射手', 'logo': 'http://db....\n",
       "charaters                                                              []\n",
       "read_card                                                             NaN\n",
       "position_performace     [{'position': '前腰', 'goals': '29'}, {'position...\n",
       "single_match_records    {'player_id': '2', 'player': '托马斯-穆勒', 'season...\n",
       "vs_teams                [{'id': '161200', 'vs_team_id': '223', 'vs_tea...\n",
       "jersey_numbers          [{'id': '127076', 'season': '18/19', 'player_i...\n",
       "出场次数                                                                  548\n",
       "进球                                                                    221\n",
       "助攻                                                                    156\n",
       "红牌                                                                      0\n",
       "黄牌                                                                     31\n",
       "替补上场                                                                   75\n",
       "替补下场                                                                  175\n",
       "出场总时间                                                               41374\n",
       "黄变红                                                                     1\n",
       "场均积分                                                                 2.25\n",
       "乌龙球                                                                     0\n",
       "进点球                                                                    25\n",
       "进球间隔时间                                                             187.21\n",
       "总丢球数                                                                   61\n",
       "未丢球场次                                                                  18\n",
       "Name: 1, dtype: object"
      ]
     },
     "execution_count": 130,
     "metadata": {},
     "output_type": "execute_result"
    }
   ],
   "source": [
    "data.iloc[1]"
   ]
  },
  {
   "cell_type": "code",
   "execution_count": 142,
   "metadata": {},
   "outputs": [
    {
     "name": "stdout",
     "output_type": "stream",
     "text": [
      "(0, 3)\n"
     ]
    }
   ],
   "source": [
    "import re\n",
    "print(re.match('www','wwwsaf').span())"
   ]
  },
  {
   "cell_type": "code",
   "execution_count": 3,
   "metadata": {},
   "outputs": [
    {
     "name": "stdout",
     "output_type": "stream",
     "text": [
      "少儿编程\n"
     ]
    }
   ],
   "source": [
    "课程名='少儿编程'\n",
    "print(课程名)"
   ]
  },
  {
   "cell_type": "code",
   "execution_count": 4,
   "metadata": {},
   "outputs": [
    {
     "name": "stdout",
     "output_type": "stream",
     "text": [
      "[2, 3, 5, 7, 11, 13, 17, 19, 23, 29, 31, 37, 41, 43, 47, 53, 59, 61, 67, 71, 73, 79, 83, 89, 97]\n"
     ]
    }
   ],
   "source": [
    "num=[];\n",
    "i=2\n",
    "for i in range(2,100):\n",
    "   j=2\n",
    "   for j in range(2,i):\n",
    "      if(i%j==0):\n",
    "         break\n",
    "   else:\n",
    "      num.append(i)\n",
    "print(num)"
   ]
  },
  {
   "cell_type": "code",
   "execution_count": 13,
   "metadata": {},
   "outputs": [
    {
     "ename": "KeyboardInterrupt",
     "evalue": "",
     "output_type": "error",
     "traceback": [
      "\u001b[0;31m---------------------------------------------------------------------------\u001b[0m",
      "\u001b[0;31mKeyboardInterrupt\u001b[0m                         Traceback (most recent call last)",
      "\u001b[0;32m<ipython-input-13-a9018d2adf66>\u001b[0m in \u001b[0;36m<module>\u001b[0;34m()\u001b[0m\n\u001b[1;32m     11\u001b[0m \u001b[0;31m#data = DataFrame(columns=s.index)\u001b[0m\u001b[0;34m\u001b[0m\u001b[0;34m\u001b[0m\u001b[0m\n\u001b[1;32m     12\u001b[0m \u001b[0;32mfor\u001b[0m \u001b[0mi\u001b[0m \u001b[0;32min\u001b[0m \u001b[0mrange\u001b[0m\u001b[0;34m(\u001b[0m\u001b[0;36m28230\u001b[0m\u001b[0;34m,\u001b[0m\u001b[0;36m51000\u001b[0m\u001b[0;34m)\u001b[0m\u001b[0;34m:\u001b[0m\u001b[0;34m\u001b[0m\u001b[0m\n\u001b[0;32m---> 13\u001b[0;31m     \u001b[0mr\u001b[0m\u001b[0;34m=\u001b[0m\u001b[0mrequests\u001b[0m\u001b[0;34m.\u001b[0m\u001b[0mget\u001b[0m\u001b[0;34m(\u001b[0m\u001b[0murl\u001b[0m\u001b[0;34m+\u001b[0m\u001b[0mstr\u001b[0m\u001b[0;34m(\u001b[0m\u001b[0mi\u001b[0m\u001b[0;34m+\u001b[0m\u001b[0;36m1\u001b[0m\u001b[0;34m)\u001b[0m\u001b[0;34m)\u001b[0m\u001b[0;34m\u001b[0m\u001b[0m\n\u001b[0m\u001b[1;32m     14\u001b[0m     \u001b[0;32mif\u001b[0m \u001b[0mr\u001b[0m\u001b[0;34m.\u001b[0m\u001b[0mjson\u001b[0m\u001b[0;34m(\u001b[0m\u001b[0;34m)\u001b[0m\u001b[0;34m:\u001b[0m\u001b[0;34m\u001b[0m\u001b[0m\n\u001b[1;32m     15\u001b[0m         \u001b[0msp\u001b[0m\u001b[0;34m=\u001b[0m\u001b[0mSeries\u001b[0m\u001b[0;34m(\u001b[0m\u001b[0mr\u001b[0m\u001b[0;34m.\u001b[0m\u001b[0mjson\u001b[0m\u001b[0;34m(\u001b[0m\u001b[0;34m)\u001b[0m\u001b[0;34m)\u001b[0m\u001b[0;34m\u001b[0m\u001b[0m\n",
      "\u001b[0;32m~/anaconda3/lib/python3.6/site-packages/requests/api.py\u001b[0m in \u001b[0;36mget\u001b[0;34m(url, params, **kwargs)\u001b[0m\n\u001b[1;32m     70\u001b[0m \u001b[0;34m\u001b[0m\u001b[0m\n\u001b[1;32m     71\u001b[0m     \u001b[0mkwargs\u001b[0m\u001b[0;34m.\u001b[0m\u001b[0msetdefault\u001b[0m\u001b[0;34m(\u001b[0m\u001b[0;34m'allow_redirects'\u001b[0m\u001b[0;34m,\u001b[0m \u001b[0;32mTrue\u001b[0m\u001b[0;34m)\u001b[0m\u001b[0;34m\u001b[0m\u001b[0m\n\u001b[0;32m---> 72\u001b[0;31m     \u001b[0;32mreturn\u001b[0m \u001b[0mrequest\u001b[0m\u001b[0;34m(\u001b[0m\u001b[0;34m'get'\u001b[0m\u001b[0;34m,\u001b[0m \u001b[0murl\u001b[0m\u001b[0;34m,\u001b[0m \u001b[0mparams\u001b[0m\u001b[0;34m=\u001b[0m\u001b[0mparams\u001b[0m\u001b[0;34m,\u001b[0m \u001b[0;34m**\u001b[0m\u001b[0mkwargs\u001b[0m\u001b[0;34m)\u001b[0m\u001b[0;34m\u001b[0m\u001b[0m\n\u001b[0m\u001b[1;32m     73\u001b[0m \u001b[0;34m\u001b[0m\u001b[0m\n\u001b[1;32m     74\u001b[0m \u001b[0;34m\u001b[0m\u001b[0m\n",
      "\u001b[0;32m~/anaconda3/lib/python3.6/site-packages/requests/api.py\u001b[0m in \u001b[0;36mrequest\u001b[0;34m(method, url, **kwargs)\u001b[0m\n\u001b[1;32m     56\u001b[0m     \u001b[0;31m# cases, and look like a memory leak in others.\u001b[0m\u001b[0;34m\u001b[0m\u001b[0;34m\u001b[0m\u001b[0m\n\u001b[1;32m     57\u001b[0m     \u001b[0;32mwith\u001b[0m \u001b[0msessions\u001b[0m\u001b[0;34m.\u001b[0m\u001b[0mSession\u001b[0m\u001b[0;34m(\u001b[0m\u001b[0;34m)\u001b[0m \u001b[0;32mas\u001b[0m \u001b[0msession\u001b[0m\u001b[0;34m:\u001b[0m\u001b[0;34m\u001b[0m\u001b[0m\n\u001b[0;32m---> 58\u001b[0;31m         \u001b[0;32mreturn\u001b[0m \u001b[0msession\u001b[0m\u001b[0;34m.\u001b[0m\u001b[0mrequest\u001b[0m\u001b[0;34m(\u001b[0m\u001b[0mmethod\u001b[0m\u001b[0;34m=\u001b[0m\u001b[0mmethod\u001b[0m\u001b[0;34m,\u001b[0m \u001b[0murl\u001b[0m\u001b[0;34m=\u001b[0m\u001b[0murl\u001b[0m\u001b[0;34m,\u001b[0m \u001b[0;34m**\u001b[0m\u001b[0mkwargs\u001b[0m\u001b[0;34m)\u001b[0m\u001b[0;34m\u001b[0m\u001b[0m\n\u001b[0m\u001b[1;32m     59\u001b[0m \u001b[0;34m\u001b[0m\u001b[0m\n\u001b[1;32m     60\u001b[0m \u001b[0;34m\u001b[0m\u001b[0m\n",
      "\u001b[0;32m~/anaconda3/lib/python3.6/site-packages/requests/sessions.py\u001b[0m in \u001b[0;36mrequest\u001b[0;34m(self, method, url, params, data, headers, cookies, files, auth, timeout, allow_redirects, proxies, hooks, stream, verify, cert, json)\u001b[0m\n\u001b[1;32m    506\u001b[0m         }\n\u001b[1;32m    507\u001b[0m         \u001b[0msend_kwargs\u001b[0m\u001b[0;34m.\u001b[0m\u001b[0mupdate\u001b[0m\u001b[0;34m(\u001b[0m\u001b[0msettings\u001b[0m\u001b[0;34m)\u001b[0m\u001b[0;34m\u001b[0m\u001b[0m\n\u001b[0;32m--> 508\u001b[0;31m         \u001b[0mresp\u001b[0m \u001b[0;34m=\u001b[0m \u001b[0mself\u001b[0m\u001b[0;34m.\u001b[0m\u001b[0msend\u001b[0m\u001b[0;34m(\u001b[0m\u001b[0mprep\u001b[0m\u001b[0;34m,\u001b[0m \u001b[0;34m**\u001b[0m\u001b[0msend_kwargs\u001b[0m\u001b[0;34m)\u001b[0m\u001b[0;34m\u001b[0m\u001b[0m\n\u001b[0m\u001b[1;32m    509\u001b[0m \u001b[0;34m\u001b[0m\u001b[0m\n\u001b[1;32m    510\u001b[0m         \u001b[0;32mreturn\u001b[0m \u001b[0mresp\u001b[0m\u001b[0;34m\u001b[0m\u001b[0m\n",
      "\u001b[0;32m~/anaconda3/lib/python3.6/site-packages/requests/sessions.py\u001b[0m in \u001b[0;36msend\u001b[0;34m(self, request, **kwargs)\u001b[0m\n\u001b[1;32m    616\u001b[0m \u001b[0;34m\u001b[0m\u001b[0m\n\u001b[1;32m    617\u001b[0m         \u001b[0;31m# Send the request\u001b[0m\u001b[0;34m\u001b[0m\u001b[0;34m\u001b[0m\u001b[0m\n\u001b[0;32m--> 618\u001b[0;31m         \u001b[0mr\u001b[0m \u001b[0;34m=\u001b[0m \u001b[0madapter\u001b[0m\u001b[0;34m.\u001b[0m\u001b[0msend\u001b[0m\u001b[0;34m(\u001b[0m\u001b[0mrequest\u001b[0m\u001b[0;34m,\u001b[0m \u001b[0;34m**\u001b[0m\u001b[0mkwargs\u001b[0m\u001b[0;34m)\u001b[0m\u001b[0;34m\u001b[0m\u001b[0m\n\u001b[0m\u001b[1;32m    619\u001b[0m \u001b[0;34m\u001b[0m\u001b[0m\n\u001b[1;32m    620\u001b[0m         \u001b[0;31m# Total elapsed time of the request (approximately)\u001b[0m\u001b[0;34m\u001b[0m\u001b[0;34m\u001b[0m\u001b[0m\n",
      "\u001b[0;32m~/anaconda3/lib/python3.6/site-packages/requests/adapters.py\u001b[0m in \u001b[0;36msend\u001b[0;34m(self, request, stream, timeout, verify, cert, proxies)\u001b[0m\n\u001b[1;32m    438\u001b[0m                     \u001b[0mdecode_content\u001b[0m\u001b[0;34m=\u001b[0m\u001b[0;32mFalse\u001b[0m\u001b[0;34m,\u001b[0m\u001b[0;34m\u001b[0m\u001b[0m\n\u001b[1;32m    439\u001b[0m                     \u001b[0mretries\u001b[0m\u001b[0;34m=\u001b[0m\u001b[0mself\u001b[0m\u001b[0;34m.\u001b[0m\u001b[0mmax_retries\u001b[0m\u001b[0;34m,\u001b[0m\u001b[0;34m\u001b[0m\u001b[0m\n\u001b[0;32m--> 440\u001b[0;31m                     \u001b[0mtimeout\u001b[0m\u001b[0;34m=\u001b[0m\u001b[0mtimeout\u001b[0m\u001b[0;34m\u001b[0m\u001b[0m\n\u001b[0m\u001b[1;32m    441\u001b[0m                 )\n\u001b[1;32m    442\u001b[0m \u001b[0;34m\u001b[0m\u001b[0m\n",
      "\u001b[0;32m~/anaconda3/lib/python3.6/site-packages/urllib3/connectionpool.py\u001b[0m in \u001b[0;36murlopen\u001b[0;34m(self, method, url, body, headers, retries, redirect, assert_same_host, timeout, pool_timeout, release_conn, chunked, body_pos, **response_kw)\u001b[0m\n\u001b[1;32m    599\u001b[0m                                                   \u001b[0mtimeout\u001b[0m\u001b[0;34m=\u001b[0m\u001b[0mtimeout_obj\u001b[0m\u001b[0;34m,\u001b[0m\u001b[0;34m\u001b[0m\u001b[0m\n\u001b[1;32m    600\u001b[0m                                                   \u001b[0mbody\u001b[0m\u001b[0;34m=\u001b[0m\u001b[0mbody\u001b[0m\u001b[0;34m,\u001b[0m \u001b[0mheaders\u001b[0m\u001b[0;34m=\u001b[0m\u001b[0mheaders\u001b[0m\u001b[0;34m,\u001b[0m\u001b[0;34m\u001b[0m\u001b[0m\n\u001b[0;32m--> 601\u001b[0;31m                                                   chunked=chunked)\n\u001b[0m\u001b[1;32m    602\u001b[0m \u001b[0;34m\u001b[0m\u001b[0m\n\u001b[1;32m    603\u001b[0m             \u001b[0;31m# If we're going to release the connection in ``finally:``, then\u001b[0m\u001b[0;34m\u001b[0m\u001b[0;34m\u001b[0m\u001b[0m\n",
      "\u001b[0;32m~/anaconda3/lib/python3.6/site-packages/urllib3/connectionpool.py\u001b[0m in \u001b[0;36m_make_request\u001b[0;34m(self, conn, method, url, timeout, chunked, **httplib_request_kw)\u001b[0m\n\u001b[1;32m    344\u001b[0m         \u001b[0;31m# Trigger any extra validation we need to do.\u001b[0m\u001b[0;34m\u001b[0m\u001b[0;34m\u001b[0m\u001b[0m\n\u001b[1;32m    345\u001b[0m         \u001b[0;32mtry\u001b[0m\u001b[0;34m:\u001b[0m\u001b[0;34m\u001b[0m\u001b[0m\n\u001b[0;32m--> 346\u001b[0;31m             \u001b[0mself\u001b[0m\u001b[0;34m.\u001b[0m\u001b[0m_validate_conn\u001b[0m\u001b[0;34m(\u001b[0m\u001b[0mconn\u001b[0m\u001b[0;34m)\u001b[0m\u001b[0;34m\u001b[0m\u001b[0m\n\u001b[0m\u001b[1;32m    347\u001b[0m         \u001b[0;32mexcept\u001b[0m \u001b[0;34m(\u001b[0m\u001b[0mSocketTimeout\u001b[0m\u001b[0;34m,\u001b[0m \u001b[0mBaseSSLError\u001b[0m\u001b[0;34m)\u001b[0m \u001b[0;32mas\u001b[0m \u001b[0me\u001b[0m\u001b[0;34m:\u001b[0m\u001b[0;34m\u001b[0m\u001b[0m\n\u001b[1;32m    348\u001b[0m             \u001b[0;31m# Py2 raises this as a BaseSSLError, Py3 raises it as socket timeout.\u001b[0m\u001b[0;34m\u001b[0m\u001b[0;34m\u001b[0m\u001b[0m\n",
      "\u001b[0;32m~/anaconda3/lib/python3.6/site-packages/urllib3/connectionpool.py\u001b[0m in \u001b[0;36m_validate_conn\u001b[0;34m(self, conn)\u001b[0m\n\u001b[1;32m    848\u001b[0m         \u001b[0;31m# Force connect early to allow us to validate the connection.\u001b[0m\u001b[0;34m\u001b[0m\u001b[0;34m\u001b[0m\u001b[0m\n\u001b[1;32m    849\u001b[0m         \u001b[0;32mif\u001b[0m \u001b[0;32mnot\u001b[0m \u001b[0mgetattr\u001b[0m\u001b[0;34m(\u001b[0m\u001b[0mconn\u001b[0m\u001b[0;34m,\u001b[0m \u001b[0;34m'sock'\u001b[0m\u001b[0;34m,\u001b[0m \u001b[0;32mNone\u001b[0m\u001b[0;34m)\u001b[0m\u001b[0;34m:\u001b[0m  \u001b[0;31m# AppEngine might not have  `.sock`\u001b[0m\u001b[0;34m\u001b[0m\u001b[0m\n\u001b[0;32m--> 850\u001b[0;31m             \u001b[0mconn\u001b[0m\u001b[0;34m.\u001b[0m\u001b[0mconnect\u001b[0m\u001b[0;34m(\u001b[0m\u001b[0;34m)\u001b[0m\u001b[0;34m\u001b[0m\u001b[0m\n\u001b[0m\u001b[1;32m    851\u001b[0m \u001b[0;34m\u001b[0m\u001b[0m\n\u001b[1;32m    852\u001b[0m         \u001b[0;32mif\u001b[0m \u001b[0;32mnot\u001b[0m \u001b[0mconn\u001b[0m\u001b[0;34m.\u001b[0m\u001b[0mis_verified\u001b[0m\u001b[0;34m:\u001b[0m\u001b[0;34m\u001b[0m\u001b[0m\n",
      "\u001b[0;32m~/anaconda3/lib/python3.6/site-packages/urllib3/connection.py\u001b[0m in \u001b[0;36mconnect\u001b[0;34m(self)\u001b[0m\n\u001b[1;32m    324\u001b[0m             \u001b[0mca_cert_dir\u001b[0m\u001b[0;34m=\u001b[0m\u001b[0mself\u001b[0m\u001b[0;34m.\u001b[0m\u001b[0mca_cert_dir\u001b[0m\u001b[0;34m,\u001b[0m\u001b[0;34m\u001b[0m\u001b[0m\n\u001b[1;32m    325\u001b[0m             \u001b[0mserver_hostname\u001b[0m\u001b[0;34m=\u001b[0m\u001b[0mhostname\u001b[0m\u001b[0;34m,\u001b[0m\u001b[0;34m\u001b[0m\u001b[0m\n\u001b[0;32m--> 326\u001b[0;31m             ssl_context=context)\n\u001b[0m\u001b[1;32m    327\u001b[0m \u001b[0;34m\u001b[0m\u001b[0m\n\u001b[1;32m    328\u001b[0m         \u001b[0;32mif\u001b[0m \u001b[0mself\u001b[0m\u001b[0;34m.\u001b[0m\u001b[0massert_fingerprint\u001b[0m\u001b[0;34m:\u001b[0m\u001b[0;34m\u001b[0m\u001b[0m\n",
      "\u001b[0;32m~/anaconda3/lib/python3.6/site-packages/urllib3/util/ssl_.py\u001b[0m in \u001b[0;36mssl_wrap_socket\u001b[0;34m(sock, keyfile, certfile, cert_reqs, ca_certs, server_hostname, ssl_version, ciphers, ssl_context, ca_cert_dir)\u001b[0m\n\u001b[1;32m    327\u001b[0m         \u001b[0mcontext\u001b[0m\u001b[0;34m.\u001b[0m\u001b[0mload_cert_chain\u001b[0m\u001b[0;34m(\u001b[0m\u001b[0mcertfile\u001b[0m\u001b[0;34m,\u001b[0m \u001b[0mkeyfile\u001b[0m\u001b[0;34m)\u001b[0m\u001b[0;34m\u001b[0m\u001b[0m\n\u001b[1;32m    328\u001b[0m     \u001b[0;32mif\u001b[0m \u001b[0mHAS_SNI\u001b[0m\u001b[0;34m:\u001b[0m  \u001b[0;31m# Platform-specific: OpenSSL with enabled SNI\u001b[0m\u001b[0;34m\u001b[0m\u001b[0m\n\u001b[0;32m--> 329\u001b[0;31m         \u001b[0;32mreturn\u001b[0m \u001b[0mcontext\u001b[0m\u001b[0;34m.\u001b[0m\u001b[0mwrap_socket\u001b[0m\u001b[0;34m(\u001b[0m\u001b[0msock\u001b[0m\u001b[0;34m,\u001b[0m \u001b[0mserver_hostname\u001b[0m\u001b[0;34m=\u001b[0m\u001b[0mserver_hostname\u001b[0m\u001b[0;34m)\u001b[0m\u001b[0;34m\u001b[0m\u001b[0m\n\u001b[0m\u001b[1;32m    330\u001b[0m \u001b[0;34m\u001b[0m\u001b[0m\n\u001b[1;32m    331\u001b[0m     warnings.warn(\n",
      "\u001b[0;32m~/anaconda3/lib/python3.6/site-packages/urllib3/contrib/pyopenssl.py\u001b[0m in \u001b[0;36mwrap_socket\u001b[0;34m(self, sock, server_side, do_handshake_on_connect, suppress_ragged_eofs, server_hostname)\u001b[0m\n\u001b[1;32m    439\u001b[0m         \u001b[0;32mwhile\u001b[0m \u001b[0;32mTrue\u001b[0m\u001b[0;34m:\u001b[0m\u001b[0;34m\u001b[0m\u001b[0m\n\u001b[1;32m    440\u001b[0m             \u001b[0;32mtry\u001b[0m\u001b[0;34m:\u001b[0m\u001b[0;34m\u001b[0m\u001b[0m\n\u001b[0;32m--> 441\u001b[0;31m                 \u001b[0mcnx\u001b[0m\u001b[0;34m.\u001b[0m\u001b[0mdo_handshake\u001b[0m\u001b[0;34m(\u001b[0m\u001b[0;34m)\u001b[0m\u001b[0;34m\u001b[0m\u001b[0m\n\u001b[0m\u001b[1;32m    442\u001b[0m             \u001b[0;32mexcept\u001b[0m \u001b[0mOpenSSL\u001b[0m\u001b[0;34m.\u001b[0m\u001b[0mSSL\u001b[0m\u001b[0;34m.\u001b[0m\u001b[0mWantReadError\u001b[0m\u001b[0;34m:\u001b[0m\u001b[0;34m\u001b[0m\u001b[0m\n\u001b[1;32m    443\u001b[0m                 \u001b[0mrd\u001b[0m \u001b[0;34m=\u001b[0m \u001b[0mutil\u001b[0m\u001b[0;34m.\u001b[0m\u001b[0mwait_for_read\u001b[0m\u001b[0;34m(\u001b[0m\u001b[0msock\u001b[0m\u001b[0;34m,\u001b[0m \u001b[0msock\u001b[0m\u001b[0;34m.\u001b[0m\u001b[0mgettimeout\u001b[0m\u001b[0;34m(\u001b[0m\u001b[0;34m)\u001b[0m\u001b[0;34m)\u001b[0m\u001b[0;34m\u001b[0m\u001b[0m\n",
      "\u001b[0;32m~/anaconda3/lib/python3.6/site-packages/OpenSSL/SSL.py\u001b[0m in \u001b[0;36mdo_handshake\u001b[0;34m(self)\u001b[0m\n\u001b[1;32m   1904\u001b[0m         \u001b[0;34m:\u001b[0m\u001b[0;32mreturn\u001b[0m\u001b[0;34m:\u001b[0m \u001b[0;32mNone\u001b[0m\u001b[0;34m.\u001b[0m\u001b[0;34m\u001b[0m\u001b[0m\n\u001b[1;32m   1905\u001b[0m         \"\"\"\n\u001b[0;32m-> 1906\u001b[0;31m         \u001b[0mresult\u001b[0m \u001b[0;34m=\u001b[0m \u001b[0m_lib\u001b[0m\u001b[0;34m.\u001b[0m\u001b[0mSSL_do_handshake\u001b[0m\u001b[0;34m(\u001b[0m\u001b[0mself\u001b[0m\u001b[0;34m.\u001b[0m\u001b[0m_ssl\u001b[0m\u001b[0;34m)\u001b[0m\u001b[0;34m\u001b[0m\u001b[0m\n\u001b[0m\u001b[1;32m   1907\u001b[0m         \u001b[0mself\u001b[0m\u001b[0;34m.\u001b[0m\u001b[0m_raise_ssl_error\u001b[0m\u001b[0;34m(\u001b[0m\u001b[0mself\u001b[0m\u001b[0;34m.\u001b[0m\u001b[0m_ssl\u001b[0m\u001b[0;34m,\u001b[0m \u001b[0mresult\u001b[0m\u001b[0;34m)\u001b[0m\u001b[0;34m\u001b[0m\u001b[0m\n\u001b[1;32m   1908\u001b[0m \u001b[0;34m\u001b[0m\u001b[0m\n",
      "\u001b[0;31mKeyboardInterrupt\u001b[0m: "
     ]
    }
   ],
   "source": [
    "import requests\n",
    "import numpy as np\n",
    "from pandas import DataFrame,Series\n",
    "import json\n",
    "\n",
    "\n",
    "#获取数据，并将数据存储在dataframe表中，20002,51000\n",
    "url='https://db.qiumibao.com/f/index/player?pid='\n",
    "r=requests.get(url+'1')\n",
    "s=Series(r.json())\n",
    "#data = DataFrame(columns=s.index)\n",
    "for i in range(28230,51000):\n",
    "    r=requests.get(url+str(i+1))\n",
    "    if r.json():\n",
    "        sp=Series(r.json())\n",
    "        sp['read_card']=''\n",
    "        data.loc[i]=sp.values\n",
    "        print(i,'  ',data.loc[i]['name'])"
   ]
  },
  {
   "cell_type": "code",
   "execution_count": 14,
   "metadata": {},
   "outputs": [
    {
     "name": "stdout",
     "output_type": "stream",
     "text": [
      "<class 'pandas.core.frame.DataFrame'>\n",
      "Int64Index: 5490 entries, 20002 to 28229\n",
      "Data columns (total 47 columns):\n",
      "id                      5490 non-null object\n",
      "league_id               5490 non-null object\n",
      "league                  5490 non-null object\n",
      "team_id                 5490 non-null object\n",
      "team_name               5490 non-null object\n",
      "national_team_id        5490 non-null object\n",
      "national_team           5490 non-null object\n",
      "name                    5490 non-null object\n",
      "name_en                 5490 non-null object\n",
      "short_name              5490 non-null object\n",
      "short_en                5490 non-null object\n",
      "number                  5490 non-null object\n",
      "position                5490 non-null object\n",
      "nationality             5490 non-null object\n",
      "age                     5490 non-null object\n",
      "height                  5490 non-null object\n",
      "weight                  5490 non-null object\n",
      "retired                 5490 non-null object\n",
      "games_played            5490 non-null object\n",
      "playing_time            5490 non-null object\n",
      "goal                    5490 non-null object\n",
      "assist                  5490 non-null object\n",
      "yellow_card             5490 non-null object\n",
      "red_card                5490 non-null object\n",
      "value                   5490 non-null object\n",
      "birthday                5490 non-null object\n",
      "habit_foot              5490 non-null object\n",
      "join_time               5490 non-null object\n",
      "contract_time           5490 non-null object\n",
      "avatar                  5490 non-null object\n",
      "flag                    5490 non-null object\n",
      "create_type             5490 non-null object\n",
      "create_time             5490 non-null object\n",
      "update_time             5490 non-null object\n",
      "sports_type             5490 non-null object\n",
      "sports_type_cat         5490 non-null object\n",
      "injury_history          5490 non-null object\n",
      "transfers               5490 non-null object\n",
      "season_performace       5490 non-null object\n",
      "honors                  5490 non-null object\n",
      "charaters               5490 non-null object\n",
      "read_card               5490 non-null object\n",
      "position_performace     5490 non-null object\n",
      "single_match_records    5490 non-null object\n",
      "vs_teams                5490 non-null object\n",
      "jersey_numbers          5490 non-null object\n",
      "team_info               5490 non-null object\n",
      "dtypes: object(47)\n",
      "memory usage: 2.2+ MB\n"
     ]
    }
   ],
   "source": [
    "data.to_csv('0522data/data20002T20510.csv')\n",
    "data.info()"
   ]
  },
  {
   "cell_type": "code",
   "execution_count": 12,
   "metadata": {},
   "outputs": [
    {
     "name": "stdout",
     "output_type": "stream",
     "text": [
      "<class 'pandas.core.frame.DataFrame'>\n",
      "Int64Index: 5490 entries, 20002 to 28229\n",
      "Data columns (total 47 columns):\n",
      "id                      5490 non-null object\n",
      "league_id               5490 non-null object\n",
      "league                  5490 non-null object\n",
      "team_id                 5490 non-null object\n",
      "team_name               5490 non-null object\n",
      "national_team_id        5490 non-null object\n",
      "national_team           5490 non-null object\n",
      "name                    5490 non-null object\n",
      "name_en                 5490 non-null object\n",
      "short_name              5490 non-null object\n",
      "short_en                5490 non-null object\n",
      "number                  5490 non-null object\n",
      "position                5490 non-null object\n",
      "nationality             5490 non-null object\n",
      "age                     5490 non-null object\n",
      "height                  5490 non-null object\n",
      "weight                  5490 non-null object\n",
      "retired                 5490 non-null object\n",
      "games_played            5490 non-null object\n",
      "playing_time            5490 non-null object\n",
      "goal                    5490 non-null object\n",
      "assist                  5490 non-null object\n",
      "yellow_card             5490 non-null object\n",
      "red_card                5490 non-null object\n",
      "value                   5490 non-null object\n",
      "birthday                5490 non-null object\n",
      "habit_foot              5490 non-null object\n",
      "join_time               5490 non-null object\n",
      "contract_time           5490 non-null object\n",
      "avatar                  5490 non-null object\n",
      "flag                    5490 non-null object\n",
      "create_type             5490 non-null object\n",
      "create_time             5490 non-null object\n",
      "update_time             5490 non-null object\n",
      "sports_type             5490 non-null object\n",
      "sports_type_cat         5490 non-null object\n",
      "injury_history          5490 non-null object\n",
      "transfers               5490 non-null object\n",
      "season_performace       5490 non-null object\n",
      "honors                  5490 non-null object\n",
      "charaters               5490 non-null object\n",
      "read_card               5490 non-null object\n",
      "position_performace     5490 non-null object\n",
      "single_match_records    5490 non-null object\n",
      "vs_teams                5490 non-null object\n",
      "jersey_numbers          5490 non-null object\n",
      "team_info               5490 non-null object\n",
      "dtypes: object(47)\n",
      "memory usage: 2.2+ MB\n"
     ]
    }
   ],
   "source": [
    "data.info()"
   ]
  },
  {
   "cell_type": "code",
   "execution_count": null,
   "metadata": {},
   "outputs": [],
   "source": []
  },
  {
   "cell_type": "code",
   "execution_count": null,
   "metadata": {},
   "outputs": [],
   "source": []
  }
 ],
 "metadata": {
  "kernelspec": {
   "display_name": "Python 3",
   "language": "python",
   "name": "python3"
  },
  "language_info": {
   "codemirror_mode": {
    "name": "ipython",
    "version": 3
   },
   "file_extension": ".py",
   "mimetype": "text/x-python",
   "name": "python",
   "nbconvert_exporter": "python",
   "pygments_lexer": "ipython3",
   "version": "3.6.5"
  }
 },
 "nbformat": 4,
 "nbformat_minor": 2
}
